{
 "cells": [
  {
   "cell_type": "markdown",
   "metadata": {},
   "source": [
    "# Inteligência Artificial - Exercício Árvores"
   ]
  },
  {
   "cell_type": "markdown",
   "metadata": {},
   "source": [
    "Implemente o A\\* para resolver o quebra-cabeças abaixo com duas heurísticas distintas: \n",
    "    \n",
    "    - h1(n) = número de pedras fora do lugar\n",
    "    - h2(n) = distância total à la Manhattan (horizontal ou vertical) = somatório do deslocamento de cada peça até a posição final  \n",
    "\n",
    "![puzzle](res/a_estrela_puzzle.png)\n"
   ]
  },
  {
   "cell_type": "markdown",
   "metadata": {
    "collapsed": true
   },
   "source": [
    "As heurísticas solicitadas para resolução desse problema foram: Distância Manhattan e Peças fora do lugar. Sendo assim, definiu-se duas funções para retornar um valor referente a essas heurísticas(dados dois estados para comparação)"
   ]
  },
  {
   "cell_type": "code",
   "execution_count": 1,
   "metadata": {
    "collapsed": false
   },
   "outputs": [],
   "source": [
    "from scipy.spatial import distance\n",
    "import time\n",
    "MANHATTAN = 1\n",
    "PIECES = 2\n",
    "\n",
    "# funcao auxiliar para retornar posicao no jogo\n",
    "def index2d(index):\n",
    "    return int(index / 3), index % 3\n",
    "\n",
    "\n",
    "# calcula o somatorio da distancia manhatan de todas as peças(incluido a casa vazia)\n",
    "def manhattan(matrix1, matrix2):\n",
    "    dist = 0\n",
    "    for i in matrix1:\n",
    "        dist += distance.cityblock(index2d(matrix1.index(i)), index2d(matrix2.index(i)))\n",
    "    return dist\n",
    "\n",
    "\n",
    "# calcula o somatorio de peças fora do ligar(incluido a casa vazia)\n",
    "def pieces(matrix1, matrix2):\n",
    "    pieces = 0\n",
    "    for i in matrix1:\n",
    "        if matrix1.index(i) != matrix2.index(i):\n",
    "            pieces += 1\n",
    "    return pieces\n",
    "\n",
    "\n",
    "# funcao que aplica a heuristica selecionada\n",
    "def heuristic(matrix1, matrix2, h):\n",
    "    if h == MANHATTAN:\n",
    "        return manhattan(matrix1, matrix2)\n",
    "    elif h == PIECES:\n",
    "        return pieces(matrix1, matrix2)"
   ]
  },
  {
   "cell_type": "markdown",
   "metadata": {},
   "source": [
    "Para facilitar o algoritmo A\\* vamos criar uma classe para mapear o estado do nosso problema. Todas as informações que a gente precisa soobre o estado estarão nos parâmetros."
   ]
  },
  {
   "cell_type": "code",
   "execution_count": 2,
   "metadata": {
    "collapsed": false
   },
   "outputs": [],
   "source": [
    "class State:\n",
    "    def __init__(self, configuration, actual_cost, heuristic_cost, came_from):\n",
    "        self.configuration = configuration\n",
    "        self.actual_cost = actual_cost\n",
    "        self.heuristic_cost = heuristic_cost\n",
    "        self.total_cost = self.actual_cost + self.heuristic_cost\n",
    "        self.came_from = came_from\n",
    "\n",
    "    def __cmp__(self, other):\n",
    "        return (self.total_cost > other.total_cost) - (self.total_cost < other.total_cost)"
   ]
  },
  {
   "cell_type": "markdown",
   "metadata": {},
   "source": [
    "No Algoritmo do agente será necessário a função que gerará os filhos do estado atual. O conceito básico dessa função será encontrar a posição da casa vazia e gerar estados mudando as peças vizinhas."
   ]
  },
  {
   "cell_type": "code",
   "execution_count": 3,
   "metadata": {
    "collapsed": true
   },
   "outputs": [],
   "source": [
    "# funca que gera os estados filhos\n",
    "def generate_children(state, final_configuration, method):\n",
    "    # lista com os filhos\n",
    "    children = []\n",
    "\n",
    "    # encontrando a posicao da casa vazia e as casas vizinhas\n",
    "    empty_pos = state.configuration.index(0)\n",
    "    above_pos = empty_pos - 3\n",
    "    below_pos = empty_pos + 3\n",
    "    right_pos = empty_pos + 1\n",
    "    left_pos = empty_pos - 1\n",
    "\n",
    "    # trocando com a posicao ACIMA caso existir\n",
    "    if above_pos >= 0:\n",
    "        new_conf = state.configuration.copy()\n",
    "        new_conf[empty_pos] = new_conf[above_pos]\n",
    "        new_conf[above_pos] = 0\n",
    "        child = State(new_conf, state.actual_cost + 1, heuristic(new_conf, final_configuration, method), state)\n",
    "        children.append(child)\n",
    "\n",
    "    # trocando com a posicao ABAIXO caso existir\n",
    "    if below_pos < len(state.configuration):\n",
    "        new_conf = state.configuration.copy()\n",
    "        new_conf[empty_pos] = new_conf[below_pos]\n",
    "        new_conf[below_pos] = 0\n",
    "        child = State(new_conf, state.actual_cost + 1, heuristic(new_conf, final_configuration, method), state)\n",
    "        children.append(child)\n",
    "\n",
    "    # trocando com a posicao DIREITA\n",
    "    if right_pos < len(state.configuration) and right_pos != 3 and right_pos != 6:\n",
    "        new_conf = state.configuration.copy()\n",
    "        new_conf[empty_pos] = new_conf[right_pos]\n",
    "        new_conf[right_pos] = 0\n",
    "        child = State(new_conf, state.actual_cost + 1, heuristic(new_conf, final_configuration, method), state)\n",
    "        children.append(child)\n",
    "\n",
    "    # trocando com a posicao ESQUERDA caso existir\n",
    "    if left_pos >= 0 and left_pos != 2 and left_pos != 5:\n",
    "        new_conf = state.configuration.copy()\n",
    "        new_conf[empty_pos] = new_conf[left_pos]\n",
    "        new_conf[left_pos] = 0\n",
    "        child = State(new_conf, state.actual_cost + 1, heuristic(new_conf, final_configuration, method), state)\n",
    "        children.append(child)\n",
    "\n",
    "    return children"
   ]
  },
  {
   "cell_type": "markdown",
   "metadata": {},
   "source": [
    "Também será necessário criar uma função para controlar a adição de elementos na fronteira que, se houver uma configuração igual, só mantem o estado com o melhor custo total"
   ]
  },
  {
   "cell_type": "code",
   "execution_count": 4,
   "metadata": {
    "collapsed": true
   },
   "outputs": [],
   "source": [
    "# funcao para adicionar na fronteira controlando o valor de custo\n",
    "def add_to_border(state_list, border):\n",
    "    already_on_border = False\n",
    "    for state in state_list:\n",
    "        for border_state in border:\n",
    "            if state.configuration == border_state.configuration:\n",
    "                already_on_border = True\n",
    "                if state.actual_cost < border_state.actual_cost:\n",
    "                    border[border.index(border_state)] = state\n",
    "        if not already_on_border:\n",
    "            border.append(state)"
   ]
  },
  {
   "cell_type": "code",
   "execution_count": 5,
   "metadata": {
    "collapsed": true
   },
   "outputs": [],
   "source": [
    "# funcao para proteger de gerar filhos que já foram visitado\n",
    "def visited_protect(children, visited):\n",
    "    children_aux = []\n",
    "    for c in children:\n",
    "        for v in visited:\n",
    "            if c.configuration == v.configuration:\n",
    "                children_aux.append(c)\n",
    "    for i in children_aux:\n",
    "        children.remove(i)\n",
    "    return children"
   ]
  },
  {
   "cell_type": "markdown",
   "metadata": {},
   "source": [
    "Funções auxiliares para imprimir os resultados"
   ]
  },
  {
   "cell_type": "code",
   "execution_count": 6,
   "metadata": {
    "collapsed": true
   },
   "outputs": [],
   "source": [
    "# funcao que imprime uma configuracao formatada\n",
    "def print_as_table(configuration):\n",
    "    table = \"{} {} {}\\n{} {} {}\\n{} {} {}\\n=====\\n\" \\\n",
    "        .format(configuration[0], configuration[1], configuration[2],\n",
    "                configuration[3], configuration[4], configuration[5],\n",
    "                configuration[6], configuration[7], configuration[8])\n",
    "    return table\n",
    "    \n",
    "\n",
    "# salva o resultado em um arquivo\n",
    "def print_result(result, output):\n",
    "    generations, a_costs, h_costs, solution, total_time, created_nodes, stored_nodes = result\n",
    "    with open(output, 'w') as file:\n",
    "        file.write(\"\\nTOTAL DE PASSOS: {}\".format(len(solution)))\n",
    "        file.write(\"\\nGERACOES: {}\".format(len(generations)))\n",
    "        file.write(\"\\nTEMPO (nós criados): {} --> {}ms\".format(created_nodes, total_time))\n",
    "        file.write(\"\\nESPACO (nós armazenados): {}\".format(stored_nodes))\n",
    "        file.write('\\nPASSOS PARA A SOLUCAO:\\n')\n",
    "        for r in solution:\n",
    "            file.write(print_as_table(r.configuration))"
   ]
  },
  {
   "cell_type": "markdown",
   "metadata": {},
   "source": [
    "Com a estrutura básica criada, agora é necessário modelar o agente que irá fazer a busca A\\*. A ideia básica do agente é:\n",
    "1. adiciona estado na fronteira\n",
    "2. enquanto fronteira != de vazio\n",
    "    - seleciona o melhor da fronteira removendo ele da fronteira e adicionando aos \"estados visitados\"\n",
    "    - se for estado final, adiciona aos estados e percorre o caminho came_from --> fim\n",
    "    - se nao for, gera os estados filhos adicionando na fronteira\n",
    "    - volta 2"
   ]
  },
  {
   "cell_type": "code",
   "execution_count": 7,
   "metadata": {
    "collapsed": false
   },
   "outputs": [],
   "source": [
    "def algorithm(initial_state, final_state, heuristic_method):\n",
    "    start_time = time.time()\n",
    "    generation = 0\n",
    "    method = heuristic_method\n",
    "\n",
    "    # fronteira\n",
    "    border = []\n",
    "\n",
    "    # estados visitados\n",
    "    visited = []\n",
    "\n",
    "    # representando os estados\n",
    "    si = initial_state\n",
    "    sf = final_state\n",
    "\n",
    "    found_solution = False\n",
    "\n",
    "    # retornos\n",
    "    generations = []\n",
    "    a_costs = []\n",
    "    h_costs = []\n",
    "    result = []\n",
    "    total_time = 0\n",
    "    created_nodes = 0\n",
    "    stored_nodes = 0\n",
    "\n",
    "    # Criando o estado inicial com todos os valores\n",
    "    start_state = State(si, 0, heuristic(si, sf, method), None)\n",
    "\n",
    "    # adicionando o estado inicial à fronteira\n",
    "    border.append(start_state)\n",
    "\n",
    "    # enquanto a fronteira nao estiver vazia\n",
    "    while len(border) > 0:\n",
    "        if len(border) > stored_nodes:\n",
    "            stored_nodes = len(border)\n",
    "        generation += 1\n",
    "\n",
    "        # ordenando para poder obter o melhor a cada iteração\n",
    "        border.sort(key=lambda state: state.total_cost)\n",
    "\n",
    "        # selecionando o melhor e colocando na lista dos nós visitados\n",
    "        actual_state = border[0]\n",
    "        visited.append(actual_state)\n",
    "\n",
    "        # removendo o nó visitado\n",
    "        del (border[0])\n",
    "\n",
    "        # verificando se o estado já é o final\n",
    "        if actual_state.heuristic_cost == 0:\n",
    "            found_solution = True\n",
    "            break\n",
    "        else:\n",
    "            # gerando os estados filhos e adicionado à fronteira\n",
    "            children = generate_children(actual_state, sf, method)\n",
    "            children_protected = visited_protect(children,visited)\n",
    "            children = children_protected\n",
    "            created_nodes += len(children)\n",
    "            add_to_border(children, border)\n",
    "        # print(\"Geracao: {} \\t\\t | Custo Atual: {} \\t | Custo Heuristica {} \"\n",
    "        #      .format(generation, actual_state.actual_cost, actual_state.heuristic_cost))\n",
    "\n",
    "        # guardando dados para gráfico\n",
    "        generations.append(generation)\n",
    "        a_costs.append(actual_state.actual_cost)\n",
    "        h_costs.append(actual_state.heuristic_cost)\n",
    "\n",
    "    if found_solution:\n",
    "        state = visited.pop()\n",
    "\n",
    "        while state is not start_state:\n",
    "            result.append(state)\n",
    "            state = state.came_from\n",
    "\n",
    "        # incuindo o no inicial ao resultado\n",
    "        result.append(start_state)\n",
    "        # inverntendo a ordem para imprimir o passo correto\n",
    "        result.reverse()\n",
    "\n",
    "        end_time = time.time()\n",
    "        total_time = end_time - start_time\n",
    "\n",
    "        return generations, a_costs, h_costs, result, total_time, created_nodes, stored_nodes\n",
    "    else:\n",
    "        print('Nao encontrou solucao')"
   ]
  },
  {
   "cell_type": "markdown",
   "metadata": {
    "collapsed": false
   },
   "source": [
    "Aqui rodamos o algoritmo para cada uma das heuristicas. Os resultados estão em **pieces.out** e **manhattan.out**"
   ]
  },
  {
   "cell_type": "code",
   "execution_count": 8,
   "metadata": {
    "collapsed": false
   },
   "outputs": [],
   "source": [
    "initial_state = [7, 2, 4,\n",
    "                 5, 0, 6,\n",
    "                 8, 3, 1]\n",
    "\n",
    "#initial_state = [0, 3, 2,\n",
    "#                 4, 1, 5,\n",
    "#                 6, 7, 8]\n",
    "\n",
    "\n",
    "final_state = [0, 1, 2,\n",
    "               3, 4, 5,\n",
    "               6, 7, 8]\n",
    "  \n",
    "result_manhattan = algorithm(initial_state, final_state, MANHATTAN)\n",
    "result_pieces = algorithm(initial_state, final_state, PIECES)\n",
    "\n",
    "print_result(result_pieces,'pieces.out')\n",
    "print_result(result_manhattan,'manhattan.out')"
   ]
  },
  {
   "cell_type": "markdown",
   "metadata": {},
   "source": [
    "### Considerações\n",
    "**1. Qual o tamanho do espaço de estados?**  \n",
    "    \n",
    "O espaço total de busca é igual a $ 9! = 362880 $. Sendo assim a utilizando a h1(peças fora do lugar) percorremos aproximadamente 3.8% do espaço de busca e utilizando a h2(distancia manhattan) percorremos aproximadamente 0.5% do espaço de busca  \n",
    "\n",
    "**2. Para as duas heurísticas, justificar se são admissíveis e consistentes.**  \n",
    "    \n",
    "Uma heurística h(n) é **admissível** se para cada nó n se verifica h(n) ≤ h\\*(n), onde h*(n) é o custo real do caminho desde n até ao objectivo. (https://fenix.tecnico.ulisboa.pt/downloadFile/3779572005298/cap4-proc-informada.pdf)    \n",
    "\n",
    "Uma heurística h(n) é **consistente** (ou monotônica) se para todo nó n e todo sucessor n’ de n gerado por qualquer ação a, o custo estimado de alcançar o objetivo a partir de n não é maior que o custo do passo de se chagar a n’ somado ao custo estimado de alcançar o objetivo a partir de n’. Toda heurística consistente é admissível (http://servicosgasi.sorocaba.unesp.br/assimoes/lectures/iac/downloads/busca_heuristica.pdf)  \n",
    "\n",
    "Com base nas definições acima, podemos afirmar que ambas as heurísticas são admissíveis pois o custo real de um nó até o objetivo é maior que o custo da heuristica, ou seja, as heurísticas não **sobrestimam**. Podemos afirmar que são consistentes pois ao adicionar na borda de soluções, foi incluido o controle **_visited__protect_** para caso apareça novamente um nó já expandido, mantenha-se o de menor custo. Por elas serem consistentes, podemos reafirmar que são admissíveis também.   \n",
    "\n",
    "Percebe-se também uma **dominância** da h2(n) sobre a h1(n) pois ela não é tão otimista(está mais perto da realidade) e por consequencia expande menos.    \n",
    "\n",
    "**3. Compare as soluções encontradas com h1(n) e h2(n)**  \n",
    "    \n",
    "A tabela abaixo mostra de forma resumida a diferença em tempo e espaço das duas soluções.  \n",
    "\n",
    "<div>\n",
    "<table>\n",
    "  <tr>\n",
    "    <th>h1(n) - Peças fora do lugar</th>\n",
    "    <th>h2(n) - Distancia Manhattan</th>\n",
    "  </tr>\n",
    "  <tr>\n",
    "    <td>\n",
    "        TOTAL DE PASSOS(profundidade): 27  \n",
    "        \n",
    "        GERACOES: 37767  \n",
    "        \n",
    "        TEMPO (nós criados): 59457 --> 696.94s  \n",
    "        \n",
    "        ESPACO (nós armazenados): 13764  \n",
    "    </td>\n",
    "    <td>\n",
    "        TOTAL DE PASSOS(profundidade): 27  \n",
    "        \n",
    "        GERACOES: 3426  \n",
    "        \n",
    "        TEMPO (nós criados): 5652 --> 10.29s  \n",
    "        \n",
    "        ESPACO (nós armazenados): 1890\n",
    "    </td>\n",
    "   </tr>\n",
    "</table>\n",
    "</div>\n",
    "\n",
    "\n",
    "\n"
   ]
  },
  {
   "cell_type": "code",
   "execution_count": null,
   "metadata": {
    "collapsed": true
   },
   "outputs": [],
   "source": []
  }
 ],
 "metadata": {
  "kernelspec": {
   "display_name": "Python 3",
   "language": "python",
   "name": "python3"
  },
  "language_info": {
   "codemirror_mode": {
    "name": "ipython",
    "version": 3
   },
   "file_extension": ".py",
   "mimetype": "text/x-python",
   "name": "python",
   "nbconvert_exporter": "python",
   "pygments_lexer": "ipython3",
   "version": "3.6.0"
  }
 },
 "nbformat": 4,
 "nbformat_minor": 0
}
