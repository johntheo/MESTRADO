{
 "cells": [
  {
   "cell_type": "code",
   "execution_count": 61,
   "metadata": {
    "collapsed": false
   },
   "outputs": [
    {
     "ename": "SyntaxError",
     "evalue": "invalid syntax (<ipython-input-61-2fadaba8e3dd>, line 16)",
     "output_type": "error",
     "traceback": [
      "\u001b[0;36m  File \u001b[0;32m\"<ipython-input-61-2fadaba8e3dd>\"\u001b[0;36m, line \u001b[0;32m16\u001b[0m\n\u001b[0;31m    fitness  += len(v) [for k,v in grid_values.items() if len(v) > 1]\u001b[0m\n\u001b[0m                          ^\u001b[0m\n\u001b[0;31mSyntaxError\u001b[0m\u001b[0;31m:\u001b[0m invalid syntax\n"
     ]
    }
   ],
   "source": [
    "def sort_grid(grid_values):\n",
    "    \"\"\"Retorna um dict ordenado de square,possible_values_qnt quando a possibilidade \"\"\"\n",
    "    return dict((k, v) for k, v in (sorted(grid_values.items(), key=lambda x: len(x[1]))) if len(v) > 1)\n",
    "\n",
    "def unparse_grid(grid_values):\n",
    "    return dict((k, v) for k, v in (sorted(grid_values.items(), key=lambda x: len(x[1]))) if len(v) == 1)\n",
    "\n",
    "def fitness_grid(grid_values):\n",
    "    fitness = 0\n",
    "    for k,v in grid_values.items():\n",
    "        if len(v) > 1:\n",
    "            fitness += len(v)\n",
    "    return fitness\n",
    "\n",
    "def fitness_grid2(grid_values):\n",
    "    fitness  += len(v) for k,v in grid_values.items() if len(v) > 1\n",
    "    return fitness\n",
    "\n",
    "x = {'A1': '1', 'A2': '123', 'A3': '12', 'A4': '1', 'A5': '1234'}\n",
    "y = {'B1': '1', 'B2': '123', 'B3': '12', 'B4': '1', 'B5': '1234'}\n",
    "z = {'C1': '1', 'C2': '123', 'C3': '12', 'C4': '1', 'C5': '1234'}\n",
    "\n",
    "print(fitness_grid2(x))\n",
    "lista = [x,y,z]\n",
    "for p in lista:\n",
    "    a = p.copy()\n",
    "    print(a)\n",
    "print(lista)"
   ]
  },
  {
   "cell_type": "code",
   "execution_count": null,
   "metadata": {
    "collapsed": true
   },
   "outputs": [],
   "source": []
  }
 ],
 "metadata": {
  "kernelspec": {
   "display_name": "Python 3",
   "language": "python",
   "name": "python3"
  },
  "language_info": {
   "codemirror_mode": {
    "name": "ipython",
    "version": 3
   },
   "file_extension": ".py",
   "mimetype": "text/x-python",
   "name": "python",
   "nbconvert_exporter": "python",
   "pygments_lexer": "ipython3",
   "version": "3.6.0"
  }
 },
 "nbformat": 4,
 "nbformat_minor": 2
}
