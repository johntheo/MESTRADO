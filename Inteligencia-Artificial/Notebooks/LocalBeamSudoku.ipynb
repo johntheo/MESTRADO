{
 "cells": [
  {
   "cell_type": "markdown",
   "metadata": {},
   "source": [
    "# Local Beam Sudoku"
   ]
  },
  {
   "cell_type": "code",
   "execution_count": 53,
   "metadata": {
    "collapsed": true
   },
   "outputs": [],
   "source": [
    "import random\n",
    "\n",
    "# definindo os elementos\n",
    "digits = '123456789'\n",
    "rows = 'ABCDEFGHI'\n",
    "cols = digits\n",
    "\n",
    "\n",
    "def cross(A, B):\n",
    "    \"Funcao auxiliar para realizar o produto cruzado dos elementos de A e B\"\n",
    "    return [a + b for a in A for b in B]\n",
    "\n",
    "\n",
    "# cada square é um quadrado da matriz 9x9 do sudoku.\n",
    "squares = cross(rows, cols)\n",
    "\n",
    "# cada square tem/pertence 9 units(linha, coluna, grid/. Unitlist é a lista de todas as colunas, linhas e grids\n",
    "unitlist = ([cross(rows, c) for c in cols] +\n",
    "            [cross(r, cols) for r in rows] +\n",
    "            [cross(rs, cs) for rs in ('ABC', 'DEF', 'GHI') for cs in ('123', '456', '789')])\n",
    "\n",
    "# dicionario para retornar as units de um determinado square\n",
    "units = dict((s, [u for u in unitlist if s in u]) for s in squares)\n",
    "\n",
    "# peers de um square S sao todos os squares das 3 unidades relacionadas a S exceto o próprio S\n",
    "peers = dict((s, set(sum(units[s], [])) - set([s])) for s in squares)\n",
    "\n",
    "\n",
    "def grid_hash(grid):\n",
    "    \"\"\"Converte a grid em um dicionario de {square: valor} com '0' or '.' para os vazios.\"\"\"\n",
    "    chars = [c for c in grid if c in digits or c in '0.']\n",
    "    assert len(chars) == 81\n",
    "    return dict(zip(squares, chars))\n",
    "\n",
    "\n",
    "def possible_squares(grid_dict):\n",
    "    \"\"\"Retorna uma lista embaralhada de squares livres\"\"\"\n",
    "    possible = [k for k, v in grid_dict.items() if v in '0.']\n",
    "    random.shuffle(possible)\n",
    "    return possible\n",
    "\n",
    "def valid_digits(key,grid_dict):\n",
    "    \"\"\"Retorna uma lista embaralhada de possiveis digitos\"\"\"\n",
    "    valid = '123456789'\n",
    "    for p in peers[key]:\n",
    "        if grid_dict[p] not in '0.':\n",
    "            valid = valid.replace(grid_dict[p],'')\n",
    "    valid = list(valid)\n",
    "    random.shuffle(valid)\n",
    "    return ''.join(valid)\n",
    "\n",
    "def generate_child(grid_dict):\n",
    "    child = grid_dict.copy()\n",
    "    pos = possible_squares(grid_dict)[0]\n",
    "    value = valid_digits(pos,grid_dict)[0]\n",
    "    #TODO: ver se é necessario fazer while até encontrar posição/value \n",
    "    if(pos and value):\n",
    "        child[pos] = value"
   ]
  },
  {
   "cell_type": "code",
   "execution_count": 55,
   "metadata": {
    "collapsed": false
   },
   "outputs": [
    {
     "data": {
      "text/plain": [
       "['G8',\n",
       " 'E8',\n",
       " 'F3',\n",
       " 'B2',\n",
       " 'C9',\n",
       " 'A5',\n",
       " 'D4',\n",
       " 'E1',\n",
       " 'C5',\n",
       " 'E4',\n",
       " 'I7',\n",
       " 'G2',\n",
       " 'B1',\n",
       " 'G5',\n",
       " 'F7',\n",
       " 'H9',\n",
       " 'B5',\n",
       " 'A3',\n",
       " 'D3',\n",
       " 'C6',\n",
       " 'A8',\n",
       " 'H7',\n",
       " 'G1',\n",
       " 'B6',\n",
       " 'H3',\n",
       " 'H4',\n",
       " 'C1',\n",
       " 'H6',\n",
       " 'E5',\n",
       " 'C3',\n",
       " 'I4',\n",
       " 'I5',\n",
       " 'D9',\n",
       " 'E2',\n",
       " 'I2',\n",
       " 'B3',\n",
       " 'H5',\n",
       " 'F6',\n",
       " 'B7',\n",
       " 'A6',\n",
       " 'G7',\n",
       " 'G9',\n",
       " 'E9',\n",
       " 'F2',\n",
       " 'F1',\n",
       " 'H1',\n",
       " 'C2',\n",
       " 'D7',\n",
       " 'E6',\n",
       " 'D8',\n",
       " 'G4',\n",
       " 'F9',\n",
       " 'B4',\n",
       " 'D1',\n",
       " 'C8',\n",
       " 'B9',\n",
       " 'H8']"
      ]
     },
     "execution_count": 55,
     "metadata": {},
     "output_type": "execute_result"
    }
   ],
   "source": [
    "initial = \"\"\"\n",
    "    8 3 . |1 . . |6 . 5\n",
    "    . . . |. . . |. 8 . \n",
    "    . . . |7 . . |9 . . \n",
    "    ------+------+------\n",
    "    . 5 . |. 1 7 |. . . \n",
    "    . . 3 |. . . |2 . . \n",
    "    . . . |3 4 . |. 1 . \n",
    "    ------+------+------\n",
    "    . . 4 |. . 8 |. . . \n",
    "    . 9 . |. . . |. . . \n",
    "    3 . 2 |. . 6 |. 4 7 \n",
    "    \"\"\"\n",
    "\n",
    "grid = grid_values(initial)\n",
    "possible_squares(grid)"
   ]
  },
  {
   "cell_type": "code",
   "execution_count": 51,
   "metadata": {
    "collapsed": false
   },
   "outputs": [
    {
     "name": "stdout",
     "output_type": "stream",
     "text": [
      "{'to have': True, 'to get': False, 'having': False}\n"
     ]
    },
    {
     "ename": "TypeError",
     "evalue": "'dict_items' object does not support indexing",
     "output_type": "error",
     "traceback": [
      "\u001b[0;31m---------------------------------------------------------------------------\u001b[0m",
      "\u001b[0;31mTypeError\u001b[0m                                 Traceback (most recent call last)",
      "\u001b[0;32m<ipython-input-51-f311f0da1c59>\u001b[0m in \u001b[0;36m<module>\u001b[0;34m()\u001b[0m\n\u001b[1;32m      2\u001b[0m \u001b[0mprint\u001b[0m\u001b[1;33m(\u001b[0m\u001b[0mtest\u001b[0m\u001b[1;33m)\u001b[0m\u001b[1;33m\u001b[0m\u001b[0m\n\u001b[1;32m      3\u001b[0m \u001b[0mitems\u001b[0m \u001b[1;33m=\u001b[0m \u001b[0mtest\u001b[0m\u001b[1;33m.\u001b[0m\u001b[0mitems\u001b[0m\u001b[1;33m(\u001b[0m\u001b[1;33m)\u001b[0m\u001b[1;33m\u001b[0m\u001b[0m\n\u001b[0;32m----> 4\u001b[0;31m \u001b[0mrandom\u001b[0m\u001b[1;33m.\u001b[0m\u001b[0mshuffle\u001b[0m\u001b[1;33m(\u001b[0m\u001b[0mitems\u001b[0m\u001b[1;33m)\u001b[0m\u001b[1;33m\u001b[0m\u001b[0m\n\u001b[0m\u001b[1;32m      5\u001b[0m \u001b[0mOrderedDict\u001b[0m\u001b[1;33m(\u001b[0m\u001b[0mitems\u001b[0m\u001b[1;33m)\u001b[0m\u001b[1;33m\u001b[0m\u001b[0m\n\u001b[1;32m      6\u001b[0m \u001b[0mprint\u001b[0m\u001b[1;33m(\u001b[0m\u001b[0mtest\u001b[0m\u001b[1;33m)\u001b[0m\u001b[1;33m\u001b[0m\u001b[0m\n",
      "\u001b[0;32mC:\\bin\\Anaconda3\\lib\\random.py\u001b[0m in \u001b[0;36mshuffle\u001b[0;34m(self, x, random)\u001b[0m\n\u001b[1;32m    272\u001b[0m                 \u001b[1;31m# pick an element in x[:i+1] with which to exchange x[i]\u001b[0m\u001b[1;33m\u001b[0m\u001b[1;33m\u001b[0m\u001b[0m\n\u001b[1;32m    273\u001b[0m                 \u001b[0mj\u001b[0m \u001b[1;33m=\u001b[0m \u001b[0mrandbelow\u001b[0m\u001b[1;33m(\u001b[0m\u001b[0mi\u001b[0m\u001b[1;33m+\u001b[0m\u001b[1;36m1\u001b[0m\u001b[1;33m)\u001b[0m\u001b[1;33m\u001b[0m\u001b[0m\n\u001b[0;32m--> 274\u001b[0;31m                 \u001b[0mx\u001b[0m\u001b[1;33m[\u001b[0m\u001b[0mi\u001b[0m\u001b[1;33m]\u001b[0m\u001b[1;33m,\u001b[0m \u001b[0mx\u001b[0m\u001b[1;33m[\u001b[0m\u001b[0mj\u001b[0m\u001b[1;33m]\u001b[0m \u001b[1;33m=\u001b[0m \u001b[0mx\u001b[0m\u001b[1;33m[\u001b[0m\u001b[0mj\u001b[0m\u001b[1;33m]\u001b[0m\u001b[1;33m,\u001b[0m \u001b[0mx\u001b[0m\u001b[1;33m[\u001b[0m\u001b[0mi\u001b[0m\u001b[1;33m]\u001b[0m\u001b[1;33m\u001b[0m\u001b[0m\n\u001b[0m\u001b[1;32m    275\u001b[0m         \u001b[1;32melse\u001b[0m\u001b[1;33m:\u001b[0m\u001b[1;33m\u001b[0m\u001b[0m\n\u001b[1;32m    276\u001b[0m             \u001b[0m_int\u001b[0m \u001b[1;33m=\u001b[0m \u001b[0mint\u001b[0m\u001b[1;33m\u001b[0m\u001b[0m\n",
      "\u001b[0;31mTypeError\u001b[0m: 'dict_items' object does not support indexing"
     ]
    }
   ],
   "source": [
    "test = {'to have': True, 'to get': False, 'having': False}\n",
    "print(test)\n",
    "items = test.items()\n",
    "random.shuffle(items)\n",
    "OrderedDict(items)\n",
    "print(test)"
   ]
  },
  {
   "cell_type": "code",
   "execution_count": null,
   "metadata": {
    "collapsed": true
   },
   "outputs": [],
   "source": []
  }
 ],
 "metadata": {
  "kernelspec": {
   "display_name": "Python 3",
   "language": "python",
   "name": "python3"
  },
  "language_info": {
   "codemirror_mode": {
    "name": "ipython",
    "version": 3
   },
   "file_extension": ".py",
   "mimetype": "text/x-python",
   "name": "python",
   "nbconvert_exporter": "python",
   "pygments_lexer": "ipython3",
   "version": "3.6.0"
  }
 },
 "nbformat": 4,
 "nbformat_minor": 2
}
