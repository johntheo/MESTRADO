{
 "cells": [
  {
   "cell_type": "code",
   "execution_count": null,
   "metadata": {
    "collapsed": false
   },
   "outputs": [],
   "source": [
    "a = [1,1,1,2,2,3,3,3]\n",
    "print(a)\n",
    "print(a.index(1))\n",
    "del(a[a.index(1)])\n",
    "print(a)"
   ]
  },
  {
   "cell_type": "code",
   "execution_count": null,
   "metadata": {
    "collapsed": false
   },
   "outputs": [],
   "source": [
    "c = [['00','01'],['10','11'],['20','21']]\n",
    "print(c)\n",
    "print(c[2][1])"
   ]
  },
  {
   "cell_type": "code",
   "execution_count": null,
   "metadata": {
    "collapsed": false
   },
   "outputs": [],
   "source": [
    "import numpy\n",
    "a = numpy.zeros((3, 3))\n",
    "print(a)\n",
    "a[0][0] = 1\n",
    "a[0][1] = 1\n",
    "a[0][2] = 2\n",
    "a[1][2] = 2\n",
    "a[2][2] = 2\n",
    "print(a)\n",
    "print(a[:,2])\n",
    "\n"
   ]
  },
  {
   "cell_type": "code",
   "execution_count": 32,
   "metadata": {
    "collapsed": false
   },
   "outputs": [
    {
     "ename": "SyntaxError",
     "evalue": "invalid syntax (<ipython-input-32-cd2814b3c177>, line 19)",
     "output_type": "error",
     "traceback": [
      "\u001b[0;36m  File \u001b[0;32m\"<ipython-input-32-cd2814b3c177>\"\u001b[0;36m, line \u001b[0;32m19\u001b[0m\n\u001b[0;31m    grid = [(xi) , (xf+1) , :(yf+1)].reshape(9)\u001b[0m\n\u001b[0m                            ^\u001b[0m\n\u001b[0;31mSyntaxError\u001b[0m\u001b[0;31m:\u001b[0m invalid syntax\n"
     ]
    }
   ],
   "source": [
    "import numpy\n",
    "#   0 = 0,0 -> 2,2 \n",
    "#   1 = 0,3 -> 2,5 \n",
    "#   2 = 0,6 -> 2,8\n",
    "#   3 = 3,0 -> 5,2\n",
    "#   4 = 3,3 -> 5,5\n",
    "#   5 = 3,6 -> 5,8\n",
    "#   6 = 6,0 -> 8,2\n",
    "#   7 = 6,3 -> 8,5\n",
    "#   8 = 6,6 -> 8,8\n",
    "a = numpy.zeros((9, 9))\n",
    "def sudoku_line(n, matrix):\n",
    "    return matrix[n,:]\n",
    "def sudoku_grid(n, matrix):\n",
    "    xi = int(n/3) * 3\n",
    "    yi = (n%3) * 3\n",
    "    xf = xi + 2\n",
    "    yf = yi + 2\n",
    "    grid = [(xi) : (xf+1) , :(yf+1)].reshape(9)\n",
    "    return grid\n",
    "\n",
    "a[6,0] = 1\n",
    "a[7,1] = 1\n",
    "a[8,2] = 1\n",
    "b = sudoku_grid(6,a)\n",
    "print(b)\n",
    "\n",
    "\n",
    "    "
   ]
  },
  {
   "cell_type": "code",
   "execution_count": null,
   "metadata": {
    "collapsed": false
   },
   "outputs": [],
   "source": [
    "a=[[ 1, 1,  3,],\n",
    " [ 4,  5,  6,],\n",
    " [ 6,  6,  9,]]\n",
    "\n",
    "\n",
    "def sudoku_penality(array):\n",
    "    p = 0\n",
    "    for i in range (1,10):\n",
    "        if not array.count(i):\n",
    "            p += 1\n",
    "    return p\n",
    "print(c)\n",
    "print(sudoku_penality(c))\n"
   ]
  },
  {
   "cell_type": "code",
   "execution_count": 28,
   "metadata": {
    "collapsed": false
   },
   "outputs": [
    {
     "name": "stdout",
     "output_type": "stream",
     "text": [
      "[[ 1.  1.  2.  0.  0.  0.  0.  0.  0.]\n",
      " [ 0.  0.  2.  0.  0.  0.  0.  0.  0.]\n",
      " [ 0.  0.  2.  0.  0.  0.  0.  0.  0.]\n",
      " [ 0.  0.  0.  0.  0.  0.  0.  0.  0.]\n",
      " [ 0.  0.  0.  0.  0.  0.  0.  0.  0.]\n",
      " [ 0.  0.  0.  0.  0.  0.  0.  0.  0.]\n",
      " [ 0.  0.  0.  0.  0.  0.  0.  0.  0.]\n",
      " [ 0.  0.  0.  0.  0.  0.  0.  0.  0.]\n",
      " [ 0.  0.  0.  0.  0.  0.  0.  0.  0.]]\n",
      "[[ 1.  1.  2.]\n",
      " [ 0.  0.  2.]\n",
      " [ 0.  0.  2.]]\n",
      "[ 1.  1.  2.  0.  0.  2.  0.  0.  2.]\n"
     ]
    }
   ],
   "source": [
    "import numpy\n",
    "\n",
    "def sudoku_fixed(matrix):  \n",
    "    fixed = numpy.zeros((9, 9))\n",
    "    it = numpy.nditer(matrix, flags=['multi_index'])\n",
    "    while not it.finished:\n",
    "        if(it[0] > 0):\n",
    "            fixed[it.multi_index[0],it.multi_index[1]] = 1\n",
    "        it.iternext()\n",
    "    return fixed\n",
    "            \n",
    "a = numpy.zeros((9, 9))\n",
    "a[0][0] = 1\n",
    "a[0][1] = 1\n",
    "a[0][2] = 2\n",
    "a[1][2] = 2\n",
    "a[2][2] = 2\n",
    "print(a)\n",
    "print(a[0:3,:3])\n",
    "b= a[0:3,:3].reshape(9)\n",
    "print(b)\n"
   ]
  },
  {
   "cell_type": "code",
   "execution_count": null,
   "metadata": {
    "collapsed": true
   },
   "outputs": [],
   "source": [
    "a = numpy.zeros((9, 9))\n",
    "a[0][0] = 1\n",
    "a[0][1] = 1\n",
    "a[0][2] = 2\n",
    "a[1][2] = 2\n",
    "a[2][2] = 2\n",
    "print(a)"
   ]
  },
  {
   "cell_type": "code",
   "execution_count": null,
   "metadata": {
    "collapsed": true
   },
   "outputs": [],
   "source": [
    "a = 2"
   ]
  },
  {
   "cell_type": "code",
   "execution_count": null,
   "metadata": {
    "collapsed": true
   },
   "outputs": [],
   "source": []
  }
 ],
 "metadata": {
  "kernelspec": {
   "display_name": "Python 3",
   "language": "python",
   "name": "python3"
  },
  "language_info": {
   "codemirror_mode": {
    "name": "ipython",
    "version": 3
   },
   "file_extension": ".py",
   "mimetype": "text/x-python",
   "name": "python",
   "nbconvert_exporter": "python",
   "pygments_lexer": "ipython3",
   "version": "3.6.0"
  }
 },
 "nbformat": 4,
 "nbformat_minor": 2
}
