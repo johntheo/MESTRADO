{
 "cells": [
  {
   "cell_type": "markdown",
   "metadata": {},
   "source": [
    "# Problema de Otimização do Transporte"
   ]
  },
  {
   "cell_type": "markdown",
   "metadata": {},
   "source": [
    "## 1 - Natureza do Problema\n",
    "Trata-se de um problema de maximização do lucro"
   ]
  },
  {
   "cell_type": "code",
   "execution_count": 1,
   "metadata": {
    "collapsed": true
   },
   "outputs": [],
   "source": [
    "import random\n",
    "import numpy\n",
    "import matplotlib.pyplot as plt\n",
    "from deap import base\n",
    "from deap import creator\n",
    "from deap import tools\n",
    "from deap import algorithms\n",
    "\n",
    "# INIT\n",
    "toolbox = base.Toolbox()\n",
    "\n",
    "# Definindo a natureza do problema. No caso um problema de maximização\n",
    "creator.create(\"FitnessMax\", base.Fitness, weights=(1.0,))"
   ]
  },
  {
   "cell_type": "markdown",
   "metadata": {},
   "source": [
    "## 2 - Variáveis e Codificação\n",
    "- A codificação utilizada será um comossomo com 70 genes onde cada gene representa a rota que o caminhão está alocado.\n",
    "- Como temos 25 rotas possíveis para cada caminhão precisaremos 5 bits para cada gene e logo teremos um cromossomo de tamanho 350 ($5*70$). Optou-se utilizar somente as rotas com valor ao invés de todas as possíveis, para reduzir o espaço de busca, bem como não gerar soluções inválidas\n",
    "- O espaço de busca  total é de aproximadamente $2,3*10^{105}$"
   ]
  },
  {
   "cell_type": "code",
   "execution_count": 2,
   "metadata": {
    "collapsed": true
   },
   "outputs": [],
   "source": [
    "#MONTADORA-DESTINO\n",
    "rotas = [\n",
    "        'GMS-RIO','GMS-BSB','GMS-CNF','GMS-CWB','GMS-REC',\n",
    "        'RNT-SAO','RNT-RIO','RNT-CNF','RNT-POA',\n",
    "        'FRD-RIO','FRD-CWB','FRD-POA',\n",
    "        'FAT-SAO','FAT-BSB','FAT-CWB','FAT-REC',\n",
    "        'VKW-RIO','VKW-BSB','VKW-CWB','VKW-POA',\n",
    "        'HYD-SAO','HYD-CNF','HYD-CWB','HYD-REC','HYD-POA']\n",
    "\n",
    "# Demanda mensal dos veículos de cada MONTADORA-CENTRO_CONSUMIDOR\n",
    "demandas = {\n",
    "        'GMS-RIO':1701, 'GMS-BSB':1039, 'GMS-CNF':1072, 'GMS-CWB':975, 'GMS-REC':374, \n",
    "        'RNT-SAO':1903, 'RNT-RIO':684 , 'RNT-CNF':431 , 'RNT-POA':218, \n",
    "        'FRD-RIO':953 , 'FRD-CWB':547 , 'FRD-POA':304 , \n",
    "        'FAT-SAO':5246, 'FAT-BSB':1152, 'FAT-CWB':1081, 'FAT-REC':414, \n",
    "        'VKW-RIO':1689, 'VKW-BSB':1031, 'VKW-CWB':968 , 'VKW-POA':538, \n",
    "        'HYD-SAO':1360, 'HYD-CNF':308 , 'HYD-CWB':281 , 'HYD-REC':108, 'HYD-POA':156}\n",
    "\n",
    "# Menor distância entre MONTADORA-CENTRO_CONSUMIDOR\n",
    "distancias = {\n",
    "        'GMS-RIO':448, 'GMS-BSB':1021, 'GMS-CNF':589 , 'GMS-CWB':445, 'GMS-REC':2709, \n",
    "        'RNT-SAO':413, 'RNT-RIO':853 , 'RNT-CNF':1001, 'RNT-POA':728, \n",
    "        'FRD-RIO':465, 'FRD-CWB':434 , 'FRD-POA':1162, \n",
    "        'FAT-SAO':554, 'FAT-BSB':746 , 'FAT-CWB':962 , 'FAT-REC':2153, \n",
    "        'VKW-RIO':465, 'VKW-BSB':1027, 'VKW-CWB':434 , 'VKW-POA':1162, \n",
    "        'HYD-SAO':157, 'HYD-CNF':650 , 'HYD-CWB':539 , 'HYD-REC':2745, 'HYD-POA':1267}\n",
    "\n",
    "# Custo total do transporte por viagem completa realizada\n",
    "custos = {\n",
    "        'GMS-RIO':7948 , 'GMS-BSB':21167, 'GMS-CNF':9557 , 'GMS-CWB':6729 , 'GMS-REC':58599, \n",
    "        'RNT-SAO':5629 , 'RNT-RIO':15612, 'RNT-CNF':16679, 'RNT-POA':12365, \n",
    "        'FRD-RIO':8314 , 'FRD-CWB':6608 , 'FRD-POA':19157, \n",
    "        'FAT-SAO':7503 , 'FAT-BSB':15987, 'FAT-CWB':14991, 'FAT-REC':48046, \n",
    "        'VKW-RIO':12578, 'VKW-BSB':32363, 'VKW-CWB':9997 , 'VKW-POA':28981, \n",
    "        'HYD-SAO':1050 , 'HYD-CNF':5527 , 'HYD-CWB':4290 , 'HYD-REC':31247, 'HYD-POA':10927}\n",
    "\n",
    "# Remuneração do transporte por viagem completa realizada\n",
    "remuneracoes = {\n",
    "        'GMS-RIO':10703, 'GMS-BSB':24398, 'GMS-CNF':14069, 'GMS-CWB':10626, 'GMS-REC':64746, \n",
    "        'RNT-SAO':10615, 'RNT-RIO':21923, 'RNT-CNF':25729, 'RNT-POA':18711, \n",
    "        'FRD-RIO':12606, 'FRD-CWB':11759, 'FRD-POA':31504, \n",
    "        'FAT-SAO':11407, 'FAT-BSB':15356, 'FAT-CWB':19800, 'FAT-REC':44330, \n",
    "        'VKW-RIO':11528, 'VKW-BSB':25465, 'VKW-CWB':10758, 'VKW-POA':28820, \n",
    "        'HYD-SAO':4961 , 'HYD-CNF':20537, 'HYD-CWB':17028, 'HYD-REC':86746, 'HYD-POA':40040}"
   ]
  },
  {
   "cell_type": "code",
   "execution_count": 3,
   "metadata": {
    "collapsed": true
   },
   "outputs": [],
   "source": [
    "# Definindo a estrutura do indivíduo\n",
    "IND_SIZE = 350  # Tamanho do individuo - 10 para cada gene\n",
    "GEN_SIZE = 5\n",
    "GENES = IND_SIZE/GEN_SIZE\n",
    "\n",
    "creator.create(\"Individual\", list, fitness=creator.FitnessMax)\n",
    "\n",
    "# funcao para gerar o gene com valores 0 ou 1 randomicamente uniforme\n",
    "toolbox.register(\"attr_bool\", random.randint, 0, 1)\n",
    "\n",
    "# funcao para gerar o indivíduo (nome, forma de gerar, Estrutura, funcao geradora, tamanho)\n",
    "toolbox.register(\"individual\", tools.initRepeat, creator.Individual, toolbox.attr_bool, n=IND_SIZE)\n",
    "\n",
    "# funcao para gerar a populacao\n",
    "toolbox.register(\"population\", tools.initRepeat, list, toolbox.individual)\n",
    "\n",
    "def decode(individual,i_size=IND_SIZE,g_size=GEN_SIZE):\n",
    "    \"\"\"Recebe um individuo codificado e decodifica.\"\"\"\n",
    "    result = []\n",
    "    for a in range(0,i_size,g_size):\n",
    "        gene = ''.join(str(individual[i]) for i in range(a,a+g_size))\n",
    "        index_rota = int(gene,2)\n",
    "        rota = '' if index_rota > len(rotas) - 1 else rotas[index_rota]\n",
    "        result.append(rota)\n",
    "    return result"
   ]
  },
  {
   "cell_type": "markdown",
   "metadata": {},
   "source": [
    "## 3 - Restrições\n",
    "As restrições servem para definir um limite de soluções possíveis para algoritmo e, dependendo da abordagem, penalizar a função de fitness ou apenas descartas as soluções com respostas fora do intervalo.  \n",
    "\n",
    "- **Demanda Mensal maior ou igual ao valor tabelado.**  \n",
    "Criação de uma função para realização do cálculo com base no indivíduo e no valor tabelado\n",
    "- **Maximo transportado por rota**\n",
    "Com base no tempo que um caminhao demora, tem-se o valor máximo dia/mes que esse caminhão faz\n"
   ]
  },
  {
   "cell_type": "markdown",
   "metadata": {},
   "source": [
    "Criou-se tabelas adicionais para facilitar o cálculo:  \n",
    "- quantidade que um caminhao carrega por mes, por rota  \n",
    "- quantidade de caminhoes minima por rota para atender a demanda  "
   ]
  },
  {
   "cell_type": "code",
   "execution_count": 4,
   "metadata": {
    "collapsed": true
   },
   "outputs": [],
   "source": [
    "def c_mes(distancia):\n",
    "    \"\"\"Carga total que um caminhao carrega no mes dada uma distancia a percorrer\"\"\"\n",
    "    tempo_ida = distancia/65 + 2 #60km/h + 2hs de carga\n",
    "    tempo_volta = distancia/80 + 2 #80km/h + 2hs descarga\n",
    "    tempo_total = round(tempo_ida + tempo_volta)\n",
    "    horas_mes = 24 * 30 #24hs * 30 dias\n",
    "    viagens_mes = int(horas_mes/tempo_total)\n",
    "    \n",
    "    return 11 * viagens_mes #11 carros por caminhao\n",
    "\n",
    "# Carga total mensal que um caminhao consegue carregar na rota\n",
    "carga_mes = dict((rota,c_mes(distancias[rota])) for rota in rotas)\n",
    "\n",
    "# Quantidade total de caminhoes mes para atender a demanda da rota\n",
    "caminhoes_mes = dict((rota,int(demandas[rota]/carga_mes[rota])+1) for rota in rotas)"
   ]
  },
  {
   "cell_type": "markdown",
   "metadata": {},
   "source": [
    "Com essas tabelas já é possível verificar que a frota de 70 caminhões não consegue atender toda a demanda."
   ]
  },
  {
   "cell_type": "code",
   "execution_count": 5,
   "metadata": {
    "collapsed": false
   },
   "outputs": [
    {
     "name": "stdout",
     "output_type": "stream",
     "text": [
      "Tamanho mínimo da frota para atender a demanda: 82\n"
     ]
    }
   ],
   "source": [
    "print('Tamanho mínimo da frota para atender a demanda: {}'.format(sum(caminhoes_mes.values())))"
   ]
  },
  {
   "cell_type": "code",
   "execution_count": 6,
   "metadata": {
    "collapsed": true
   },
   "outputs": [],
   "source": [
    "# diferenca com a quantidade ideal de caminhoes para atender a demanda\n",
    "def restriction(individual):\n",
    "    resultado = dict((rota,len([r for r in decode(individual) if rota in r] )) for rota in rotas)\n",
    "    erro = 0\n",
    "    for r in rotas:\n",
    "        erro += abs(resultado[r]*carga_mes[r]-caminhoes_mes[r]*carga_mes[r])\n",
    "    return sum(caminhoes_mes.values())/erro\n",
    "\n",
    "def restriction2(individual):\n",
    "    resultado = dict((rota,len([r for r in decode(individual) if rota in r] )) for rota in rotas)\n",
    "    erro = 0\n",
    "    for r in rotas:\n",
    "        erro += abs(resultado[r]-caminhoes_mes[r])\n",
    "    return sum(caminhoes_mes.values())/erro\n",
    "\n",
    "def restriction3(individual):\n",
    "    resultado = dict((rota,len([r for r in decode(individual) if rota in r] )) for rota in rotas)\n",
    "    erro = 0\n",
    "    for r in rotas:\n",
    "        erro += abs(resultado[r]-caminhoes_mes[r])\n",
    "    erro_medio = erro/sum(caminhoes_mes.values())\n",
    "    return erro_medio\n",
    "\n",
    "# funcao objetivo normalizada\n",
    "def goal(individual):\n",
    "    arranjo = decode(individual)\n",
    "    lucro = sum((remuneracoes[k]*carga_mes[k]/11) for k in arranjo if k)\n",
    "    despesa = sum((custos[k]*carga_mes[k]/11) for k in arranjo if k)\n",
    "    return (lucro-despesa)/66794420 #lucro maximo todos os caminhoes na rota mais lucrativa\n",
    "\n",
    "# funcao fitness\n",
    "def evaluate(individual):\n",
    "    return goal(individual) - restriction3(individual),\n",
    "\n",
    "def evaluate1(individual):\n",
    "    return goal(individual) - 0.5*restriction3(individual),\n",
    "\n",
    "def evaluate2(individual):\n",
    "    return goal(individual)*1/restriction3(individual),\n",
    "\n",
    "def evaluate3(individual):\n",
    "    return goal(individual)*restriction2(individual),\n",
    "\n",
    "def evaluate4(individual):\n",
    "    return goal(individual)*restriction(individual),"
   ]
  },
  {
   "cell_type": "code",
   "execution_count": 7,
   "metadata": {
    "collapsed": true
   },
   "outputs": [],
   "source": [
    "#Funcao auxiliar para plotar gráfico\n",
    "def plot_log(logbook):\n",
    "    gen = logbook.select(\"gen\")\n",
    "    min = logbook.select(\"min\")\n",
    "    avg = logbook.select(\"avg\")\n",
    "    max = logbook.select(\"max\")\n",
    "\n",
    "    fig, ax1 = plt.subplots()\n",
    "    line1 = ax1.plot(gen, min, \"b-\", label=\"Minimum Fitness\")\n",
    "    ax1.set_xlabel(\"Generation\")\n",
    "    ax1.set_ylabel(\"Fitness\", color=\"b\")\n",
    "    for tl in ax1.get_yticklabels():\n",
    "        tl.set_color(\"b\")\n",
    "\n",
    "    ax2 = ax1.twinx()\n",
    "    line2 = ax2.plot(gen, avg, \"g-\", label=\"Average Fitness\")\n",
    "    ax2.set_ylabel(\"Size\", color=\"g\")\n",
    "    for tl in ax2.get_yticklabels():\n",
    "        tl.set_color(\"g\")\n",
    "\n",
    "    ax3 = ax1.twinx()\n",
    "    line3 = ax3.plot(gen, max, \"y-\", label=\"Maximum Fitness\")\n",
    "    ax3.set_ylabel(\"Size\", color=\"y\")\n",
    "    for tl in ax3.get_yticklabels():\n",
    "        tl.set_color(\"y\")\n",
    "\n",
    "    lns = line1 + line2 + line3\n",
    "    labs = [l.get_label() for l in lns]\n",
    "    ax1.legend(lns, labs, loc=\"center right\")\n",
    "\n",
    "    plt.show()"
   ]
  },
  {
   "cell_type": "markdown",
   "metadata": {},
   "source": [
    "## 8 - Código AG\n",
    "Implementação de Algoritmo Genético para resolução do problema"
   ]
  },
  {
   "cell_type": "code",
   "execution_count": 16,
   "metadata": {
    "collapsed": false
   },
   "outputs": [],
   "source": [
    "# registra funcao de fitness\n",
    "#toolbox.register(\"evaluate\", evaluate)\n",
    "#toolbox.register(\"evaluate\", evaluate1)\n",
    "#toolbox.register(\"evaluate\", evaluate2)\n",
    "#toolbox.register(\"evaluate\", evaluate3)\n",
    "toolbox.register(\"evaluate\", evaluate4)\n",
    "\n",
    "# registra crossOver\n",
    "toolbox.register(\"mate\", tools.cxTwoPoint)\n",
    "\n",
    "# registra mutacao com probabilidade default de mudar cada gene de 5%\n",
    "toolbox.register(\"mutate\", tools.mutFlipBit, indpb=0.05)\n",
    "\n",
    "# registra o metodo de selecao como torneio de tamanho 3\n",
    "toolbox.register(\"select\", tools.selTournament, tournsize=2)"
   ]
  },
  {
   "cell_type": "code",
   "execution_count": 17,
   "metadata": {
    "collapsed": false,
    "scrolled": false
   },
   "outputs": [
    {
     "name": "stdout",
     "output_type": "stream",
     "text": [
      "gen\tnevals\tstd        \tmin        \tavg        \tmax        \n",
      "0  \t100   \t0.000105497\t0.000393185\t0.000671422\t0.000935597\n",
      "1  \t63    \t9.1047e-05 \t0.000540702\t0.000716816\t0.000935597\n",
      "2  \t71    \t8.46935e-05\t0.000539511\t0.000752473\t0.000924517\n",
      "3  \t58    \t7.1434e-05 \t0.000541998\t0.00077703 \t0.00100045 \n",
      "4  \t73    \t9.17164e-05\t0.000526261\t0.000794798\t0.00106835 \n",
      "5  \t74    \t8.8927e-05 \t0.000575262\t0.000804222\t0.0010198  \n",
      "6  \t44    \t7.83057e-05\t0.000688136\t0.000856335\t0.0010239  \n",
      "7  \t49    \t7.7261e-05 \t0.000663756\t0.00088633 \t0.00105749 \n",
      "8  \t62    \t8.91207e-05\t0.000668121\t0.000911249\t0.00119733 \n",
      "9  \t61    \t8.39427e-05\t0.000727213\t0.000921116\t0.00119733 \n",
      "10 \t52    \t8.20099e-05\t0.000716956\t0.000948028\t0.00119733 \n",
      "11 \t55    \t8.64455e-05\t0.00073989 \t0.000989092\t0.00119733 \n",
      "12 \t64    \t8.96763e-05\t0.00073579 \t0.00101966 \t0.00125189 \n",
      "13 \t68    \t8.49607e-05\t0.000820317\t0.00105514 \t0.00125583 \n",
      "14 \t60    \t9.58793e-05\t0.000714926\t0.00106401 \t0.0013203  \n",
      "15 \t48    \t0.000103703\t0.000739672\t0.0010979  \t0.0013203  \n",
      "16 \t61    \t9.94339e-05\t0.000732718\t0.00112316 \t0.00128948 \n",
      "17 \t61    \t9.6477e-05 \t0.000755851\t0.00112684 \t0.00130059 \n",
      "18 \t57    \t9.06982e-05\t0.000815891\t0.00116618 \t0.00138142 \n",
      "19 \t77    \t9.4409e-05 \t0.000958821\t0.00119573 \t0.00139709 \n",
      "20 \t61    \t0.000114002\t0.000864502\t0.001228   \t0.00147768 \n",
      "21 \t62    \t0.000111251\t0.000866699\t0.00125444 \t0.00147768 \n",
      "22 \t58    \t9.72547e-05\t0.00096274 \t0.00129314 \t0.00147768 \n",
      "23 \t68    \t0.000104735\t0.000783629\t0.00131975 \t0.00151127 \n",
      "24 \t62    \t9.98318e-05\t0.000901728\t0.00135082 \t0.00151933 \n",
      "25 \t63    \t8.05151e-05\t0.00106872 \t0.00137539 \t0.00151933 \n",
      "26 \t60    \t7.83441e-05\t0.00099229 \t0.00140523 \t0.00151933 \n",
      "27 \t62    \t0.000110041\t0.000927465\t0.00140699 \t0.00151933 \n",
      "28 \t64    \t4.48967e-05\t0.00129961 \t0.00144625 \t0.00153182 \n",
      "29 \t50    \t4.98792e-05\t0.00122706 \t0.001463   \t0.00155487 \n",
      "30 \t58    \t5.64578e-05\t0.00117221 \t0.0014765  \t0.00157112 \n",
      "31 \t56    \t0.00011484 \t0.00102052 \t0.00145774 \t0.00158941 \n",
      "32 \t62    \t9.95599e-05\t0.000876469\t0.00148769 \t0.00161956 \n",
      "33 \t52    \t6.58837e-05\t0.00111716 \t0.00150799 \t0.00161956 \n",
      "34 \t63    \t0.000118336\t0.00099328 \t0.00150383 \t0.00161956 \n",
      "35 \t65    \t0.000106519\t0.000976699\t0.00152084 \t0.00161956 \n",
      "36 \t67    \t0.000112599\t0.00106637 \t0.00152918 \t0.00169006 \n",
      "37 \t57    \t8.15972e-05\t0.000965204\t0.00155604 \t0.00169006 \n",
      "38 \t57    \t8.51677e-05\t0.0010132  \t0.00156958 \t0.00169006 \n",
      "39 \t60    \t8.0209e-05 \t0.00110475 \t0.00157827 \t0.00172523 \n",
      "40 \t52    \t8.70005e-05\t0.00105237 \t0.00160034 \t0.00172523 \n",
      "41 \t56    \t8.69957e-05\t0.000899479\t0.00160977 \t0.00172523 \n",
      "42 \t57    \t9.47539e-05\t0.00104978 \t0.00161769 \t0.00173337 \n",
      "43 \t76    \t4.97798e-05\t0.00143051 \t0.00164632 \t0.00173337 \n",
      "44 \t46    \t8.24217e-05\t0.00121393 \t0.00164138 \t0.00173337 \n",
      "45 \t55    \t9.19824e-05\t0.0011708  \t0.00165892 \t0.00175006 \n",
      "46 \t70    \t0.000115114\t0.00100085 \t0.00166467 \t0.00175006 \n",
      "47 \t60    \t7.50847e-05\t0.00106672 \t0.00168684 \t0.00173337 \n",
      "48 \t61    \t8.87715e-05\t0.00109787 \t0.00169809 \t0.00173337 \n",
      "49 \t70    \t2.35846e-05\t0.00155989 \t0.00172289 \t0.00180972 \n",
      "50 \t54    \t7.4769e-05 \t0.00101733 \t0.00171987 \t0.00180972 \n",
      "51 \t63    \t7.94948e-05\t0.00097554 \t0.00172443 \t0.00180972 \n",
      "52 \t47    \t0.000130853\t0.0010283  \t0.00171096 \t0.00180972 \n",
      "53 \t78    \t8.25806e-05\t0.00119946 \t0.00173078 \t0.00180972 \n",
      "54 \t59    \t0.000105515\t0.00104383 \t0.0017424  \t0.00180972 \n",
      "55 \t62    \t0.000102484\t0.00102528 \t0.00175455 \t0.00180972 \n",
      "56 \t65    \t0.000134793\t0.000930156\t0.0017624  \t0.00180972 \n",
      "57 \t60    \t9.5944e-05 \t0.00115582 \t0.00178727 \t0.00180972 \n",
      "58 \t58    \t9.61559e-06\t0.00171589 \t0.00180854 \t0.00180972 \n",
      "59 \t51    \t8.1808e-05 \t0.00111781 \t0.00179828 \t0.00180972 \n",
      "60 \t59    \t0.000111313\t0.000963967\t0.00179385 \t0.00180972 \n",
      "61 \t68    \t2.1684e-19 \t0.00180972 \t0.00180972 \t0.00180972 \n",
      "62 \t60    \t0.000119195\t0.000956265\t0.00179269 \t0.00180972 \n",
      "63 \t56    \t0.000114439\t0.000950119\t0.00179339 \t0.00180972 \n",
      "64 \t74    \t0.000116974\t0.000933806\t0.00179303 \t0.00180972 \n",
      "65 \t56    \t0.000110804\t0.000970029\t0.00179079 \t0.00180972 \n",
      "66 \t65    \t0.000102053\t0.00100768 \t0.00179522 \t0.00180972 \n",
      "67 \t66    \t0.0001165  \t0.000992597\t0.00178985 \t0.00180972 \n",
      "68 \t68    \t7.20995e-05\t0.00118012 \t0.00179977 \t0.00180972 \n",
      "69 \t60    \t0.000132813\t0.000747833\t0.00178738 \t0.00180972 \n",
      "70 \t67    \t0.000133428\t0.00106167 \t0.00178264 \t0.00180972 \n",
      "71 \t50    \t9.79703e-05\t0.00116146 \t0.00179261 \t0.00180972 \n",
      "72 \t51    \t0.000145076\t0.000951874\t0.00178025 \t0.00180972 \n",
      "73 \t62    \t5.06357e-05\t0.00138848 \t0.0018026  \t0.00180972 \n",
      "74 \t60    \t0.000117293\t0.000857247\t0.00179315 \t0.00180972 \n",
      "75 \t58    \t7.68532e-05\t0.00103731 \t0.00180199 \t0.00180972 \n",
      "76 \t67    \t9.06668e-05\t0.00111085 \t0.00179681 \t0.00180972 \n",
      "77 \t56    \t2.1684e-19 \t0.00180972 \t0.00180972 \t0.00180972 \n",
      "78 \t62    \t8.11582e-05\t0.000994045\t0.00180156 \t0.00180972 \n",
      "79 \t55    \t0.000132223\t0.00113504 \t0.00177962 \t0.00180972 \n",
      "80 \t55    \t9.15106e-05\t0.00120371 \t0.00179164 \t0.00180972 \n",
      "81 \t64    \t0.000142989\t0.000768708\t0.00178508 \t0.00180972 \n",
      "82 \t59    \t0.000150657\t0.00100247 \t0.00177529 \t0.00180972 \n",
      "83 \t63    \t8.2686e-05 \t0.00104281 \t0.00179877 \t0.00180972 \n",
      "84 \t59    \t0.000117184\t0.00107687 \t0.00178915 \t0.00180972 \n",
      "85 \t55    \t0.00010399 \t0.000969368\t0.00179501 \t0.00180972 \n",
      "86 \t71    \t0.000126479\t0.0010796  \t0.0017842  \t0.00180972 \n",
      "87 \t55    \t0.000124537\t0.00107344 \t0.00178445 \t0.00180972 \n",
      "88 \t59    \t0.000131087\t0.00109457 \t0.00178312 \t0.00180972 \n",
      "89 \t57    \t0.000157719\t0.000956637\t0.00177756 \t0.00180972 \n",
      "90 \t61    \t0.00013493 \t0.00103466 \t0.00178246 \t0.00180972 \n",
      "91 \t69    \t0.000149864\t0.000905182\t0.00177984 \t0.00180972 \n",
      "92 \t45    \t0.000114598\t0.00107811 \t0.00178962 \t0.00180972 \n",
      "93 \t60    \t0.000155707\t0.000855853\t0.00177823 \t0.00180972 \n",
      "94 \t74    \t0.000179127\t0.000934786\t0.00176099 \t0.00180972 \n",
      "95 \t67    \t0.000144593\t0.00109715 \t0.00177379 \t0.00182147 \n",
      "96 \t71    \t0.000133384\t0.000970106\t0.00178635 \t0.00180972 \n",
      "97 \t59    \t0.000152988\t0.000900568\t0.00177234 \t0.00180972 \n",
      "98 \t62    \t9.84657e-05\t0.00122963 \t0.00178993 \t0.00180972 \n",
      "99 \t70    \t9.45875e-05\t0.00118237 \t0.00179321 \t0.00180972 \n",
      "100\t55    \t9.09848e-05\t0.00101778 \t0.00179714 \t0.00180972 \n",
      "\n",
      "MELHOR INDIVIDUO:\n",
      " ['', 'FAT-SAO', 'VKW-RIO', 'GMS-BSB', 'GMS-CWB', 'HYD-REC', 'FRD-POA', 'GMS-REC', 'HYD-CWB', 'FRD-RIO', 'RNT-POA', 'HYD-CWB', 'FAT-SAO', 'VKW-CWB', 'FAT-SAO', 'HYD-CWB', 'RNT-SAO', 'FAT-BSB', 'RNT-CNF', '', 'RNT-SAO', 'FAT-BSB', 'GMS-RIO', 'GMS-CWB', 'GMS-RIO', 'GMS-CNF', 'FAT-CWB', 'FAT-BSB', 'GMS-RIO', 'FAT-CWB', 'FAT-CWB', 'HYD-REC', 'GMS-RIO', 'RNT-CNF', 'GMS-BSB', 'FAT-SAO', 'HYD-REC', 'FAT-BSB', 'HYD-POA', 'FRD-CWB', 'HYD-REC', 'FRD-RIO', 'HYD-CNF', 'GMS-CNF', 'GMS-BSB', 'VKW-RIO', '', 'GMS-REC', 'FRD-CWB', '', 'RNT-SAO', 'RNT-SAO', 'HYD-SAO', '', 'HYD-SAO', '', 'FAT-SAO', 'VKW-RIO', 'FRD-RIO', 'HYD-REC', 'RNT-RIO', 'VKW-POA', 'HYD-REC', 'HYD-REC', 'FRD-POA', 'HYD-REC', 'FAT-CWB', 'VKW-POA', 'VKW-CWB', 'VKW-RIO']\n",
      "\n",
      "SOLUÇÃO ESPERADA PARA ATENDER A DEMANDA[DEMANDA]:\n",
      " {'GMS-RIO': 1701, 'GMS-BSB': 1039, 'GMS-CNF': 1072, 'GMS-CWB': 975, 'GMS-REC': 374, 'RNT-SAO': 1903, 'RNT-RIO': 684, 'RNT-CNF': 431, 'RNT-POA': 218, 'FRD-RIO': 953, 'FRD-CWB': 547, 'FRD-POA': 304, 'FAT-SAO': 5246, 'FAT-BSB': 1152, 'FAT-CWB': 1081, 'FAT-REC': 414, 'VKW-RIO': 1689, 'VKW-BSB': 1031, 'VKW-CWB': 968, 'VKW-POA': 538, 'HYD-SAO': 1360, 'HYD-CNF': 308, 'HYD-CWB': 281, 'HYD-REC': 108, 'HYD-POA': 156}\n",
      "\n",
      "SOLUÇÃO ESPERADA PARA ATENDER A DEMANDA[CAMINHOES]:\n",
      " {'GMS-RIO': 4, 'GMS-BSB': 5, 'GMS-CNF': 3, 'GMS-CWB': 2, 'GMS-REC': 4, 'RNT-SAO': 4, 'RNT-RIO': 3, 'RNT-CNF': 2, 'RNT-POA': 1, 'FRD-RIO': 3, 'FRD-CWB': 2, 'FRD-POA': 2, 'FAT-SAO': 13, 'FAT-BSB': 4, 'FAT-CWB': 5, 'FAT-REC': 4, 'VKW-RIO': 4, 'VKW-BSB': 5, 'VKW-CWB': 2, 'VKW-POA': 3, 'HYD-SAO': 2, 'HYD-CNF': 1, 'HYD-CWB': 1, 'HYD-REC': 2, 'HYD-POA': 1}\n",
      "\n",
      "SOLUÇÃO ENCONTRADA[DEMANDA]:\n",
      " {'GMS-RIO': 1980, 'GMS-BSB': 726, 'GMS-CNF': 792, 'GMS-CWB': 990, 'GMS-REC': 198, 'RNT-SAO': 1980, 'RNT-RIO': 275, 'RNT-CNF': 484, 'RNT-POA': 330, 'FRD-RIO': 1386, 'FRD-CWB': 990, 'FRD-POA': 440, 'FAT-SAO': 2035, 'FAT-BSB': 1232, 'FAT-CWB': 1012, 'FAT-REC': 0, 'VKW-RIO': 1848, 'VKW-BSB': 0, 'VKW-CWB': 990, 'VKW-POA': 440, 'HYD-SAO': 1980, 'HYD-CNF': 352, 'HYD-CWB': 1221, 'HYD-REC': 704, 'HYD-POA': 198}\n",
      "\n",
      "SOLUÇÃO ENCONTRADA[CAMINHOES]:\n",
      " {'GMS-RIO': 4, 'GMS-BSB': 3, 'GMS-CNF': 2, 'GMS-CWB': 2, 'GMS-REC': 2, 'RNT-SAO': 4, 'RNT-RIO': 1, 'RNT-CNF': 2, 'RNT-POA': 1, 'FRD-RIO': 3, 'FRD-CWB': 2, 'FRD-POA': 2, 'FAT-SAO': 5, 'FAT-BSB': 4, 'FAT-CWB': 4, 'FAT-REC': 0, 'VKW-RIO': 4, 'VKW-BSB': 0, 'VKW-CWB': 2, 'VKW-POA': 2, 'HYD-SAO': 2, 'HYD-CNF': 1, 'HYD-CWB': 3, 'HYD-REC': 8, 'HYD-POA': 1}\n",
      "\n",
      "DIVERGENCIA = 24.46%\n",
      "\n",
      "LUCRO = 12291317.0\n"
     ]
    },
    {
     "data": {
      "image/png": "[encoded data removed]",
      "text/plain": [
       "<matplotlib.figure.Figure at 0x1e4bed16e48>"
      ]
     },
     "metadata": {},
     "output_type": "display_data"
    }
   ],
   "source": [
    "random.seed(42)\n",
    "\n",
    "# cria populacao inicial\n",
    "pop = toolbox.population(n=100)\n",
    "\n",
    "# MU - numero de individuos selecionados para a prox geracao\n",
    "# LAMBDA - numero de filhos a serem gerados\n",
    "# CXPB - probabilidade de crossover\n",
    "# MUTPB - probabilidade de mutacao\n",
    "# NGEN - numero de geracoes\n",
    "#MU, LAMBDA_, CXPB, MUTPB, NGEN = 5, 7, 0.7, 0.05, 100\n",
    "MU, LAMBDA_, CXPB, MUTPB, NGEN = 5, 7, 0.6, 0.03, 100\n",
    "\n",
    "#definindo quais stats devem ser mostrados no console\n",
    "stats = tools.Statistics(key=lambda ind: ind.fitness.values)\n",
    "stats.register(\"std\", numpy.std)\n",
    "stats.register(\"min\", numpy.min)\n",
    "stats.register(\"avg\", numpy.mean)\n",
    "stats.register(\"max\", numpy.max)\n",
    "\n",
    "#Algoritmos do livro “Evolutionary Computation 1 : Basic Algorithms and Operators”\n",
    "#roda o algoritmo do capitulo 7\n",
    "pop, logbook = algorithms.eaSimple(pop, toolbox, CXPB, MUTPB, NGEN, stats=stats, verbose=True)\n",
    "\n",
    "#Seleciona o melhor individuo da populacao resultante\n",
    "best_ind = tools.selSPEA2(pop, 1)\n",
    "\n",
    "#Imprime as informações do melhor individuo\n",
    "melhor = decode(best_ind[0])\n",
    "print('\\nMELHOR INDIVIDUO:\\n {}'.format(melhor))\n",
    "\n",
    "#conta os caminhoes por rota para comparar com o ideal\n",
    "resultado_caminhoes = dict((rota,len([r for r in melhor if rota in r] )) for rota in rotas) \n",
    "resultado_demanda = dict((k,v*carga_mes[k]) for k,v in resultado_caminhoes.items())\n",
    "\n",
    "print('\\nSOLUÇÃO ESPERADA PARA ATENDER A DEMANDA[DEMANDA]:\\n {}'.format(demandas))\n",
    "print('\\nSOLUÇÃO ESPERADA PARA ATENDER A DEMANDA[CAMINHOES]:\\n {}'.format(caminhoes_mes))\n",
    "\n",
    "#dict((k,v*carga_mes[k]) for k,v in resultado.items())\n",
    "print('\\nSOLUÇÃO ENCONTRADA[DEMANDA]:\\n {}'.format(resultado_demanda))\n",
    "print('\\nSOLUÇÃO ENCONTRADA[CAMINHOES]:\\n {}'.format(resultado_caminhoes))\n",
    "\n",
    "erro = sum((demandas[r]-resultado_demanda[r]) for r in rotas if demandas[r]-resultado_demanda[r] > 0)\n",
    "divergencia = erro*100/sum(demandas.values())\n",
    "\n",
    "rendimento = sum((remuneracoes[k]*carga_mes[k]/11) for k in melhor if k)\n",
    "despesa = sum((custos[k]*carga_mes[k]/11) for k in melhor if k)\n",
    "lucro = rendimento-despesa\n",
    "\n",
    "print('\\nDIVERGENCIA = {}%'.format(round(divergencia,2)))\n",
    "print('\\nLUCRO = {}'.format(round(lucro,2)))\n",
    "\n",
    "#Plota gráfico\n",
    "plot_log(logbook)"
   ]
  },
  {
   "cell_type": "markdown",
   "metadata": {},
   "source": [
    "## ====TESTES===="
   ]
  },
  {
   "cell_type": "code",
   "execution_count": null,
   "metadata": {
    "collapsed": false
   },
   "outputs": [],
   "source": [
    "a = [0,0,0,1,1,\n",
    "     1,1,1,1,0,\n",
    "     1,0,1,0,1,\n",
    "     0,1,0,1,0,\n",
    "     1,0,1,1,1,\n",
    "     1,1,1,1,1,\n",
    "     1,1,1,1,1,\n",
    "     0,0,1,0,0]\n",
    "b = decode(a,len(a),5)\n",
    "print(b)\n",
    "print(sum(1 for i in b if i)) #contagem de caminhoes\n",
    "c = [r for r in b if 'HYD' in r] #filtro\n",
    "#print(c)\n",
    "\n",
    "\n",
    "print(demandas)\n",
    "print()\n",
    "print(carga_mes)\n",
    "print()\n",
    "print(caminhoes_mes)\n",
    "total =  sum(caminhoes_mes.values())\n",
    "\n",
    "print(total)\n",
    "    \n",
    "#print(int(3.5))"
   ]
  },
  {
   "cell_type": "code",
   "execution_count": null,
   "metadata": {
    "collapsed": false
   },
   "outputs": [],
   "source": [
    "print(abs(-2))"
   ]
  },
  {
   "cell_type": "code",
   "execution_count": null,
   "metadata": {
    "collapsed": false
   },
   "outputs": [],
   "source": [
    "a = numpy.array([1,2,3])\n",
    "b = numpy.array([1,4,1])\n",
    "c = sum(abs(a-b))\n",
    "print(c)"
   ]
  },
  {
   "cell_type": "code",
   "execution_count": null,
   "metadata": {
    "collapsed": true
   },
   "outputs": [],
   "source": []
  }
 ],
 "metadata": {
  "kernelspec": {
   "display_name": "Python 3",
   "language": "python",
   "name": "python3"
  },
  "language_info": {
   "codemirror_mode": {
    "name": "ipython",
    "version": 3
   },
   "file_extension": ".py",
   "mimetype": "text/x-python",
   "name": "python",
   "nbconvert_exporter": "python",
   "pygments_lexer": "ipython3",
   "version": "3.6.0"
  }
 },
 "nbformat": 4,
 "nbformat_minor": 2
}
