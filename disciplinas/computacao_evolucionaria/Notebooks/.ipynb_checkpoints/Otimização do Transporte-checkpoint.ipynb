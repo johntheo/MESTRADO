{
 "cells": [
  {
   "cell_type": "markdown",
   "metadata": {},
   "source": [
    "# Problema de Otimização do Transporte"
   ]
  },
  {
   "cell_type": "markdown",
   "metadata": {},
   "source": [
    "## 1 - Natureza do Problema\n",
    "Trata-se de um problema de maximização do lucro"
   ]
  },
  {
   "cell_type": "code",
   "execution_count": 1,
   "metadata": {
    "collapsed": true
   },
   "outputs": [],
   "source": [
    "import random\n",
    "import numpy\n",
    "import json\n",
    "import matplotlib.pyplot as plt\n",
    "from deap import base\n",
    "from deap import creator\n",
    "from deap import tools\n",
    "from deap import algorithms\n",
    "from tabulate import tabulate\n",
    "\n",
    "# INIT\n",
    "toolbox = base.Toolbox()\n",
    "\n",
    "# Definindo a natureza do problema. No caso um problema de maximização\n",
    "creator.create(\"FitnessMax\", base.Fitness, weights=(1.0,))"
   ]
  },
  {
   "cell_type": "markdown",
   "metadata": {},
   "source": [
    "Todas as matrizes que envolvem esse problema foram modelas como dicionarios(hash) pois facilita o acesso aos indices. Sendo assim, criou-se uma função para poder imprimir esses dicionarios na forma de tabelas para que a visualização dos dados fosse mais natural."
   ]
  },
  {
   "cell_type": "code",
   "execution_count": 2,
   "metadata": {
    "collapsed": true
   },
   "outputs": [],
   "source": [
    "def print_dict_as_table(values_dict):\n",
    "    \"\"\"Função auxiliar para  imprimir imprimir os dicionarios de valores como tabela\"\"\"\n",
    "    rows     = ['GMS','RNT','FRD','FAT','VKW','HYD']\n",
    "    cols     = ['SAO','RIO','BSB','CNF','CWB','REC','POA']\n",
    "    \n",
    "    grid = []\n",
    "    for a in rows:\n",
    "        aux = [a]\n",
    "        for b in cols:\n",
    "            index = a+'-'+b\n",
    "            if index in values_dict:\n",
    "                aux.append(values_dict[index])\n",
    "            else:\n",
    "                aux.append('-')\n",
    "        grid.append(aux)\n",
    "    print(tabulate(grid, headers=cols))"
   ]
  },
  {
   "cell_type": "markdown",
   "metadata": {},
   "source": [
    "## 2 - Variáveis e Codificação\n",
    "- A codificação utilizada será um comossomo com 70 genes onde cada gene representa a rota que o caminhão está alocado.\n",
    "- Como temos 25 rotas possíveis para cada caminhão precisaremos 5 bits para cada gene e logo teremos um cromossomo de tamanho 350 ($5*70$). Optou-se utilizar somente as rotas com valor ao invés de todas as possíveis, para reduzir o espaço de busca, bem como não gerar soluções inválidas\n",
    "- O espaço de busca  total é de aproximadamente $2,3*10^{105}$"
   ]
  },
  {
   "cell_type": "code",
   "execution_count": 3,
   "metadata": {
    "collapsed": true
   },
   "outputs": [],
   "source": [
    "#MONTADORA-DESTINO\n",
    "rotas = [\n",
    "        'GMS-RIO','GMS-BSB','GMS-CNF','GMS-CWB','GMS-REC',\n",
    "        'RNT-SAO','RNT-RIO','RNT-CNF','RNT-POA',\n",
    "        'FRD-RIO','FRD-CWB','FRD-POA',\n",
    "        'FAT-SAO','FAT-BSB','FAT-CWB','FAT-REC',\n",
    "        'VKW-RIO','VKW-BSB','VKW-CWB','VKW-POA',\n",
    "        'HYD-SAO','HYD-CNF','HYD-CWB','HYD-REC','HYD-POA']\n",
    "\n",
    "# Demanda mensal dos veículos de cada MONTADORA-CENTRO_CONSUMIDOR\n",
    "demandas = {\n",
    "        'GMS-RIO':1701, 'GMS-BSB':1039, 'GMS-CNF':1072, 'GMS-CWB':975, 'GMS-REC':374, \n",
    "        'RNT-SAO':1903, 'RNT-RIO':684 , 'RNT-CNF':431 , 'RNT-POA':218, \n",
    "        'FRD-RIO':953 , 'FRD-CWB':547 , 'FRD-POA':304 , \n",
    "        'FAT-SAO':5246, 'FAT-BSB':1152, 'FAT-CWB':1081, 'FAT-REC':414, \n",
    "        'VKW-RIO':1689, 'VKW-BSB':1031, 'VKW-CWB':968 , 'VKW-POA':538, \n",
    "        'HYD-SAO':1360, 'HYD-CNF':308 , 'HYD-CWB':281 , 'HYD-REC':108, 'HYD-POA':156}\n",
    "\n",
    "# Menor distância entre MONTADORA-CENTRO_CONSUMIDOR\n",
    "distancias = {\n",
    "        'GMS-RIO':448, 'GMS-BSB':1021, 'GMS-CNF':589 , 'GMS-CWB':445, 'GMS-REC':2709, \n",
    "        'RNT-SAO':413, 'RNT-RIO':853 , 'RNT-CNF':1001, 'RNT-POA':728, \n",
    "        'FRD-RIO':465, 'FRD-CWB':434 , 'FRD-POA':1162, \n",
    "        'FAT-SAO':554, 'FAT-BSB':746 , 'FAT-CWB':962 , 'FAT-REC':2153, \n",
    "        'VKW-RIO':465, 'VKW-BSB':1027, 'VKW-CWB':434 , 'VKW-POA':1162, \n",
    "        'HYD-SAO':157, 'HYD-CNF':650 , 'HYD-CWB':539 , 'HYD-REC':2745, 'HYD-POA':1267}\n",
    "\n",
    "# Custo total do transporte por viagem completa realizada\n",
    "custos = {\n",
    "        'GMS-RIO':7948 , 'GMS-BSB':21167, 'GMS-CNF':9557 , 'GMS-CWB':6729 , 'GMS-REC':58599, \n",
    "        'RNT-SAO':5629 , 'RNT-RIO':15612, 'RNT-CNF':16679, 'RNT-POA':12365, \n",
    "        'FRD-RIO':8314 , 'FRD-CWB':6608 , 'FRD-POA':19157, \n",
    "        'FAT-SAO':7503 , 'FAT-BSB':15987, 'FAT-CWB':14991, 'FAT-REC':48046, \n",
    "        'VKW-RIO':12578, 'VKW-BSB':32363, 'VKW-CWB':9997 , 'VKW-POA':28981, \n",
    "        'HYD-SAO':1050 , 'HYD-CNF':5527 , 'HYD-CWB':4290 , 'HYD-REC':31247, 'HYD-POA':10927}\n",
    "\n",
    "# Remuneração do transporte por viagem completa realizada\n",
    "remuneracoes = {\n",
    "        'GMS-RIO':10703, 'GMS-BSB':24398, 'GMS-CNF':14069, 'GMS-CWB':10626, 'GMS-REC':64746, \n",
    "        'RNT-SAO':10615, 'RNT-RIO':21923, 'RNT-CNF':25729, 'RNT-POA':18711, \n",
    "        'FRD-RIO':12606, 'FRD-CWB':11759, 'FRD-POA':31504, \n",
    "        'FAT-SAO':11407, 'FAT-BSB':15356, 'FAT-CWB':19800, 'FAT-REC':44330, \n",
    "        'VKW-RIO':11528, 'VKW-BSB':25465, 'VKW-CWB':10758, 'VKW-POA':28820, \n",
    "        'HYD-SAO':4961 , 'HYD-CNF':20537, 'HYD-CWB':17028, 'HYD-REC':86746, 'HYD-POA':40040}"
   ]
  },
  {
   "cell_type": "markdown",
   "metadata": {},
   "source": [
    "Abaixo definimos a estrutura do indivíduo e da população. Essas funções serão utilizadas posteriormente pelo algoritmo."
   ]
  },
  {
   "cell_type": "code",
   "execution_count": 4,
   "metadata": {
    "collapsed": true
   },
   "outputs": [],
   "source": [
    "# Definindo a estrutura do indivíduo\n",
    "IND_SIZE = 350  # Tamanho do individuo - 10 para cada gene\n",
    "GEN_SIZE = 5\n",
    "GENES = IND_SIZE/GEN_SIZE\n",
    "\n",
    "creator.create(\"Individual\", list, fitness=creator.FitnessMax)\n",
    "\n",
    "# funcao para gerar o gene com valores 0 ou 1 randomicamente uniforme\n",
    "toolbox.register(\"attr_bool\", random.randint, 0, 1)\n",
    "\n",
    "# funcao para gerar o indivíduo (nome, forma de gerar, Estrutura, funcao geradora, tamanho)\n",
    "toolbox.register(\"individual\", tools.initRepeat, creator.Individual, toolbox.attr_bool, n=IND_SIZE)\n",
    "\n",
    "# funcao para gerar a populacao\n",
    "toolbox.register(\"population\", tools.initRepeat, list, toolbox.individual)\n",
    "\n",
    "def decode(individual,i_size=IND_SIZE,g_size=GEN_SIZE):\n",
    "    \"\"\"Recebe um individuo codificado e decodifica.\"\"\"\n",
    "    result = []\n",
    "    for a in range(0,i_size,g_size):\n",
    "        gene = ''.join(str(individual[i]) for i in range(a,a+g_size))\n",
    "        index_rota = int(gene,2)\n",
    "        rota = '' if index_rota > len(rotas) - 1 else rotas[index_rota]\n",
    "        result.append(rota)\n",
    "    return result"
   ]
  },
  {
   "cell_type": "markdown",
   "metadata": {},
   "source": [
    "## 3 - Restrições\n",
    "As restrições servem para definir um limite de soluções possíveis para algoritmo e, dependendo da abordagem, penalizar a função de fitness ou apenas descartas as soluções com respostas fora do intervalo.  \n",
    "\n",
    "- **Demanda Mensal maior ou igual ao valor tabelado.**  \n",
    "Criação de uma função para realização do cálculo com base no indivíduo e no valor tabelado\n",
    "- **Maximo transportado por rota**\n",
    "Com base no tempo que um caminhao demora, tem-se o valor máximo dia/mes que esse caminhão faz\n"
   ]
  },
  {
   "cell_type": "markdown",
   "metadata": {},
   "source": [
    "Criou-se tabelas adicionais para facilitar o cálculo:  \n",
    "- quantidade que um caminhao carrega por mes, por rota  \n",
    "- quantidade de caminhoes minima por rota para atender a demanda  "
   ]
  },
  {
   "cell_type": "code",
   "execution_count": 5,
   "metadata": {
    "collapsed": true
   },
   "outputs": [],
   "source": [
    "def c_mes(distancia):\n",
    "    \"\"\"Carga total que um caminhao carrega no mes dada uma distancia a percorrer\"\"\"\n",
    "    tempo_ida = distancia/65 + 2 #60km/h + 2hs de carga\n",
    "    tempo_volta = distancia/80 + 2 #80km/h + 2hs descarga\n",
    "    tempo_total = round(tempo_ida + tempo_volta)\n",
    "    horas_mes = 24 * 30 #24hs * 30 dias\n",
    "    viagens_mes = int(horas_mes/tempo_total)\n",
    "    \n",
    "    return 11 * viagens_mes #11 carros por caminhao\n",
    "\n",
    "# Carga total mensal que um caminhao consegue carregar na rota\n",
    "carga_mes = dict((rota,c_mes(distancias[rota])) for rota in rotas)\n",
    "\n",
    "# Quantidade total de caminhoes mes para atender a demanda da rota\n",
    "caminhoes_mes = dict((rota,int(demandas[rota]/carga_mes[rota])+1) for rota in rotas)"
   ]
  },
  {
   "cell_type": "code",
   "execution_count": 6,
   "metadata": {
    "collapsed": false
   },
   "outputs": [
    {
     "name": "stdout",
     "output_type": "stream",
     "text": [
      "CARGA TOTAL MENSAL CAMINHAO POR ROTA:\n",
      "     SAO    RIO    BSB    CNF    CWB    REC    POA\n",
      "---  -----  -----  -----  -----  -----  -----  -----\n",
      "GMS  -      495    242    396    495    99     -\n",
      "RNT  495    275    -      242    -      -      330\n",
      "FRD  -      462    -      -      495    -      220\n",
      "FAT  407    -      308    -      253    121    -\n",
      "VKW  -      462    231    -      495    -      220\n",
      "HYD  990    -      -      352    407    88     198\n",
      "\n",
      "QUANTIDADE NECESSARIA CAMINHAO POR ROTA:\n",
      "     SAO    RIO    BSB    CNF    CWB    REC    POA\n",
      "---  -----  -----  -----  -----  -----  -----  -----\n",
      "GMS  -      4      5      3      2      4      -\n",
      "RNT  4      3      -      2      -      -      1\n",
      "FRD  -      3      -      -      2      -      2\n",
      "FAT  13     -      4      -      5      4      -\n",
      "VKW  -      4      5      -      2      -      3\n",
      "HYD  2      -      -      1      1      2      1\n"
     ]
    }
   ],
   "source": [
    "print('CARGA TOTAL MENSAL CAMINHAO POR ROTA:')\n",
    "print_dict_as_table(carga_mes)\n",
    "print('\\nQUANTIDADE NECESSARIA CAMINHAO POR ROTA:')\n",
    "print_dict_as_table(caminhoes_mes)"
   ]
  },
  {
   "cell_type": "markdown",
   "metadata": {},
   "source": [
    "Com essas tabelas já é possível verificar que a frota de 70 caminhões não consegue atender toda a demanda."
   ]
  },
  {
   "cell_type": "code",
   "execution_count": 7,
   "metadata": {
    "collapsed": false
   },
   "outputs": [
    {
     "name": "stdout",
     "output_type": "stream",
     "text": [
      "Tamanho mínimo da frota para atender a demanda: 82\n"
     ]
    }
   ],
   "source": [
    "print('Tamanho mínimo da frota para atender a demanda: {}'.format(sum(caminhoes_mes.values())))"
   ]
  },
  {
   "cell_type": "markdown",
   "metadata": {},
   "source": [
    "As funções de objetivo e de restrição são criadas e utilizadas pela função de fitness. Como objetivo definimos o maior lucro e como restrição o erro médio com a quantidade ideal de caminhões por rota."
   ]
  },
  {
   "cell_type": "code",
   "execution_count": 8,
   "metadata": {
    "collapsed": true
   },
   "outputs": [],
   "source": [
    "# diferenca com a quantidade ideal de caminhoes para atender a demanda\n",
    "def restriction(arranjo):\n",
    "    resultado = dict((rota,len([r for r in arranjo if rota in r] )) for rota in rotas)\n",
    "    erro = 0\n",
    "    for r in rotas:\n",
    "        erro += abs(resultado[r]-caminhoes_mes[r])\n",
    "    erro_medio = erro/sum(caminhoes_mes.values())\n",
    "    return erro_medio\n",
    "\n",
    "# funcao objetivo normalizada\n",
    "def goal(arranjo):\n",
    "    remuneracao = sum((remuneracoes[k]*carga_mes[k]/11) for k in arranjo if k)\n",
    "    despesa = sum((custos[k]*carga_mes[k]/11) for k in arranjo if k)\n",
    "    # 66794420 refere-se ao lucro maximo todos os caminhoes na rota mais lucrativa\n",
    "    return (remuneracao-despesa)/66794420 \n",
    "\n",
    "# funcao fitness\n",
    "def evaluate(individual):\n",
    "    arranjo = decode(individual)\n",
    "    #0.5 (somado ao final) foi um fator de normalização empírico\n",
    "    return goal(arranjo) - 0.35*restriction(arranjo) + 0.5, "
   ]
  },
  {
   "cell_type": "markdown",
   "metadata": {},
   "source": [
    "As funções a seguir são auxiliares para imprimir o gráfico de evolução algoritmo e as informações do melhor indivíduo."
   ]
  },
  {
   "cell_type": "code",
   "execution_count": 14,
   "metadata": {
    "collapsed": false
   },
   "outputs": [],
   "source": [
    "def plot_log(logbook):\n",
    "    \"\"\"Funcao auxiliar para plotar gráfico\"\"\"\n",
    "    gen = logbook.select(\"gen\")\n",
    "    min = logbook.select(\"min\")\n",
    "    avg = logbook.select(\"avg\")\n",
    "    max = logbook.select(\"max\")\n",
    "    \n",
    "    fig, ax1 = plt.subplots()\n",
    "    ax1.set_xlabel(\"Geração\")\n",
    "    ax1.set_ylabel(\"Fitness\", color=\"b\")\n",
    "    \n",
    "    line1 = ax1.plot(gen, min, \"b-\", label=\"Mínimo\")\n",
    "    line2 = ax1.plot(gen, avg, \"g-\", label=\"Médio\")\n",
    "    line3 = ax1.plot(gen, max, \"y-\", label=\"Máximo\")\n",
    "\n",
    "    lns = line3 + line2 + line1\n",
    "    labs = [l.get_label() for l in lns]\n",
    "    ax1.legend(lns, labs, loc=4)\n",
    "    \n",
    "    fig.set_size_inches(15, 5, forward=True)\n",
    "\n",
    "    plt.show()\n",
    "    \n",
    "def print_info(selected):\n",
    "    \"\"\"Funcao auxiliar para imprimir informções da solução encontrada\"\"\"   \n",
    "    melhor = decode(selected)\n",
    "\n",
    "    #conta os caminhoes por rota para comparar com o ideal\n",
    "    resultado_caminhoes = dict((rota,len([r for r in melhor if rota in r] )) for rota in rotas) \n",
    "    \n",
    "    #conta os caminhoes por rota para comparar com o ideal\n",
    "    resultado_demanda = dict((k,v*carga_mes[k]) for k,v in resultado_caminhoes.items())\n",
    "\n",
    "    erro = sum((demandas[r]-resultado_demanda[r]) for r in rotas if demandas[r]-resultado_demanda[r] > 0)\n",
    "    divergencia = erro*100/sum(demandas.values())\n",
    "\n",
    "    rendimento = sum((remuneracoes[k]*carga_mes[k]/11) for k in melhor if k)\n",
    "    despesa = sum((custos[k]*carga_mes[k]/11) for k in melhor if k)\n",
    "    lucro = rendimento-despesa\n",
    "\n",
    "    print('\\nSOLUCAO ENCONTRADA:')\n",
    "    print_dict_as_table(resultado_caminhoes)\n",
    "    \n",
    "    #print('\\nCobertura = {}%'.format(round(100-divergencia,2)))\n"
   ]
  },
  {
   "cell_type": "markdown",
   "metadata": {},
   "source": [
    "## 8 - Código AG\n",
    "Implementação de Algoritmo Genético para resolução do problema. Nesta fase, associamos as funções criadas às estruturas pré-definidas pelo framework DEAP. Também definimos os parâmetros padrões de Algoritmos Genéticos(probabilidade de cross_over e muratação e numero de gerações)"
   ]
  },
  {
   "cell_type": "code",
   "execution_count": 10,
   "metadata": {
    "collapsed": false
   },
   "outputs": [],
   "source": [
    "# registra funcao de fitness\n",
    "toolbox.register(\"evaluate\", evaluate)\n",
    "\n",
    "# registra crossOver\n",
    "toolbox.register(\"mate\", tools.cxTwoPoint)\n",
    "\n",
    "# registra mutacao com probabilidade default de mudar cada gene de 5%\n",
    "toolbox.register(\"mutate\", tools.mutFlipBit, indpb=0.05)\n",
    "\n",
    "# registra o metodo de selecao como torneio de tamanho 3\n",
    "toolbox.register(\"select\", tools.selTournament, tournsize=2)\n",
    "\n",
    "#semente para gerar população\n",
    "random.seed(17)\n",
    "\n",
    "# cria populacao inicial\n",
    "pop = toolbox.population(n=200)\n",
    "\n",
    "# CXPB - probabilidade de crossover\n",
    "# MUTPB - probabilidade de mutacao\n",
    "# NGEN - numero de geracoes\n",
    "CXPB, MUTPB, NGEN = 0.8, 0.04, 200\n",
    "\n",
    "#definindo quais stats devem ser mostrados no console\n",
    "stats = tools.Statistics(key=lambda ind: ind.fitness.values)\n",
    "stats.register(\"std\", numpy.std)\n",
    "stats.register(\"min\", numpy.min)\n",
    "stats.register(\"avg\", numpy.mean)\n",
    "stats.register(\"max\", numpy.max)"
   ]
  },
  {
   "cell_type": "markdown",
   "metadata": {},
   "source": [
    "Rodando o algoritmo com os parâmetros definidos:"
   ]
  },
  {
   "cell_type": "code",
   "execution_count": 11,
   "metadata": {
    "collapsed": false,
    "scrolled": false
   },
   "outputs": [
    {
     "name": "stdout",
     "output_type": "stream",
     "text": [
      "gen\tnevals\tstd      \tmin     \tavg     \tmax     \n",
      "0  \t200   \t0.0216802\t0.364616\t0.428324\t0.487289\n",
      "1  \t164   \t0.0194626\t0.380573\t0.438174\t0.487289\n",
      "2  \t152   \t0.0190483\t0.388845\t0.4452  \t0.498512\n",
      "3  \t164   \t0.0186913\t0.37511 \t0.452624\t0.498512\n",
      "4  \t150   \t0.0161339\t0.402411\t0.456863\t0.493561\n",
      "5  \t156   \t0.0166862\t0.411475\t0.461599\t0.502776\n",
      "6  \t163   \t0.0150311\t0.406271\t0.465451\t0.500154\n",
      "7  \t169   \t0.0167576\t0.41641 \t0.468895\t0.513351\n",
      "8  \t144   \t0.017051 \t0.406903\t0.475724\t0.508668\n",
      "9  \t151   \t0.0165292\t0.420518\t0.478195\t0.508668\n",
      "10 \t162   \t0.0158938\t0.437554\t0.482707\t0.520193\n",
      "11 \t172   \t0.0149985\t0.442027\t0.485708\t0.520193\n",
      "12 \t141   \t0.0157618\t0.432991\t0.48903 \t0.520515\n",
      "13 \t162   \t0.0156866\t0.438746\t0.492854\t0.539103\n",
      "14 \t158   \t0.0139452\t0.456484\t0.496575\t0.535136\n",
      "15 \t149   \t0.0168516\t0.451539\t0.499226\t0.54984 \n",
      "16 \t158   \t0.0156305\t0.449561\t0.502609\t0.55175 \n",
      "17 \t164   \t0.0156407\t0.462555\t0.504747\t0.55175 \n",
      "18 \t164   \t0.0165159\t0.463707\t0.509644\t0.55175 \n",
      "19 \t160   \t0.0171728\t0.448503\t0.512438\t0.548667\n",
      "20 \t155   \t0.0160206\t0.463521\t0.518826\t0.556773\n",
      "21 \t154   \t0.0161571\t0.470273\t0.520625\t0.556773\n",
      "22 \t164   \t0.0158464\t0.473913\t0.520801\t0.559091\n",
      "23 \t164   \t0.0159896\t0.474184\t0.525569\t0.559928\n",
      "24 \t174   \t0.0164031\t0.467468\t0.528699\t0.566096\n",
      "25 \t163   \t0.013791 \t0.490147\t0.531801\t0.563898\n",
      "26 \t175   \t0.0138   \t0.484813\t0.53398 \t0.567633\n",
      "27 \t158   \t0.0141188\t0.462592\t0.5376  \t0.570683\n",
      "28 \t169   \t0.0140094\t0.455919\t0.54077 \t0.570683\n",
      "29 \t168   \t0.0136426\t0.476765\t0.542228\t0.570149\n",
      "30 \t167   \t0.0127005\t0.490766\t0.54448 \t0.568783\n",
      "31 \t170   \t0.0119632\t0.504072\t0.545127\t0.572366\n",
      "32 \t153   \t0.0145855\t0.483558\t0.544363\t0.573394\n",
      "33 \t164   \t0.0119298\t0.483063\t0.546577\t0.573464\n",
      "34 \t157   \t0.0149092\t0.450886\t0.547463\t0.573197\n",
      "35 \t162   \t0.0131239\t0.491744\t0.550369\t0.574499\n",
      "36 \t165   \t0.0110874\t0.509225\t0.553635\t0.580272\n",
      "37 \t172   \t0.0143952\t0.481378\t0.553986\t0.580272\n",
      "38 \t160   \t0.0117626\t0.507422\t0.556119\t0.580272\n",
      "39 \t187   \t0.0114833\t0.510256\t0.556437\t0.579476\n",
      "40 \t159   \t0.0147215\t0.487581\t0.555313\t0.580322\n",
      "41 \t169   \t0.0136632\t0.501248\t0.558225\t0.580322\n",
      "42 \t163   \t0.0135195\t0.479187\t0.560147\t0.582942\n",
      "43 \t164   \t0.014627 \t0.4871  \t0.562083\t0.580594\n",
      "44 \t153   \t0.0119634\t0.507751\t0.565522\t0.582931\n",
      "45 \t155   \t0.00943138\t0.519135\t0.568605\t0.587843\n",
      "46 \t161   \t0.0118118 \t0.494829\t0.569074\t0.589493\n",
      "47 \t162   \t0.0106642 \t0.503631\t0.57003 \t0.586845\n",
      "48 \t158   \t0.0127374 \t0.491326\t0.570514\t0.588434\n",
      "49 \t172   \t0.0126338 \t0.506431\t0.570194\t0.589458\n",
      "50 \t171   \t0.0159996 \t0.489862\t0.569459\t0.58912 \n",
      "51 \t156   \t0.0124233 \t0.509452\t0.574209\t0.594106\n",
      "52 \t162   \t0.0118896 \t0.49605 \t0.576788\t0.591764\n",
      "53 \t161   \t0.0136112 \t0.504272\t0.577618\t0.594043\n",
      "54 \t153   \t0.0137653 \t0.503189\t0.579718\t0.598146\n",
      "55 \t150   \t0.013053  \t0.490907\t0.583256\t0.59966 \n",
      "56 \t163   \t0.0137224 \t0.516377\t0.584424\t0.599586\n",
      "57 \t163   \t0.0106269 \t0.525402\t0.587706\t0.599822\n",
      "58 \t159   \t0.00966306\t0.537078\t0.589513\t0.599822\n",
      "59 \t153   \t0.0105967 \t0.526706\t0.5913  \t0.599822\n",
      "60 \t160   \t0.0114596 \t0.512349\t0.592683\t0.599822\n",
      "61 \t151   \t0.0145787 \t0.512472\t0.593037\t0.599691\n",
      "62 \t155   \t0.013803  \t0.510206\t0.594788\t0.599691\n",
      "63 \t175   \t0.00908668\t0.529672\t0.595815\t0.599691\n",
      "64 \t143   \t0.0141105 \t0.482293\t0.595406\t0.599691\n",
      "65 \t168   \t0.00932109\t0.534697\t0.595877\t0.599691\n",
      "66 \t162   \t0.0139219 \t0.512862\t0.594906\t0.599691\n",
      "67 \t175   \t0.0147875 \t0.508773\t0.595158\t0.599691\n",
      "68 \t169   \t0.0126872 \t0.510561\t0.596413\t0.599691\n",
      "69 \t161   \t0.013103  \t0.530531\t0.596387\t0.599691\n",
      "70 \t161   \t0.0110619 \t0.501765\t0.597469\t0.599691\n",
      "71 \t159   \t0.013945  \t0.51065 \t0.596357\t0.599691\n",
      "72 \t153   \t0.0104329 \t0.526368\t0.597514\t0.599691\n",
      "73 \t160   \t0.00987118\t0.527803\t0.597898\t0.599691\n",
      "74 \t149   \t0.00923885\t0.524145\t0.598036\t0.599691\n",
      "75 \t152   \t0.0155853 \t0.509224\t0.595963\t0.599691\n",
      "76 \t167   \t0.0181465 \t0.502884\t0.594779\t0.599691\n",
      "77 \t166   \t0.0110551 \t0.513894\t0.597825\t0.599691\n",
      "78 \t166   \t0.0117928 \t0.521871\t0.59708 \t0.599691\n",
      "79 \t167   \t0.00945044\t0.53085 \t0.597947\t0.599691\n",
      "80 \t153   \t0.013703  \t0.512507\t0.596479\t0.599691\n",
      "81 \t172   \t0.0154486 \t0.508798\t0.595815\t0.599691\n",
      "82 \t166   \t0.00851315\t0.514259\t0.598481\t0.599691\n",
      "83 \t149   \t0.00990718\t0.527086\t0.597942\t0.599691\n",
      "84 \t159   \t0.0134899 \t0.50257 \t0.597221\t0.599691\n",
      "85 \t165   \t0.0125634 \t0.518253\t0.597171\t0.599691\n",
      "86 \t157   \t0.00866241\t0.534152\t0.598326\t0.599691\n",
      "87 \t152   \t0.0142174 \t0.509312\t0.596661\t0.599691\n",
      "88 \t169   \t0.0173857 \t0.489462\t0.595016\t0.599691\n",
      "89 \t166   \t0.0150292 \t0.51467 \t0.595639\t0.599691\n",
      "90 \t146   \t0.0117486 \t0.514271\t0.597234\t0.599691\n",
      "91 \t159   \t0.0122868 \t0.515335\t0.597092\t0.599691\n",
      "92 \t160   \t0.0124414 \t0.518496\t0.59735 \t0.599691\n",
      "93 \t158   \t0.00920999\t0.524816\t0.598285\t0.599691\n",
      "94 \t164   \t0.00958237\t0.516339\t0.598191\t0.599691\n",
      "95 \t164   \t0.0120445 \t0.511986\t0.597169\t0.599691\n",
      "96 \t152   \t0.0131669 \t0.534678\t0.596343\t0.599691\n",
      "97 \t170   \t0.0141028 \t0.510658\t0.596707\t0.599691\n",
      "98 \t159   \t0.0097825 \t0.532516\t0.598004\t0.599691\n",
      "99 \t156   \t0.0143015 \t0.504838\t0.596554\t0.599691\n",
      "100\t165   \t0.0125548 \t0.511205\t0.59726 \t0.599691\n",
      "101\t165   \t0.0111594 \t0.526406\t0.597458\t0.599691\n",
      "102\t170   \t0.0117712 \t0.522976\t0.597229\t0.599691\n",
      "103\t160   \t0.0136634 \t0.531159\t0.596191\t0.599691\n",
      "104\t164   \t0.0134737 \t0.508205\t0.596844\t0.599691\n",
      "105\t154   \t0.00983733\t0.523942\t0.59817 \t0.599691\n",
      "106\t155   \t0.012261  \t0.526498\t0.596796\t0.599691\n",
      "107\t168   \t0.0149    \t0.514914\t0.595951\t0.599691\n",
      "108\t166   \t0.0111364 \t0.516474\t0.597339\t0.599691\n",
      "109\t177   \t0.0154887 \t0.504942\t0.596003\t0.599691\n",
      "110\t160   \t0.0105462 \t0.517913\t0.597819\t0.599691\n",
      "111\t158   \t0.00924739\t0.512316\t0.598206\t0.599691\n",
      "112\t169   \t0.0122015 \t0.501973\t0.597482\t0.599691\n",
      "113\t156   \t0.0120574 \t0.504251\t0.597558\t0.599691\n",
      "114\t165   \t0.0110707 \t0.506708\t0.597804\t0.599691\n",
      "115\t165   \t0.0103435 \t0.533237\t0.597639\t0.599691\n",
      "116\t158   \t0.013593  \t0.508191\t0.59682 \t0.599691\n",
      "117\t173   \t0.0129998 \t0.525109\t0.596784\t0.599691\n",
      "118\t162   \t0.00882423\t0.519314\t0.598365\t0.599691\n",
      "119\t144   \t0.0164823 \t0.511413\t0.595286\t0.599691\n",
      "120\t151   \t0.00928738\t0.527597\t0.598102\t0.599691\n",
      "121\t157   \t0.0120739 \t0.50437 \t0.597438\t0.599691\n",
      "122\t163   \t0.0104323 \t0.502659\t0.597946\t0.599691\n",
      "123\t173   \t0.0146774 \t0.510337\t0.596288\t0.599691\n",
      "124\t168   \t0.0132172 \t0.49978 \t0.596567\t0.599691\n",
      "125\t172   \t0.012921  \t0.523319\t0.596765\t0.599691\n",
      "126\t163   \t0.0132323 \t0.513052\t0.597093\t0.599691\n",
      "127\t169   \t0.011646  \t0.505647\t0.597691\t0.599691\n",
      "128\t172   \t0.00696461\t0.540457\t0.598711\t0.599691\n",
      "129\t166   \t0.0155252 \t0.495165\t0.596567\t0.599691\n",
      "130\t163   \t0.0126979 \t0.518971\t0.597148\t0.599691\n",
      "131\t165   \t0.0158582 \t0.493059\t0.596061\t0.599691\n",
      "132\t167   \t0.0108853 \t0.526946\t0.597632\t0.599691\n",
      "133\t148   \t0.0121034 \t0.512992\t0.597594\t0.599691\n",
      "134\t172   \t0.0119919 \t0.496162\t0.597815\t0.599691\n",
      "135\t156   \t0.0101144 \t0.513167\t0.597869\t0.599691\n",
      "136\t158   \t0.00683324\t0.539774\t0.59885 \t0.599691\n",
      "137\t169   \t0.0145556 \t0.500113\t0.596483\t0.599691\n",
      "138\t163   \t0.0149576 \t0.503055\t0.596365\t0.599691\n",
      "139\t165   \t0.012406  \t0.526047\t0.596836\t0.599691\n",
      "140\t173   \t0.0149692 \t0.505248\t0.596077\t0.599691\n",
      "141\t161   \t0.0147958 \t0.505043\t0.596184\t0.599691\n",
      "142\t184   \t0.0136783 \t0.50602 \t0.596776\t0.599691\n",
      "143\t162   \t0.0144166 \t0.495875\t0.596834\t0.599691\n",
      "144\t169   \t0.0111007 \t0.512259\t0.597771\t0.599691\n",
      "145\t164   \t0.0153157 \t0.499956\t0.595809\t0.599691\n",
      "146\t167   \t0.0141524 \t0.51246 \t0.59644 \t0.599691\n",
      "147\t159   \t0.0159699 \t0.511313\t0.5958  \t0.599691\n",
      "148\t169   \t0.0105775 \t0.527042\t0.597745\t0.599691\n",
      "149\t162   \t0.0104247 \t0.521643\t0.597757\t0.599691\n",
      "150\t169   \t0.0125068 \t0.514347\t0.597205\t0.599691\n",
      "151\t164   \t0.0144295 \t0.518132\t0.596604\t0.599691\n",
      "152\t164   \t0.012477  \t0.51668 \t0.597522\t0.599691\n",
      "153\t152   \t0.0110005 \t0.500008\t0.597831\t0.599691\n",
      "154\t156   \t0.0121762 \t0.513944\t0.597443\t0.599691\n",
      "155\t152   \t0.0114981 \t0.517872\t0.597559\t0.599691\n",
      "156\t164   \t0.00963351\t0.532649\t0.59803 \t0.599691\n",
      "157\t163   \t0.0163835 \t0.476467\t0.595442\t0.599691\n",
      "158\t158   \t0.0121799 \t0.525102\t0.597077\t0.599691\n",
      "159\t156   \t0.0144133 \t0.500046\t0.596651\t0.599691\n",
      "160\t166   \t0.00982689\t0.527752\t0.597866\t0.599691\n",
      "161\t156   \t0.016391  \t0.503371\t0.59585 \t0.599691\n",
      "162\t164   \t0.0154113 \t0.484909\t0.596556\t0.599691\n",
      "163\t160   \t0.0163282 \t0.504482\t0.595041\t0.599691\n",
      "164\t160   \t0.011465  \t0.524812\t0.59716 \t0.599691\n",
      "165\t166   \t0.00867859\t0.528246\t0.59821 \t0.599691\n",
      "166\t166   \t0.0176765 \t0.469835\t0.595   \t0.599691\n",
      "167\t157   \t0.0101685 \t0.533294\t0.597768\t0.599691\n",
      "168\t158   \t0.0066998 \t0.536148\t0.598889\t0.599691\n",
      "169\t162   \t0.0100959 \t0.524964\t0.59787 \t0.599691\n",
      "170\t165   \t0.00964426\t0.532108\t0.597848\t0.599691\n",
      "171\t166   \t0.0111304 \t0.515995\t0.597647\t0.599691\n",
      "172\t159   \t0.00835329\t0.521083\t0.598461\t0.599691\n",
      "173\t159   \t0.0160648 \t0.496933\t0.595457\t0.599691\n",
      "174\t165   \t0.0129682 \t0.510876\t0.596941\t0.599691\n",
      "175\t165   \t0.0127228 \t0.504159\t0.59688 \t0.599691\n",
      "176\t162   \t0.00983384\t0.527411\t0.597995\t0.599691\n",
      "177\t157   \t0.0103719 \t0.498726\t0.598128\t0.599691\n",
      "178\t162   \t0.0107785 \t0.529645\t0.597534\t0.599691\n",
      "179\t154   \t0.0157998 \t0.508657\t0.595978\t0.599691\n",
      "180\t169   \t0.0132352 \t0.524517\t0.596894\t0.599691\n",
      "181\t167   \t0.01311   \t0.508905\t0.597084\t0.599691\n",
      "182\t155   \t0.0114161 \t0.529643\t0.59714 \t0.599691\n",
      "183\t149   \t0.0131913 \t0.51107 \t0.597044\t0.599691\n",
      "184\t162   \t0.0161238 \t0.504067\t0.595771\t0.599691\n",
      "185\t168   \t0.0123098 \t0.524922\t0.596956\t0.599691\n",
      "186\t159   \t0.011103  \t0.526524\t0.59746 \t0.599691\n",
      "187\t142   \t0.0133355 \t0.503389\t0.596971\t0.599691\n",
      "188\t161   \t0.0163842 \t0.496354\t0.595846\t0.599691\n",
      "189\t160   \t0.0122083 \t0.517053\t0.597269\t0.599691\n",
      "190\t161   \t0.00963344\t0.524565\t0.598173\t0.599691\n",
      "191\t172   \t0.0114851 \t0.524649\t0.597371\t0.599691\n",
      "192\t164   \t0.0143111 \t0.491482\t0.596635\t0.599691\n",
      "193\t159   \t0.0127443 \t0.507868\t0.59733 \t0.599691\n",
      "194\t168   \t0.0152421 \t0.499411\t0.596084\t0.599691\n",
      "195\t156   \t0.0151074 \t0.482118\t0.596084\t0.599691\n",
      "196\t161   \t0.0135837 \t0.522429\t0.596494\t0.599691\n",
      "197\t159   \t0.01109   \t0.517711\t0.597772\t0.599691\n",
      "198\t166   \t0.0105568 \t0.509903\t0.597926\t0.599691\n",
      "199\t155   \t0.0077634 \t0.53183 \t0.598474\t0.599691\n",
      "200\t165   \t0.0130239 \t0.516563\t0.596951\t0.599691\n"
     ]
    }
   ],
   "source": [
    "#Algoritmos do livro “Evolutionary Computation 1 : Basic Algorithms and Operators”\n",
    "#roda o algoritmo do capitulo 7\n",
    "pop, logbook = algorithms.eaSimple(pop, toolbox, CXPB, MUTPB, NGEN, stats=stats, verbose=True)"
   ]
  },
  {
   "cell_type": "markdown",
   "metadata": {},
   "source": [
    "Imprimindo as informações referente ao melhor indivíduo"
   ]
  },
  {
   "cell_type": "code",
   "execution_count": 15,
   "metadata": {
    "collapsed": false
   },
   "outputs": [
    {
     "name": "stdout",
     "output_type": "stream",
     "text": [
      "\n",
      "SOLUCAO ESPERADA:\n",
      "     SAO    RIO    BSB    CNF    CWB    REC    POA\n",
      "---  -----  -----  -----  -----  -----  -----  -----\n",
      "GMS  -      4      5      3      2      4      -\n",
      "RNT  4      3      -      2      -      -      1\n",
      "FRD  -      3      -      -      2      -      2\n",
      "FAT  13     -      4      -      5      4      -\n",
      "VKW  -      4      5      -      2      -      3\n",
      "HYD  2      -      -      1      1      2      1\n",
      "\n",
      "SOLUCAO ENCONTRADA:\n",
      "     SAO    RIO    BSB    CNF    CWB    REC    POA\n",
      "---  -----  -----  -----  -----  -----  -----  -----\n",
      "GMS  -      4      4      3      2      2      -\n",
      "RNT  4      3      -      2      -      -      1\n",
      "FRD  -      3      -      -      2      -      2\n",
      "FAT  13     -      2      -      5      1      -\n",
      "VKW  -      3      0      -      1      -      3\n",
      "HYD  2      -      -      2      1      2      2\n"
     ]
    }
   ],
   "source": [
    "#Seleciona o melhor individuo da populacao resultante\n",
    "best_ind = tools.selSPEA2(pop, 1)\n",
    "\n",
    "print('\\nSOLUCAO ESPERADA:')\n",
    "print_dict_as_table(caminhoes_mes)\n",
    "#Imprime as informações do melhor individuo\n",
    "print_info(best_ind[0])\n"
   ]
  },
  {
   "cell_type": "markdown",
   "metadata": {},
   "source": [
    "![solucao](resultado-caminhoes.png)"
   ]
  },
  {
   "cell_type": "code",
   "execution_count": 13,
   "metadata": {
    "collapsed": false
   },
   "outputs": [
    {
     "data": {
      "image/png": "[encoded data removed]",
      "text/plain": [
       "<matplotlib.figure.Figure at 0x26b2f676978>"
      ]
     },
     "metadata": {},
     "output_type": "display_data"
    }
   ],
   "source": [
    "#Plota gráfico\n",
    "plot_log(logbook)"
   ]
  }
 ],
 "metadata": {
  "kernelspec": {
   "display_name": "Python 3",
   "language": "python",
   "name": "python3"
  },
  "language_info": {
   "codemirror_mode": {
    "name": "ipython",
    "version": 3
   },
   "file_extension": ".py",
   "mimetype": "text/x-python",
   "name": "python",
   "nbconvert_exporter": "python",
   "pygments_lexer": "ipython3",
   "version": "3.6.0"
  }
 },
 "nbformat": 4,
 "nbformat_minor": 2
}
