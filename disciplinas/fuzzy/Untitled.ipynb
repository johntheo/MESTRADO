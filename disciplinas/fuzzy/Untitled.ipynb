{
 "cells": [
  {
   "cell_type": "markdown",
   "metadata": {},
   "source": [
    "<img src=\"http://www.utfpr.edu.br/curitiba/estrutura-universitaria/diretorias/dirppg/programas/cpgei/escola-de-fotonica/escola-de-fotonica-2013/UTFPRCT.png/image_preview\"/>"
   ]
  },
  {
   "cell_type": "markdown",
   "metadata": {},
   "source": [
    "# <center> Máquina de Lavar Fuzzy</center>\n",
    "----\n",
    "\n",
    "Considere o problema da Máquina de Lavar com Controle Fuzzy.  \n",
    "Neste problema temos duas variáveis de entrada: \n",
    "\n",
    "$X_1$: Grau de sujeira da roupa(sujeiras)  \n",
    "$X_2$: Manchas presentes na roupa(manchas)  \n",
    "\n",
    "e uma variável de saída:  \n",
    "\n",
    "$Y$: Tempo de lavagem da máquina  \n",
    "\n",
    "Suponha um sistema fuzzy (modelo MAMDANI definido por um especialista para resolver este problema) composto por uma base de dados, base de regras e mecanismo de inferência conforme mostrado a seguir:  \n"
   ]
  },
  {
   "cell_type": "markdown",
   "metadata": {},
   "source": [
    "## Base de dados  \n",
    "\n",
    "Na base de dados, as variáveis lingüísticas $X_1$, $X_2$ e $Y$ possuem os seguintes conjuntos de termos lingüísticos:  \n",
    "$$T(X_1) = {PS(pequena\\_sujeira),MS(média\\_sujeira), GS(grande\\_sujeira)} $$\n",
    "$$T(X_2) = {SM(pequena\\_sujeira),MM(média\\_sujeira), GM(grande\\_sujeira)} $$\n",
    "$$T(Y) = {PS(pequena\\_sujeira),MS(média\\_sujeira), GS(grande\\_sujeira)} $$"
   ]
  },
  {
   "cell_type": "code",
   "execution_count": null,
   "metadata": {
    "collapsed": true
   },
   "outputs": [],
   "source": []
  }
 ],
 "metadata": {
  "kernelspec": {
   "display_name": "Python 3",
   "language": "python",
   "name": "python3"
  },
  "language_info": {
   "codemirror_mode": {
    "name": "ipython",
    "version": 3
   },
   "file_extension": ".py",
   "mimetype": "text/x-python",
   "name": "python",
   "nbconvert_exporter": "python",
   "pygments_lexer": "ipython3",
   "version": "3.6.1"
  }
 },
 "nbformat": 4,
 "nbformat_minor": 2
}
