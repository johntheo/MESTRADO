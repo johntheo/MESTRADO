{
 "cells": [
  {
   "cell_type": "markdown",
   "metadata": {},
   "source": [
    "# Problema de Otimização do Transporte"
   ]
  },
  {
   "cell_type": "markdown",
   "metadata": {},
   "source": [
    "## 1 - Natureza do Problema\n",
    "Trata-se de um problema de maximização do lucro"
   ]
  },
  {
   "cell_type": "code",
   "execution_count": 3,
   "metadata": {
    "collapsed": true
   },
   "outputs": [],
   "source": [
    "import random\n",
    "import numpy\n",
    "import json\n",
    "import matplotlib.pyplot as plt\n",
    "from deap import base\n",
    "from deap import creator\n",
    "from deap import tools\n",
    "from deap import algorithms\n",
    "\n",
    "# INIT\n",
    "toolbox = base.Toolbox()\n",
    "\n",
    "# Definindo a natureza do problema. No caso um problema de maximização\n",
    "creator.create(\"FitnessMax\", base.Fitness, weights=(1.0,))"
   ]
  },
  {
   "cell_type": "markdown",
   "metadata": {},
   "source": [
    "## 2 - Variáveis e Codificação\n",
    "- A codificação utilizada será um comossomo com 70 genes onde cada gene representa a rota que o caminhão está alocado.\n",
    "- Como temos 25 rotas possíveis para cada caminhão precisaremos 5 bits para cada gene e logo teremos um cromossomo de tamanho 350 ($5*70$). Optou-se utilizar somente as rotas com valor ao invés de todas as possíveis, para reduzir o espaço de busca, bem como não gerar soluções inválidas\n",
    "- O espaço de busca  total é de aproximadamente $2,3*10^{105}$"
   ]
  },
  {
   "cell_type": "code",
   "execution_count": 4,
   "metadata": {
    "collapsed": true
   },
   "outputs": [],
   "source": [
    "#MONTADORA-DESTINO\n",
    "rotas = [\n",
    "        'GMS-RIO','GMS-BSB','GMS-CNF','GMS-CWB','GMS-REC',\n",
    "        'RNT-SAO','RNT-RIO','RNT-CNF','RNT-POA',\n",
    "        'FRD-RIO','FRD-CWB','FRD-POA',\n",
    "        'FAT-SAO','FAT-BSB','FAT-CWB','FAT-REC',\n",
    "        'VKW-RIO','VKW-BSB','VKW-CWB','VKW-POA',\n",
    "        'HYD-SAO','HYD-CNF','HYD-CWB','HYD-REC','HYD-POA']\n",
    "\n",
    "# Demanda mensal dos veículos de cada MONTADORA-CENTRO_CONSUMIDOR\n",
    "demandas = {\n",
    "        'GMS-RIO':1701, 'GMS-BSB':1039, 'GMS-CNF':1072, 'GMS-CWB':975, 'GMS-REC':374, \n",
    "        'RNT-SAO':1903, 'RNT-RIO':684 , 'RNT-CNF':431 , 'RNT-POA':218, \n",
    "        'FRD-RIO':953 , 'FRD-CWB':547 , 'FRD-POA':304 , \n",
    "        'FAT-SAO':5246, 'FAT-BSB':1152, 'FAT-CWB':1081, 'FAT-REC':414, \n",
    "        'VKW-RIO':1689, 'VKW-BSB':1031, 'VKW-CWB':968 , 'VKW-POA':538, \n",
    "        'HYD-SAO':1360, 'HYD-CNF':308 , 'HYD-CWB':281 , 'HYD-REC':108, 'HYD-POA':156}\n",
    "\n",
    "# Menor distância entre MONTADORA-CENTRO_CONSUMIDOR\n",
    "distancias = {\n",
    "        'GMS-RIO':448, 'GMS-BSB':1021, 'GMS-CNF':589 , 'GMS-CWB':445, 'GMS-REC':2709, \n",
    "        'RNT-SAO':413, 'RNT-RIO':853 , 'RNT-CNF':1001, 'RNT-POA':728, \n",
    "        'FRD-RIO':465, 'FRD-CWB':434 , 'FRD-POA':1162, \n",
    "        'FAT-SAO':554, 'FAT-BSB':746 , 'FAT-CWB':962 , 'FAT-REC':2153, \n",
    "        'VKW-RIO':465, 'VKW-BSB':1027, 'VKW-CWB':434 , 'VKW-POA':1162, \n",
    "        'HYD-SAO':157, 'HYD-CNF':650 , 'HYD-CWB':539 , 'HYD-REC':2745, 'HYD-POA':1267}\n",
    "\n",
    "# Custo total do transporte por viagem completa realizada\n",
    "custos = {\n",
    "        'GMS-RIO':7948 , 'GMS-BSB':21167, 'GMS-CNF':9557 , 'GMS-CWB':6729 , 'GMS-REC':58599, \n",
    "        'RNT-SAO':5629 , 'RNT-RIO':15612, 'RNT-CNF':16679, 'RNT-POA':12365, \n",
    "        'FRD-RIO':8314 , 'FRD-CWB':6608 , 'FRD-POA':19157, \n",
    "        'FAT-SAO':7503 , 'FAT-BSB':15987, 'FAT-CWB':14991, 'FAT-REC':48046, \n",
    "        'VKW-RIO':12578, 'VKW-BSB':32363, 'VKW-CWB':9997 , 'VKW-POA':28981, \n",
    "        'HYD-SAO':1050 , 'HYD-CNF':5527 , 'HYD-CWB':4290 , 'HYD-REC':31247, 'HYD-POA':10927}\n",
    "\n",
    "# Remuneração do transporte por viagem completa realizada\n",
    "remuneracoes = {\n",
    "        'GMS-RIO':10703, 'GMS-BSB':24398, 'GMS-CNF':14069, 'GMS-CWB':10626, 'GMS-REC':64746, \n",
    "        'RNT-SAO':10615, 'RNT-RIO':21923, 'RNT-CNF':25729, 'RNT-POA':18711, \n",
    "        'FRD-RIO':12606, 'FRD-CWB':11759, 'FRD-POA':31504, \n",
    "        'FAT-SAO':11407, 'FAT-BSB':15356, 'FAT-CWB':19800, 'FAT-REC':44330, \n",
    "        'VKW-RIO':11528, 'VKW-BSB':25465, 'VKW-CWB':10758, 'VKW-POA':28820, \n",
    "        'HYD-SAO':4961 , 'HYD-CNF':20537, 'HYD-CWB':17028, 'HYD-REC':86746, 'HYD-POA':40040}"
   ]
  },
  {
   "cell_type": "code",
   "execution_count": 5,
   "metadata": {
    "collapsed": true
   },
   "outputs": [],
   "source": [
    "# Definindo a estrutura do indivíduo\n",
    "IND_SIZE = 350  # Tamanho do individuo - 10 para cada gene\n",
    "GEN_SIZE = 5\n",
    "GENES = IND_SIZE/GEN_SIZE\n",
    "\n",
    "creator.create(\"Individual\", list, fitness=creator.FitnessMax)\n",
    "\n",
    "# funcao para gerar o gene com valores 0 ou 1 randomicamente uniforme\n",
    "toolbox.register(\"attr_bool\", random.randint, 0, 1)\n",
    "\n",
    "# funcao para gerar o indivíduo (nome, forma de gerar, Estrutura, funcao geradora, tamanho)\n",
    "toolbox.register(\"individual\", tools.initRepeat, creator.Individual, toolbox.attr_bool, n=IND_SIZE)\n",
    "\n",
    "# funcao para gerar a populacao\n",
    "toolbox.register(\"population\", tools.initRepeat, list, toolbox.individual)\n",
    "\n",
    "def decode(individual,i_size=IND_SIZE,g_size=GEN_SIZE):\n",
    "    \"\"\"Recebe um individuo codificado e decodifica.\"\"\"\n",
    "    result = []\n",
    "    for a in range(0,i_size,g_size):\n",
    "        gene = ''.join(str(individual[i]) for i in range(a,a+g_size))\n",
    "        index_rota = int(gene,2)\n",
    "        rota = '' if index_rota > len(rotas) - 1 else rotas[index_rota]\n",
    "        result.append(rota)\n",
    "    return result"
   ]
  },
  {
   "cell_type": "markdown",
   "metadata": {},
   "source": [
    "## 3 - Restrições\n",
    "As restrições servem para definir um limite de soluções possíveis para algoritmo e, dependendo da abordagem, penalizar a função de fitness ou apenas descartas as soluções com respostas fora do intervalo.  \n",
    "\n",
    "- **Demanda Mensal maior ou igual ao valor tabelado.**  \n",
    "Criação de uma função para realização do cálculo com base no indivíduo e no valor tabelado\n",
    "- **Maximo transportado por rota**\n",
    "Com base no tempo que um caminhao demora, tem-se o valor máximo dia/mes que esse caminhão faz\n"
   ]
  },
  {
   "cell_type": "markdown",
   "metadata": {},
   "source": [
    "Criou-se tabelas adicionais para facilitar o cálculo:  \n",
    "- quantidade que um caminhao carrega por mes, por rota  \n",
    "- quantidade de caminhoes minima por rota para atender a demanda  "
   ]
  },
  {
   "cell_type": "code",
   "execution_count": 47,
   "metadata": {
    "collapsed": true
   },
   "outputs": [],
   "source": [
    "def c_mes(distancia):\n",
    "    \"\"\"Carga total que um caminhao carrega no mes dada uma distancia a percorrer\"\"\"\n",
    "    tempo_ida = distancia/65 + 2 #60km/h + 2hs de carga\n",
    "    tempo_volta = distancia/80 + 2 #80km/h + 2hs descarga\n",
    "    tempo_total = round(tempo_ida + tempo_volta)\n",
    "    horas_mes = 24 * 30 #24hs * 30 dias\n",
    "    viagens_mes = int(horas_mes/tempo_total)\n",
    "    \n",
    "    return 11 * viagens_mes #11 carros por caminhao\n",
    "\n",
    "# Carga total mensal que um caminhao consegue carregar na rota\n",
    "carga_mes = dict((rota,c_mes(distancias[rota])) for rota in rotas)\n",
    "\n",
    "# Quantidade total de caminhoes mes para atender a demanda da rota\n",
    "caminhoes_mes = dict((rota,int(demandas[rota]/carga_mes[rota])+1) for rota in rotas)"
   ]
  },
  {
   "cell_type": "code",
   "execution_count": 83,
   "metadata": {
    "collapsed": false
   },
   "outputs": [
    {
     "name": "stdout",
     "output_type": "stream",
     "text": [
      "CARGA TOTAL MENSAL CAMINHAO POR ROTA:\n",
      "{\n",
      " \"GMS-RIO\": 495,\n",
      " \"GMS-BSB\": 242,\n",
      " \"GMS-CNF\": 396,\n",
      " \"GMS-CWB\": 495,\n",
      " \"GMS-REC\": 99,\n",
      " \"RNT-SAO\": 495,\n",
      " \"RNT-RIO\": 275,\n",
      " \"RNT-CNF\": 242,\n",
      " \"RNT-POA\": 330,\n",
      " \"FRD-RIO\": 462,\n",
      " \"FRD-CWB\": 495,\n",
      " \"FRD-POA\": 220,\n",
      " \"FAT-SAO\": 407,\n",
      " \"FAT-BSB\": 308,\n",
      " \"FAT-CWB\": 253,\n",
      " \"FAT-REC\": 121,\n",
      " \"VKW-RIO\": 462,\n",
      " \"VKW-BSB\": 231,\n",
      " \"VKW-CWB\": 495,\n",
      " \"VKW-POA\": 220,\n",
      " \"HYD-SAO\": 990,\n",
      " \"HYD-CNF\": 352,\n",
      " \"HYD-CWB\": 407,\n",
      " \"HYD-REC\": 88,\n",
      " \"HYD-POA\": 198\n",
      "}\n",
      "\n",
      "QUANTIDADE NECESSARIA CAMINHAO POR ROTA:\n",
      "{\n",
      " \"GMS-RIO\": 4,\n",
      " \"GMS-BSB\": 5,\n",
      " \"GMS-CNF\": 3,\n",
      " \"GMS-CWB\": 2,\n",
      " \"GMS-REC\": 4,\n",
      " \"RNT-SAO\": 4,\n",
      " \"RNT-RIO\": 3,\n",
      " \"RNT-CNF\": 2,\n",
      " \"RNT-POA\": 1,\n",
      " \"FRD-RIO\": 3,\n",
      " \"FRD-CWB\": 2,\n",
      " \"FRD-POA\": 2,\n",
      " \"FAT-SAO\": 13,\n",
      " \"FAT-BSB\": 4,\n",
      " \"FAT-CWB\": 5,\n",
      " \"FAT-REC\": 4,\n",
      " \"VKW-RIO\": 4,\n",
      " \"VKW-BSB\": 5,\n",
      " \"VKW-CWB\": 2,\n",
      " \"VKW-POA\": 3,\n",
      " \"HYD-SAO\": 2,\n",
      " \"HYD-CNF\": 1,\n",
      " \"HYD-CWB\": 1,\n",
      " \"HYD-REC\": 2,\n",
      " \"HYD-POA\": 1\n",
      "}\n"
     ]
    }
   ],
   "source": [
    "print('CARGA TOTAL MENSAL CAMINHAO POR ROTA:\\n{}'.format(json.dumps(carga_mes, indent=1)))\n",
    "print('\\nQUANTIDADE NECESSARIA CAMINHAO POR ROTA:\\n{}'.format(json.dumps(caminhoes_mes, indent=1)))"
   ]
  },
  {
   "cell_type": "markdown",
   "metadata": {},
   "source": [
    "Com essas tabelas já é possível verificar que a frota de 70 caminhões não consegue atender toda a demanda."
   ]
  },
  {
   "cell_type": "code",
   "execution_count": 7,
   "metadata": {
    "collapsed": false
   },
   "outputs": [
    {
     "name": "stdout",
     "output_type": "stream",
     "text": [
      "Tamanho mínimo da frota para atender a demanda: 82\n"
     ]
    }
   ],
   "source": [
    "print('Tamanho mínimo da frota para atender a demanda: {}'.format(sum(caminhoes_mes.values())))"
   ]
  },
  {
   "cell_type": "code",
   "execution_count": 8,
   "metadata": {
    "collapsed": true
   },
   "outputs": [],
   "source": [
    "# diferenca com a quantidade ideal de caminhoes para atender a demanda\n",
    "def restriction(individual):\n",
    "    resultado = dict((rota,len([r for r in decode(individual) if rota in r] )) for rota in rotas)\n",
    "    erro = 0\n",
    "    for r in rotas:\n",
    "        erro += abs(resultado[r]-caminhoes_mes[r])\n",
    "    erro_medio = erro/sum(caminhoes_mes.values())\n",
    "    return erro_medio\n",
    "\n",
    "# funcao objetivo normalizada\n",
    "def goal(individual):\n",
    "    arranjo = decode(individual)\n",
    "    remuneracao = sum((remuneracoes[k]*carga_mes[k]/11) for k in arranjo if k)\n",
    "    despesa = sum((custos[k]*carga_mes[k]/11) for k in arranjo if k)\n",
    "    # 66794420 refere-se ao lucro maximo todos os caminhoes na rota mais lucrativa\n",
    "    return (remuneracao-despesa)/66794420 \n",
    "\n",
    "# funcao fitness\n",
    "def evaluate(individual):\n",
    "    #0.5 (somado ao final) foi um fator de normalização empírico\n",
    "    return goal(individual) - 0.5*restriction(individual) + 0.5, "
   ]
  },
  {
   "cell_type": "code",
   "execution_count": 105,
   "metadata": {
    "collapsed": false
   },
   "outputs": [],
   "source": [
    "def plot_log(logbook):\n",
    "    \"\"\"Funcao auxiliar para plotar gráfico\"\"\"\n",
    "    gen = logbook.select(\"gen\")\n",
    "    min = logbook.select(\"min\")\n",
    "    avg = logbook.select(\"avg\")\n",
    "    max = logbook.select(\"max\")\n",
    "    \n",
    "    fig, ax1 = plt.subplots()\n",
    "    ax1.set_xlabel(\"Geração\")\n",
    "    ax1.set_ylabel(\"Fitness\", color=\"b\")\n",
    "    \n",
    "    line1 = ax1.plot(gen, min, \"b-\", label=\"Mínimo\")\n",
    "    line2 = ax1.plot(gen, avg, \"g-\", label=\"Médio\")\n",
    "    line3 = ax1.plot(gen, max, \"y-\", label=\"Máximo\")\n",
    "\n",
    "    lns = line3 + line2 + line1\n",
    "    labs = [l.get_label() for l in lns]\n",
    "    ax1.legend(lns, labs, loc=4)\n",
    "    \n",
    "    fig.set_size_inches(15, 5, forward=True)\n",
    "\n",
    "    plt.show()\n",
    "    \n",
    "def print_info(selected):\n",
    "    \"\"\"Funcao auxiliar para imprimir informções da solução encontrada\"\"\"\n",
    "    melhor = decode(selected)\n",
    "    print('\\nMELHOR INDIVIDUO:\\n {}'.format(melhor))\n",
    "\n",
    "    #conta os caminhoes por rota para comparar com o ideal\n",
    "    resultado_caminhoes = dict((rota,len([r for r in melhor if rota in r] )) for rota in rotas) \n",
    "    resultado_demanda = dict((k,v*carga_mes[k]) for k,v in resultado_caminhoes.items())\n",
    "    \n",
    "    print('\\nSOLUÇÃO ESPERADA PARA ATENDER A DEMANDA[DEMANDA]:\\n {}'.format(json.dumps(demandas, indent=1)))\n",
    "    print('\\nSOLUÇÃO ESPERADA PARA ATENDER A DEMANDA[CAMINHOES]:\\n {}'.format(json.dumps(caminhoes_mes, indent=1)))\n",
    "\n",
    "    print('\\nSOLUÇÃO ENCONTRADA[DEMANDA]:\\n {}'.format(json.dumps(resultado_demanda, indent=1)))\n",
    "    print('\\nSOLUÇÃO ENCONTRADA[CAMINHOES]:\\n {}'.format(json.dumps(resultado_caminhoes, indent=1)))\n",
    "\n",
    "    erro = sum((demandas[r]-resultado_demanda[r]) for r in rotas if demandas[r]-resultado_demanda[r] > 0)\n",
    "    divergencia = erro*100/sum(demandas.values())\n",
    "\n",
    "    rendimento = sum((remuneracoes[k]*carga_mes[k]/11) for k in melhor if k)\n",
    "    despesa = sum((custos[k]*carga_mes[k]/11) for k in melhor if k)\n",
    "    lucro = rendimento-despesa\n",
    "\n",
    "    print('\\nSATISFABILIDADE = {}%'.format(round(100-divergencia,2)))\n",
    "    print('\\nLUCRO = {}'.format(round(lucro,2)))"
   ]
  },
  {
   "cell_type": "markdown",
   "metadata": {},
   "source": [
    "## 8 - Código AG\n",
    "Implementação de Algoritmo Genético para resolução do problema"
   ]
  },
  {
   "cell_type": "markdown",
   "metadata": {},
   "source": [
    "Definindo parâmentros e funções utilizadas pelo algoritmo"
   ]
  },
  {
   "cell_type": "code",
   "execution_count": 10,
   "metadata": {
    "collapsed": false
   },
   "outputs": [],
   "source": [
    "# registra funcao de fitness\n",
    "toolbox.register(\"evaluate\", evaluate)\n",
    "\n",
    "# registra crossOver\n",
    "toolbox.register(\"mate\", tools.cxTwoPoint)\n",
    "\n",
    "# registra mutacao com probabilidade default de mudar cada gene de 5%\n",
    "toolbox.register(\"mutate\", tools.mutFlipBit, indpb=0.05)\n",
    "\n",
    "# registra o metodo de selecao como torneio de tamanho 3\n",
    "toolbox.register(\"select\", tools.selTournament, tournsize=2)\n",
    "\n",
    "#semente para gerar população\n",
    "random.seed(32)\n",
    "\n",
    "# cria populacao inicial\n",
    "pop = toolbox.population(n=100)\n",
    "\n",
    "# CXPB - probabilidade de crossover\n",
    "# MUTPB - probabilidade de mutacao\n",
    "# NGEN - numero de geracoes\n",
    "CXPB, MUTPB, NGEN = 0.8, 0.03, 100\n",
    "\n",
    "#definindo quais stats devem ser mostrados no console\n",
    "stats = tools.Statistics(key=lambda ind: ind.fitness.values)\n",
    "stats.register(\"std\", numpy.std)\n",
    "stats.register(\"min\", numpy.min)\n",
    "stats.register(\"avg\", numpy.mean)\n",
    "stats.register(\"max\", numpy.max)"
   ]
  },
  {
   "cell_type": "markdown",
   "metadata": {},
   "source": [
    "Rodando o algoritmo com os parâmetros definidos:"
   ]
  },
  {
   "cell_type": "code",
   "execution_count": 11,
   "metadata": {
    "collapsed": false,
    "scrolled": false
   },
   "outputs": [
    {
     "name": "stdout",
     "output_type": "stream",
     "text": [
      "gen\tnevals\tstd      \tmin     \tavg     \tmax     \n",
      "0  \t100   \t0.0315185\t0.265136\t0.337622\t0.411556\n",
      "1  \t74    \t0.0265088\t0.287718\t0.350289\t0.417469\n",
      "2  \t76    \t0.0302276\t0.273199\t0.363509\t0.456218\n",
      "3  \t76    \t0.0230867\t0.321714\t0.380451\t0.451394\n",
      "4  \t86    \t0.0228009\t0.323559\t0.382703\t0.451394\n",
      "5  \t81    \t0.022721 \t0.321345\t0.390113\t0.448661\n",
      "6  \t85    \t0.0221087\t0.336761\t0.397599\t0.446785\n",
      "7  \t84    \t0.0221145\t0.316898\t0.403218\t0.438982\n",
      "8  \t89    \t0.0231797\t0.337453\t0.405261\t0.458005\n",
      "9  \t70    \t0.0221976\t0.351498\t0.40907 \t0.458219\n",
      "10 \t69    \t0.0207922\t0.328085\t0.413141\t0.452896\n",
      "11 \t82    \t0.01986  \t0.356413\t0.418112\t0.459242\n",
      "12 \t77    \t0.0210007\t0.337398\t0.418364\t0.459346\n",
      "13 \t80    \t0.0209157\t0.344935\t0.420312\t0.470402\n",
      "14 \t83    \t0.019298 \t0.38004 \t0.425603\t0.462683\n",
      "15 \t77    \t0.0202628\t0.368406\t0.421408\t0.461973\n",
      "16 \t78    \t0.0188409\t0.373809\t0.425091\t0.46559 \n",
      "17 \t88    \t0.0170442\t0.393709\t0.430448\t0.482371\n",
      "18 \t88    \t0.0212627\t0.38432 \t0.430758\t0.480952\n",
      "19 \t85    \t0.0232536\t0.370311\t0.434903\t0.484378\n",
      "20 \t80    \t0.0230789\t0.365758\t0.438971\t0.494606\n",
      "21 \t84    \t0.0202054\t0.372595\t0.438014\t0.479939\n",
      "22 \t84    \t0.0211468\t0.388935\t0.441991\t0.490706\n",
      "23 \t76    \t0.0201195\t0.395696\t0.447283\t0.498954\n",
      "24 \t85    \t0.0210456\t0.376769\t0.449009\t0.502156\n",
      "25 \t86    \t0.0215514\t0.388513\t0.45212 \t0.49824 \n",
      "26 \t76    \t0.021516 \t0.378517\t0.456481\t0.503614\n",
      "27 \t83    \t0.0201713\t0.396454\t0.457374\t0.510973\n",
      "28 \t84    \t0.0203921\t0.401854\t0.462116\t0.50432 \n",
      "29 \t76    \t0.0200239\t0.416649\t0.47111 \t0.510494\n",
      "30 \t77    \t0.0200876\t0.429097\t0.476136\t0.517257\n",
      "31 \t76    \t0.0216451\t0.425841\t0.478623\t0.525305\n",
      "32 \t74    \t0.019979 \t0.411618\t0.487776\t0.532086\n",
      "33 \t88    \t0.0235879\t0.40262 \t0.490357\t0.532086\n",
      "34 \t81    \t0.0200935\t0.43366 \t0.498571\t0.537483\n",
      "35 \t86    \t0.0185561\t0.410165\t0.504191\t0.537394\n",
      "36 \t76    \t0.0179579\t0.44241 \t0.505399\t0.537394\n",
      "37 \t82    \t0.0174216\t0.4308  \t0.508746\t0.53674 \n",
      "38 \t72    \t0.0179686\t0.440294\t0.51084 \t0.54641 \n",
      "39 \t86    \t0.0142373\t0.458498\t0.515747\t0.546985\n",
      "40 \t82    \t0.017077 \t0.451887\t0.514123\t0.550497\n",
      "41 \t72    \t0.0204122\t0.417121\t0.518109\t0.550497\n",
      "42 \t89    \t0.0218886\t0.414986\t0.521988\t0.550497\n",
      "43 \t78    \t0.0134872\t0.474412\t0.530291\t0.550497\n",
      "44 \t75    \t0.0185311\t0.420466\t0.534712\t0.55687 \n",
      "45 \t73    \t0.0129771\t0.473387\t0.538012\t0.55687 \n",
      "46 \t81    \t0.0222302\t0.422293\t0.537142\t0.557677\n",
      "47 \t82    \t0.0124866\t0.443109\t0.543497\t0.55687 \n",
      "48 \t82    \t0.00871849\t0.485998\t0.548087\t0.561606\n",
      "49 \t84    \t0.012237  \t0.463057\t0.548691\t0.561606\n",
      "50 \t74    \t0.0138711 \t0.426839\t0.551196\t0.56386 \n",
      "51 \t80    \t0.013601  \t0.460555\t0.553153\t0.564887\n",
      "52 \t86    \t0.0152445 \t0.425114\t0.55408 \t0.569594\n",
      "53 \t86    \t0.00350347\t0.547595\t0.559871\t0.573523\n",
      "54 \t72    \t0.0140225 \t0.468368\t0.559412\t0.573523\n",
      "55 \t86    \t0.0151791 \t0.477625\t0.559676\t0.569594\n",
      "56 \t80    \t0.0158217 \t0.447978\t0.561524\t0.569594\n",
      "57 \t77    \t0.0226628 \t0.450617\t0.557774\t0.573523\n",
      "58 \t79    \t0.0136647 \t0.470147\t0.562111\t0.573523\n",
      "59 \t77    \t0.0164274 \t0.475003\t0.562081\t0.573523\n",
      "60 \t84    \t0.0148245 \t0.471874\t0.562799\t0.573523\n",
      "61 \t66    \t0.0227334 \t0.423314\t0.562018\t0.573523\n",
      "62 \t82    \t0.0106419 \t0.473616\t0.567378\t0.573523\n",
      "63 \t72    \t0.0259235 \t0.433796\t0.562002\t0.573523\n",
      "64 \t80    \t0.0193131 \t0.468234\t0.566054\t0.573523\n",
      "65 \t77    \t0.0167421 \t0.463176\t0.569143\t0.573523\n",
      "66 \t84    \t0.0130556 \t0.462551\t0.571131\t0.573523\n",
      "67 \t80    \t0.0261158 \t0.461813\t0.565785\t0.573523\n",
      "68 \t82    \t0.00853443\t0.487749\t0.572665\t0.573523\n",
      "69 \t88    \t0.0139206 \t0.487351\t0.57076 \t0.573523\n",
      "70 \t75    \t0.0143327 \t0.460106\t0.571122\t0.573523\n",
      "71 \t75    \t0.00885337\t0.509327\t0.571992\t0.573523\n",
      "72 \t79    \t0.011154  \t0.461422\t0.572402\t0.573523\n",
      "73 \t82    \t0.0211485 \t0.456093\t0.568402\t0.573523\n",
      "74 \t76    \t0.0148739 \t0.461814\t0.570973\t0.573523\n",
      "75 \t81    \t0.0201588 \t0.428894\t0.570032\t0.573523\n",
      "76 \t88    \t0.0163775 \t0.461881\t0.570665\t0.573523\n",
      "77 \t79    \t0.0144213 \t0.4385  \t0.571632\t0.573523\n",
      "78 \t77    \t0.00911367\t0.481927\t0.572607\t0.573523\n",
      "79 \t72    \t0         \t0.573523\t0.573523\t0.573523\n",
      "80 \t77    \t0.0223707 \t0.446349\t0.568521\t0.573523\n",
      "81 \t74    \t0.0116    \t0.461388\t0.572071\t0.573523\n",
      "82 \t76    \t0.0110484 \t0.484634\t0.57167 \t0.573523\n",
      "83 \t74    \t0.016076  \t0.464099\t0.570265\t0.573523\n",
      "84 \t78    \t0.00603034\t0.512916\t0.572917\t0.573523\n",
      "85 \t72    \t0.0210085 \t0.429547\t0.568563\t0.573523\n",
      "86 \t82    \t0.012107  \t0.477974\t0.571805\t0.573523\n",
      "87 \t87    \t0.0178165 \t0.456174\t0.570041\t0.573523\n",
      "88 \t82    \t0.0180916 \t0.446793\t0.569626\t0.573523\n",
      "89 \t79    \t0.0164307 \t0.482118\t0.570182\t0.573523\n",
      "90 \t79    \t0.0166461 \t0.45282 \t0.570645\t0.573523\n",
      "91 \t80    \t0.0159    \t0.437654\t0.571015\t0.573523\n",
      "92 \t80    \t0.0165815 \t0.44539 \t0.57082 \t0.573523\n",
      "93 \t79    \t0.0175605 \t0.455228\t0.570096\t0.573523\n",
      "94 \t78    \t0.020019  \t0.46792 \t0.56896 \t0.573523\n",
      "95 \t83    \t0.0134924 \t0.474338\t0.571212\t0.573523\n",
      "96 \t78    \t0.00751963\t0.497948\t0.572767\t0.573523\n",
      "97 \t76    \t0.0185702 \t0.422062\t0.570575\t0.573523\n",
      "98 \t80    \t0.0104982 \t0.468013\t0.572468\t0.573523\n",
      "99 \t72    \t0.0206819 \t0.477174\t0.568363\t0.573523\n",
      "100\t86    \t0.01735   \t0.421096\t0.571137\t0.573523\n"
     ]
    }
   ],
   "source": [
    "#Algoritmos do livro “Evolutionary Computation 1 : Basic Algorithms and Operators”\n",
    "#roda o algoritmo do capitulo 7\n",
    "pop, logbook = algorithms.eaSimple(pop, toolbox, CXPB, MUTPB, NGEN, stats=stats, verbose=True)"
   ]
  },
  {
   "cell_type": "markdown",
   "metadata": {},
   "source": [
    "Imprimindo as informções referente ao melhor indivíduo"
   ]
  },
  {
   "cell_type": "code",
   "execution_count": 107,
   "metadata": {
    "collapsed": false
   },
   "outputs": [
    {
     "name": "stdout",
     "output_type": "stream",
     "text": [
      "\n",
      "MELHOR INDIVIDUO:\n",
      " ['FRD-CWB', 'FAT-BSB', 'GMS-CWB', 'GMS-CNF', 'VKW-CWB', 'FAT-SAO', 'FAT-CWB', 'RNT-SAO', 'GMS-RIO', 'HYD-POA', 'FAT-REC', 'FAT-SAO', 'GMS-CNF', 'FRD-CWB', 'FAT-SAO', 'RNT-RIO', 'RNT-SAO', 'RNT-CNF', 'HYD-REC', 'VKW-RIO', 'HYD-CNF', 'FAT-CWB', 'VKW-BSB', 'FAT-REC', 'GMS-REC', 'VKW-RIO', 'HYD-SAO', 'GMS-RIO', 'RNT-SAO', 'GMS-CWB', 'GMS-RIO', 'FAT-SAO', 'HYD-SAO', 'VKW-BSB', 'FAT-SAO', 'FAT-SAO', 'FRD-RIO', 'FRD-POA', 'VKW-CWB', 'GMS-CNF', 'RNT-RIO', 'FAT-SAO', 'HYD-CWB', 'HYD-REC', 'FAT-SAO', 'FRD-RIO', 'GMS-REC', 'GMS-RIO', 'GMS-BSB', 'RNT-RIO', 'FAT-CWB', 'GMS-BSB', 'FAT-SAO', 'FAT-BSB', 'VKW-BSB', 'RNT-SAO', 'FAT-REC', 'FAT-SAO', 'RNT-POA', 'FAT-SAO', 'FRD-POA', 'FAT-SAO', 'FRD-RIO', 'VKW-BSB', 'FAT-SAO', 'VKW-POA', 'GMS-REC', 'FAT-CWB', 'RNT-CNF', 'GMS-BSB']\n",
      "\n",
      "SOLUÇÃO ESPERADA PARA ATENDER A DEMANDA[DEMANDA]:\n",
      " {\n",
      " \"GMS-RIO\": 1701,\n",
      " \"GMS-BSB\": 1039,\n",
      " \"GMS-CNF\": 1072,\n",
      " \"GMS-CWB\": 975,\n",
      " \"GMS-REC\": 374,\n",
      " \"RNT-SAO\": 1903,\n",
      " \"RNT-RIO\": 684,\n",
      " \"RNT-CNF\": 431,\n",
      " \"RNT-POA\": 218,\n",
      " \"FRD-RIO\": 953,\n",
      " \"FRD-CWB\": 547,\n",
      " \"FRD-POA\": 304,\n",
      " \"FAT-SAO\": 5246,\n",
      " \"FAT-BSB\": 1152,\n",
      " \"FAT-CWB\": 1081,\n",
      " \"FAT-REC\": 414,\n",
      " \"VKW-RIO\": 1689,\n",
      " \"VKW-BSB\": 1031,\n",
      " \"VKW-CWB\": 968,\n",
      " \"VKW-POA\": 538,\n",
      " \"HYD-SAO\": 1360,\n",
      " \"HYD-CNF\": 308,\n",
      " \"HYD-CWB\": 281,\n",
      " \"HYD-REC\": 108,\n",
      " \"HYD-POA\": 156\n",
      "}\n",
      "\n",
      "SOLUÇÃO ESPERADA PARA ATENDER A DEMANDA[CAMINHOES]:\n",
      " {\n",
      " \"GMS-RIO\": 4,\n",
      " \"GMS-BSB\": 5,\n",
      " \"GMS-CNF\": 3,\n",
      " \"GMS-CWB\": 2,\n",
      " \"GMS-REC\": 4,\n",
      " \"RNT-SAO\": 4,\n",
      " \"RNT-RIO\": 3,\n",
      " \"RNT-CNF\": 2,\n",
      " \"RNT-POA\": 1,\n",
      " \"FRD-RIO\": 3,\n",
      " \"FRD-CWB\": 2,\n",
      " \"FRD-POA\": 2,\n",
      " \"FAT-SAO\": 13,\n",
      " \"FAT-BSB\": 4,\n",
      " \"FAT-CWB\": 5,\n",
      " \"FAT-REC\": 4,\n",
      " \"VKW-RIO\": 4,\n",
      " \"VKW-BSB\": 5,\n",
      " \"VKW-CWB\": 2,\n",
      " \"VKW-POA\": 3,\n",
      " \"HYD-SAO\": 2,\n",
      " \"HYD-CNF\": 1,\n",
      " \"HYD-CWB\": 1,\n",
      " \"HYD-REC\": 2,\n",
      " \"HYD-POA\": 1\n",
      "}\n",
      "\n",
      "SOLUÇÃO ENCONTRADA[DEMANDA]:\n",
      " {\n",
      " \"GMS-RIO\": 1980,\n",
      " \"GMS-BSB\": 726,\n",
      " \"GMS-CNF\": 1188,\n",
      " \"GMS-CWB\": 990,\n",
      " \"GMS-REC\": 297,\n",
      " \"RNT-SAO\": 1980,\n",
      " \"RNT-RIO\": 825,\n",
      " \"RNT-CNF\": 484,\n",
      " \"RNT-POA\": 330,\n",
      " \"FRD-RIO\": 1386,\n",
      " \"FRD-CWB\": 990,\n",
      " \"FRD-POA\": 440,\n",
      " \"FAT-SAO\": 5291,\n",
      " \"FAT-BSB\": 616,\n",
      " \"FAT-CWB\": 1012,\n",
      " \"FAT-REC\": 363,\n",
      " \"VKW-RIO\": 924,\n",
      " \"VKW-BSB\": 924,\n",
      " \"VKW-CWB\": 990,\n",
      " \"VKW-POA\": 220,\n",
      " \"HYD-SAO\": 1980,\n",
      " \"HYD-CNF\": 352,\n",
      " \"HYD-CWB\": 407,\n",
      " \"HYD-REC\": 176,\n",
      " \"HYD-POA\": 198\n",
      "}\n",
      "\n",
      "SOLUÇÃO ENCONTRADA[CAMINHOES]:\n",
      " {\n",
      " \"GMS-RIO\": 4,\n",
      " \"GMS-BSB\": 3,\n",
      " \"GMS-CNF\": 3,\n",
      " \"GMS-CWB\": 2,\n",
      " \"GMS-REC\": 3,\n",
      " \"RNT-SAO\": 4,\n",
      " \"RNT-RIO\": 3,\n",
      " \"RNT-CNF\": 2,\n",
      " \"RNT-POA\": 1,\n",
      " \"FRD-RIO\": 3,\n",
      " \"FRD-CWB\": 2,\n",
      " \"FRD-POA\": 2,\n",
      " \"FAT-SAO\": 13,\n",
      " \"FAT-BSB\": 2,\n",
      " \"FAT-CWB\": 4,\n",
      " \"FAT-REC\": 3,\n",
      " \"VKW-RIO\": 2,\n",
      " \"VKW-BSB\": 4,\n",
      " \"VKW-CWB\": 2,\n",
      " \"VKW-POA\": 1,\n",
      " \"HYD-SAO\": 2,\n",
      " \"HYD-CNF\": 1,\n",
      " \"HYD-CWB\": 1,\n",
      " \"HYD-REC\": 2,\n",
      " \"HYD-POA\": 1\n",
      "}\n",
      "\n",
      "SATISFABILIDADE = 90.89%\n",
      "\n",
      "LUCRO = 9798338.0\n"
     ]
    }
   ],
   "source": [
    "#Seleciona o melhor individuo da populacao resultante\n",
    "best_ind = tools.selSPEA2(pop, 1)\n",
    "\n",
    "#Imprime as informações do melhor individuo\n",
    "print_info(best_ind[0])\n"
   ]
  },
  {
   "cell_type": "code",
   "execution_count": 108,
   "metadata": {
    "collapsed": false
   },
   "outputs": [
    {
     "data": {
      "image/png": "[encoded data removed]",
      "text/plain": [
       "<matplotlib.figure.Figure at 0x221e25ef080>"
      ]
     },
     "metadata": {},
     "output_type": "display_data"
    }
   ],
   "source": [
    "#Plota gráfico\n",
    "plot_log(logbook)"
   ]
  }
 ],
 "metadata": {
  "kernelspec": {
   "display_name": "Python 3",
   "language": "python",
   "name": "python3"
  },
  "language_info": {
   "codemirror_mode": {
    "name": "ipython",
    "version": 3
   },
   "file_extension": ".py",
   "mimetype": "text/x-python",
   "name": "python",
   "nbconvert_exporter": "python",
   "pygments_lexer": "ipython3",
   "version": "3.6.0"
  }
 },
 "nbformat": 4,
 "nbformat_minor": 2
}
