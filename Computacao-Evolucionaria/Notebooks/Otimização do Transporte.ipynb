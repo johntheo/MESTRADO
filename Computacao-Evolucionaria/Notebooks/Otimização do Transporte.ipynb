{
 "cells": [
  {
   "cell_type": "markdown",
   "metadata": {},
   "source": [
    "# Problema de Otimização do Transporte"
   ]
  },
  {
   "cell_type": "markdown",
   "metadata": {},
   "source": [
    "## 1 - Natureza do Problema\n",
    "Trata-se de um problema de maximização do lucro"
   ]
  },
  {
   "cell_type": "code",
   "execution_count": 1,
   "metadata": {
    "collapsed": true
   },
   "outputs": [],
   "source": [
    "import random\n",
    "import numpy\n",
    "import json\n",
    "import matplotlib.pyplot as plt\n",
    "from deap import base\n",
    "from deap import creator\n",
    "from deap import tools\n",
    "from deap import algorithms\n",
    "from tabulate import tabulate\n",
    "\n",
    "# INIT\n",
    "toolbox = base.Toolbox()\n",
    "\n",
    "# Definindo a natureza do problema. No caso um problema de maximização\n",
    "creator.create(\"FitnessMax\", base.Fitness, weights=(1.0,))"
   ]
  },
  {
   "cell_type": "markdown",
   "metadata": {},
   "source": [
    "Todas as matrizes que envolvem esse problema foram modelas como dicionarios(hash) pois facilita o acesso aos indices. Sendo assim, criou-se uma função para poder imprimir esses dicionarios na forma de tabelas para que a visualização dos dados fosse mais natural."
   ]
  },
  {
   "cell_type": "code",
   "execution_count": 2,
   "metadata": {
    "collapsed": true
   },
   "outputs": [],
   "source": [
    "def print_dict_as_table(values_dict):\n",
    "    \"\"\"Função auxiliar para  imprimir imprimir os dicionarios de valores como tabela\"\"\"\n",
    "    rows     = ['GMS','RNT','FRD','FAT','VKW','HYD']\n",
    "    cols     = ['SAO','RIO','BSB','CNF','CWB','REC','POA']\n",
    "    \n",
    "    grid = []\n",
    "    for a in rows:\n",
    "        aux = [a]\n",
    "        for b in cols:\n",
    "            index = a+'-'+b\n",
    "            if index in values_dict:\n",
    "                aux.append(values_dict[index])\n",
    "            else:\n",
    "                aux.append('-')\n",
    "        grid.append(aux)\n",
    "    print(tabulate(grid, headers=cols))"
   ]
  },
  {
   "cell_type": "markdown",
   "metadata": {},
   "source": [
    "## 2 - Variáveis e Codificação\n",
    "- A codificação utilizada será um comossomo com 70 genes onde cada gene representa a rota que o caminhão está alocado.\n",
    "- Como temos 25 rotas possíveis para cada caminhão precisaremos 5 bits para cada gene e logo teremos um cromossomo de tamanho 350 ($5*70$). Optou-se utilizar somente as rotas com valor ao invés de todas as possíveis, para reduzir o espaço de busca, bem como não gerar soluções inválidas\n",
    "- O espaço de busca  total é de aproximadamente $2,3*10^{105}$"
   ]
  },
  {
   "cell_type": "code",
   "execution_count": 3,
   "metadata": {
    "collapsed": true
   },
   "outputs": [],
   "source": [
    "#MONTADORA-DESTINO\n",
    "rotas = [\n",
    "        'GMS-RIO','GMS-BSB','GMS-CNF','GMS-CWB','GMS-REC',\n",
    "        'RNT-SAO','RNT-RIO','RNT-CNF','RNT-POA',\n",
    "        'FRD-RIO','FRD-CWB','FRD-POA',\n",
    "        'FAT-SAO','FAT-BSB','FAT-CWB','FAT-REC',\n",
    "        'VKW-RIO','VKW-BSB','VKW-CWB','VKW-POA',\n",
    "        'HYD-SAO','HYD-CNF','HYD-CWB','HYD-REC','HYD-POA']\n",
    "\n",
    "# Demanda mensal dos veículos de cada MONTADORA-CENTRO_CONSUMIDOR\n",
    "demandas = {\n",
    "        'GMS-RIO':1701, 'GMS-BSB':1039, 'GMS-CNF':1072, 'GMS-CWB':975, 'GMS-REC':374, \n",
    "        'RNT-SAO':1903, 'RNT-RIO':684 , 'RNT-CNF':431 , 'RNT-POA':218, \n",
    "        'FRD-RIO':953 , 'FRD-CWB':547 , 'FRD-POA':304 , \n",
    "        'FAT-SAO':5246, 'FAT-BSB':1152, 'FAT-CWB':1081, 'FAT-REC':414, \n",
    "        'VKW-RIO':1689, 'VKW-BSB':1031, 'VKW-CWB':968 , 'VKW-POA':538, \n",
    "        'HYD-SAO':1360, 'HYD-CNF':308 , 'HYD-CWB':281 , 'HYD-REC':108, 'HYD-POA':156}\n",
    "\n",
    "# Menor distância entre MONTADORA-CENTRO_CONSUMIDOR\n",
    "distancias = {\n",
    "        'GMS-RIO':448, 'GMS-BSB':1021, 'GMS-CNF':589 , 'GMS-CWB':445, 'GMS-REC':2709, \n",
    "        'RNT-SAO':413, 'RNT-RIO':853 , 'RNT-CNF':1001, 'RNT-POA':728, \n",
    "        'FRD-RIO':465, 'FRD-CWB':434 , 'FRD-POA':1162, \n",
    "        'FAT-SAO':554, 'FAT-BSB':746 , 'FAT-CWB':962 , 'FAT-REC':2153, \n",
    "        'VKW-RIO':465, 'VKW-BSB':1027, 'VKW-CWB':434 , 'VKW-POA':1162, \n",
    "        'HYD-SAO':157, 'HYD-CNF':650 , 'HYD-CWB':539 , 'HYD-REC':2745, 'HYD-POA':1267}\n",
    "\n",
    "# Custo total do transporte por viagem completa realizada\n",
    "custos = {\n",
    "        'GMS-RIO':7948 , 'GMS-BSB':21167, 'GMS-CNF':9557 , 'GMS-CWB':6729 , 'GMS-REC':58599, \n",
    "        'RNT-SAO':5629 , 'RNT-RIO':15612, 'RNT-CNF':16679, 'RNT-POA':12365, \n",
    "        'FRD-RIO':8314 , 'FRD-CWB':6608 , 'FRD-POA':19157, \n",
    "        'FAT-SAO':7503 , 'FAT-BSB':15987, 'FAT-CWB':14991, 'FAT-REC':48046, \n",
    "        'VKW-RIO':12578, 'VKW-BSB':32363, 'VKW-CWB':9997 , 'VKW-POA':28981, \n",
    "        'HYD-SAO':1050 , 'HYD-CNF':5527 , 'HYD-CWB':4290 , 'HYD-REC':31247, 'HYD-POA':10927}\n",
    "\n",
    "# Remuneração do transporte por viagem completa realizada\n",
    "remuneracoes = {\n",
    "        'GMS-RIO':10703, 'GMS-BSB':24398, 'GMS-CNF':14069, 'GMS-CWB':10626, 'GMS-REC':64746, \n",
    "        'RNT-SAO':10615, 'RNT-RIO':21923, 'RNT-CNF':25729, 'RNT-POA':18711, \n",
    "        'FRD-RIO':12606, 'FRD-CWB':11759, 'FRD-POA':31504, \n",
    "        'FAT-SAO':11407, 'FAT-BSB':15356, 'FAT-CWB':19800, 'FAT-REC':44330, \n",
    "        'VKW-RIO':11528, 'VKW-BSB':25465, 'VKW-CWB':10758, 'VKW-POA':28820, \n",
    "        'HYD-SAO':4961 , 'HYD-CNF':20537, 'HYD-CWB':17028, 'HYD-REC':86746, 'HYD-POA':40040}"
   ]
  },
  {
   "cell_type": "markdown",
   "metadata": {},
   "source": [
    "Abaixo definimos a estrutura do indivíduo e da população. Essas funções serão utilizadas posteriormente pelo algoritmo."
   ]
  },
  {
   "cell_type": "code",
   "execution_count": 4,
   "metadata": {
    "collapsed": true
   },
   "outputs": [],
   "source": [
    "# Definindo a estrutura do indivíduo\n",
    "IND_SIZE = 350  # Tamanho do individuo - 10 para cada gene\n",
    "GEN_SIZE = 5\n",
    "GENES = IND_SIZE/GEN_SIZE\n",
    "\n",
    "creator.create(\"Individual\", list, fitness=creator.FitnessMax)\n",
    "\n",
    "# funcao para gerar o gene com valores 0 ou 1 randomicamente uniforme\n",
    "toolbox.register(\"attr_bool\", random.randint, 0, 1)\n",
    "\n",
    "# funcao para gerar o indivíduo (nome, forma de gerar, Estrutura, funcao geradora, tamanho)\n",
    "toolbox.register(\"individual\", tools.initRepeat, creator.Individual, toolbox.attr_bool, n=IND_SIZE)\n",
    "\n",
    "# funcao para gerar a populacao\n",
    "toolbox.register(\"population\", tools.initRepeat, list, toolbox.individual)\n",
    "\n",
    "def decode(individual,i_size=IND_SIZE,g_size=GEN_SIZE):\n",
    "    \"\"\"Recebe um individuo codificado e decodifica.\"\"\"\n",
    "    result = []\n",
    "    for a in range(0,i_size,g_size):\n",
    "        gene = ''.join(str(individual[i]) for i in range(a,a+g_size))\n",
    "        index_rota = int(gene,2)\n",
    "        rota = '' if index_rota > len(rotas) - 1 else rotas[index_rota]\n",
    "        result.append(rota)\n",
    "    return result"
   ]
  },
  {
   "cell_type": "markdown",
   "metadata": {},
   "source": [
    "## 3 - Restrições\n",
    "As restrições servem para definir um limite de soluções possíveis para algoritmo e, dependendo da abordagem, penalizar a função de fitness ou apenas descartas as soluções com respostas fora do intervalo.  \n",
    "\n",
    "- **Demanda Mensal maior ou igual ao valor tabelado.**  \n",
    "Criação de uma função para realização do cálculo com base no indivíduo e no valor tabelado\n",
    "- **Maximo transportado por rota**\n",
    "Com base no tempo que um caminhao demora, tem-se o valor máximo dia/mes que esse caminhão faz\n"
   ]
  },
  {
   "cell_type": "markdown",
   "metadata": {},
   "source": [
    "Criou-se tabelas adicionais para facilitar o cálculo:  \n",
    "- quantidade que um caminhao carrega por mes, por rota  \n",
    "- quantidade de caminhoes minima por rota para atender a demanda  "
   ]
  },
  {
   "cell_type": "code",
   "execution_count": 5,
   "metadata": {
    "collapsed": true
   },
   "outputs": [],
   "source": [
    "def c_mes(distancia):\n",
    "    \"\"\"Carga total que um caminhao carrega no mes dada uma distancia a percorrer\"\"\"\n",
    "    tempo_ida = distancia/65 + 2 #60km/h + 2hs de carga\n",
    "    tempo_volta = distancia/80 + 2 #80km/h + 2hs descarga\n",
    "    tempo_total = round(tempo_ida + tempo_volta)\n",
    "    horas_mes = 24 * 30 #24hs * 30 dias\n",
    "    viagens_mes = int(horas_mes/tempo_total)\n",
    "    \n",
    "    return 11 * viagens_mes #11 carros por caminhao\n",
    "\n",
    "# Carga total mensal que um caminhao consegue carregar na rota\n",
    "carga_mes = dict((rota,c_mes(distancias[rota])) for rota in rotas)\n",
    "\n",
    "# Quantidade total de caminhoes mes para atender a demanda da rota\n",
    "caminhoes_mes = dict((rota,int(demandas[rota]/carga_mes[rota])+1) for rota in rotas)"
   ]
  },
  {
   "cell_type": "code",
   "execution_count": 6,
   "metadata": {
    "collapsed": false
   },
   "outputs": [
    {
     "name": "stdout",
     "output_type": "stream",
     "text": [
      "CARGA TOTAL MENSAL CAMINHAO POR ROTA:\n",
      "     SAO    RIO    BSB    CNF    CWB    REC    POA\n",
      "---  -----  -----  -----  -----  -----  -----  -----\n",
      "GMS  -      495    242    396    495    99     -\n",
      "RNT  495    275    -      242    -      -      330\n",
      "FRD  -      462    -      -      495    -      220\n",
      "FAT  407    -      308    -      253    121    -\n",
      "VKW  -      462    231    -      495    -      220\n",
      "HYD  990    -      -      352    407    88     198\n",
      "\n",
      "QUANTIDADE NECESSARIA CAMINHAO POR ROTA:\n",
      "     SAO    RIO    BSB    CNF    CWB    REC    POA\n",
      "---  -----  -----  -----  -----  -----  -----  -----\n",
      "GMS  -      4      5      3      2      4      -\n",
      "RNT  4      3      -      2      -      -      1\n",
      "FRD  -      3      -      -      2      -      2\n",
      "FAT  13     -      4      -      5      4      -\n",
      "VKW  -      4      5      -      2      -      3\n",
      "HYD  2      -      -      1      1      2      1\n"
     ]
    }
   ],
   "source": [
    "print('CARGA TOTAL MENSAL CAMINHAO POR ROTA:')\n",
    "print_dict_as_table(carga_mes)\n",
    "print('\\nQUANTIDADE NECESSARIA CAMINHAO POR ROTA:')\n",
    "print_dict_as_table(caminhoes_mes)"
   ]
  },
  {
   "cell_type": "markdown",
   "metadata": {},
   "source": [
    "Com essas tabelas já é possível verificar que a frota de 70 caminhões não consegue atender toda a demanda."
   ]
  },
  {
   "cell_type": "code",
   "execution_count": 7,
   "metadata": {
    "collapsed": false
   },
   "outputs": [
    {
     "name": "stdout",
     "output_type": "stream",
     "text": [
      "Tamanho mínimo da frota para atender a demanda: 82\n"
     ]
    }
   ],
   "source": [
    "print('Tamanho mínimo da frota para atender a demanda: {}'.format(sum(caminhoes_mes.values())))"
   ]
  },
  {
   "cell_type": "markdown",
   "metadata": {},
   "source": [
    "As funções de objetivo e de restrição são criadas e utilizadas pela função de fitness. Como objetivo definimos o maior lucro e como restrição o erro médio com a quantidade ideal de caminhões por rota."
   ]
  },
  {
   "cell_type": "code",
   "execution_count": 8,
   "metadata": {
    "collapsed": true
   },
   "outputs": [],
   "source": [
    "# diferenca com a quantidade ideal de caminhoes para atender a demanda\n",
    "def restriction(arranjo):\n",
    "    resultado = dict((rota,len([r for r in arranjo if rota in r] )) for rota in rotas)\n",
    "    erro = 0\n",
    "    for r in rotas:\n",
    "        erro += abs(resultado[r]-caminhoes_mes[r])\n",
    "    erro_medio = erro/sum(caminhoes_mes.values())\n",
    "    return erro_medio\n",
    "\n",
    "# funcao objetivo normalizada\n",
    "def goal(arranjo):\n",
    "    remuneracao = sum((remuneracoes[k]*carga_mes[k]/11) for k in arranjo if k)\n",
    "    despesa = sum((custos[k]*carga_mes[k]/11) for k in arranjo if k)\n",
    "    # 66794420 refere-se ao lucro maximo todos os caminhoes na rota mais lucrativa\n",
    "    return (remuneracao-despesa)/66794420 \n",
    "\n",
    "# funcao fitness\n",
    "def evaluate(individual):\n",
    "    arranjo = decode(individual)\n",
    "    #0.5 (somado ao final) foi um fator de normalização empírico\n",
    "    return goal(arranjo) - 0.35*restriction(arranjo) + 0.5, "
   ]
  },
  {
   "cell_type": "markdown",
   "metadata": {},
   "source": [
    "As funções a seguir são auxiliares para imprimir o gráfico de evolução algoritmo e as informações do melhor indivíduo."
   ]
  },
  {
   "cell_type": "code",
   "execution_count": 9,
   "metadata": {
    "collapsed": false
   },
   "outputs": [],
   "source": [
    "def plot_log(logbook):\n",
    "    \"\"\"Funcao auxiliar para plotar gráfico\"\"\"\n",
    "    gen = logbook.select(\"gen\")\n",
    "    min = logbook.select(\"min\")\n",
    "    avg = logbook.select(\"avg\")\n",
    "    max = logbook.select(\"max\")\n",
    "    \n",
    "    fig, ax1 = plt.subplots()\n",
    "    ax1.set_xlabel(\"Geração\")\n",
    "    ax1.set_ylabel(\"Fitness\", color=\"b\")\n",
    "    \n",
    "    line1 = ax1.plot(gen, min, \"b-\", label=\"Mínimo\")\n",
    "    line2 = ax1.plot(gen, avg, \"g-\", label=\"Médio\")\n",
    "    line3 = ax1.plot(gen, max, \"y-\", label=\"Máximo\")\n",
    "\n",
    "    lns = line3 + line2 + line1\n",
    "    labs = [l.get_label() for l in lns]\n",
    "    ax1.legend(lns, labs, loc=4)\n",
    "    \n",
    "    fig.set_size_inches(15, 5, forward=True)\n",
    "\n",
    "    plt.show()\n",
    "    \n",
    "def print_info(selected):\n",
    "    \"\"\"Funcao auxiliar para imprimir informções da solução encontrada\"\"\"   \n",
    "    melhor = decode(selected)\n",
    "\n",
    "    #conta os caminhoes por rota para comparar com o ideal\n",
    "    resultado_caminhoes = dict((rota,len([r for r in melhor if rota in r] )) for rota in rotas) \n",
    "    \n",
    "    #conta os caminhoes por rota para comparar com o ideal\n",
    "    resultado_demanda = dict((k,v*carga_mes[k]) for k,v in resultado_caminhoes.items())\n",
    "\n",
    "    erro = sum((demandas[r]-resultado_demanda[r]) for r in rotas if demandas[r]-resultado_demanda[r] > 0)\n",
    "    divergencia = erro*100/sum(demandas.values())\n",
    "\n",
    "    rendimento = sum((remuneracoes[k]*carga_mes[k]/11) for k in melhor if k)\n",
    "    despesa = sum((custos[k]*carga_mes[k]/11) for k in melhor if k)\n",
    "    lucro = rendimento-despesa\n",
    "\n",
    "    print('\\nSOLUCAO ENCONTRADA:')\n",
    "    print_dict_as_table(resultado_caminhoes)\n",
    "    \n",
    "    #print('\\nCobertura = {}%'.format(round(100-divergencia,2)))\n"
   ]
  },
  {
   "cell_type": "markdown",
   "metadata": {},
   "source": [
    "## 8 - Código AG\n",
    "Implementação de Algoritmo Genético para resolução do problema. Nesta fase, associamos as funções criadas às estruturas pré-definidas pelo framework DEAP. Também definimos os parâmetros padrões de Algoritmos Genéticos(probabilidade de cross_over e muratação e numero de gerações)"
   ]
  },
  {
   "cell_type": "code",
   "execution_count": 10,
   "metadata": {
    "collapsed": false
   },
   "outputs": [],
   "source": [
    "# registra funcao de fitness\n",
    "toolbox.register(\"evaluate\", evaluate)\n",
    "\n",
    "# registra crossOver\n",
    "toolbox.register(\"mate\", tools.cxTwoPoint)\n",
    "\n",
    "# registra mutacao com probabilidade default de mudar cada gene de 5%\n",
    "toolbox.register(\"mutate\", tools.mutFlipBit, indpb=0.05)\n",
    "\n",
    "# registra o metodo de selecao como torneio de tamanho 2\n",
    "toolbox.register(\"select\", tools.selTournament, tournsize=2)\n",
    "\n",
    "#semente para gerar população\n",
    "random.seed(random.randint(1,200))\n",
    "\n",
    "# cria populacao inicial\n",
    "pop = toolbox.population(n=300)\n",
    "\n",
    "# CXPB - probabilidade de crossover\n",
    "# MUTPB - probabilidade de mutacao\n",
    "# NGEN - numero de geracoes\n",
    "CXPB, MUTPB, NGEN = 0.8, 0.03, 1000\n",
    "\n",
    "#definindo quais stats devem ser mostrados no console\n",
    "stats = tools.Statistics(key=lambda ind: ind.fitness.values)\n",
    "stats.register(\"std\", numpy.std)\n",
    "stats.register(\"min\", numpy.min)\n",
    "stats.register(\"avg\", numpy.mean)\n",
    "stats.register(\"max\", numpy.max)"
   ]
  },
  {
   "cell_type": "markdown",
   "metadata": {},
   "source": [
    "Rodando o algoritmo com os parâmetros definidos:"
   ]
  },
  {
   "cell_type": "code",
   "execution_count": 11,
   "metadata": {
    "collapsed": false,
    "scrolled": false
   },
   "outputs": [],
   "source": [
    "#Algoritmos do livro “Evolutionary Computation 1 : Basic Algorithms and Operators”\n",
    "#roda o algoritmo do capitulo 7\n",
    "pop, logbook = algorithms.eaSimple(pop, toolbox, CXPB, MUTPB, NGEN, stats=stats, verbose=False)"
   ]
  },
  {
   "cell_type": "markdown",
   "metadata": {},
   "source": [
    "Imprimindo as informações referente ao melhor indivíduo"
   ]
  },
  {
   "cell_type": "code",
   "execution_count": 12,
   "metadata": {
    "collapsed": false
   },
   "outputs": [
    {
     "name": "stdout",
     "output_type": "stream",
     "text": [
      "\n",
      "SOLUCAO ESPERADA:\n",
      "     SAO    RIO    BSB    CNF    CWB    REC    POA\n",
      "---  -----  -----  -----  -----  -----  -----  -----\n",
      "GMS  -      4      5      3      2      4      -\n",
      "RNT  4      3      -      2      -      -      1\n",
      "FRD  -      3      -      -      2      -      2\n",
      "FAT  13     -      4      -      5      4      -\n",
      "VKW  -      4      5      -      2      -      3\n",
      "HYD  2      -      -      1      1      2      1\n",
      "\n",
      "SOLUCAO ENCONTRADA:\n",
      "     SAO    RIO    BSB    CNF    CWB    REC    POA\n",
      "---  -----  -----  -----  -----  -----  -----  -----\n",
      "GMS  -      4      5      3      2      3      -\n",
      "RNT  4      3      -      2      -      -      1\n",
      "FRD  -      3      -      -      2      -      2\n",
      "FAT  13     -      1      -      5      1      -\n",
      "VKW  -      2      0      -      2      -      2\n",
      "HYD  2      -      -      2      1      3      2\n"
     ]
    }
   ],
   "source": [
    "#Seleciona o melhor individuo da populacao resultante\n",
    "best_ind = tools.selSPEA2(pop, 1)\n",
    "\n",
    "print('\\nSOLUCAO ESPERADA:')\n",
    "print_dict_as_table(caminhoes_mes)\n",
    "#Imprime as informações do melhor individuo\n",
    "print_info(best_ind[0])\n"
   ]
  },
  {
   "cell_type": "markdown",
   "metadata": {},
   "source": [
    "![solucao](resultado-caminhoes.png)"
   ]
  },
  {
   "cell_type": "code",
   "execution_count": 13,
   "metadata": {
    "collapsed": false
   },
   "outputs": [
    {
     "data": {
      "image/png": "[encoded data removed]",
      "text/plain": [
       "<matplotlib.figure.Figure at 0x1dc07aa1828>"
      ]
     },
     "metadata": {},
     "output_type": "display_data"
    }
   ],
   "source": [
    "#Plota gráfico\n",
    "plot_log(logbook)"
   ]
  },
  {
   "cell_type": "code",
   "execution_count": null,
   "metadata": {
    "collapsed": true
   },
   "outputs": [],
   "source": []
  }
 ],
 "metadata": {
  "kernelspec": {
   "display_name": "Python 3",
   "language": "python",
   "name": "python3"
  },
  "language_info": {
   "codemirror_mode": {
    "name": "ipython",
    "version": 3
   },
   "file_extension": ".py",
   "mimetype": "text/x-python",
   "name": "python",
   "nbconvert_exporter": "python",
   "pygments_lexer": "ipython3",
   "version": "3.6.0"
  }
 },
 "nbformat": 4,
 "nbformat_minor": 2
}
