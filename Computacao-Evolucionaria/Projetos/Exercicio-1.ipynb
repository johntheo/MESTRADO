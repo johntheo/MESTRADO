{
 "cells": [
  {
   "cell_type": "markdown",
   "metadata": {
    "collapsed": true
   },
   "source": [
    "# Exercício 1 - Problema da fabricação de garrafas\n",
    "\n",
    "Você gerencia uma fábrica de garrafas plásticas que tem apenas uma máquina extrusora. Esta máquina pode funcionar até 60 horas por semanda, isto é, 6 dias por semana com jornada de 10 horas por dia. A máquina é capaz de produzir dois tipos de garrafas plásticas: tipo \"leite\" e tipo \"suco\". Toda a produção semanal de garrafas plásticas é armazenada temporariamente num depósito. No domingo toda a produção é despachada para os compradores e o depósito é esvaziado completamente.  \n",
    "\n",
    "A linha de produção leva 6 horas para produzir 100 garrafas tipo leite e 5 horas para produzir 100 garrafas tipo suco. Cada Carrafa tipo leite ocupa 10 unidades cúbicas de espaço no depósito, enquanto que a garrafa de tipo suco ocupa 20 unidades cúbicas. O depósito tem capacidade máxima de 15000 unidades cúbicas.  \n",
    "\n",
    "A contribuição no lucro final da empresa por garrafa tipo leite é de 5 unidades monetárias e por garrafa tipo suco é de 4,5. O departamento de vendas tem contratos de fornecimento capazes de absorver toda a produção possível de garrafas tipo suco, porém tem compradores somente para 800 garrafastipo leite por semana.  \n",
    "\n",
    "Você deve estabelecer qual é o plano de produção mais adequado para maximizar o lucro total da empresa, isto é, quantas garrafas tipo Leite e quantos tipoo Suco devem ser produzidas semanalmente.\n",
    "\n",
    "##Roteiro:\n",
    "1. Identifique a natureza do problema de otimização\n",
    "2. Identifique o conjunto de variáveis do problema\n",
    "3. Desenvolva uma codificação apropriada para o conjunto de variáveis\n",
    "4. Identifique e formule matematicamente as restrições do problema\n",
    "5. Identifique a(s) função(ões) objetivo(s)\n",
    "6. Desenvolva uma função de fitness adequada\n",
    "7. Descreva o processo de satisfação das restrições\n",
    "8. Implemente a solução proposta utilizando algoritmos genéticos"
   ]
  },
  {
   "cell_type": "markdown",
   "metadata": {},
   "source": [
    "### 1 - Natureza do problema\n",
    "Problema de maximização do lucro final e tem apenas um critério/objetivo(lucro) a ser maximizado  \n",
    "\n",
    "### 2 - Variáveis\n",
    "Temos somente duas variáveis: _quantidade de garrafas de leite_ e _quantidades de garrafas de suco_. Sendo assim o cromossomo será formado por dois genes correspondetes a essas variáveis.  \n",
    "\n",
    "### 3 - Codificação\n",
    "Cada uma das variáveis só pode assumir valores inteiros. Logo precisa-se primeiramente definir o intervalo de valores possíveis para entao definir a quantidade de bits necessários\n",
    "\n",
    "- Garrafa de suco  \n",
    "-- Limite inferior = 0  \n",
    "-- Limite superior = $\\frac{limiteEstoque}{volumetriaGarrafaSuco} = \\frac{15000}{20} = 750$  \n",
    "-- Bits = $2^{10} = 1024 > 750$  \n",
    "\n",
    "- Garrafa de leite  \n",
    "-- Limite inferior = 0  \n",
    "-- Limite superior = 800 (limite definido pelos compradores)  \n",
    "-- Bits = $2^{10} = 1024 > 800$  \n",
    "\n",
    "### 4 - Restrições  \n",
    "- Máximo tempo de utilização da máquina  \n",
    "$$ \\begin{eqnarray} HorasPorGarrafaLeite*L +HorasPorGarrafaSuco*S \\le 60 \\end{eqnarray} $$\n",
    "$$ \\begin{eqnarray} \\frac{6}{100}*L + \\frac{5}{100}*S \\le 60 \\end{eqnarray} $$\n",
    "$$ \\begin{eqnarray} 0.06*L + 0.05*S \\le 60 \\end{eqnarray} $$  \n",
    "\n",
    "- Máximo espeaço disponível no depósito  \n",
    "$$ \\begin{eqnarray} VolumeGarraLeite*L + VolumeGarrafaSuco*S \\le 15000 \\end{eqnarray} $$\n",
    "$$ \\begin{eqnarray} 10*L + 20*S \\le 15000 \\end{eqnarray} $$"
   ]
  },
  {
   "cell_type": "markdown",
   "metadata": {},
   "source": [
    ""
   ]
  },
  {
   "cell_type": "markdown",
   "metadata": {},
   "source": [
    "### 3 - Codificação\n",
    "Cada uma das variáveis só pode assumir valores inteiros. Logo precisa-se primeiramente definir o intervalo de valores possíveis para entao definir a quantidade de bits necessários\n",
    "\n",
    "- Garrafa de suco  \n",
    "-- Limite inferior = 0  \n",
    "-- Limite superior = $\\frac{limiteEstoque}{volumetriaGarrafaSuco} = \\frac{15000}{20} = 750$  \n",
    "-- Bits = $2^{10} = 1024 > 750$  \n",
    "\n",
    "- Garrafa de leite  \n",
    "-- Limite inferior = 0  \n",
    "-- Limite superior = 800 (limite definido pelos compradores)  \n",
    "-- Bits = $2^{10} = 1024 > 800$  \n"
   ]
  },
  {
   "cell_type": "code",
   "execution_count": null,
   "metadata": {},
   "outputs": [],
   "source": [
    ""
   ]
  }
 ],
 "metadata": {
  "kernelspec": {
   "display_name": "Python 2",
   "language": "python",
   "name": "python2"
  },
  "language_info": {
   "codemirror_mode": {
    "name": "ipython",
    "version": 2.0
   },
   "file_extension": ".py",
   "mimetype": "text/x-python",
   "name": "python",
   "nbconvert_exporter": "python",
   "pygments_lexer": "ipython2",
   "version": "2.7.6"
  }
 },
 "nbformat": 4,
 "nbformat_minor": 0
}