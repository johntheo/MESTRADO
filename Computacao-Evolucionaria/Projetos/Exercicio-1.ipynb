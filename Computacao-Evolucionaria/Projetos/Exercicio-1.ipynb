{
 "cells": [
  {
   "cell_type": "markdown",
   "metadata": {
    "collapsed": true
   },
   "source": [
    "# Exercício 1 - Problema da fabricação de garrafas\n",
    "\n",
    "Você gerencia uma fábrica de garrafas plásticas que tem apenas uma máquina extrusora. Esta máquina pode funcionar até 60 horas por semanda, isto é, 6 dias por semana com jornada de 10 horas por dia. A máquina é capaz de produzir dois tipos de garrafas plásticas: tipo \"leite\" e tipo \"suco\". Toda a produção semanal de garrafas plásticas é armazenada temporariamente num depósito. No domingo toda a produção é despachada para os compradores e o depósito é esvaziado completamente.  \n",
    "\n",
    "A linha de produção leva 6 horas para produzir 100 garrafas tipo leite e 5 horas para produzir 100 garrafas tipo suco. Cada Carrafa tipo leite ocupa 10 unidades cúbicas de espaço no depósito, enquanto que a garrafa de tipo suco ocupa 20 unidades cúbicas. O depósito tem capacidade máxima de 15000 unidades cúbicas.  \n",
    "\n",
    "A contribuição no lucro final da empresa por garrafa tipo leite é de 5 unidades monetárias e por garrafa tipo suco é de 4,5. O departamento de vendas tem contratos de fornecimento capazes de absorver toda a produção possível de garrafas tipo suco, porém tem compradores somente para 800 garrafastipo leite por semana.  \n",
    "\n",
    "Você deve estabelecer qual é o plano de produção mais adequado para maximizar o lucro total da empresa, isto é, quantas garrafas tipo Leite e quantos tipoo Suco devem ser produzidas semanalmente.\n",
    "\n",
    "##Roteiro:\n",
    "1. Identifique a natureza do problema de otimização\n",
    "2. Identifique o conjunto de variáveis do problema\n",
    "3. Desenvolva uma codificação apropriada para o conjunto de variáveis\n",
    "4. Identifique e formule matematicamente as restrições do problema\n",
    "5. Identifique a(s) função(ões) objetivo(s)\n",
    "6. Desenvolva uma função de fitness adequada\n",
    "7. Descreva o processo de satisfação das restrições\n",
    "8. Implemente a solução proposta utilizando algoritmos genéticos"
   ]
  },
  {
   "cell_type": "markdown",
   "metadata": {},
   "source": [
    "### 1 - Natureza do problema\n",
    "Problema de maximização do lucro final e tem apenas um critério/objetivo(lucro) a ser maximizado  "
   ]
  },
  {
   "cell_type": "code",
   "execution_count": 79,
   "metadata": {},
   "outputs": [],
   "source": [
    "import random\n",
    "import numpy\n",
    "from deap import base\n",
    "from deap import creator\n",
    "from deap import tools\n",
    "from deap import algorithms\n",
    "\n",
    "# INIT\n",
    "toolbox = base.Toolbox()"
   ]
  },
  {
   "cell_type": "code",
   "execution_count": 80,
   "metadata": {},
   "outputs": [],
   "source": [
    "# Definindo a natureza do problema. No caso um problema de maximização\n",
    "creator.create(\"FitnessMax\", base.Fitness, weights=(1.0,))"
   ]
  },
  {
   "cell_type": "markdown",
   "metadata": {},
   "source": [
    "### 2 - Variáveis\n",
    "Temos somente duas variáveis: _quantidade de garrafas de leite_ e _quantidades de garrafas de suco_. Sendo assim o cromossomo será formado por dois genes correspondetes a essas variáveis. "
   ]
  },
  {
   "cell_type": "markdown",
   "metadata": {},
   "source": [
    "### 3 - Codificação\n",
    "Cada uma das variáveis só pode assumir valores inteiros. Logo precisa-se primeiramente definir o intervalo de valores possíveis para entao definir a quantidade de bits necessários\n",
    "\n",
    "- Garrafa de suco  \n",
    "-- Limite inferior = 0  \n",
    "-- Limite superior = $\\frac{limiteEstoque}{volumetriaGarrafaSuco} = \\frac{15000}{20} = 750$  \n",
    "-- Bits = $2^{10} = 1024 > 750$  \n",
    "\n",
    "- Garrafa de leite  \n",
    "-- Limite inferior = 0  \n",
    "-- Limite superior = 800 (limite definido pelos compradores)  \n",
    "-- Bits = $2^{10} = 1024 > 800$ "
   ]
  },
  {
   "cell_type": "code",
   "execution_count": 81,
   "metadata": {},
   "outputs": [],
   "source": [
    "# Definindo a estrutura do indivíduo\n",
    "IND_SIZE = 20  # Tamanho do individuo - 10 para cada gene\n",
    "GENES = 2\n",
    "creator.create(\"Individual\", list, fitness=creator.FitnessMax)\n",
    "\n",
    "# funcao para gerar o gene com valores 0 ou 1 randomicamente uniforme\n",
    "toolbox.register(\"attr_bool\", random.randint, 0, 1)\n",
    "# funcao para gerar o indivíduo (nome, forma de gerar, Estrutura, funcao geradora, tamanho)\n",
    "toolbox.register(\"individual\", tools.initRepeat, creator.Individual, toolbox.attr_bool, n=IND_SIZE)\n",
    "\n",
    "# funcao para gerar a populacao\n",
    "toolbox.register(\"population\", tools.initRepeat, list, toolbox.individual)"
   ]
  },
  {
   "cell_type": "markdown",
   "metadata": {},
   "source": [
    "### 4 - Restrições  \n",
    "As restrições servem para definir um limite de soluções possíveis para algoritmo e, dependendo da abordagem, penalizar a função de fitness ou apenas descartas as soluções com respostas fora do intervalo.  \n",
    "\n",
    "\n",
    "- Máximo tempo de utilização da máquina  \n",
    "$$ \\begin{eqnarray} HorasPorGarrafaLeite*L +HorasPorGarrafaSuco*S \\le 60 \\end{eqnarray} $$\n",
    "$$ \\begin{eqnarray} \\frac{6}{100}*L + \\frac{5}{100}*S \\le 60 \\end{eqnarray} $$\n",
    "$$ \\begin{eqnarray} 0.06*L + 0.05*S \\le 60 \\end{eqnarray} $$  \n",
    "\n",
    "- Máximo espeaço disponível no depósito  \n",
    "$$ \\begin{eqnarray} VolumeGarraLeite*L + VolumeGarrafaSuco*S \\le 15000 \\end{eqnarray} $$\n",
    "$$ \\begin{eqnarray} 10*L + 20*S \\le 15000 \\end{eqnarray} $$\n",
    "\n",
    "- Máxima demanda de garrafas de leite  \n",
    "$$ L \\le 800 $$  \n",
    "\n",
    "- Máxima produção possível de garrafas de suco  \n",
    "$$ S \\le 750 $$ \n",
    "\n",
    "De forma resumida temos as seguintes funções de restrições:\n",
    "$$ r_1(L,S) = 0.06*L + 0.05*S \\le 60 $$\n",
    "$$ r_2(L,S) = 10*L + 20*S \\le 15000 $$\n",
    "$$ r_3(L,S) = L \\le 800 $$\n",
    "$$ r_4(L,S) = S \\le 750 $$  \n"
   ]
  },
  {
   "cell_type": "markdown",
   "metadata": {},
   "source": [
    "### 5 - Função objetivo\n",
    "Modela a função a qual o problema destina-se a resolver. A função de fitness usará essa função de objetivo como base e pode ou não aplicar penalidades com base nas restrições.  \n",
    "Tendo-se o custo de cada garrafa, temos a seguinte função objetivo: $$ g(L,S) = 5*L + 4,5*S $$  "
   ]
  },
  {
   "cell_type": "markdown",
   "metadata": {},
   "source": [
    "### 6 - Função de fitness\n",
    "Uma boa prática para a função de fitness é fazer com que ela varie no intervalo [0,1] para visulizar mais facilmente seu crescimento. Tendo em vista as restrições que temos para o problema, uma boa abordagem para a função de fitness(conforme proposto por Goldberg) é a seguinte: $$ f(L,S) = g_n(L,S) - \\Phi $$  \n",
    "Onde $ g_n(L,S) $ é a função objetivo normalizada no intervalo [0,1] e $\\Phi$ é a soma das funções de restrições, também normalizada no intervalo [0,1].  \n",
    "\n",
    "Grosseiramente, podemos assumir que o máximo valor possível de $g(L,S)$ é: $5*QntdLimiteDeLeite + 4,5*QndtLimiteDeSuco = 5*800 + 4,5*750 = 7375 $. Sendo assim temos que: $$ g_n(L,S) = \\frac{5*L + 4,5*S}{7475} $$\n",
    "\n",
    "Para a função $\\Phi$ temos que determinar as funções de restrição $h_i$ para que retornem um valor positivo proporcional à violação de seus limites e um valor nulo quando isso não ocorrer. Sendo assim, temos:\n",
    "$$ h_1(L,S) = max{0, 0.06*L + 0.05*S - 60} $$\n",
    "$$ h_2(L,S) = max{0, 10*L + 20*S - 15000} $$\n",
    "$$ h_3(L,S) = max{0, L - 800} $$\n",
    "$$ h_4(L,S) = max{0, S - 750} $$\n",
    "\n",
    "Normalizando cada uma delas, tem-se:\n",
    "$$ h_1(L,S) = \\frac{max{0, 0.06*L + 0.05*S - 60}}{60} $$\n",
    "$$ h_2(L,S) = \\frac{max{0, 10*L + 20*S - 15000}}{1500} $$\n",
    "$$ h_3(L,S) = \\frac{max{0, L - 800}}{800} $$\n",
    "$$ h_4(L,S) = \\frac{max{0, S - 750}}{750} $$\n",
    "\n",
    "Sendo $\\Phi$ a soma de todas as $h_i$, tem-se $\\Phi$ normalizada:\n",
    "$$\\Phi = \\frac{\\frac{max{0, 0.06*L + 0.05*S - 60}}{60} +\n",
    "\\frac{max{0, 10*L + 20*S - 15000}}{1500} +\n",
    "\\frac{max{0, L - 800}}{800} +\n",
    "\\frac{max{0, S - 750}}{750}}{4}$$\n",
    "\n",
    "Portanto a função de fitness resultante é:\n",
    "$$f(L,S) = \\frac{5*L + 4,5*S}{7475} - \\frac{\\frac{max{0, 0.06*L + 0.05*S - 60}}{60} +\n",
    "\\frac{max{0, 10*L + 20*S - 15000}}{1500} +\n",
    "\\frac{max{0, L - 800}}{800} +\n",
    "\\frac{max{0, S - 750}}{750}}{4}$$"
   ]
  },
  {
   "cell_type": "markdown",
   "metadata": {},
   "source": [
    "### 8 - Código AG\n",
    "Implementação de Algoritmo Genético para resolução do problema"
   ]
  },
  {
   "cell_type": "markdown",
   "metadata": {},
   "source": [
    "#### Operadores\n",
    "São eles CrossOver, Mutação, Evolução e Seleção. Deve registrar cada um dos operadores para que o framework saiba qual utilizar e como utilizar"
   ]
  },
  {
   "cell_type": "code",
   "execution_count": 83,
   "metadata": {},
   "outputs": [],
   "source": [
    "# registra funcao de fitness\n",
    "toolbox.register(\"evaluate\", evaluate)\n",
    "\n",
    "# registra crossOver\n",
    "toolbox.register(\"mate\", tools.cxTwoPoint)\n",
    "\n",
    "# registra mutacao com probabilidade default de mudar cada gene de 5%\n",
    "toolbox.register(\"mutate\", tools.mutFlipBit, indpb=0.05)\n",
    "\n",
    "# registra o metodo de selecao como torneio de tamanho 3\n",
    "toolbox.register(\"select\", tools.selTournament, tournsize=2)"
   ]
  },
  {
   "cell_type": "code",
   "execution_count": 84,
   "metadata": {},
   "outputs": [],
   "source": [
    "#Funcao auxiliar para imprimir individuo resultante\n",
    "def print_ind(individual):\n",
    "    l = int(\"\".join(str(i) for i in individual[:int(IND_SIZE / GENES)]), 2)  # gene quantidade de garrafas de leite\n",
    "    s = int(\"\".join(str(i) for i in individual[int(IND_SIZE / GENES):]), 2)  # gene quantidade de garrafas de suco\n",
    "    g = 5*l + 4.5*s\n",
    "    print('Quantidade de garrafas de leite: ' + str(l))\n",
    "    print('Quantidade de garrafas de suco: ' + str(s))\n",
    "    print('Lucro: ' + str(g))\n",
    "\n",
    "#Funcao auxiliar para plotar gráfico\n",
    "def plot_log(logbook):\n",
    "    gen = logbook.select(\"gen\")\n",
    "    min = logbook.select(\"min\")\n",
    "    avg = logbook.select(\"avg\")\n",
    "    max = logbook.select(\"max\")\n",
    "\n",
    "    import matplotlib.pyplot as plt\n",
    "\n",
    "    fig, ax1 = plt.subplots()\n",
    "    line1 = ax1.plot(gen, min, \"b-\", label=\"Minimum Fitness\")\n",
    "    ax1.set_xlabel(\"Generation\")\n",
    "    ax1.set_ylabel(\"Fitness\", color=\"b\")\n",
    "    for tl in ax1.get_yticklabels():\n",
    "        tl.set_color(\"b\")\n",
    "\n",
    "    ax2 = ax1.twinx()\n",
    "    line2 = ax2.plot(gen, avg, \"g-\", label=\"Average Fitness\")\n",
    "    ax2.set_ylabel(\"Size\", color=\"g\")\n",
    "    for tl in ax2.get_yticklabels():\n",
    "        tl.set_color(\"g\")\n",
    "\n",
    "    ax3 = ax1.twinx()\n",
    "    line3 = ax3.plot(gen, max, \"y-\", label=\"Maximum Fitness\")\n",
    "    ax3.set_ylabel(\"Size\", color=\"y\")\n",
    "    for tl in ax3.get_yticklabels():\n",
    "        tl.set_color(\"y\")\n",
    "\n",
    "    lns = line1 + line2 + line3\n",
    "    labs = [l.get_label() for l in lns]\n",
    "    ax1.legend(lns, labs, loc=\"center right\")\n",
    "\n",
    "    plt.show()"
   ]
  },
  {
   "cell_type": "code",
   "execution_count": 85,
   "metadata": {},
   "outputs": [
    {
     "name": "stdout",
     "output_type": "stream",
     "text": [
      "gen\tnevals\tstd     \tmin      \tavg     \tmax     \n0  \t100   \t0.258157\t-0.794191\t0.225315\t0.525961\n1  \t50    \t0.152481\t-0.289624\t0.338313\t0.525961\n2  \t62    \t0.131658\t-0.248312\t0.380323\t0.528168\n3  \t56    \t0.0995376\t-0.00501387\t0.429824\t0.528168\n4  \t39    \t0.0784035\t0.0873192  \t0.46295 \t0.528168\n5  \t63    \t0.0880105\t-0.197347  \t0.476685\t0.528299\n6  \t45    \t0.0296906\t0.396176   \t0.503065\t0.528299\n7  \t45    \t0.0306639\t0.321383   \t0.511002\t0.528299\n8  \t55    \t0.0263126\t0.324536   \t0.514076\t0.528639\n9  \t53    \t0.0126591\t0.465195   \t0.519471\t0.528639\n10 \t47    \t0.00914135\t0.472368   \t0.522891\t0.528639"
     ]
    },
    {
     "name": "stdout",
     "output_type": "stream",
     "text": [
      "\n11 \t42    \t0.00822679\t0.472952   \t0.52447 \t0.528639\n12 \t52    \t0.0356806 \t0.172124   \t0.522494\t0.528639\n13 \t45    \t0.00659591\t0.49286    \t0.52639 \t0.528639\n14 \t49    \t0.000695188\t0.523589   \t0.528249\t0.528639\n15 \t60    \t0.000127421\t0.528271   \t0.528448\t0.528639\n16 \t57    \t0.0398508  \t0.140329   \t0.523403\t0.528639\n17 \t48    \t0.0116228  \t0.41174    \t0.527344\t0.528639\n18 \t52    \t7.9351e-05 \t0.528271   \t0.528599\t0.528639\n19 \t48    \t5.84677e-05\t0.528271   \t0.528621\t0.528639\n20 \t54    \t0.0118188  \t0.410197   \t0.527298\t0.528639"
     ]
    },
    {
     "name": "stdout",
     "output_type": "stream",
     "text": [
      "\n21 \t52    \t1.11022e-16\t0.528639   \t0.528639\t0.528639\n22 \t48    \t1.11022e-16\t0.528639   \t0.528639\t0.528639\n23 \t43    \t1.11022e-16\t0.528639   \t0.528639\t0.528639\n24 \t51    \t0.00166384 \t0.512065   \t0.528438\t0.528639\n25 \t38    \t1.11022e-16\t0.528639   \t0.528639\t0.528639\n26 \t37    \t0.0339749  \t0.187179   \t0.525224\t0.528639\n27 \t58    \t0.0644449  \t-0.119057  \t0.522162\t0.528639\n28 \t42    \t0.0117848  \t0.410197   \t0.527454\t0.528639\n29 \t51    \t0.00157426 \t0.512817   \t0.52848 \t0.528639\n30 \t54    \t1.11022e-16\t0.528639   \t0.528639\t0.528639\n31 \t56    \t0.0177404  \t0.350929   \t0.526698\t0.528639\n"
     ]
    },
    {
     "name": "stdout",
     "output_type": "stream",
     "text": [
      "32 \t39    \t0.00162897 \t0.512267   \t0.528475\t0.528639\n33 \t48    \t2.25343e-05\t0.528412   \t0.528636\t0.528639\n34 \t54    \t0.00356989 \t0.49276    \t0.52828 \t0.528639\n35 \t48    \t0.000758385\t0.521017   \t0.528562\t0.528639\n36 \t49    \t0.0328363  \t0.198605   \t0.525307\t0.528639\n37 \t63    \t1.11022e-16\t0.528639   \t0.528639\t0.528639\n38 \t44    \t0.000728221\t0.521325   \t0.528562\t0.528639\n39 \t66    \t0.00758352 \t0.461028   \t0.527602\t0.528639\n40 \t55    \t0.0339734  \t0.187179   \t0.525206\t0.528639\n41 \t42    \t0.0644823  \t-0.119432  \t0.522158\t0.528639\n42 \t37    \t0.0644448  \t-0.119057  \t0.522161\t0.528639\n43 \t62    \t0.0003591  \t0.52503    \t0.528603\t0.528639\n44 \t41    \t0.00693557 \t0.471952   \t0.52766 \t0.528639\n45 \t52    \t0.00649767 \t0.465761   \t0.527827\t0.528639\n"
     ]
    },
    {
     "name": "stdout",
     "output_type": "stream",
     "text": [
      "46 \t48    \t0.00654725 \t0.473581   \t0.527648\t0.528639\n47 \t38    \t0.0003591  \t0.52503    \t0.528603\t0.528639\n48 \t43    \t0.00181898 \t0.510356   \t0.528453\t0.528639\n49 \t54    \t0.00149958 \t0.513567   \t0.528488\t0.528639\n50 \t54    \t0.000405171\t0.524567   \t0.528598\t0.528639\n51 \t53    \t0.000359579\t0.52503    \t0.5286  \t0.528639\n52 \t49    \t1.11022e-16\t0.528639   \t0.528639\t0.528639\n53 \t46    \t0.0333974  \t0.192982   \t0.525282\t0.528639\n54 \t48    \t1.11022e-16\t0.528639   \t0.528639\t0.528639\n55 \t56    \t1.11022e-16\t0.528639   \t0.528639\t0.528639\n56 \t58    \t1.11022e-16\t0.528639   \t0.528639\t0.528639\n57 \t55    \t0.000727792\t0.521325   \t0.528563\t0.528639\n58 \t42    \t1.11022e-16\t0.528639   \t0.528639\t0.528639\n59 \t47    \t0.0745402  \t-0.119057  \t0.518327\t0.528639\n60 \t56    \t0.0644432  \t-0.119057  \t0.522142\t0.528639\n"
     ]
    },
    {
     "name": "stdout",
     "output_type": "stream",
     "text": [
      "61 \t48    \t0.0324525  \t0.20425    \t0.525021\t0.528639\n62 \t52    \t1.11022e-16\t0.528639   \t0.528639\t0.528639\n63 \t46    \t0.0264206  \t0.265319   \t0.525635\t0.528639\n64 \t54    \t0.0066248  \t0.462057   \t0.527973\t0.528639\n65 \t51    \t0.0624695  \t-0.0992033 \t0.52236 \t0.528639\n66 \t42    \t0.0113753  \t0.414313   \t0.527495\t0.528639\n67 \t56    \t0.0269667  \t0.257601   \t0.525911\t0.528639\n68 \t56    \t1.11022e-16\t0.528639   \t0.528639\t0.528639\n69 \t61    \t0.0262     \t0.265319   \t0.526005\t0.528639\n70 \t48    \t0.00181921 \t0.510356   \t0.528451\t0.528639\n71 \t49    \t0.0112831  \t0.415239   \t0.527505\t0.528639\n72 \t52    \t1.11022e-16\t0.528639   \t0.528639\t0.528639\n73 \t41    \t0.00633814 \t0.464938   \t0.528002\t0.528639\n74 \t45    \t0.0644418  \t-0.119057  \t0.52208 \t0.528639\n75 \t58    \t1.11022e-16\t0.528639   \t0.528639\t0.528639\n76 \t33    \t0.0339749  \t0.187179   \t0.525224\t0.528639\n77 \t50    \t1.11022e-16\t0.528639   \t0.528639\t0.528639"
     ]
    },
    {
     "name": "stdout",
     "output_type": "stream",
     "text": [
      "\n78 \t47    \t1.11022e-16\t0.528639   \t0.528639\t0.528639\n79 \t61    \t0.0715028  \t-0.189986  \t0.521301\t0.528639\n80 \t60    \t0.0003591  \t0.52503    \t0.528603\t0.528639\n81 \t54    \t0.0069771  \t0.469465   \t0.527664\t0.528639\n82 \t56    \t0.0644448  \t-0.119057  \t0.52216 \t0.528639\n83 \t56    \t1.11022e-16\t0.528639   \t0.528639\t0.528639\n84 \t62    \t0.0261002  \t0.266321   \t0.526016\t0.528639\n85 \t44    \t1.11022e-16\t0.528639   \t0.528639\t0.528639\n86 \t53    \t0.000809575\t0.520502   \t0.528557\t0.528639\n87 \t54    \t1.11022e-16\t0.528639   \t0.528639\t0.528639\n88 \t38    \t0.000624182\t0.522365   \t0.528576\t0.528639\n89 \t51    \t0.00360723 \t0.492385   \t0.528276\t0.528639"
     ]
    },
    {
     "name": "stdout",
     "output_type": "stream",
     "text": [
      "\n90 \t51    \t0.000624182\t0.522365   \t0.528576\t0.528639\n91 \t52    \t0.0529988  \t-0.000609059\t0.522689\t0.528639\n92 \t44    \t0.0264324  \t0.267377    \t0.525301\t0.528639\n93 \t55    \t0.00613338 \t0.466996    \t0.528022\t0.528639\n94 \t55    \t0.0118648  \t0.410197    \t0.527304\t0.528639\n95 \t52    \t0.00391021 \t0.48934     \t0.528246\t0.528639\n96 \t55    \t0.000981998\t0.518769    \t0.52854 \t0.528639\n97 \t43    \t0.0239886  \t0.287544    \t0.526227\t0.528639\n98 \t42    \t1.11022e-16\t0.528639    \t0.528639\t0.528639\n99 \t52    \t0.0018191  \t0.510356    \t0.528456\t0.528639\n100\t52    \t0.0193812  \t0.342491    \t0.526117\t0.528639\n"
     ]
    },
    {
     "name": "stdout",
     "output_type": "stream",
     "text": [
      "Quantidade de garrafas de leite: 656\nQuantidade de garrafas de suco: 413\nLucro ótimo: 5138.5\n"
     ]
    },
    {
     "data": {
      "image/png": "[encoded data removed]",
      "text/plain": [
       "<matplotlib.figure.Figure at 0x1ff23b3f198>"
      ]
     },
     "metadata": {},
     "output_type": "display_data"
    }
   ],
   "source": [
    "# ----------\n",
    "# ALGORITMO\n",
    "# ----------\n",
    "def main():\n",
    "    random.seed(94)\n",
    "\n",
    "    # cria populacao inicial\n",
    "    pop = toolbox.population(n=100)\n",
    "\n",
    "    # MU - numero de individuos selecionados para a prox geracao\n",
    "    # LAMBDA - numero de filhos a serem gerados\n",
    "    # CXPB - probabilidade de crossover\n",
    "    # MUTPB - probabilidade de mutacao\n",
    "    # NGEN - numero de geracoes\n",
    "    MU, LAMBDA_, CXPB, MUTPB, NGEN = 5, 7, 0.5, 0.02, 100\n",
    "\n",
    "    #definindo quais stats devem ser mostrados no console\n",
    "    stats = tools.Statistics(key=lambda ind: ind.fitness.values)\n",
    "    stats.register(\"std\", numpy.std)\n",
    "    stats.register(\"min\", numpy.min)\n",
    "    stats.register(\"avg\", numpy.mean)\n",
    "    stats.register(\"max\", numpy.max)\n",
    "\n",
    "    #Algoritmos do livro “Evolutionary Computation 1 : Basic Algorithms and Operators”\n",
    "    #roda o algoritmo do capitulo 7\n",
    "    pop, logbook = algorithms.eaSimple(pop, toolbox, CXPB, MUTPB, NGEN, stats=stats, verbose=True)\n",
    "\n",
    "    #Seleciona o melhor individuo da populacao resultante\n",
    "    best_ind = tools.selSPEA2(pop, 1)\n",
    "\n",
    "    #Imprime as infromações do melhor individuo\n",
    "    print_ind(best_ind[0])\n",
    "\n",
    "    #Plota gráfico\n",
    "    plot_log(logbook)\n",
    "\n",
    "\n",
    "if __name__ == \"__main__\":\n",
    "    main()"
   ]
  }
 ],
 "metadata": {
  "kernelspec": {
   "display_name": "Python 2",
   "language": "python",
   "name": "python2"
  },
  "language_info": {
   "codemirror_mode": {
    "name": "ipython",
    "version": 2.0
   },
   "file_extension": ".py",
   "mimetype": "text/x-python",
   "name": "python",
   "nbconvert_exporter": "python",
   "pygments_lexer": "ipython2",
   "version": "2.7.6"
  }
 },
 "nbformat": 4,
 "nbformat_minor": 0
}