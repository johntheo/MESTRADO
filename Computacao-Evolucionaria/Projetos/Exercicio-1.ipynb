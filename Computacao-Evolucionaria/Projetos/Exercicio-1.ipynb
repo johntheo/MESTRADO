{
 "cells": [
  {
   "cell_type": "markdown",
   "metadata": {
    "collapsed": true
   },
   "source": [
    "# Exercício 1 - Problema da fabricação de garrafas\n",
    "\n",
    "Você gerencia uma fábrica de garrafas plásticas que tem apenas uma máquina extrusora. Esta máquina pode funcionar até 60 horas por semanda, isto é, 6 dias por semana com jornada de 10 horas por dia. A máquina é capaz de produzir dois tipos de garrafas plásticas: tipo \"leite\" e tipo \"suco\". Toda a produção semanal de garrafas plásticas é armazenada temporariamente num depósito. No domingo toda a produção é despachada para os compradores e o depósito é esvaziado completamente.  \n",
    "\n",
    "A linha de produção leva 6 horas para produzir 100 garrafas tipo leite e 5 horas para produzir 100 garrafas tipo suco. Cada Carrafa tipo leite ocupa 10 unidades cúbicas de espaço no depósito, enquanto que a garrafa de tipo suco ocupa 20 unidades cúbicas. O depósito tem capacidade máxima de 15000 unidades cúbicas.  \n",
    "\n",
    "A contribuição no lucro final da empresa por garrafa tipo leite é de 5 unidades monetárias e por garrafa tipo suco é de 4,5. O departamento de vendas tem contratos de fornecimento capazes de absorver toda a produção possível de garrafas tipo suco, porém tem compradores somente para 800 garrafastipo leite por semana.  \n",
    "\n",
    "Você deve estabelecer qual é o plano de produção mais adequado para maximizar o lucro total da empresa, isto é, quantas garrafas tipo Leite e quantos tipoo Suco devem ser produzidas semanalmente.\n",
    "\n",
    "##Roteiro:\n",
    "1. Identifique a natureza do problema de otimização\n",
    "2. Identifique o conjunto de variáveis do problema\n",
    "3. Desenvolva uma codificação apropriada para o conjunto de variáveis\n",
    "4. Identifique e formule matematicamente as restrições do problema\n",
    "5. Identifique a(s) função(ões) objetivo(s)\n",
    "6. Desenvolva uma função de fitness adequada\n",
    "7. Descreva o processo de satisfação das restrições\n",
    "8. Implemente a solução proposta utilizando algoritmos genéticos"
   ]
  },
  {
   "cell_type": "markdown",
   "metadata": {},
   "source": [
    "### 1 - Natureza do problema\n",
    "Problema de maximização do lucro final e tem apenas um critério/objetivo(lucro) a ser maximizado  "
   ]
  },
  {
   "cell_type": "code",
   "execution_count": 28,
   "metadata": {},
   "outputs": [],
   "source": [
    "import random\n",
    "import numpy\n",
    "from deap import base\n",
    "from deap import creator\n",
    "from deap import tools\n",
    "from deap import algorithms\n",
    "\n",
    "# INIT\n",
    "toolbox = base.Toolbox()"
   ]
  },
  {
   "cell_type": "code",
   "execution_count": 29,
   "metadata": {},
   "outputs": [],
   "source": [
    "# Definindo a natureza do problema. No caso um problema de maximização\n",
    "creator.create(\"FitnessMax\", base.Fitness, weights=(1.0,))"
   ]
  },
  {
   "cell_type": "markdown",
   "metadata": {},
   "source": [
    "### 2 - Variáveis\n",
    "Temos somente duas variáveis: _quantidade de garrafas de leite_ e _quantidades de garrafas de suco_. Sendo assim o cromossomo será formado por dois genes correspondetes a essas variáveis. "
   ]
  },
  {
   "cell_type": "markdown",
   "metadata": {},
   "source": [
    "### 3 - Codificação\n",
    "Cada uma das variáveis só pode assumir valores inteiros. Logo precisa-se primeiramente definir o intervalo de valores possíveis para entao definir a quantidade de bits necessários\n",
    "\n",
    "- Garrafa de suco  \n",
    "-- Limite inferior = 0  \n",
    "-- Limite superior = $\\frac{limiteEstoque}{volumetriaGarrafaSuco} = \\frac{15000}{20} = 750$  \n",
    "-- Bits = $2^{10} = 1024 > 750$  \n",
    "\n",
    "- Garrafa de leite  \n",
    "-- Limite inferior = 0  \n",
    "-- Limite superior = 800 (limite definido pelos compradores)  \n",
    "-- Bits = $2^{10} = 1024 > 800$ "
   ]
  },
  {
   "cell_type": "code",
   "execution_count": 30,
   "metadata": {},
   "outputs": [],
   "source": [
    "# Definindo a estrutura do indivíduo\n",
    "IND_SIZE = 20  # Tamanho do individuo - 10 para cada gene\n",
    "GENES = 2\n",
    "creator.create(\"Individual\", list, fitness=creator.FitnessMax)\n",
    "\n",
    "# funcao para gerar o gene com valores 0 ou 1 randomicamente uniforme\n",
    "toolbox.register(\"attr_bool\", random.randint, 0, 1)\n",
    "# funcao para gerar o indivíduo (nome, forma de gerar, Estrutura, funcao geradora, tamanho)\n",
    "toolbox.register(\"individual\", tools.initRepeat, creator.Individual, toolbox.attr_bool, n=IND_SIZE)\n",
    "\n",
    "# funcao para gerar a populacao\n",
    "toolbox.register(\"population\", tools.initRepeat, list, toolbox.individual)"
   ]
  },
  {
   "cell_type": "markdown",
   "metadata": {},
   "source": [
    "### 4 - Restrições  \n",
    "As restrições servem para definir um limite de soluções possíveis para algoritmo e, dependendo da abordagem, penalizar a função de fitness ou apenas descartas as soluções com respostas fora do intervalo.  \n",
    "\n",
    "\n",
    "- Máximo tempo de utilização da máquina  \n",
    "$$ \\begin{eqnarray} HorasPorGarrafaLeite*L +HorasPorGarrafaSuco*S \\le 60 \\end{eqnarray} $$\n",
    "$$ \\begin{eqnarray} \\frac{6}{100}*L + \\frac{5}{100}*S \\le 60 \\end{eqnarray} $$\n",
    "$$ \\begin{eqnarray} 0.06*L + 0.05*S \\le 60 \\end{eqnarray} $$  \n",
    "\n",
    "- Máximo espeaço disponível no depósito  \n",
    "$$ \\begin{eqnarray} VolumeGarraLeite*L + VolumeGarrafaSuco*S \\le 15000 \\end{eqnarray} $$\n",
    "$$ \\begin{eqnarray} 10*L + 20*S \\le 15000 \\end{eqnarray} $$\n",
    "\n",
    "- Máxima demanda de garrafas de leite  \n",
    "$$ L \\le 800 $$  \n",
    "\n",
    "- Máxima produção possível de garrafas de suco  \n",
    "$$ S \\le 750 $$ \n",
    "\n",
    "De forma resumida temos as seguintes funções de restrições:\n",
    "$$ r_1(L,S) = 0.06*L + 0.05*S \\le 60 $$\n",
    "$$ r_2(L,S) = 10*L + 20*S \\le 15000 $$\n",
    "$$ r_3(L,S) = L \\le 800 $$\n",
    "$$ r_4(L,S) = S \\le 750 $$  \n"
   ]
  },
  {
   "cell_type": "markdown",
   "metadata": {},
   "source": [
    "### 5 - Função objetivo\n",
    "Modela a função a qual o problema destina-se a resolver. A função de fitness usará essa função de objetivo como base e pode ou não aplicar penalidades com base nas restrições.  \n",
    "Tendo-se o custo de cada garrafa, temos a seguinte função objetivo: $$ g(L,S) = 5*L + 4,5*S $$  "
   ]
  },
  {
   "cell_type": "markdown",
   "metadata": {},
   "source": [
    "### 6 - Função de fitness\n",
    "Uma boa prática para a função de fitness é fazer com que ela varie no intervalo [0,1] para visulizar mais facilmente seu crescimento. Tendo em vista as restrições que temos para o problema, uma boa abordagem para a função de fitness(conforme proposto por Goldberg) é a seguinte: $$ f(L,S) = g_n(L,S) - \\Phi $$  \n",
    "Onde $ g_n(L,S) $ é a função objetivo normalizada no intervalo [0,1] e $\\Phi$ é a soma das funções de restrições, também normalizada no intervalo [0,1].  \n",
    "\n",
    "Grosseiramente, podemos assumir que o máximo valor possível de $g(L,S)$ é: $5*QntdLimiteDeLeite + 4,5*QndtLimiteDeSuco = 5*800 + 4,5*750 = 7375 $. Sendo assim temos que: $$ g_n(L,S) = \\frac{5*L + 4,5*S}{7475} $$\n",
    "\n",
    "Para a função $\\Phi$ temos que determinar as funções de restrição $h_i$ para que retornem um valor positivo proporcional à violação de seus limites e um valor nulo quando isso não ocorrer. Sendo assim, temos:\n",
    "$$ h_1(L,S) = max{0, 0.06*L + 0.05*S - 60} $$\n",
    "$$ h_2(L,S) = max{0, 10*L + 20*S - 15000} $$\n",
    "$$ h_3(L,S) = max{0, L - 800} $$\n",
    "$$ h_4(L,S) = max{0, S - 750} $$\n",
    "\n",
    "Normalizando cada uma delas, tem-se:\n",
    "$$ h_1(L,S) = \\frac{max{0, 0.06*L + 0.05*S - 60}}{60} $$\n",
    "$$ h_2(L,S) = \\frac{max{0, 10*L + 20*S - 15000}}{1500} $$\n",
    "$$ h_3(L,S) = \\frac{max{0, L - 800}}{800} $$\n",
    "$$ h_4(L,S) = \\frac{max{0, S - 750}}{750} $$\n",
    "\n",
    "Sendo $\\Phi$ a soma de todas as $h_i$, tem-se $\\Phi$ normalizada:\n",
    "$$\\Phi = \\frac{\\frac{max{0, 0.06*L + 0.05*S - 60}}{60} +\n",
    "\\frac{max{0, 10*L + 20*S - 15000}}{1500} +\n",
    "\\frac{max{0, L - 800}}{800} +\n",
    "\\frac{max{0, S - 750}}{750}}{4}$$\n",
    "\n",
    "Portanto a função de fitness resultante é:\n",
    "$$f(L,S) = \\frac{5*L + 4,5*S}{7475} - \\frac{\\frac{max{0, 0.06*L + 0.05*S - 60}}{60} +\n",
    "\\frac{max{0, 10*L + 20*S - 15000}}{1500} +\n",
    "\\frac{max{0, L - 800}}{800} +\n",
    "\\frac{max{0, S - 750}}{750}}{4}$$"
   ]
  },
  {
   "cell_type": "markdown",
   "metadata": {},
   "source": [
    "#### Operadores\n",
    "São eles CrossOver, Mutação, Evolução e Seleção"
   ]
  },
  {
   "cell_type": "markdown",
   "metadata": {},
   "source": [
    "### 8 - Código AG\n",
    "Implementação de Algoritmo Genético para resolução do problema"
   ]
  },
  {
   "cell_type": "markdown",
   "metadata": {},
   "source": [
    "#### Operadores\n",
    "São eles CrossOver, Mutação, Evolução e Seleção"
   ]
  },
  {
   "cell_type": "code",
   "execution_count": 32,
   "metadata": {},
   "outputs": [],
   "source": [
    "# registra funcao de fitness\n",
    "toolbox.register(\"evaluate\", evaluate)\n",
    "\n",
    "# registra crossOver\n",
    "toolbox.register(\"mate\", tools.cxTwoPoint)\n",
    "\n",
    "# registra mutacao com probabilidade default de mudar cada gene de 5%\n",
    "toolbox.register(\"mutate\", tools.mutFlipBit, indpb=0.05)\n",
    "\n",
    "# registra o metodo de selecao como torneio de tamanho 3\n",
    "toolbox.register(\"select\", tools.selTournament, tournsize=2)"
   ]
  },
  {
   "cell_type": "code",
   "execution_count": 33,
   "metadata": {},
   "outputs": [],
   "source": [
    "#Funcao auxiliar para imprimir individuo resultante\n",
    "def print_ind(individual):\n",
    "    l = int(\"\".join(str(i) for i in individual[:int(IND_SIZE / GENES)]), 2)  # gene quantidade de garrafas de leite\n",
    "    s = int(\"\".join(str(i) for i in individual[int(IND_SIZE / GENES):]), 2)  # gene quantidade de garrafas de suco\n",
    "    g = 5*l + 4.5*s\n",
    "    print('Quantidade de garrafas de leite: ' + str(l))\n",
    "    print('Quantidade de garrafas de suco: ' + str(s))\n",
    "    print('Lucro ótimo: ' + str(g))\n",
    "\n",
    "#Funcao auxiliar para plotar gráfico\n",
    "def plot_log(logbook):\n",
    "    gen = logbook.select(\"gen\")\n",
    "    min = logbook.select(\"min\")\n",
    "    avg = logbook.select(\"avg\")\n",
    "    max = logbook.select(\"max\")\n",
    "\n",
    "    import matplotlib.pyplot as plt\n",
    "\n",
    "    fig, ax1 = plt.subplots()\n",
    "    line1 = ax1.plot(gen, min, \"b-\", label=\"Minimum Fitness\")\n",
    "    ax1.set_xlabel(\"Generation\")\n",
    "    ax1.set_ylabel(\"Fitness\", color=\"b\")\n",
    "    for tl in ax1.get_yticklabels():\n",
    "        tl.set_color(\"b\")\n",
    "\n",
    "    ax2 = ax1.twinx()\n",
    "    line2 = ax2.plot(gen, avg, \"g-\", label=\"Average Fitness\")\n",
    "    ax2.set_ylabel(\"Size\", color=\"g\")\n",
    "    for tl in ax2.get_yticklabels():\n",
    "        tl.set_color(\"g\")\n",
    "\n",
    "    ax3 = ax1.twinx()\n",
    "    line3 = ax3.plot(gen, max, \"y-\", label=\"Maximum Fitness\")\n",
    "    ax3.set_ylabel(\"Size\", color=\"y\")\n",
    "    for tl in ax3.get_yticklabels():\n",
    "        tl.set_color(\"y\")\n",
    "\n",
    "    lns = line1 + line2 + line3\n",
    "    labs = [l.get_label() for l in lns]\n",
    "    ax1.legend(lns, labs, loc=\"center right\")\n",
    "\n",
    "    plt.show()"
   ]
  },
  {
   "cell_type": "code",
   "execution_count": 33,
   "metadata": {},
   "outputs": [
    {
     "name": "stdout",
     "output_type": "stream",
     "text": [
      "gen\tnevals\tstd    \tmin\tavg     \tmax     \n0  \t100   \t0.23388\t0  \t0.212512\t0.677559\n1  \t50    \t0.218706\t0  \t0.320868\t0.677559\n2  \t62    \t0.162181\t0  \t0.428766\t0.696   \n3  \t56    \t0.147226\t0  \t0.496186\t0.696   \n4  \t39    \t0.167812\t0  \t0.518457\t0.696   \n5  \t63    \t0.174893\t0  \t0.518612\t0.696   \n6  \t45    \t0.142907\t0  \t0.553709\t0.696   \n7  \t45    \t0.129281\t0  \t0.573899\t0.696   \n8  \t55    \t0.159925\t0  \t0.576912\t0.69661 \n9  \t53    \t0.119195\t0  \t0.613726\t0.696   \n10 \t47    \t0.103516\t0  \t0.629606\t0.696   \n11 \t42    \t0.113763\t0  \t0.637679\t0.69661 \n12 \t52    \t0.0930034\t0  \t0.652629\t0.696   \n13 \t45    \t0.0979277\t0.181141\t0.6557  \t0.69661 \n14 \t49    \t0.0367316\t0.37278 \t0.68258 \t0.69661 \n15 \t60    \t0.0339382\t0.364723\t0.690386\t0.69661 \n16 \t57    \t0.0773697\t0       \t0.684303\t0.696678"
     ]
    },
    {
     "name": "stdout",
     "output_type": "stream",
     "text": [
      "\n17 \t48    \t0.0154926\t0.540475\t0.694518\t0.69661 \n18 \t52    \t0.00030208\t0.696   \t0.696262\t0.69661 \n19 \t48    \t0.00029761\t0.696   \t0.696372\t0.69661 \n20 \t54    \t0.0163522 \t0.540407\t0.69434 \t0.69661 \n21 \t52    \t8.54237e-05\t0.696   \t0.696598\t0.69661 \n22 \t48    \t2.22045e-16\t0.69661 \t0.69661 \t0.69661 \n23 \t43    \t2.22045e-16\t0.69661 \t0.69661 \t0.69661 \n24 \t51    \t0.0022073  \t0.674644\t0.696342\t0.69661 \n25 \t38    \t2.22045e-16\t0.69661 \t0.69661 \t0.69661 \n26 \t37    \t0.0693118  \t0       \t0.689644\t0.69661 \n27 \t58    \t0.0693118  \t0       \t0.689644\t0.69661 \n28 \t42    \t0.015542   \t0.540407\t0.695048\t0.69661 \n29 \t51    \t0.0201482  \t0.494113\t0.694585\t0.69661 \n30 \t54    \t2.22045e-16\t0.69661 \t0.69661 \t0.69661 \n"
     ]
    },
    {
     "name": "stdout",
     "output_type": "stream",
     "text": [
      "31 \t56    \t0.0303931  \t0.462305\t0.692284\t0.69661 \n32 \t39    \t0.0197367  \t0.498249\t0.694627\t0.69661 \n33 \t48    \t0.000269827\t0.693898\t0.696583\t0.69661 \n34 \t54    \t0.0469915  \t0.224328\t0.691887\t0.69661 \n35 \t48    \t0.00581815 \t0.638136\t0.696025\t0.69661 \n36 \t49    \t0.0693089  \t0       \t0.689602\t0.69661 \n37 \t63    \t2.22045e-16\t0.69661 \t0.69661 \t0.69661 \n38 \t44    \t0.000972661\t0.686847\t0.696506\t0.69661 \n39 \t66    \t0.0477321  \t0.224328\t0.690968\t0.69661 \n40 \t55    \t0.0695473  \t0       \t0.688939\t0.69661 \n41 \t42    \t0.0693118  \t0       \t0.689644\t0.69661 \n42 \t37    \t0.0693106  \t0       \t0.689631\t0.69661 \n43 \t62    \t0.000485689\t0.691729\t0.696561\t0.69661 \n44 \t41    \t0.0890924  \t0       \t0.683947\t0.69661 \n45 \t52    \t0.034736   \t0.356667\t0.692381\t0.69661 \n46 \t48    \t0.0478625  \t0.224328\t0.690527\t0.69661 \n47 \t38    \t0.000485689\t0.691729\t0.696561\t0.69661 "
     ]
    },
    {
     "name": "stdout",
     "output_type": "stream",
     "text": [
      "\n48 \t43    \t0.0338224  \t0.356667\t0.693184\t0.696678\n49 \t54    \t0.0213385  \t0.482136\t0.694433\t0.696678\n50 \t54    \t0.000607009\t0.691119\t0.696524\t0.696678\n51 \t53    \t0.000612082\t0.691729\t0.696503\t0.696678\n52 \t49    \t0.000462584\t0.693955\t0.696516\t0.696678\n53 \t46    \t0.0441876  \t0.252407\t0.692035\t0.696678\n54 \t48    \t0.000533788\t0.693955\t0.69647 \t0.696678\n55 \t56    \t0.000463144\t0.693955\t0.696518\t0.696678\n"
     ]
    },
    {
     "name": "stdout",
     "output_type": "stream",
     "text": [
      "56 \t58    \t0.000589616\t0.693955\t0.696455\t0.696678\n57 \t55    \t0.00114998 \t0.686847\t0.696328\t0.696678\n58 \t42    \t0.0005373  \t0.693955\t0.696494\t0.696678\n59 \t47    \t0.0975181  \t0       \t0.682619\t0.696678\n60 \t56    \t0.0692957  \t0       \t0.689429\t0.696678\n61 \t48    \t0.061185   \t0.25035 \t0.687833\t0.696678\n62 \t52    \t6.74568e-05\t0.696   \t0.696671\t0.696678\n63 \t46    \t0.0564527  \t0.244362\t0.688684\t0.696678\n64 \t54    \t0.0087424  \t0.608814\t0.695799\t0.696678\n65 \t51    \t0.0693186  \t0       \t0.689711\t0.696678\n66 \t42    \t0.0160817  \t0.535051\t0.695062\t0.696678\n67 \t56    \t0.0335244  \t0.359729\t0.693284\t0.696678\n68 \t56    \t2.22045e-16\t0.696678\t0.696678\t0.696678\n69 \t61    \t0.0345379  \t0.349559\t0.693207\t0.696678\n70 \t48    \t0.0336238  \t0.358734\t0.693244\t0.696678"
     ]
    },
    {
     "name": "stdout",
     "output_type": "stream",
     "text": [
      "\n71 \t49    \t0.0162031  \t0.533831\t0.695049\t0.696678\n72 \t52    \t2.22045e-16\t0.696678\t0.696678\t0.696678\n73 \t41    \t0.00890429 \t0.607186\t0.695783\t0.696678\n74 \t45    \t0.0694667  \t0       \t0.68918 \t0.696678\n75 \t58    \t2.22045e-16\t0.696678\t0.696678\t0.696678\n76 \t33    \t0.0693186  \t0       \t0.689711\t0.696678\n77 \t50    \t2.22045e-16\t0.696678\t0.696678\t0.696678\n78 \t47    \t2.22045e-16\t0.696678\t0.696678\t0.696678\n79 \t61    \t0.0722654  \t0       \t0.68758 \t0.696678\n80 \t60    \t0.000485689\t0.691797\t0.696629\t0.696678\n81 \t54    \t0.0434478  \t0.266249\t0.691579\t0.696678\n82 \t56    \t0.0693167  \t0       \t0.689691\t0.696678\n83 \t56    \t2.22045e-16\t0.696678\t0.696678\t0.696678\n84 \t62    \t0.0693186  \t0       \t0.689711\t0.696678\n85 \t44    \t2.22045e-16\t0.696678\t0.696678\t0.696678\n86 \t53    \t0.00528861 \t0.643525\t0.696146\t0.696678\n87 \t54    \t2.22045e-16\t0.696678\t0.696678\t0.696678\n88 \t38    \t0.0145572  \t0.550373\t0.695215\t0.696678\n89 \t51    \t0.0461966  \t0.232384\t0.692035\t0.696678\n"
     ]
    },
    {
     "name": "stdout",
     "output_type": "stream",
     "text": [
      "90 \t51    \t0.0145572  \t0.550373\t0.695215\t0.696678\n91 \t52    \t0.0697677  \t0       \t0.688843\t0.696678\n92 \t44    \t0.0412258  \t0.346847\t0.689873\t0.696678\n93 \t55    \t0.00917412 \t0.604475\t0.695756\t0.696678\n94 \t55    \t0.0261124  \t0.484203\t0.692991\t0.696678\n95 \t52    \t0.0693186  \t0       \t0.689711\t0.696678\n96 \t55    \t0.0147281  \t0.548655\t0.695198\t0.696678\n97 \t43    \t0.0316227  \t0.378847\t0.693487\t0.696678\n98 \t42    \t2.22045e-16\t0.696678\t0.696678\t0.696678\n99 \t52    \t0.033625   \t0.358734\t0.693299\t0.696678\n100\t52    \t0.025559   \t0.451254\t0.693338\t0.696678\n"
     ]
    },
    {
     "name": "stdout",
     "output_type": "stream",
     "text": [
      "Quantidade de garrafas de leite: 655\nQuantidade de garrafas de suco: 414\nLucro ótimo: 5138.0\n"
     ]
    },
    {
     "data": {
      "image/png": "[encoded data removed]",
      "text/plain": [
       "<matplotlib.figure.Figure at 0x1ff23911f28>"
      ]
     },
     "metadata": {},
     "output_type": "display_data"
    }
   ],
   "source": [
    "# ----------\n",
    "# ALGORITMO\n",
    "# ----------\n",
    "def main():\n",
    "    random.seed(94)\n",
    "\n",
    "    # cria populacao inicial\n",
    "    pop = toolbox.population(n=100)\n",
    "\n",
    "    # MU - numero de individuos selecionados para a prox geracao\n",
    "    # LAMBDA - numero de filhos a serem gerados\n",
    "    # CXPB - probabilidade de crossover\n",
    "    # MUTPB - probabilidade de mutacao\n",
    "    # NGEN - numero de geracoes\n",
    "    MU, LAMBDA_, CXPB, MUTPB, NGEN = 5, 7, 0.5, 0.02, 100\n",
    "\n",
    "    #definindo quais stats devem ser mostrados\n",
    "    stats = tools.Statistics(key=lambda ind: ind.fitness.values)\n",
    "    stats.register(\"std\", numpy.std)\n",
    "    stats.register(\"min\", numpy.min)\n",
    "    stats.register(\"avg\", numpy.mean)\n",
    "    stats.register(\"max\", numpy.max)\n",
    "\n",
    "    #Algoritmos do livro “Evolutionary Computation 1 : Basic Algorithms and Operators”\n",
    "    #roda o algoritmo do capitulo 7\n",
    "    pop, logbook = algorithms.eaSimple(pop, toolbox, CXPB, MUTPB, NGEN, stats=stats, verbose=True)\n",
    "\n",
    "    #Seleciona o melhor individuo da populacao resultante\n",
    "    best_ind = tools.selSPEA2(pop, 1)\n",
    "\n",
    "    #Imprime as infromações do melhor individuo\n",
    "    print_ind(best_ind[0])\n",
    "\n",
    "    #Plota gráfico\n",
    "    plot_log(logbook)\n",
    "\n",
    "\n",
    "if __name__ == \"__main__\":\n",
    "    main()"
   ]
  },
  {
   "cell_type": "code",
   "execution_count": null,
   "metadata": {},
   "outputs": [],
   "source": [
    ""
   ]
  }
 ],
 "metadata": {
  "kernelspec": {
   "display_name": "Python 2",
   "language": "python",
   "name": "python2"
  },
  "language_info": {
   "codemirror_mode": {
    "name": "ipython",
    "version": 2.0
   },
   "file_extension": ".py",
   "mimetype": "text/x-python",
   "name": "python",
   "nbconvert_exporter": "python",
   "pygments_lexer": "ipython2",
   "version": "2.7.6"
  }
 },
 "nbformat": 4,
 "nbformat_minor": 0
}