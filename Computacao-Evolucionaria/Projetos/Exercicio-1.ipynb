{
 "cells": [
  {
   "cell_type": "markdown",
   "metadata": {
    "collapsed": true
   },
   "source": [
    "# Exercício 1 - Problema da fabricação de garrafas\n",
    "\n",
    "Você gerencia uma fábrica de garrafas plásticas que tem apenas uma máquina extrusora. Esta máquina pode funcionar até 60 horas por semanda, isto é, 6 dias por semana com jornada de 10 horas por dia. A máquina é capaz de produzir dois tipos de garrafas plásticas: tipo \"leite\" e tipo \"suco\". Toda a produção semanal de garrafas plásticas é armazenada temporariamente num depósito. No domingo toda a produção é despachada para os compradores e o depósito é esvaziado completamente.  \n",
    "\n",
    "A linha de produção leva 6 horas para produzir 100 garrafas tipo leite e 5 horas para produzir 100 garrafas tipo suco. Cada Carrafa tipo leite ocupa 10 unidades cúbicas de espaço no depósito, enquanto que a garrafa de tipo suco ocupa 20 unidades cúbicas. O depósito tem capacidade máxima de 15000 unidades cúbicas.  \n",
    "\n",
    "A contribuição no lucro final da empresa por garrafa tipo leite é de 5 unidades monetárias e por garrafa tipo suco é de 4,5. O departamento de vendas tem contratos de fornecimento capazes de absorver toda a produção possível de garrafas tipo suco, porém tem compradores somente para 800 garrafastipo leite por semana.  \n",
    "\n",
    "Você deve estabelecer qual é o plano de produção mais adequado para maximizar o lucro total da empresa, isto é, quantas garrafas tipo Leite e quantos tipoo Suco devem ser produzidas semanalmente.\n",
    "\n",
    "##Roteiro:\n",
    "1. Identifique a natureza do problema de otimização\n",
    "2. Identifique o conjunto de variáveis do problema\n",
    "3. Desenvolva uma codificação apropriada para o conjunto de variáveis\n",
    "4. Identifique e formule matematicamente as restrições do problema\n",
    "5. Identifique a(s) função(ões) objetivo(s)\n",
    "6. Desenvolva uma função de fitness adequada\n",
    "7. Descreva o processo de satisfação das restrições\n",
    "8. Implemente a solução proposta utilizando algoritmos genéticos"
   ]
  },
  {
   "cell_type": "markdown",
   "metadata": {},
   "source": [
    "### 1 - Natureza do problema\n",
    "Problema de maximização do lucro final e tem apenas um critério/objetivo(lucro) a ser maximizado  "
   ]
  },
  {
   "cell_type": "code",
   "execution_count": 2,
   "metadata": {},
   "outputs": [],
   "source": [
    "import random\n",
    "import numpy\n",
    "from deap import base\n",
    "from deap import creator\n",
    "from deap import tools\n",
    "from deap import algorithms\n",
    "\n",
    "# INIT\n",
    "toolbox = base.Toolbox()"
   ]
  },
  {
   "cell_type": "code",
   "execution_count": 3,
   "metadata": {},
   "outputs": [],
   "source": [
    "# Definindo a natureza do problema. No caso um problema de maximização\n",
    "creator.create(\"FitnessMax\", base.Fitness, weights=(1.0,))"
   ]
  },
  {
   "cell_type": "markdown",
   "metadata": {},
   "source": [
    "### 2 - Variáveis\n",
    "Temos somente duas variáveis: _quantidade de garrafas de leite_ e _quantidades de garrafas de suco_. Sendo assim o cromossomo será formado por dois genes correspondetes a essas variáveis. "
   ]
  },
  {
   "cell_type": "markdown",
   "metadata": {},
   "source": [
    "### 3 - Codificação\n",
    "Cada uma das variáveis só pode assumir valores inteiros. Logo precisa-se primeiramente definir o intervalo de valores possíveis para entao definir a quantidade de bits necessários\n",
    "\n",
    "- Garrafa de suco  \n",
    "-- Limite inferior = 0  \n",
    "-- Limite superior = $\\frac{limiteEstoque}{volumetriaGarrafaSuco} = \\frac{15000}{20} = 750$  \n",
    "-- Bits = $2^{10} = 1024 > 750$  \n",
    "\n",
    "- Garrafa de leite  \n",
    "-- Limite inferior = 0  \n",
    "-- Limite superior = 800 (limite definido pelos compradores)  \n",
    "-- Bits = $2^{10} = 1024 > 800$ "
   ]
  },
  {
   "cell_type": "code",
   "execution_count": 4,
   "metadata": {},
   "outputs": [],
   "source": [
    "# Definindo a estrutura do indivíduo\n",
    "IND_SIZE = 20  # Tamanho do individuo - 10 para cada gene\n",
    "GENES = 2\n",
    "creator.create(\"Individual\", list, fitness=creator.FitnessMax)\n",
    "\n",
    "# funcao para gerar o gene com valores 0 ou 1 randomicamente uniforme\n",
    "toolbox.register(\"attr_bool\", random.randint, 0, 1)\n",
    "# funcao para gerar o indivíduo (nome, forma de gerar, Estrutura, funcao geradora, tamanho)\n",
    "toolbox.register(\"individual\", tools.initRepeat, creator.Individual, toolbox.attr_bool, n=IND_SIZE)\n",
    "\n",
    "# funcao para gerar a populacao\n",
    "toolbox.register(\"population\", tools.initRepeat, list, toolbox.individual)"
   ]
  },
  {
   "cell_type": "markdown",
   "metadata": {},
   "source": [
    "### 4 - Restrições  \n",
    "As restrições servem para definir um limite de soluções possíveis para algoritmo e, dependendo da abordagem, penalizar a função de fitness ou apenas descartas as soluções com respostas fora do intervalo.  \n",
    "\n",
    "\n",
    "- Máximo tempo de utilização da máquina  \n",
    "$$ \\begin{eqnarray} HorasPorGarrafaLeite*L +HorasPorGarrafaSuco*S \\le 60 \\end{eqnarray} $$\n",
    "$$ \\begin{eqnarray} \\frac{6}{100}*L + \\frac{5}{100}*S \\le 60 \\end{eqnarray} $$\n",
    "$$ \\begin{eqnarray} 0.06*L + 0.05*S \\le 60 \\end{eqnarray} $$  \n",
    "\n",
    "- Máximo espeaço disponível no depósito  \n",
    "$$ \\begin{eqnarray} VolumeGarraLeite*L + VolumeGarrafaSuco*S \\le 15000 \\end{eqnarray} $$\n",
    "$$ \\begin{eqnarray} 10*L + 20*S \\le 15000 \\end{eqnarray} $$\n",
    "\n",
    "- Máxima demanda de garrafas de leite  \n",
    "$$ L \\le 800 $$  \n",
    "\n",
    "- Máxima produção possível de garrafas de suco  \n",
    "$$ S \\le 750 $$ \n",
    "\n",
    "De forma resumida temos as seguintes funções de restrições:\n",
    "$$ r_1(L,S) = 0.06*L + 0.05*S \\le 60 $$\n",
    "$$ r_2(L,S) = 10*L + 20*S \\le 15000 $$\n",
    "$$ r_3(L,S) = L \\le 800 $$\n",
    "$$ r_4(L,S) = S \\le 750 $$  \n"
   ]
  },
  {
   "cell_type": "markdown",
   "metadata": {},
   "source": [
    "### 5 - Função objetivo\n",
    "Modela a função a qual o problema destina-se a resolver. A função de fitness usará essa função de objetivo como base e pode ou não aplicar penalidades com base nas restrições.  \n",
    "Tendo-se o custo de cada garrafa, temos a seguinte função objetivo: $$ g(L,S) = 5*L + 4,5*S $$  "
   ]
  },
  {
   "cell_type": "markdown",
   "metadata": {},
   "source": [
    "### 6 - Função de fitness\n",
    "Uma boa prática para a função de fitness é fazer com que ela varie no intervalo [0,1] para visulizar mais facilmente seu crescimento. Tendo em vista as restrições que temos para o problema, uma boa abordagem para a função de fitness(conforme proposto por Goldberg) é a seguinte: $$ f(L,S) = g_n(L,S) - \\Phi $$  \n",
    "Onde $ g_n(L,S) $ é a função objetivo normalizada no intervalo [0,1] e $\\Phi$ é a soma das funções de restrições, também normalizada no intervalo [0,1].  \n",
    "\n",
    "Grosseiramente, podemos assumir que o máximo valor possível de $g(L,S)$ é: $5*QntdLimiteDeLeite + 4,5*QndtLimiteDeSuco = 5*800 + 4,5*750 = 7375 $. Sendo assim temos que: $$ g_n(L,S) = \\frac{5*L + 4,5*S}{7475} $$\n",
    "\n",
    "Para a função $\\Phi$ temos que determinar as funções de restrição $h_i$ para que retornem um valor positivo proporcional à violação de seus limites e um valor nulo quando isso não ocorrer. Sendo assim, temos:\n",
    "$$ h_1(L,S) = max{0, 0.06*L + 0.05*S - 60} $$\n",
    "$$ h_2(L,S) = max{0, 10*L + 20*S - 15000} $$\n",
    "$$ h_3(L,S) = max{0, L - 800} $$\n",
    "$$ h_4(L,S) = max{0, S - 750} $$\n",
    "\n",
    "Normalizando cada uma delas, tem-se:\n",
    "$$ h_1(L,S) = \\frac{max{0, 0.06*L + 0.05*S - 60}}{60} $$\n",
    "$$ h_2(L,S) = \\frac{max{0, 10*L + 20*S - 15000}}{1500} $$\n",
    "$$ h_3(L,S) = \\frac{max{0, L - 800}}{800} $$\n",
    "$$ h_4(L,S) = \\frac{max{0, S - 750}}{750} $$\n",
    "\n",
    "Sendo $\\Phi$ a soma de todas as $h_i$, tem-se $\\Phi$ normalizada:\n",
    "$$\\Phi = \\frac{\\frac{max{0, 0.06*L + 0.05*S - 60}}{60} +\n",
    "\\frac{max{0, 10*L + 20*S - 15000}}{1500} +\n",
    "\\frac{max{0, L - 800}}{800} +\n",
    "\\frac{max{0, S - 750}}{750}}{4}$$\n",
    "\n",
    "Portanto a função de fitness resultante é:\n",
    "$$f(L,S) = \\frac{5*L + 4,5*S}{7475} - \\frac{\\frac{max{0, 0.06*L + 0.05*S - 60}}{60} +\n",
    "\\frac{max{0, 10*L + 20*S - 15000}}{1500} +\n",
    "\\frac{max{0, L - 800}}{800} +\n",
    "\\frac{max{0, S - 750}}{750}}{4}$$"
   ]
  },
  {
   "cell_type": "markdown",
   "metadata": {},
   "source": [
    "#### Operadores\n",
    "São eles CrossOver, Mutação, Evolução e Seleção"
   ]
  },
  {
   "cell_type": "markdown",
   "metadata": {},
   "source": [
    "### 8 - Código AG\n",
    "Implementação de Algoritmo Genético para resolução do problema"
   ]
  },
  {
   "cell_type": "markdown",
   "metadata": {},
   "source": [
    "#### Operadores\n",
    "São eles CrossOver, Mutação, Evolução e Seleção"
   ]
  },
  {
   "cell_type": "code",
   "execution_count": 6,
   "metadata": {},
   "outputs": [],
   "source": [
    "# registra funcao de fitness\n",
    "toolbox.register(\"evaluate\", evaluate)\n",
    "\n",
    "# registra crossOver\n",
    "toolbox.register(\"mate\", tools.cxTwoPoint)\n",
    "\n",
    "# registra mutacao com probabilidade default de mudar cada gene de 5%\n",
    "toolbox.register(\"mutate\", tools.mutFlipBit, indpb=0.05)\n",
    "\n",
    "# registra o metodo de selecao como torneio de tamanho 3\n",
    "toolbox.register(\"select\", tools.selTournament, tournsize=2)"
   ]
  },
  {
   "cell_type": "code",
   "execution_count": 6,
   "metadata": {},
   "outputs": [
    {
     "name": "stdout",
     "output_type": "stream",
     "text": [
      "gen\tnevals\tstd     \tmin     \tavg     \tmax     \n0  \t100   \t0.158158\t0.141695\t0.569281\t0.751524\n1  \t50    \t0.12227 \t0.194034\t0.640337\t0.759579\n2  \t62    \t0.0819127\t0.297763\t0.696414\t0.759579\n3  \t56    \t0.0294095\t0.558576\t0.730347\t0.759648\n4  \t39    \t0.0149567\t0.674169\t0.741309\t0.759648\n5  \t63    \t0.0215802\t0.540297\t0.74731 \t0.759648\n6  \t45    \t0.00438602\t0.732153\t0.75181 \t0.759784\n7  \t45    \t0.00349997\t0.746424\t0.754339\t0.759784"
     ]
    },
    {
     "name": "stdout",
     "output_type": "stream",
     "text": [
      "\n8  \t55    \t0.00473198\t0.718173\t0.755917\t0.75975 \n9  \t53    \t0.00215599\t0.751062\t0.758102\t0.75975 \n10 \t47    \t0.00113315\t0.752807\t0.759214\t0.75975 \n11 \t42    \t0.0012986 \t0.747603\t0.75943 \t0.75975 \n12 \t52    \t0.00636678\t0.69567 \t0.759016\t0.75975 \n13 \t45    \t0.000225141\t0.757456\t0.759656\t0.75975 \n14 \t49    \t4.68321e-05\t0.759579\t0.759698\t0.75975 \n15 \t60    \t3.88436e-05\t0.759631\t0.759722\t0.75975 \n16 \t57    \t0.00984225 \t0.687405\t0.758303\t0.759802\n17 \t48    \t0.00664054 \t0.693005\t0.759075\t0.75975 \n18 \t52    \t2.22045e-16\t0.75975 \t0.75975 \t0.75975 \n19 \t48    \t2.22045e-16\t0.75975 \t0.75975 \t0.75975 \n20 \t54    \t0.00665037 \t0.692954\t0.759042\t0.75975 \n21 \t52    \t2.22045e-16\t0.75975 \t0.75975 \t0.75975 \n22 \t48    \t2.22045e-16\t0.75975 \t0.75975 \t0.75975 \n23 \t43    \t2.22045e-16\t0.75975 \t0.75975 \t0.75975 \n24 \t51    \t0.00149941 \t0.74468 \t0.759598\t0.75975 \n"
     ]
    },
    {
     "name": "stdout",
     "output_type": "stream",
     "text": [
      "25 \t38    \t2.22045e-16\t0.75975 \t0.75975 \t0.75975 \n26 \t37    \t0.00637589 \t0.69567 \t0.75911 \t0.75975 \n27 \t58    \t0.00715463 \t0.687844\t0.759031\t0.75975 \n28 \t42    \t0.00664618 \t0.692954\t0.759082\t0.75975 \n29 \t51    \t0.000228299\t0.757456\t0.759727\t0.75975 \n30 \t54    \t2.22045e-16\t0.75975 \t0.75975 \t0.75975 \n31 \t56    \t0.0032792  \t0.726852\t0.759398\t0.75975 \n32 \t39    \t0.000231742\t0.757421\t0.759727\t0.75975 \n33 \t48    \t2.03776e-05\t0.759546\t0.759748\t0.75975 \n34 \t54    \t0.00043622 \t0.755366\t0.759707\t0.75975 \n35 \t48    \t7.64159e-05\t0.758982\t0.759743\t0.75975 \n36 \t49    \t0.014805   \t0.61095 \t0.758257\t0.75975 \n37 \t63    \t2.22045e-16\t0.75975 \t0.75975 \t0.75975 \n38 \t44    \t0.000322109\t0.756513\t0.759717\t0.75975 \n39 \t66    \t0.000785747\t0.753137\t0.759638\t0.75975 "
     ]
    },
    {
     "name": "stdout",
     "output_type": "stream",
     "text": [
      "\n40 \t55    \t0.00642988 \t0.69567 \t0.759016\t0.75975 \n41 \t42    \t0.00716612 \t0.687728\t0.75903 \t0.75975 \n42 \t37    \t0.00715454 \t0.687844\t0.75903 \t0.75975 \n43 \t62    \t5.45276e-05\t0.759202\t0.759745\t0.75975 \n44 \t41    \t0.00086211 \t0.753174\t0.759628\t0.75975 \n45 \t52    \t0.000979524\t0.750434\t0.759624\t0.75975 \n46 \t48    \t0.000937665\t0.751392\t0.759615\t0.75975 \n47 \t38    \t5.45276e-05\t0.759202\t0.759745\t0.75975 \n48 \t43    \t0.000326458\t0.756474\t0.759715\t0.75975 \n49 \t54    \t0.00021811 \t0.757558\t0.759728\t0.75975 \n50 \t54    \t6.13435e-05\t0.759134\t0.759744\t0.75975 \n51 \t53    \t5.80177e-05\t0.759202\t0.759743\t0.75975 \n52 \t49    \t2.22045e-16\t0.75975 \t0.75975 \t0.75975 \n53 \t46    \t0.00997317 \t0.659516\t0.758748\t0.75975 \n54 \t48    \t2.22045e-16\t0.75975 \t0.75975 \t0.75975 \n55 \t56    \t2.22045e-16\t0.75975 \t0.75975 \t0.75975 \n56 \t58    \t2.22045e-16\t0.75975 \t0.75975 \t0.75975 \n57 \t55    \t0.000322545\t0.756513\t0.759716\t0.75975 \n58 \t42    \t2.22045e-16\t0.75975 \t0.75975 \t0.75975 \n59 \t47    \t0.0098289  \t0.687844\t0.758346\t0.75975 \n60 \t56    \t0.00715451 \t0.687844\t0.75903 \t0.75975 \n61 \t48    \t0.018529   \t0.573537\t0.757842\t0.75975 \n62 \t52    \t2.22045e-16\t0.75975 \t0.75975 \t0.75975 \n63 \t46    \t0.0150361  \t0.608653\t0.758195\t0.75975 \n64 \t54    \t0.000763386\t0.752078\t0.759674\t0.75975 \n65 \t51    \t0.0075201  \t0.684171\t0.758995\t0.75975 \n66 \t42    \t0.00660542 \t0.693363\t0.759086\t0.75975 \n67 \t56    \t0.0142709  \t0.616322\t0.758315\t0.75975 "
     ]
    },
    {
     "name": "stdout",
     "output_type": "stream",
     "text": [
      "\n68 \t56    \t2.22045e-16\t0.75975 \t0.75975 \t0.75975 \n69 \t61    \t0.015034   \t0.608653\t0.758239\t0.75975 \n70 \t48    \t0.000328987\t0.756474\t0.759722\t0.76016 \n71 \t49    \t0.00655433 \t0.693893\t0.759104\t0.76016 \n72 \t52    \t8.02658e-05\t0.75975 \t0.759767\t0.76016 \n73 \t41    \t0.000687633\t0.752992\t0.759724\t0.76016 \n74 \t45    \t0.00716687 \t0.687844\t0.759125\t0.76016 \n75 \t58    \t0.000201457\t0.75975 \t0.759918\t0.76016 \n76 \t33    \t0.00640668 \t0.69567 \t0.759388\t0.76016 \n77 \t50    \t0.000150163\t0.75975 \t0.760094\t0.76016 \n78 \t47    \t6.98733e-05\t0.75975 \t0.760148\t0.76016 \n79 \t61    \t0.00878828 \t0.67184 \t0.759255\t0.760211\n80 \t60    \t5.48162e-05\t0.759612\t0.760155\t0.760211\n81 \t54    \t0.00099348 \t0.751392\t0.760024\t0.760211\n82 \t56    \t0.0073665  \t0.686128\t0.759424\t0.760211\n83 \t56    \t2.0086e-05 \t0.76016 \t0.76017 \t0.760211\n84 \t62    \t0.0132986  \t0.626522\t0.758841\t0.760211\n85 \t44    \t2.54153e-05\t0.76016 \t0.760189\t0.760211\n86 \t53    \t8.80888e-05\t0.759341\t0.760191\t0.760211\n87 \t54    \t1.30637e-05\t0.76016 \t0.760208\t0.760211\n88 \t38    \t0.000831967\t0.75185 \t0.760128\t0.760211\n89 \t51    \t0.000441315\t0.755776\t0.760167\t0.760211\n90 \t51    \t0.000831967\t0.75185 \t0.760128\t0.760211\n91 \t52    \t0.0333107  \t0.425424\t0.756798\t0.760211\n92 \t44    \t0.0153358  \t0.606096\t0.758591\t0.760211\n93 \t55    \t0.000692837\t0.753248\t0.760142\t0.760211\n94 \t55    \t0.00664755 \t0.693415\t0.759521\t0.760211\n95 \t52    \t0.00270389 \t0.733036\t0.759939\t0.760211\n96 \t55    \t0.000272638\t0.757471\t0.760184\t0.760211\n97 \t43    \t0.0168598  \t0.590763\t0.758515\t0.760211\n"
     ]
    },
    {
     "name": "stdout",
     "output_type": "stream",
     "text": [
      "98 \t42    \t1.11022e-16\t0.760211\t0.760211\t0.760211\n99 \t52    \t0.000326041\t0.756934\t0.760178\t0.760211\n100\t52    \t0.00744965 \t0.685802\t0.759346\t0.760211\nQuantidade de garrafas de leite: 800\nQuantidade de garrafas de suco: 747\nLucro ótimo: 7361.5\n"
     ]
    },
    {
     "data": {
      "image/png": "[encoded data removed]",
      "text/plain": [
       "<matplotlib.figure.Figure at 0x14f01e9bfd0>"
      ]
     },
     "metadata": {},
     "output_type": "display_data"
    }
   ],
   "source": [
    "# ----------\n",
    "# ALGORITMO\n",
    "# ----------\n",
    "def main():\n",
    "    random.seed(94)\n",
    "\n",
    "    # cria populacao inicial\n",
    "    pop = toolbox.population(n=100)\n",
    "\n",
    "    # MU - numero de individuos selecionados para a prox geracao\n",
    "    # LAMBDA - numero de filhos a serem gerados\n",
    "    # CXPB - probabilidade de crossover\n",
    "    # MUTPB - probabilidade de mutacao\n",
    "    # NGEN - numero de geracoes\n",
    "    MU, LAMBDA_, CXPB, MUTPB, NGEN = 5, 7, 0.5, 0.02, 100\n",
    "    #CXPB, MUTPB, NGEN = 0.5, 0.2, 200  # LUCR0 = 5138\n",
    "\n",
    "    stats = tools.Statistics(key=lambda ind: ind.fitness.values)\n",
    "    stats.register(\"std\", numpy.std)\n",
    "    stats.register(\"min\", numpy.min)\n",
    "    stats.register(\"avg\", numpy.mean)\n",
    "    stats.register(\"max\", numpy.max)\n",
    "\n",
    "    #Algoritmos do livro “Evolutionary Computation 1 : Basic Algorithms and Operators”\n",
    "    #roda o algoritmo do capitulo 7\n",
    "    pop, logbook = algorithms.eaSimple(pop, toolbox, CXPB, MUTPB, NGEN, stats=stats, verbose=True)\n",
    "\n",
    "    #roda o algoritmo (mi  ,lambda)\n",
    "    #pop, logbook = algorithms.eaMuCommaLambda(pop, toolbox, MU, LAMBDA_, CXPB, MUTPB, NGEN, stats=stats, verbose=True)\n",
    "\n",
    "    # roda o algoritmo (mi + lambda)\n",
    "    #pop, logbook = algorithms.eaMuPlusLambda(pop, toolbox, MU, LAMBDA_, CXPB, MUTPB, NGEN, stats=stats, verbose=True)\n",
    "\n",
    "    #Seleciona o melhor individuo da populacao resultante\n",
    "    best_ind = tools.selSPEA2(pop, 1)\n",
    "\n",
    "    #Imprime as infromações do melhor individuo\n",
    "    print_ind(best_ind[0])\n",
    "\n",
    "    plot_log(logbook)\n",
    "\n",
    "def print_ind(individual):\n",
    "    l = int(\"\".join(str(i) for i in individual[:int(IND_SIZE / GENES)]), 2)  # gene quantidade de garrafas de leite\n",
    "    s = int(\"\".join(str(i) for i in individual[int(IND_SIZE / GENES):]), 2)  # gene quantidade de garrafas de suco\n",
    "    g = 5*l + 4.5*s\n",
    "    print('Quantidade de garrafas de leite: ' + str(l))\n",
    "    print('Quantidade de garrafas de suco: ' + str(s))\n",
    "    print('Lucro ótimo: ' + str(g))\n",
    "\n",
    "\n",
    "def plot_log(logbook):\n",
    "    gen = logbook.select(\"gen\")\n",
    "    min = logbook.select(\"min\")\n",
    "    avg = logbook.select(\"avg\")\n",
    "    max = logbook.select(\"max\")\n",
    "\n",
    "    import matplotlib.pyplot as plt\n",
    "\n",
    "    fig, ax1 = plt.subplots()\n",
    "    line1 = ax1.plot(gen, min, \"b-\", label=\"Minimum Fitness\")\n",
    "    ax1.set_xlabel(\"Generation\")\n",
    "    ax1.set_ylabel(\"Fitness\", color=\"b\")\n",
    "    for tl in ax1.get_yticklabels():\n",
    "        tl.set_color(\"b\")\n",
    "\n",
    "    ax2 = ax1.twinx()\n",
    "    line2 = ax2.plot(gen, avg, \"g-\", label=\"Average Fitness\")\n",
    "    ax2.set_ylabel(\"Size\", color=\"g\")\n",
    "    for tl in ax2.get_yticklabels():\n",
    "        tl.set_color(\"g\")\n",
    "\n",
    "    ax3 = ax1.twinx()\n",
    "    line3 = ax3.plot(gen, max, \"y-\", label=\"Maximum Fitness\")\n",
    "    ax3.set_ylabel(\"Size\", color=\"y\")\n",
    "    for tl in ax3.get_yticklabels():\n",
    "        tl.set_color(\"y\")\n",
    "\n",
    "    lns = line1 + line2 + line3\n",
    "    labs = [l.get_label() for l in lns]\n",
    "    ax1.legend(lns, labs, loc=\"center right\")\n",
    "\n",
    "    plt.show()\n",
    "\n",
    "if __name__ == \"__main__\":\n",
    "    main()"
   ]
  }
 ],
 "metadata": {
  "kernelspec": {
   "display_name": "Python 2",
   "language": "python",
   "name": "python2"
  },
  "language_info": {
   "codemirror_mode": {
    "name": "ipython",
    "version": 2.0
   },
   "file_extension": ".py",
   "mimetype": "text/x-python",
   "name": "python",
   "nbconvert_exporter": "python",
   "pygments_lexer": "ipython2",
   "version": "2.7.6"
  }
 },
 "nbformat": 4,
 "nbformat_minor": 0
}