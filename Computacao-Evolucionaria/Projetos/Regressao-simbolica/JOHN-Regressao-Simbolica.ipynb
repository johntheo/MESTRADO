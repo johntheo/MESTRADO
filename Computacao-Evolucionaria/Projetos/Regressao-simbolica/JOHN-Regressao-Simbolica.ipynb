{
 "cells": [
  {
   "cell_type": "markdown",
   "metadata": {},
   "source": [
    "# Previsão de Séries Temporais com Programação Genética\n",
    "Este exercício tem o objetivo de utilizar Programação Genética para gerar um modelo de previsão de séries temporais. Os dados utilizados são referente ao número mensal de passageirosde linhas aéreas internacionais (em milhares/mês), desde janeir/1949 a dezembro/1960, conforme figura abaixo.\n",
    "![grafico](serie-grafico.png)"
   ]
  },
  {
   "cell_type": "markdown",
   "metadata": {},
   "source": [
    "O primeiro passo foi criar o dataset com os dados da planilha fornecida. Separou-se em dois datasets: treinamento e teste.  \n",
    "Como **janela de periodicidade**, observou-se que a cada 12 passo o padrão se repetia, o que corresponde a um ano **(12 meses)**. Sendo assim utilizou-se esse valor para gerar uma matriz que contivesse 12 entradas e uma saída."
   ]
  },
  {
   "cell_type": "code",
   "execution_count": 1,
   "metadata": {
    "collapsed": false
   },
   "outputs": [],
   "source": [
    "import numpy as np\n",
    "from numpy import genfromtxt\n",
    "\n",
    "#lendo do arquivo\n",
    "data = genfromtxt('serie.txt')\n",
    "data = np.array([[data[index+pos] for pos in range(13)] for index in range(data.size - 12)])\n",
    "\n",
    "#separando os conjuntos\n",
    "DATA_TRAIN_SIZE = data[:,1].size - 12\n",
    "data_train = data[:DATA_TRAIN_SIZE,:]\n",
    "data_test = data[DATA_TRAIN_SIZE:,:]"
   ]
  },
  {
   "cell_type": "markdown",
   "metadata": {},
   "source": [
    "Para a implementação do algoritmo de Programação Genética, utilizou-se o **DEAP** *(Distributed Evolutionary Algorithms in Python)*. Abaixo realiza-se o import dos modulos que serão utilizados."
   ]
  },
  {
   "cell_type": "code",
   "execution_count": 2,
   "metadata": {
    "collapsed": false
   },
   "outputs": [],
   "source": [
    "import operator\n",
    "import math\n",
    "import random\n",
    "\n",
    "from deap import algorithms\n",
    "from deap import base\n",
    "from deap import creator\n",
    "from deap import tools\n",
    "from deap import gp"
   ]
  },
  {
   "cell_type": "markdown",
   "metadata": {},
   "source": [
    "Define-se agora a estrutura da árvore que será gerada nas evoluções da PG. Esta árvore terá 12 entradas que correspnde a janela definida de 12 meses. Também serão definidas as funções e os terminais utilizados."
   ]
  },
  {
   "cell_type": "code",
   "execution_count": 3,
   "metadata": {
    "collapsed": false
   },
   "outputs": [],
   "source": [
    "#definicao da estrutura de um conjunto que terá 12 entradas\n",
    "pset = gp.PrimitiveSet(\"MAIN\", 12)\n",
    "\n",
    "pset.addPrimitive(operator.add, 2)\n",
    "pset.addPrimitive(operator.sub, 2)\n",
    "pset.addPrimitive(operator.mul, 2)\n",
    "pset.addPrimitive(operator.neg, 1)\n",
    "pset.addPrimitive(math.cos, 1)\n",
    "pset.addPrimitive(math.sin, 1)"
   ]
  },
  {
   "cell_type": "code",
   "execution_count": 4,
   "metadata": {
    "collapsed": false
   },
   "outputs": [],
   "source": [
    "pset.addEphemeralConstant(\"rand101\", lambda: random.randint(-180,180)) #terminal que gera um numero aleatorio entre [-1,1]"
   ]
  },
  {
   "cell_type": "markdown",
   "metadata": {},
   "source": [
    "Os argumentos(entradas) serão renomeados para facilitar o entendimento da arvore gerada posteriormente. Cada argumento representa um mês do ano."
   ]
  },
  {
   "cell_type": "code",
   "execution_count": 5,
   "metadata": {
    "collapsed": true
   },
   "outputs": [],
   "source": [
    "pset.renameArguments(ARG0='x1')\n",
    "pset.renameArguments(ARG1='x2')\n",
    "pset.renameArguments(ARG2='x3')\n",
    "pset.renameArguments(ARG3='x4')\n",
    "pset.renameArguments(ARG4='x5')\n",
    "pset.renameArguments(ARG5='x6')\n",
    "pset.renameArguments(ARG6='x7')\n",
    "pset.renameArguments(ARG7='x8')\n",
    "pset.renameArguments(ARG8='x9')\n",
    "pset.renameArguments(ARG9='x10')\n",
    "pset.renameArguments(ARG10='x11')\n",
    "pset.renameArguments(ARG11='x12')"
   ]
  },
  {
   "cell_type": "markdown",
   "metadata": {},
   "source": [
    "Na sequencia, será definido o alicerce da PG:  \n",
    "- característica do problema(minimização ou maximização)  \n",
    "- método de geração da população(grow, full, half and half)  \n",
    "- função de fitness  \n",
    "- função de crossover  \n",
    "- função de mutação  \n",
    "- função de seleção  \n",
    "- definição da profundidade máxima da árvore"
   ]
  },
  {
   "cell_type": "code",
   "execution_count": 6,
   "metadata": {
    "collapsed": false
   },
   "outputs": [],
   "source": [
    "#característica do problema\n",
    "creator.create(\"FitnessMin\", base.Fitness, weights=(-1.0,))\n",
    "#tipo do indivíduo = árvore\n",
    "creator.create(\"Individual\", gp.PrimitiveTree, fitness=creator.FitnessMin)\n",
    "\n",
    "toolbox = base.Toolbox()\n",
    "#método de geração da população(árvore)\n",
    "toolbox.register(\"expr\", gp.genHalfAndHalf, pset=pset, min_=1, max_=2)\n",
    "toolbox.register(\"individual\", tools.initIterate, creator.Individual, toolbox.expr)\n",
    "toolbox.register(\"population\", tools.initRepeat, list, toolbox.individual)\n",
    "#compila a arvore gerada em uma função\n",
    "toolbox.register(\"compile\", gp.compile, pset=pset)\n",
    "\n",
    "#função de fitness que compara a arvore gerada com os dados de treinamento\n",
    "def fitness(individual):\n",
    "    # Tranforma a expressao da arvore em um função invocável\n",
    "    func = toolbox.compile(individual)\n",
    "    \n",
    "    # calcula o erro quadrado médio entre a expressao e o valor real 'y'\n",
    "    sqerrors = ((func(x1,x2,x3,x4,x5,x6,x7,x8,x9,x10,x11,x12)-y)**2 for x1,x2,x3,x4,x5,x6,x7,x8,x9,x10,x11,x12,y in data_train)\n",
    "    \n",
    "    return math.fsum(sqerrors) / len(data_train),\n",
    "\n",
    "#define para o framework qual será a função de fitness utilizada\n",
    "toolbox.register(\"evaluate\", fitness)\n",
    "#define o operador de seleção como torneio de tamanho 3\n",
    "toolbox.register(\"select\", tools.selTournament, tournsize=3)\n",
    "#define função de cruzamento como corte em um ponto\n",
    "toolbox.register(\"mate\", gp.cxOnePoint)\n",
    "#cria função de mutação utilizando o método de geração de árvore full\n",
    "toolbox.register(\"expr_mut\", gp.genFull, min_=0, max_=2)\n",
    "#define a função de mutação para o framework\n",
    "toolbox.register(\"mutate\", gp.mutUniform, expr=toolbox.expr_mut, pset=pset)\n",
    "\n",
    "#quando houver cruzamento o tamanho da arvore nao pode passar de 50\n",
    "toolbox.decorate(\"mate\", gp.staticLimit(key=operator.attrgetter(\"height\"), max_value=50))\n",
    "#quando houver muatção o tamanho da arvore nao pode passar de 50\n",
    "toolbox.decorate(\"mutate\", gp.staticLimit(key=operator.attrgetter(\"height\"), max_value=50))"
   ]
  },
  {
   "cell_type": "markdown",
   "metadata": {},
   "source": [
    "Com toda a estrutura definida agora é possível criar a função que de fato irá rodar  algoritmo."
   ]
  },
  {
   "cell_type": "code",
   "execution_count": 7,
   "metadata": {
    "collapsed": true
   },
   "outputs": [],
   "source": [
    "def algorithm():\n",
    "    random.seed(318)\n",
    "    #CXPB  - Probabilidade de crossover\n",
    "    #MUTPB - Probabilidade de mutação\n",
    "    #NGEN  - Numero de gerações\n",
    "    CXPB, MUTPB, NGEN = 0.6, 0.1, 200\n",
    "\n",
    "    pop = toolbox.population(n=300)\n",
    "    hof = tools.HallOfFame(1)\n",
    "    \n",
    "    stats_fit = tools.Statistics(lambda ind: ind.fitness.values)\n",
    "    stats_size = tools.Statistics(len)\n",
    "    mstats = tools.MultiStatistics(fitness=stats_fit, size=stats_size)\n",
    "    mstats.register(\"avg\", np.mean)\n",
    "    mstats.register(\"std\", np.std)\n",
    "    mstats.register(\"min\", np.min)\n",
    "    mstats.register(\"max\", np.max)\n",
    "\n",
    "    # Realiza a chamada do algortimo definido no capitulo 7 do KOZA.\n",
    "    # Passa como parâmetros:\n",
    "    #     - população\n",
    "    #     - toolbox que é o objeto que representa o framework DEAP\n",
    "    #     - parametros evolucionais (probabilidades de crossover e mutação e gerações)\n",
    "    #     - objeto com os placeholders de estatística\n",
    "    #     - halloffame - individuo(s) selecionado(s)\n",
    "    #     - verbos que representa se será impresso nas saida a evolução do algoritmo\n",
    "    pop, log = algorithms.eaSimple(pop, toolbox, CXPB, MUTPB, NGEN, stats=mstats,\n",
    "                                   halloffame=hof, verbose=True)\n",
    "    # print log\n",
    "    return pop, log, hof"
   ]
  },
  {
   "cell_type": "code",
   "execution_count": 8,
   "metadata": {
    "collapsed": false
   },
   "outputs": [
    {
     "name": "stdout",
     "output_type": "stream",
     "text": [
      "   \t      \t                      fitness                      \t              size             \n",
      "   \t      \t---------------------------------------------------\t-------------------------------\n",
      "gen\tnevals\tavg        \tmax        \tmin    \tstd        \tavg    \tmax\tmin\tstd    \n",
      "0  \t300   \t1.65318e+13\t4.95914e+15\t1188.26\t2.85838e+14\t3.20667\t7  \t2  \t1.34063\n",
      "1  \t199   \t3.96242e+08\t3.6103e+10 \t1064.13\t3.01159e+09\t3.24333\t10 \t1  \t1.30797\n",
      "2  \t180   \t1.15695e+08\t9.04468e+09\t1058.99\t9.9515e+08 \t3.49333\t8  \t1  \t1.36746\n",
      "3  \t199   \t4.68512e+07\t1.03565e+10\t1049.75\t6.25313e+08\t3.84667\t9  \t1  \t1.53074\n",
      "4  \t189   \t1.16897e+08\t9.60767e+09\t578.25 \t1.00456e+09\t4.11   \t9  \t1  \t1.82882\n",
      "5  \t178   \t1.62549e+08\t3.11986e+10\t578.25 \t1.92961e+09\t4.12   \t11 \t1  \t2.09418\n",
      "6  \t179   \t1.11676e+08\t1.00963e+10\t578.25 \t9.67879e+08\t4.00667\t11 \t1  \t2.17255\n",
      "7  \t196   \t2.05817e+08\t3.94031e+10\t578.25 \t2.40321e+09\t3.85333\t11 \t1  \t2.35623\n",
      "8  \t182   \t15832.3    \t742821     \t578.25 \t61177.1    \t3.40333\t13 \t1  \t2.6958 \n",
      "9  \t181   \t1.67272e+08\t1.02181e+10\t578.25 \t1.17857e+09\t3.07667\t13 \t1  \t2.64401\n",
      "10 \t185   \t1.8051e+08 \t1.04962e+10\t578.25 \t1.2709e+09 \t3.67333\t16 \t1  \t2.73617\n",
      "11 \t180   \t6.50896e+12\t1.95265e+15\t578.25 \t1.12549e+14\t3.87333\t16 \t1  \t2.48676\n",
      "12 \t196   \t2.01198e+08\t3.1708e+10 \t578.25 \t2.00327e+09\t3.66333\t17 \t1  \t2.02402\n",
      "13 \t205   \t1.29798e+08\t3.61293e+10\t293.583\t2.08621e+09\t3.4    \t17 \t1  \t1.58535\n",
      "14 \t208   \t1.97564e+13\t4.42297e+15\t578.25 \t2.68994e+14\t3.10333\t9  \t1  \t0.916145\n",
      "15 \t190   \t1.2318e+08 \t8.43946e+09\t578.25 \t9.48599e+08\t3.2    \t9  \t1  \t0.979796\n",
      "16 \t201   \t5.08611e+17\t1.52583e+20\t578.25 \t8.79471e+18\t3.16667\t9  \t1  \t0.975819\n",
      "17 \t192   \t5.59521e+07\t8.4859e+09 \t578.25 \t6.82645e+08\t3.1    \t9  \t1  \t0.888819\n",
      "18 \t194   \t2.31927e+11\t6.95381e+13\t578.25 \t4.00808e+12\t3.09   \t9  \t1  \t0.939095\n",
      "19 \t183   \t6.68441e+07\t9.67101e+09\t578.25 \t7.39366e+08\t3.07   \t9  \t1  \t0.681982\n",
      "20 \t197   \t8.74651e+11\t2.62355e+14\t578.25 \t1.51218e+13\t3.11667\t8  \t1  \t0.759203\n",
      "21 \t209   \t2.82502e+07\t8.04407e+09\t578.25 \t4.6417e+08 \t3.11   \t9  \t1  \t0.835404\n",
      "22 \t176   \t5.92236e+07\t9.03088e+09\t578.25 \t7.2269e+08 \t3.17   \t9  \t1  \t0.788099\n",
      "23 \t187   \t5.21991e+08\t1.56589e+11\t578.25 \t9.02561e+09\t3.11667\t8  \t1  \t0.709264\n",
      "24 \t178   \t2.41686e+11\t7.24785e+13\t578.25 \t4.17756e+12\t3.11   \t8  \t1  \t0.77324 \n",
      "25 \t197   \t8.23463e+07\t9.80545e+09\t578.25 \t8.10109e+08\t3.12333\t9  \t1  \t0.796736\n",
      "26 \t201   \t1.08013e+08\t8.35549e+09\t578.25 \t8.96014e+08\t3.15333\t9  \t1  \t1.00821 \n",
      "27 \t208   \t2.14754e+08\t3.40964e+10\t578.25 \t2.2038e+09 \t3.22333\t9  \t1  \t0.95923 \n",
      "28 \t199   \t8.62232e+07\t8.72623e+09\t578.25 \t8.57677e+08\t3.2    \t9  \t1  \t0.890693\n",
      "29 \t197   \t5.62735e+07\t8.65036e+09\t578.25 \t6.48805e+08\t3.14   \t9  \t1  \t0.848764\n",
      "30 \t175   \t3.01283e+07\t9.03088e+09\t578.25 \t5.20527e+08\t3.09333\t8  \t1  \t0.551926\n",
      "31 \t179   \t2.4758e+08 \t3.06985e+10\t578.25 \t2.08703e+09\t3.12   \t8  \t1  \t0.687217\n",
      "32 \t189   \t1.42788e+08\t8.91071e+09\t578.25 \t1.07778e+09\t3.13333\t9  \t1  \t0.771722\n",
      "33 \t189   \t2.84413e+07\t8.01578e+09\t578.25 \t4.62852e+08\t3.12333\t9  \t1  \t0.792542\n",
      "34 \t216   \t9.72762e+07\t1.03565e+10\t578.25 \t8.77972e+08\t3.09333\t9  \t1  \t0.760234\n",
      "35 \t179   \t1.37165e+08\t1.28538e+10\t578.25 \t1.10853e+09\t3.05667\t9  \t1  \t0.616541\n",
      "36 \t198   \t5.50855e+07\t8.15428e+09\t578.25 \t6.63543e+08\t3.11   \t8  \t1  \t0.681591\n",
      "37 \t205   \t1.00311e+11\t3.00567e+13\t578.25 \t1.73242e+12\t3.11   \t9  \t1  \t0.900685\n",
      "38 \t196   \t6.06894e+07\t7.82571e+09\t578.25 \t6.45172e+08\t3.02667\t8  \t1  \t0.72981 \n",
      "39 \t203   \t5.13764e+08\t1.35606e+11\t578.25 \t7.84903e+09\t3.11   \t8  \t1  \t0.760197\n",
      "40 \t177   \t3.14542e+10\t9.40778e+12\t578.25 \t5.42248e+11\t3.18667\t10 \t1  \t0.940827\n",
      "41 \t188   \t7.86124e+07\t8.18853e+09\t578.25 \t7.82307e+08\t3.14333\t11 \t1  \t0.869553\n",
      "42 \t210   \t8.48926e+07\t1.08301e+10\t578.25 \t8.54351e+08\t3.23   \t9  \t1  \t0.947154\n",
      "43 \t193   \t29311.8    \t348858     \t578.25 \t46912.8    \t3.08   \t7  \t1  \t0.643117\n",
      "44 \t200   \t2.86066e+07\t7.34646e+09\t578.25 \t4.29067e+08\t3.09333\t9  \t1  \t0.681632\n",
      "45 \t190   \t4.76078e+08\t1.34047e+11\t578.25 \t7.74111e+09\t3.09333\t9  \t1  \t0.696148\n",
      "46 \t190   \t1.25209e+13\t3.75624e+15\t578.25 \t2.16505e+14\t3.08333\t9  \t1  \t0.79774 \n",
      "47 \t174   \t4.91982e+17\t1.47591e+20\t578.25 \t8.50693e+18\t3.15   \t9  \t1  \t0.770822\n",
      "48 \t194   \t1.65873e+08\t9.19754e+09\t578.25 \t1.15112e+09\t3.13667\t8  \t1  \t0.671805\n",
      "49 \t182   \t3.26414e+12\t9.79165e+14\t578.25 \t5.64378e+13\t3.14667\t9  \t1  \t0.742847\n",
      "50 \t194   \t1.59989e+12\t4.79908e+14\t578.25 \t2.76613e+13\t3.14667\t9  \t1  \t0.859354\n",
      "51 \t186   \t1.83437e+13\t5.50307e+15\t578.25 \t3.1719e+14 \t3.11   \t8  \t1  \t0.728858\n",
      "52 \t202   \t1.34094e+08\t1.07169e+10\t578.25 \t1.05042e+09\t3.07333\t9  \t1  \t0.796632\n",
      "53 \t183   \t2.36509e+08\t3.77678e+10\t578.25 \t2.89269e+09\t3.07   \t9  \t1  \t0.807321\n",
      "54 \t197   \t1.11893e+08\t2.50815e+10\t578.25 \t1.5245e+09 \t3.06667\t9  \t1  \t0.694422\n",
      "55 \t178   \t1.53374e+08\t3.84627e+10\t578.25 \t2.25775e+09\t3.1    \t8  \t1  \t0.665833\n",
      "56 \t176   \t1.52048e+08\t1.10544e+10\t578.25 \t1.18355e+09\t3.18667\t9  \t1  \t0.855466\n",
      "57 \t195   \t1.0063e+08 \t9.80339e+09\t578.25 \t9.04422e+08\t3.24   \t9  \t1  \t1.00784 \n",
      "58 \t177   \t4.13515e+11\t1.24037e+14\t578.25 \t7.14934e+12\t3.11333\t9  \t1  \t0.766261\n",
      "59 \t189   \t5.93221e+07\t9.09239e+09\t578.25 \t7.24009e+08\t3.05333\t6  \t1  \t0.526456\n",
      "60 \t199   \t2.64839e+07\t7.93809e+09\t578.25 \t4.5754e+08 \t3.12333\t9  \t1  \t0.753739\n",
      "61 \t188   \t1.60129e+08\t9.61866e+09\t578.25 \t1.12847e+09\t3.15667\t8  \t1  \t0.769495\n",
      "62 \t191   \t4.17226e+12\t1.25165e+15\t578.25 \t7.21436e+13\t3.17667\t9  \t1  \t0.958535\n",
      "63 \t204   \t6.17145e+16\t1.85103e+19\t578.25 \t1.06691e+18\t3.09667\t9  \t1  \t0.841025\n",
      "64 \t193   \t7.42808e+07\t8.15233e+09\t578.25 \t7.37551e+08\t3.12333\t9  \t1  \t0.792542\n",
      "65 \t200   \t5.90263e+07\t9.98733e+09\t578.25 \t7.26164e+08\t3.10667\t8  \t1  \t0.75407 \n",
      "66 \t186   \t1.23414e+08\t1.06507e+10\t578.25 \t1.02922e+09\t3.20333\t8  \t1  \t0.956725\n",
      "67 \t189   \t1.49415e+08\t9.5603e+09 \t578.25 \t1.06597e+09\t3.13   \t9  \t1  \t0.706942\n",
      "68 \t191   \t4.85025e+08\t1.26994e+11\t578.25 \t7.35538e+09\t3.22667\t9  \t1  \t0.928416\n",
      "69 \t204   \t7.90994e+07\t8.59199e+09\t578.25 \t7.76659e+08\t3.12   \t8  \t1  \t0.790949\n",
      "70 \t186   \t9.83476e+07\t8.33778e+09\t578.25 \t8.31786e+08\t3.13333\t9  \t1  \t0.784573\n",
      "71 \t186   \t3.27027e+07\t9.80339e+09\t578.25 \t5.65053e+08\t3.07333\t7  \t1  \t0.560912\n",
      "72 \t215   \t2.74524e+08\t3.26014e+10\t578.25 \t2.4402e+09 \t3.14667\t9  \t1  \t0.863224\n",
      "73 \t194   \t2.00464e+13\t6.01386e+15\t578.25 \t3.46631e+14\t3.17   \t9  \t1  \t0.976951\n",
      "74 \t190   \t2.58186e+11\t7.74473e+13\t578.25 \t4.46396e+12\t3.12333\t9  \t1  \t0.906342\n",
      "75 \t190   \t3.37602e+12\t1.01278e+15\t578.25 \t5.83755e+13\t3.13667\t8  \t1  \t0.646521\n",
      "76 \t203   \t3.37258e+12\t1.01174e+15\t578.25 \t5.83153e+13\t3.20333\t8  \t1  \t0.895538\n",
      "77 \t192   \t7.31229e+07\t7.46492e+09\t578.25 \t7.17681e+08\t3.13333\t9  \t1  \t0.81377 \n",
      "78 \t175   \t1.44427e+08\t9.12847e+09\t578.25 \t1.11009e+09\t3.03333\t7  \t1  \t0.620931\n",
      "79 \t206   \t2.64554e+07\t7.63812e+09\t578.25 \t4.40514e+08\t3.07667\t9  \t1  \t0.719344\n",
      "80 \t177   \t3.37801e+12\t1.01338e+15\t321.583\t5.84097e+13\t3.12667\t8  \t1  \t0.681143\n",
      "81 \t190   \t6.58726e+15\t1.97618e+18\t578.25 \t1.13904e+17\t3.13667\t9  \t1  \t0.773297\n",
      "82 \t182   \t2.31934e+07\t6.93614e+09\t578.25 \t3.99787e+08\t3.02333\t8  \t1  \t0.645075\n",
      "83 \t188   \t2.95594e+12\t8.86768e+14\t578.25 \t5.11122e+13\t3.10667\t9  \t1  \t0.76286 \n",
      "84 \t207   \t1.95863e+11\t5.86983e+13\t578.25 \t3.38329e+12\t3.17   \t9  \t1  \t0.864735\n",
      "85 \t173   \t3.74857e+07\t1.12396e+10\t578.25 \t6.47835e+08\t3.03333\t7  \t1  \t0.488763\n",
      "86 \t189   \t1.51565e+08\t1.323e+10  \t578.25 \t1.19485e+09\t3.14   \t9  \t1  \t0.81265 \n",
      "87 \t207   \t4.59647e+08\t1.29735e+11\t578.25 \t7.49093e+09\t3.04333\t9  \t1  \t0.664421\n",
      "88 \t191   \t3.17594e+07\t4.57073e+09\t578.25 \t3.4338e+08 \t3.1    \t9  \t1  \t0.732575\n",
      "89 \t206   \t6.56444e+12\t1.96932e+15\t578.25 \t1.13509e+14\t3.12667\t9  \t1  \t0.695669\n",
      "90 \t190   \t5.53951e+17\t1.66185e+20\t578.25 \t9.57871e+18\t3.10333\t9  \t1  \t0.752322\n",
      "91 \t201   \t4.55011e+06\t1.35626e+09\t578.25 \t7.81715e+07\t3      \t7  \t1  \t0.439697\n",
      "92 \t183   \t1.05778e+08\t1.36022e+10\t578.25 \t1.07232e+09\t3.06333\t8  \t1  \t0.734386\n",
      "93 \t184   \t7.76557e+07\t8.43061e+09\t578.25 \t7.73909e+08\t3.08667\t8  \t1  \t0.711212\n",
      "94 \t187   \t5.95165e+08\t1.50406e+11\t578.25 \t8.70353e+09\t3.16   \t9  \t1  \t0.88    \n",
      "95 \t195   \t6.13999e+07\t8.768e+09  \t578.25 \t6.89015e+08\t3.15   \t8  \t1  \t0.894893\n",
      "96 \t183   \t5.4907e+07 \t8.2098e+09 \t578.25 \t6.31368e+08\t3.09333\t6  \t1  \t0.641318\n",
      "97 \t209   \t1.3199e+13 \t3.95968e+15\t578.25 \t2.28231e+14\t3.14667\t9  \t1  \t0.897305\n",
      "98 \t215   \t9.7617e+10 \t2.92579e+13\t578.25 \t1.68638e+12\t3.13667\t9  \t1  \t0.885808\n",
      "99 \t191   \t5.64962e+07\t9.23988e+09\t578.25 \t6.92187e+08\t3.07667\t8  \t1  \t0.671408\n",
      "100\t178   \t6.98236e+07\t9.67101e+09\t578.25 \t7.74629e+08\t3.08667\t8  \t1  \t0.667699\n",
      "101\t202   \t1.17676e+08\t9.09446e+09\t578.25 \t1.01243e+09\t3.08   \t9  \t1  \t0.697806\n",
      "102\t183   \t1.12172e+08\t8.88921e+09\t578.25 \t9.53077e+08\t3.15   \t7  \t1  \t0.707696\n",
      "103\t156   \t2.51765e+07\t7.54648e+09\t578.25 \t4.34968e+08\t3.10333\t9  \t1  \t0.738911\n",
      "104\t187   \t1.69932e+08\t3.28956e+10\t578.25 \t2.01133e+09\t3.13333\t9  \t1  \t0.817856\n",
      "105\t192   \t4.94474e+07\t7.75576e+09\t578.25 \t5.98693e+08\t3.11   \t8  \t1  \t0.76457 \n",
      "106\t173   \t2.19311e+08\t9.98944e+09\t578.25 \t1.33581e+09\t3.05333\t6  \t1  \t0.563166\n",
      "107\t200   \t5.59735e+07\t8.49813e+09\t578.25 \t6.82978e+08\t3.10333\t8  \t1  \t0.75674 \n",
      "108\t207   \t7.40756e+17\t2.22227e+20\t578.25 \t1.28089e+19\t3.19667\t9  \t1  \t0.971934\n",
      "109\t201   \t1.43054e+13\t4.29157e+15\t578.25 \t2.47361e+14\t3.24   \t9  \t1  \t0.892039\n",
      "110\t186   \t4.68551e+17\t1.40562e+20\t578.25 \t8.10179e+18\t3.24333\t9  \t1  \t1.00869 \n",
      "111\t186   \t4.44566e+12\t1.33365e+15\t578.25 \t7.687e+13  \t3.15667\t9  \t1  \t0.88249 \n",
      "112\t213   \t2.47678e+07\t7.42132e+09\t578.25 \t4.27754e+08\t3.10333\t8  \t1  \t0.743408\n",
      "113\t187   \t1.24103e+08\t1.08709e+10\t578.25 \t1.06357e+09\t3.10333\t9  \t1  \t0.863706\n",
      "114\t163   \t3.48928e+12\t1.04677e+15\t578.25 \t6.03343e+13\t3.11667\t8  \t1  \t0.665624\n",
      "115\t188   \t4.1866e+07 \t7.12657e+09\t578.25 \t5.15419e+08\t3.13   \t8  \t1  \t0.621638\n",
      "116\t209   \t1.81239e+13\t5.43711e+15\t400.917\t3.13388e+14\t3.13333\t9  \t1  \t0.865384\n",
      "117\t180   \t1.02615e+08\t1.11868e+10\t578.25 \t9.92654e+08\t3.02333\t8  \t1  \t0.519091\n",
      "118\t188   \t8.06586e+07\t8.46598e+09\t578.25 \t8.03348e+08\t3.14333\t8  \t1  \t0.750193\n",
      "119\t194   \t3.37707e+06\t1.00526e+09\t578.25 \t5.79403e+07\t3.16   \t9  \t1  \t0.845222\n",
      "120\t187   \t8.40234e+07\t8.57554e+09\t578.25 \t8.35858e+08\t3.1    \t9  \t1  \t0.862168\n",
      "121\t194   \t5.8028e+07 \t8.45549e+09\t578.25 \t6.74395e+08\t3.09333\t9  \t1  \t0.696148\n",
      "122\t206   \t1.27952e+13\t3.83853e+15\t578.25 \t2.21248e+14\t3.18667\t9  \t1  \t1.05443 \n",
      "123\t192   \t6.45648e+07\t1.03586e+10\t578.25 \t7.81061e+08\t3.16   \t9  \t1  \t0.935094\n",
      "124\t194   \t1.35813e+08\t1.7086e+10 \t578.25 \t1.2558e+09 \t3.12667\t9  \t1  \t0.90772 \n",
      "125\t177   \t4.18703e+12\t1.2561e+15 \t578.25 \t7.23999e+13\t3.02333\t9  \t1  \t0.568145\n",
      "126\t190   \t1.90489e+08\t2.90241e+10\t578.25 \t1.86997e+09\t3.16   \t9  \t1  \t0.864716\n",
      "127\t176   \t9.16279e+11\t2.74875e+14\t578.25 \t1.58435e+13\t3.05667\t8  \t1  \t0.632552\n",
      "128\t205   \t2.39233e+07\t7.16969e+09\t578.25 \t4.13251e+08\t3.03   \t7  \t1  \t0.531445\n",
      "129\t201   \t2.45394e+11\t7.36022e+13\t578.25 \t4.24233e+12\t3.17667\t9  \t1  \t0.901178\n",
      "130\t194   \t5.90047e+17\t1.77013e+20\t578.25 \t1.02028e+19\t3.11333\t8  \t1  \t0.816796\n",
      "131\t206   \t2.13756e+08\t8.77002e+09\t578.25 \t1.29321e+09\t3.2    \t9  \t1  \t0.948683\n",
      "132\t217   \t2.9662e+07 \t8.88921e+09\t578.25 \t5.12361e+08\t3.14   \t8  \t1  \t0.766203\n",
      "133\t177   \t5.43901e+07\t8.2843e+09 \t578.25 \t6.63751e+08\t3.12333\t8  \t1  \t0.735837\n",
      "134\t191   \t3.11563e+07\t8.81461e+09\t578.25 \t5.08865e+08\t3.14667\t9  \t1  \t0.729261\n",
      "135\t210   \t1.27347e+08\t1.08263e+10\t578.25 \t1.10153e+09\t3.14   \t9  \t1  \t0.766203\n",
      "136\t196   \t1.41685e+08\t8.33181e+09\t578.25 \t1.00443e+09\t3.15667\t9  \t1  \t0.926709\n",
      "137\t177   \t5.29907e+07\t8.2453e+09 \t578.25 \t6.46996e+08\t3.12   \t9  \t1  \t0.72037 \n",
      "138\t180   \t1.51889e+07\t4.54894e+09\t578.25 \t2.62193e+08\t3.12333\t8  \t1  \t0.67438 \n",
      "139\t204   \t1.36725e+06\t2.08233e+08\t578.25 \t1.64166e+07\t3.10667\t8  \t1  \t0.579041\n",
      "140\t201   \t9.18498e+07\t8.15233e+09\t578.25 \t8.12281e+08\t3.1    \t8  \t1  \t0.772442\n",
      "141\t165   \t2.84613e+07\t8.53196e+09\t350.25 \t4.9177e+08 \t3.11333\t9  \t1  \t0.820867\n",
      "142\t193   \t7.47383e+10\t2.23921e+13\t350.25 \t1.29065e+12\t3.08333\t9  \t1  \t0.699802\n",
      "143\t207   \t1.14317e+08\t9.60762e+09\t350.25 \t9.85968e+08\t3.05667\t9  \t1  \t0.692909\n",
      "144\t179   \t1.29599e+18\t2.51186e+20\t350.25 \t1.64851e+19\t3.07667\t9  \t1  \t0.619776\n",
      "145\t202   \t2.76424e+08\t1.09349e+10\t350.25 \t1.53224e+09\t3.16333\t8  \t1  \t0.866019\n",
      "146\t206   \t5.82392e+07\t9.14045e+09\t350.25 \t7.11357e+08\t3.09   \t9  \t1  \t0.708449\n",
      "147\t200   \t446170     \t1.25812e+08\t350.25 \t7.25021e+06\t3.13333\t8  \t1  \t0.784573\n",
      "148\t215   \t2.86129e+07\t8.57552e+09\t350.25 \t4.9428e+08 \t3.08   \t8  \t1  \t0.697806\n",
      "149\t199   \t8.89317e+10\t2.66471e+13\t350.25 \t1.5359e+12 \t3.16   \t13 \t1  \t0.935094\n",
      "150\t190   \t1.41334e+07\t4.23325e+09\t350.25 \t2.43998e+08\t3.12333\t8  \t1  \t0.821455\n",
      "151\t161   \t7.807e+06  \t2.33573e+09\t350.25 \t1.34628e+08\t3.01333\t9  \t1  \t0.559603\n",
      "152\t187   \t9.30416e+07\t9.98733e+09\t350.25 \t8.76168e+08\t3.14333\t8  \t1  \t0.690016\n",
      "153\t175   \t6.03636e+17\t1.81091e+20\t350.25 \t1.04378e+19\t3.20667\t9  \t1  \t0.90404 \n",
      "154\t193   \t1.43957e+08\t3.17684e+10\t350.25 \t1.90129e+09\t3.15   \t9  \t1  \t0.879867\n",
      "155\t199   \t1.04204e+08\t8.27714e+09\t350.25 \t8.97045e+08\t3.07667\t7  \t1  \t0.526741\n",
      "156\t184   \t1.57626e+10\t4.71001e+12\t350.25 \t2.71476e+11\t3.18   \t9  \t1  \t0.887468\n",
      "157\t176   \t7.02416e+07\t7.78477e+09\t350.25 \t6.67303e+08\t3.1    \t9  \t1  \t0.723418\n",
      "158\t210   \t5.11282e+12\t9.68507e+14\t350.25 \t6.45431e+13\t3.15333\t9  \t1  \t0.80197 \n",
      "159\t184   \t7.42501e+11\t2.22717e+14\t350.25 \t1.28371e+13\t3.09333\t9  \t1  \t0.715045\n",
      "160\t176   \t1.49356e+08\t1.0405e+10 \t350.25 \t1.07775e+09\t3.14333\t9  \t1  \t0.784935\n",
      "161\t176   \t4.88353e+17\t1.46506e+20\t300.917\t8.44441e+18\t3.1    \t9  \t1  \t0.718795\n",
      "162\t205   \t1.73334e+08\t1.00362e+10\t350.25 \t1.1673e+09 \t3.09   \t8  \t1  \t0.633956\n",
      "163\t193   \t1.14322e+11\t3.42891e+13\t350.25 \t1.97638e+12\t3.14   \t9  \t1  \t0.757452\n",
      "164\t203   \t8.25905e+07\t9.6376e+09 \t350.25 \t8.27952e+08\t3.14   \t9  \t1  \t0.832907\n",
      "165\t176   \t1.21216e+13\t3.62452e+15\t350.25 \t2.08912e+14\t3.12   \t9  \t1  \t0.843959\n",
      "166\t189   \t5.50493e+07\t8.49813e+09\t350.25 \t6.53727e+08\t3.09   \t9  \t1  \t0.727026\n",
      "167\t195   \t6.93243e+07\t8.15325e+09\t350.25 \t6.87651e+08\t3.09   \t8  \t1  \t0.758441\n",
      "168\t184   \t2.90107e+07\t7.96708e+09\t350.25 \t4.60986e+08\t3.13333\t9  \t2  \t0.659966\n",
      "169\t188   \t4.7124e+12 \t1.40979e+15\t350.25 \t8.12581e+13\t3.13667\t9  \t1  \t0.866788\n",
      "170\t187   \t3.22572e+11\t9.67517e+13\t350.25 \t5.57664e+12\t3.14333\t9  \t1  \t0.793382\n",
      "171\t208   \t1.91845e+08\t1.09319e+10\t350.25 \t1.28074e+09\t3.15   \t9  \t1  \t0.938527\n",
      "172\t190   \t1.14947e+08\t1.05466e+10\t350.25 \t9.9594e+08 \t3.15667\t9  \t1  \t0.874903\n",
      "173\t193   \t1.81894e+08\t3.06895e+10\t350.25 \t1.92908e+09\t3.18   \t8  \t1  \t0.825187\n",
      "174\t188   \t2.00671e+09\t6.02006e+11\t350.25 \t3.46988e+10\t3.11333\t9  \t1  \t0.730631\n",
      "175\t213   \t1.00357e+08\t1.4521e+10 \t350.25 \t1.04751e+09\t3.14667\t9  \t1  \t0.738347\n",
      "176\t201   \t4.7562e+12 \t1.42684e+15\t350.25 \t8.22412e+13\t3.14667\t8  \t1  \t0.855466\n",
      "177\t186   \t3.98751e+11\t1.19589e+14\t350.25 \t6.89294e+12\t3.22   \t9  \t1  \t0.958262\n",
      "178\t186   \t5.86912e+07\t8.81468e+09\t350.25 \t6.77114e+08\t3.13667\t9  \t1  \t0.738008\n",
      "179\t201   \t1.39057e+13\t4.1717e+15 \t350.25 \t2.40452e+14\t3.06333\t7  \t1  \t0.528509\n",
      "180\t210   \t1.31493e+08\t3.1681e+10 \t350.25 \t1.87856e+09\t3.11333\t8  \t1  \t0.783468\n",
      "181\t191   \t6.18604e+06\t9.07141e+08\t350.25 \t7.0879e+07 \t3.04333\t9  \t1  \t0.766891\n",
      "182\t198   \t3.30208e+07\t8.45565e+09\t350.25 \t4.91329e+08\t3.19   \t9  \t1  \t0.945463\n",
      "183\t203   \t9.52333e+07\t8.87228e+09\t350.25 \t8.47244e+08\t3.15   \t9  \t1  \t0.91697 \n",
      "184\t205   \t2.59154e+08\t3.43762e+10\t350.25 \t2.26675e+09\t3.13667\t9  \t1  \t0.855174\n",
      "185\t202   \t2.33502e+07\t6.99878e+09\t350.25 \t4.034e+08  \t3.02   \t7  \t1  \t0.621504\n",
      "186\t204   \t1.77475e+08\t3.09543e+10\t350.25 \t1.93213e+09\t3.07   \t8  \t1  \t0.811439\n",
      "187\t200   \t1.67472e+08\t9.39064e+09\t350.25 \t1.17724e+09\t3.12667\t8  \t1  \t0.772845\n",
      "188\t193   \t6.66057e+07\t1.0878e+10 \t350.25 \t8.15956e+08\t3.10333\t8  \t1  \t0.761132\n",
      "189\t210   \t1.00618e+11\t3.01593e+13\t350.25 \t1.73834e+12\t3.05333\t9  \t1  \t0.77706 \n",
      "190\t179   \t1.28839e+13\t3.86514e+15\t350.25 \t2.22782e+14\t3.08   \t9  \t1  \t0.791791\n",
      "191\t203   \t7.7307e+07 \t9.07476e+09\t350.25 \t7.89236e+08\t3.13667\t9  \t1  \t0.882037\n",
      "192\t181   \t9.19056e+07\t1.083e+10  \t350.25 \t9.21646e+08\t3.03   \t8  \t1  \t0.675105\n",
      "193\t186   \t3.46912e+12\t1.04067e+15\t350.25 \t5.99828e+13\t3.23333\t9  \t1  \t1.05778 \n",
      "194\t209   \t3.41596e+12\t1.02478e+15\t350.25 \t5.9067e+13 \t3.19333\t9  \t1  \t0.957056\n",
      "195\t183   \t1.17984e+08\t9.62189e+09\t350.25 \t9.7315e+08 \t3.19333\t9  \t1  \t0.932357\n",
      "196\t188   \t8.4096e+16 \t2.52288e+19\t350.25 \t1.45416e+18\t3.05667\t9  \t1  \t0.739452\n",
      "197\t190   \t1.09397e+08\t8.87738e+09\t350.25 \t9.43174e+08\t3.19667\t9  \t1  \t0.958117\n",
      "198\t198   \t1.06634e+18\t3.19902e+20\t350.25 \t1.84387e+19\t3.16333\t9  \t1  \t0.950433\n",
      "199\t208   \t1.06354e+08\t8.59911e+09\t350.25 \t8.90712e+08\t3.18   \t10 \t1  \t0.987049\n",
      "200\t203   \t7.51878e+07\t7.5146e+09 \t350.25 \t6.92508e+08\t3.07667\t9  \t1  \t0.764279\n"
     ]
    }
   ],
   "source": [
    "pop, log, hof = algorithm()"
   ]
  },
  {
   "cell_type": "markdown",
   "metadata": {},
   "source": [
    "## Resultados"
   ]
  },
  {
   "cell_type": "markdown",
   "metadata": {},
   "source": [
    "### 1. Análise de parâmetros e funções"
   ]
  },
  {
   "cell_type": "markdown",
   "metadata": {},
   "source": [
    "O individuo nessa implementação é gerado utilizando o método **HalfAndHalf** onde metade da expressao é gerada com o **grow** e outra metade com **full**.  \n",
    "Utilizou-se uma probalidade de crossover de 60% e de mutaçao de 10%. Como operador de crossover escolheu-se o cruzamento de ponto único ounde escolhe-se um ponto aleatório da árvore, corta-o e troca com o da outra árvore. Como operador de mutação, escolheu-se randomicamente um ponto em um individuo(árvore), então trocou-se a sub-arvore no ponto gerando um pedaço utilizando o método **full** onde cada folha tem profundidade máxima entre 0 e 2.  \n",
    "Para função de fitness utilizou-se o erro quadrado médio.  \n",
    "\n",
    "Foram feitos varios testes(cenários) com combinações de funções para a Programação Genética, que podem ser resumidos nos três abaixo:\n",
    "- Cenário simplista\n",
    "    - Funções: soma e subtração.  \n",
    "    - Terminais: randomico entre [-1,1]  \n",
    "    - Obteve um erro médio de aproximadamente 9% e uma função bem simples. $f = x2+13$   \n",
    "\n",
    "- Cenário coerente  \n",
    "    - Funções: soma, subtração, coseno, seno, negação, multiplicação.  \n",
    "    - Terminais: randomico entre [-180,180]  \n",
    "    - Obteve um erro médio de aproximadamente 5% e um função simples também.  $f = x1+27$\n",
    "\n",
    "- Cenário complexo\n",
    "    - Funções: soma, subtração, divisão, coseno, seno, negação, multiplicação, exponencial\n",
    "    - Terminais: randomico entre [-180,180]  \n",
    "    - Obteve um erro médio superior a 10% e função muito complexa. Árvore muito grande.\n",
    "    \n",
    "Sendo assim o cenário coerente foi utilizado para apresentar os demais resultados."
   ]
  },
  {
   "cell_type": "markdown",
   "metadata": {},
   "source": [
    "### 2. Melhor expressão-S obtida"
   ]
  },
  {
   "cell_type": "code",
   "execution_count": 9,
   "metadata": {
    "collapsed": false
   },
   "outputs": [
    {
     "data": {
      "text/plain": [
       "'add(x1, 27)'"
      ]
     },
     "execution_count": 9,
     "metadata": {},
     "output_type": "execute_result"
    }
   ],
   "source": [
    "str(hof[0])"
   ]
  },
  {
   "cell_type": "markdown",
   "metadata": {},
   "source": [
    "### 3. Equação correspondente(simplificada)"
   ]
  },
  {
   "cell_type": "markdown",
   "metadata": {},
   "source": [
    "$$f(x1,x2,x3,x4,x5,x6,x7,x8,x9,x10,x11,x12) = x1 + 27$$"
   ]
  },
  {
   "cell_type": "markdown",
   "metadata": {},
   "source": [
    "### 4. Planilha com os dados obtidos"
   ]
  },
  {
   "cell_type": "code",
   "execution_count": 21,
   "metadata": {
    "collapsed": false
   },
   "outputs": [
    {
     "name": "stdout",
     "output_type": "stream",
     "text": [
      "\n",
      "========\n",
      "|TREINO|\n",
      "========\n",
      "        x1     x2     x3     x4     x5     x6     x7     x8     x9    x10    x11    x12  VALOR REAL  VALOR PG  ERRO(%)\n",
      "0    112.0  118.0  132.0  129.0  121.0  135.0  148.0  148.0  136.0  119.0  104.0  118.0       115.0     139.0    20.87\n",
      "1    118.0  132.0  129.0  121.0  135.0  148.0  148.0  136.0  119.0  104.0  118.0  115.0       126.0     145.0    15.08\n",
      "2    132.0  129.0  121.0  135.0  148.0  148.0  136.0  119.0  104.0  118.0  115.0  126.0       141.0     159.0    12.77\n",
      "3    129.0  121.0  135.0  148.0  148.0  136.0  119.0  104.0  118.0  115.0  126.0  141.0       135.0     156.0    15.56\n",
      "4    121.0  135.0  148.0  148.0  136.0  119.0  104.0  118.0  115.0  126.0  141.0  135.0       125.0     148.0    18.40\n",
      "5    135.0  148.0  148.0  136.0  119.0  104.0  118.0  115.0  126.0  141.0  135.0  125.0       149.0     162.0     8.72\n",
      "6    148.0  148.0  136.0  119.0  104.0  118.0  115.0  126.0  141.0  135.0  125.0  149.0       170.0     175.0     2.94\n",
      "7    148.0  136.0  119.0  104.0  118.0  115.0  126.0  141.0  135.0  125.0  149.0  170.0       170.0     175.0     2.94\n",
      "8    136.0  119.0  104.0  118.0  115.0  126.0  141.0  135.0  125.0  149.0  170.0  170.0       158.0     163.0     3.16\n",
      "9    119.0  104.0  118.0  115.0  126.0  141.0  135.0  125.0  149.0  170.0  170.0  158.0       133.0     146.0     9.77\n",
      "10   104.0  118.0  115.0  126.0  141.0  135.0  125.0  149.0  170.0  170.0  158.0  133.0       114.0     131.0    14.91\n",
      "11   118.0  115.0  126.0  141.0  135.0  125.0  149.0  170.0  170.0  158.0  133.0  114.0       140.0     145.0     3.57\n",
      "12   115.0  126.0  141.0  135.0  125.0  149.0  170.0  170.0  158.0  133.0  114.0  140.0       145.0     142.0     2.07\n",
      "13   126.0  141.0  135.0  125.0  149.0  170.0  170.0  158.0  133.0  114.0  140.0  145.0       150.0     153.0     2.00\n",
      "14   141.0  135.0  125.0  149.0  170.0  170.0  158.0  133.0  114.0  140.0  145.0  150.0       178.0     168.0     5.62\n",
      "15   135.0  125.0  149.0  170.0  170.0  158.0  133.0  114.0  140.0  145.0  150.0  178.0       163.0     162.0     0.61\n",
      "16   125.0  149.0  170.0  170.0  158.0  133.0  114.0  140.0  145.0  150.0  178.0  163.0       172.0     152.0    11.63\n",
      "17   149.0  170.0  170.0  158.0  133.0  114.0  140.0  145.0  150.0  178.0  163.0  172.0       178.0     176.0     1.12\n",
      "18   170.0  170.0  158.0  133.0  114.0  140.0  145.0  150.0  178.0  163.0  172.0  178.0       199.0     197.0     1.01\n",
      "19   170.0  158.0  133.0  114.0  140.0  145.0  150.0  178.0  163.0  172.0  178.0  199.0       199.0     197.0     1.01\n",
      "20   158.0  133.0  114.0  140.0  145.0  150.0  178.0  163.0  172.0  178.0  199.0  199.0       184.0     185.0     0.54\n",
      "21   133.0  114.0  140.0  145.0  150.0  178.0  163.0  172.0  178.0  199.0  199.0  184.0       162.0     160.0     1.23\n",
      "22   114.0  140.0  145.0  150.0  178.0  163.0  172.0  178.0  199.0  199.0  184.0  162.0       146.0     141.0     3.42\n",
      "23   140.0  145.0  150.0  178.0  163.0  172.0  178.0  199.0  199.0  184.0  162.0  146.0       166.0     167.0     0.60\n",
      "24   145.0  150.0  178.0  163.0  172.0  178.0  199.0  199.0  184.0  162.0  146.0  166.0       171.0     172.0     0.58\n",
      "25   150.0  178.0  163.0  172.0  178.0  199.0  199.0  184.0  162.0  146.0  166.0  171.0       180.0     177.0     1.67\n",
      "26   178.0  163.0  172.0  178.0  199.0  199.0  184.0  162.0  146.0  166.0  171.0  180.0       193.0     205.0     6.22\n",
      "27   163.0  172.0  178.0  199.0  199.0  184.0  162.0  146.0  166.0  171.0  180.0  193.0       181.0     190.0     4.97\n",
      "28   172.0  178.0  199.0  199.0  184.0  162.0  146.0  166.0  171.0  180.0  193.0  181.0       183.0     199.0     8.74\n",
      "29   178.0  199.0  199.0  184.0  162.0  146.0  166.0  171.0  180.0  193.0  181.0  183.0       218.0     205.0     5.96\n",
      "30   199.0  199.0  184.0  162.0  146.0  166.0  171.0  180.0  193.0  181.0  183.0  218.0       230.0     226.0     1.74\n",
      "31   199.0  184.0  162.0  146.0  166.0  171.0  180.0  193.0  181.0  183.0  218.0  230.0       242.0     226.0     6.61\n",
      "32   184.0  162.0  146.0  166.0  171.0  180.0  193.0  181.0  183.0  218.0  230.0  242.0       209.0     211.0     0.96\n",
      "33   162.0  146.0  166.0  171.0  180.0  193.0  181.0  183.0  218.0  230.0  242.0  209.0       191.0     189.0     1.05\n",
      "34   146.0  166.0  171.0  180.0  193.0  181.0  183.0  218.0  230.0  242.0  209.0  191.0       172.0     173.0     0.58\n",
      "35   166.0  171.0  180.0  193.0  181.0  183.0  218.0  230.0  242.0  209.0  191.0  172.0       194.0     193.0     0.52\n",
      "36   171.0  180.0  193.0  181.0  183.0  218.0  230.0  242.0  209.0  191.0  172.0  194.0       196.0     198.0     1.02\n",
      "37   180.0  193.0  181.0  183.0  218.0  230.0  242.0  209.0  191.0  172.0  194.0  196.0       196.0     207.0     5.61\n",
      "38   193.0  181.0  183.0  218.0  230.0  242.0  209.0  191.0  172.0  194.0  196.0  196.0       236.0     220.0     6.78\n",
      "39   181.0  183.0  218.0  230.0  242.0  209.0  191.0  172.0  194.0  196.0  196.0  236.0       235.0     208.0    11.49\n",
      "40   183.0  218.0  230.0  242.0  209.0  191.0  172.0  194.0  196.0  196.0  236.0  235.0       229.0     210.0     8.30\n",
      "41   218.0  230.0  242.0  209.0  191.0  172.0  194.0  196.0  196.0  236.0  235.0  229.0       243.0     245.0     0.82\n",
      "42   230.0  242.0  209.0  191.0  172.0  194.0  196.0  196.0  236.0  235.0  229.0  243.0       264.0     257.0     2.65\n",
      "43   242.0  209.0  191.0  172.0  194.0  196.0  196.0  236.0  235.0  229.0  243.0  264.0       272.0     269.0     1.10\n",
      "44   209.0  191.0  172.0  194.0  196.0  196.0  236.0  235.0  229.0  243.0  264.0  272.0       237.0     236.0     0.42\n",
      "45   191.0  172.0  194.0  196.0  196.0  236.0  235.0  229.0  243.0  264.0  272.0  237.0       211.0     218.0     3.32\n",
      "46   172.0  194.0  196.0  196.0  236.0  235.0  229.0  243.0  264.0  272.0  237.0  211.0       180.0     199.0    10.56\n",
      "47   194.0  196.0  196.0  236.0  235.0  229.0  243.0  264.0  272.0  237.0  211.0  180.0       201.0     221.0     9.95\n",
      "48   196.0  196.0  236.0  235.0  229.0  243.0  264.0  272.0  237.0  211.0  180.0  201.0       204.0     223.0     9.31\n",
      "49   196.0  236.0  235.0  229.0  243.0  264.0  272.0  237.0  211.0  180.0  201.0  204.0       188.0     223.0    18.62\n",
      "50   236.0  235.0  229.0  243.0  264.0  272.0  237.0  211.0  180.0  201.0  204.0  188.0       235.0     263.0    11.91\n",
      "51   235.0  229.0  243.0  264.0  272.0  237.0  211.0  180.0  201.0  204.0  188.0  235.0       227.0     262.0    15.42\n",
      "52   229.0  243.0  264.0  272.0  237.0  211.0  180.0  201.0  204.0  188.0  235.0  227.0       234.0     256.0     9.40\n",
      "53   243.0  264.0  272.0  237.0  211.0  180.0  201.0  204.0  188.0  235.0  227.0  234.0       264.0     270.0     2.27\n",
      "54   264.0  272.0  237.0  211.0  180.0  201.0  204.0  188.0  235.0  227.0  234.0  264.0       302.0     291.0     3.64\n",
      "55   272.0  237.0  211.0  180.0  201.0  204.0  188.0  235.0  227.0  234.0  264.0  302.0       293.0     299.0     2.05\n",
      "56   237.0  211.0  180.0  201.0  204.0  188.0  235.0  227.0  234.0  264.0  302.0  293.0       259.0     264.0     1.93\n",
      "57   211.0  180.0  201.0  204.0  188.0  235.0  227.0  234.0  264.0  302.0  293.0  259.0       229.0     238.0     3.93\n",
      "58   180.0  201.0  204.0  188.0  235.0  227.0  234.0  264.0  302.0  293.0  259.0  229.0       203.0     207.0     1.97\n",
      "59   201.0  204.0  188.0  235.0  227.0  234.0  264.0  302.0  293.0  259.0  229.0  203.0       229.0     228.0     0.44\n",
      "60   204.0  188.0  235.0  227.0  234.0  264.0  302.0  293.0  259.0  229.0  203.0  229.0       242.0     231.0     4.55\n",
      "61   188.0  235.0  227.0  234.0  264.0  302.0  293.0  259.0  229.0  203.0  229.0  242.0       233.0     215.0     7.73\n",
      "62   235.0  227.0  234.0  264.0  302.0  293.0  259.0  229.0  203.0  229.0  242.0  233.0       267.0     262.0     1.87\n",
      "63   227.0  234.0  264.0  302.0  293.0  259.0  229.0  203.0  229.0  242.0  233.0  267.0       269.0     254.0     5.58\n",
      "64   234.0  264.0  302.0  293.0  259.0  229.0  203.0  229.0  242.0  233.0  267.0  269.0       270.0     261.0     3.33\n",
      "65   264.0  302.0  293.0  259.0  229.0  203.0  229.0  242.0  233.0  267.0  269.0  270.0       315.0     291.0     7.62\n",
      "66   302.0  293.0  259.0  229.0  203.0  229.0  242.0  233.0  267.0  269.0  270.0  315.0       364.0     329.0     9.62\n",
      "67   293.0  259.0  229.0  203.0  229.0  242.0  233.0  267.0  269.0  270.0  315.0  364.0       347.0     320.0     7.78\n",
      "68   259.0  229.0  203.0  229.0  242.0  233.0  267.0  269.0  270.0  315.0  364.0  347.0       312.0     286.0     8.33\n",
      "69   229.0  203.0  229.0  242.0  233.0  267.0  269.0  270.0  315.0  364.0  347.0  312.0       274.0     256.0     6.57\n",
      "70   203.0  229.0  242.0  233.0  267.0  269.0  270.0  315.0  364.0  347.0  312.0  274.0       237.0     230.0     2.95\n",
      "71   229.0  242.0  233.0  267.0  269.0  270.0  315.0  364.0  347.0  312.0  274.0  237.0       278.0     256.0     7.91\n",
      "72   242.0  233.0  267.0  269.0  270.0  315.0  364.0  347.0  312.0  274.0  237.0  278.0       284.0     269.0     5.28\n",
      "73   233.0  267.0  269.0  270.0  315.0  364.0  347.0  312.0  274.0  237.0  278.0  284.0       277.0     260.0     6.14\n",
      "74   267.0  269.0  270.0  315.0  364.0  347.0  312.0  274.0  237.0  278.0  284.0  277.0       317.0     294.0     7.26\n",
      "75   269.0  270.0  315.0  364.0  347.0  312.0  274.0  237.0  278.0  284.0  277.0  317.0       313.0     296.0     5.43\n",
      "76   270.0  315.0  364.0  347.0  312.0  274.0  237.0  278.0  284.0  277.0  317.0  313.0       318.0     297.0     6.60\n",
      "77   315.0  364.0  347.0  312.0  274.0  237.0  278.0  284.0  277.0  317.0  313.0  318.0       374.0     342.0     8.56\n",
      "78   364.0  347.0  312.0  274.0  237.0  278.0  284.0  277.0  317.0  313.0  318.0  374.0       413.0     391.0     5.33\n",
      "79   347.0  312.0  274.0  237.0  278.0  284.0  277.0  317.0  313.0  318.0  374.0  413.0       405.0     374.0     7.65\n",
      "80   312.0  274.0  237.0  278.0  284.0  277.0  317.0  313.0  318.0  374.0  413.0  405.0       355.0     339.0     4.51\n",
      "81   274.0  237.0  278.0  284.0  277.0  317.0  313.0  318.0  374.0  413.0  405.0  355.0       306.0     301.0     1.63\n",
      "82   237.0  278.0  284.0  277.0  317.0  313.0  318.0  374.0  413.0  405.0  355.0  306.0       271.0     264.0     2.58\n",
      "83   278.0  284.0  277.0  317.0  313.0  318.0  374.0  413.0  405.0  355.0  306.0  271.0       306.0     305.0     0.33\n",
      "84   284.0  277.0  317.0  313.0  318.0  374.0  413.0  405.0  355.0  306.0  271.0  306.0       315.0     311.0     1.27\n",
      "85   277.0  317.0  313.0  318.0  374.0  413.0  405.0  355.0  306.0  271.0  306.0  315.0       301.0     304.0     1.00\n",
      "86   317.0  313.0  318.0  374.0  413.0  405.0  355.0  306.0  271.0  306.0  315.0  301.0       356.0     344.0     3.37\n",
      "87   313.0  318.0  374.0  413.0  405.0  355.0  306.0  271.0  306.0  315.0  301.0  356.0       348.0     340.0     2.30\n",
      "88   318.0  374.0  413.0  405.0  355.0  306.0  271.0  306.0  315.0  301.0  356.0  348.0       355.0     345.0     2.82\n",
      "89   374.0  413.0  405.0  355.0  306.0  271.0  306.0  315.0  301.0  356.0  348.0  355.0       422.0     401.0     4.98\n",
      "90   413.0  405.0  355.0  306.0  271.0  306.0  315.0  301.0  356.0  348.0  355.0  422.0       465.0     440.0     5.38\n",
      "91   405.0  355.0  306.0  271.0  306.0  315.0  301.0  356.0  348.0  355.0  422.0  465.0       467.0     432.0     7.49\n",
      "92   355.0  306.0  271.0  306.0  315.0  301.0  356.0  348.0  355.0  422.0  465.0  467.0       404.0     382.0     5.45\n",
      "93   306.0  271.0  306.0  315.0  301.0  356.0  348.0  355.0  422.0  465.0  467.0  404.0       347.0     333.0     4.03\n",
      "94   271.0  306.0  315.0  301.0  356.0  348.0  355.0  422.0  465.0  467.0  404.0  347.0       305.0     298.0     2.30\n",
      "95   306.0  315.0  301.0  356.0  348.0  355.0  422.0  465.0  467.0  404.0  347.0  305.0       336.0     333.0     0.89\n",
      "96   315.0  301.0  356.0  348.0  355.0  422.0  465.0  467.0  404.0  347.0  305.0  336.0       340.0     342.0     0.59\n",
      "97   301.0  356.0  348.0  355.0  422.0  465.0  467.0  404.0  347.0  305.0  336.0  340.0       318.0     328.0     3.14\n",
      "98   356.0  348.0  355.0  422.0  465.0  467.0  404.0  347.0  305.0  336.0  340.0  318.0       362.0     383.0     5.80\n",
      "99   348.0  355.0  422.0  465.0  467.0  404.0  347.0  305.0  336.0  340.0  318.0  362.0       348.0     375.0     7.76\n",
      "100  355.0  422.0  465.0  467.0  404.0  347.0  305.0  336.0  340.0  318.0  362.0  348.0       363.0     382.0     5.23\n",
      "101  422.0  465.0  467.0  404.0  347.0  305.0  336.0  340.0  318.0  362.0  348.0  363.0       435.0     449.0     3.22\n",
      "102  465.0  467.0  404.0  347.0  305.0  336.0  340.0  318.0  362.0  348.0  363.0  435.0       491.0     492.0     0.20\n",
      "103  467.0  404.0  347.0  305.0  336.0  340.0  318.0  362.0  348.0  363.0  435.0  491.0       505.0     494.0     2.18\n",
      "104  404.0  347.0  305.0  336.0  340.0  318.0  362.0  348.0  363.0  435.0  491.0  505.0       404.0     431.0     6.68\n",
      "105  347.0  305.0  336.0  340.0  318.0  362.0  348.0  363.0  435.0  491.0  505.0  404.0       359.0     374.0     4.18\n",
      "106  305.0  336.0  340.0  318.0  362.0  348.0  363.0  435.0  491.0  505.0  404.0  359.0       310.0     332.0     7.10\n",
      "107  336.0  340.0  318.0  362.0  348.0  363.0  435.0  491.0  505.0  404.0  359.0  310.0       337.0     363.0     7.72\n",
      "108  340.0  318.0  362.0  348.0  363.0  435.0  491.0  505.0  404.0  359.0  310.0  337.0       360.0     367.0     1.94\n",
      "109  318.0  362.0  348.0  363.0  435.0  491.0  505.0  404.0  359.0  310.0  337.0  360.0       342.0     345.0     0.88\n",
      "110  362.0  348.0  363.0  435.0  491.0  505.0  404.0  359.0  310.0  337.0  360.0  342.0       406.0     389.0     4.19\n",
      "111  348.0  363.0  435.0  491.0  505.0  404.0  359.0  310.0  337.0  360.0  342.0  406.0       396.0     375.0     5.30\n",
      "112  363.0  435.0  491.0  505.0  404.0  359.0  310.0  337.0  360.0  342.0  406.0  396.0       420.0     390.0     7.14\n",
      "113  435.0  491.0  505.0  404.0  359.0  310.0  337.0  360.0  342.0  406.0  396.0  420.0       472.0     462.0     2.12\n",
      "114  491.0  505.0  404.0  359.0  310.0  337.0  360.0  342.0  406.0  396.0  420.0  472.0       548.0     518.0     5.47\n",
      "115  505.0  404.0  359.0  310.0  337.0  360.0  342.0  406.0  396.0  420.0  472.0  548.0       559.0     532.0     4.83\n",
      "116  404.0  359.0  310.0  337.0  360.0  342.0  406.0  396.0  420.0  472.0  548.0  559.0       463.0     431.0     6.91\n",
      "117  359.0  310.0  337.0  360.0  342.0  406.0  396.0  420.0  472.0  548.0  559.0  463.0       407.0     386.0     5.16\n",
      "118  310.0  337.0  360.0  342.0  406.0  396.0  420.0  472.0  548.0  559.0  463.0  407.0       362.0     337.0     6.91\n",
      "119  337.0  360.0  342.0  406.0  396.0  420.0  472.0  548.0  559.0  463.0  407.0  362.0       405.0     364.0    10.12\n",
      "\n",
      "=======\n",
      "|TESTE|\n",
      "=======\n",
      "       x1     x2     x3     x4     x5     x6     x7     x8     x9    x10    x11    x12  VALOR REAL  VALOR PG  ERRO(%)\n",
      "0   360.0  342.0  406.0  396.0  420.0  472.0  548.0  559.0  463.0  407.0  362.0  405.0       417.0     387.0     7.19\n",
      "1   342.0  406.0  396.0  420.0  472.0  548.0  559.0  463.0  407.0  362.0  405.0  417.0       391.0     369.0     5.63\n",
      "2   406.0  396.0  420.0  472.0  548.0  559.0  463.0  407.0  362.0  405.0  417.0  391.0       419.0     433.0     3.34\n",
      "3   396.0  420.0  472.0  548.0  559.0  463.0  407.0  362.0  405.0  417.0  391.0  419.0       461.0     423.0     8.24\n",
      "4   420.0  472.0  548.0  559.0  463.0  407.0  362.0  405.0  417.0  391.0  419.0  461.0       472.0     447.0     5.30\n",
      "5   472.0  548.0  559.0  463.0  407.0  362.0  405.0  417.0  391.0  419.0  461.0  472.0       535.0     499.0     6.73\n",
      "6   548.0  559.0  463.0  407.0  362.0  405.0  417.0  391.0  419.0  461.0  472.0  535.0       622.0     575.0     7.56\n",
      "7   559.0  463.0  407.0  362.0  405.0  417.0  391.0  419.0  461.0  472.0  535.0  622.0       606.0     586.0     3.30\n",
      "8   463.0  407.0  362.0  405.0  417.0  391.0  419.0  461.0  472.0  535.0  622.0  606.0       508.0     490.0     3.54\n",
      "9   407.0  362.0  405.0  417.0  391.0  419.0  461.0  472.0  535.0  622.0  606.0  508.0       461.0     434.0     5.86\n",
      "10  362.0  405.0  417.0  391.0  419.0  461.0  472.0  535.0  622.0  606.0  508.0  461.0       390.0     389.0     0.26\n",
      "11  405.0  417.0  391.0  419.0  461.0  472.0  535.0  622.0  606.0  508.0  461.0  390.0       432.0     432.0     0.00\n"
     ]
    }
   ],
   "source": [
    "import pandas as pd\n",
    "\n",
    "#Colunas da tabela\n",
    "cols = ['x1','x2','x3','x4','x5','x6','x7','x8','x9','x10','x11','x12','VALOR REAL','VALOR PG','ERRO(%)']\n",
    "\n",
    "#Compila  melhor indivíduo chamar a funçã com os resultados\n",
    "function = gp.compile(hof[0],pset)\n",
    "table_train = []\n",
    "for x1,x2,x3,x4,x5,x6,x7,x8,x9,x10,x11,x12,y in data_train:\n",
    "    pg = function(x1,x2,x3,x4,x5,x6,x7,x8,x9,x10,x11,x12)\n",
    "    table_train.append([x1,x2,x3,x4,x5,x6,x7,x8,x9,x10,x11,x12,y,pg,round(abs(100-pg*100/y),2)])\n",
    "\n",
    "table_test = []    \n",
    "for x1,x2,x3,x4,x5,x6,x7,x8,x9,x10,x11,x12,y in data_test:\n",
    "    pg = function(x1,x2,x3,x4,x5,x6,x7,x8,x9,x10,x11,x12)\n",
    "    table_test.append([x1,x2,x3,x4,x5,x6,x7,x8,x9,x10,x11,x12,y,pg,round(abs(100-pg*100/y),2)])\n",
    "\n",
    "print('\\n========\\n|TREINO|\\n========')\n",
    "table_train = np.array(table_train)\n",
    "df_train = pd.DataFrame(table_train,columns = cols)\n",
    "print(df_train.to_string())\n",
    "\n",
    "print('\\n=======\\n|TESTE|\\n=======')\n",
    "table_test = np.array(table_test)\n",
    "df_test = pd.DataFrame(table_test,columns = cols)\n",
    "print(df_test.to_string())\n"
   ]
  },
  {
   "cell_type": "markdown",
   "metadata": {},
   "source": [
    "### 5. Gráfico com os dados reais e os gerados pela função obtida por PG"
   ]
  },
  {
   "cell_type": "code",
   "execution_count": 11,
   "metadata": {
    "collapsed": false
   },
   "outputs": [
    {
     "data": {
      "image/png": "[encoded data removed]",
      "text/plain": [
       "<matplotlib.figure.Figure at 0x1e05f2b2e80>"
      ]
     },
     "metadata": {},
     "output_type": "display_data"
    }
   ],
   "source": [
    "import matplotlib.pyplot as plt\n",
    "\n",
    "meses = np.arange(132)\n",
    "\n",
    "\n",
    "fig, ax1 = plt.subplots()\n",
    "ax1.set_xlabel(\"Meses\")\n",
    "ax1.set_ylabel(\"Passageiros\")\n",
    "\n",
    "line1 = ax1.plot(meses, np.concatenate((table_train[:,12],table_test[:,12]),axis=0), \"b-\", label=\"REAL\")\n",
    "line2 = ax1.plot(meses, np.concatenate((table_train[:,13],table_test[:,13]),axis=0), \"r-\", label=\"OBTIDO\")\n",
    "\n",
    "\n",
    "lns = line2 + line1\n",
    "labs = [l.get_label() for l in lns]\n",
    "ax1.legend(lns, labs, loc=4)\n",
    "\n",
    "fig.set_size_inches(15, 5, forward=True)\n",
    "\n",
    "plt.show()"
   ]
  },
  {
   "cell_type": "code",
   "execution_count": 17,
   "metadata": {
    "collapsed": false
   },
   "outputs": [
    {
     "name": "stdout",
     "output_type": "stream",
     "text": [
      "Erro médio treino: 5.277083333333333%\n",
      "Erro médio teste: 4.745833333333333%\n",
      "Erro médio total: 5.228787878787878%\n"
     ]
    }
   ],
   "source": [
    "error_final = np.concatenate((table_train[:,14],table_test[:,14]),axis=0)\n",
    "print('Erro médio treino: {}%'.format(sum(table_train[:,14])/len(table_train)))\n",
    "print('Erro médio teste: {}%'.format(sum(table_test[:,14])/len(table_test)))\n",
    "print('Erro médio total: {}%'.format(sum(error_final)/len(error_final)))"
   ]
  },
  {
   "cell_type": "markdown",
   "metadata": {},
   "source": [
    "### 6. Considerações finais"
   ]
  },
  {
   "cell_type": "markdown",
   "metadata": {},
   "source": [
    "- Aumentando-se o numero de gerações não contribui para uma melhora do erro.  \n",
    "- As equações que envolviam seno e coseno não apresentaram-se melhor.  \n",
    "- Os dados iniciais apresentam um erro maior pois, devido a estrutura do problema, eles nao têm dados suficientes de treinamento.  \n",
    "- A adição e funções mais complexas como exponencial implica em incluir restrições para não dar erro ao calcular o fitness ou gerar um filho."
   ]
  }
 ],
 "metadata": {
  "kernelspec": {
   "display_name": "Python 3",
   "language": "python",
   "name": "python3"
  },
  "language_info": {
   "codemirror_mode": {
    "name": "ipython",
    "version": 3
   },
   "file_extension": ".py",
   "mimetype": "text/x-python",
   "name": "python",
   "nbconvert_exporter": "python",
   "pygments_lexer": "ipython3",
   "version": "3.6.0"
  }
 },
 "nbformat": 4,
 "nbformat_minor": 2
}
