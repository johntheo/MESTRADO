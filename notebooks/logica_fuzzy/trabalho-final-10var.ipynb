{
 "cells": [
  {
   "cell_type": "markdown",
   "metadata": {
    "collapsed": true
   },
   "source": [
    "# Classificador de vozes Fuzzy \n"
   ]
  },
  {
   "cell_type": "markdown",
   "metadata": {
    "toc": "true"
   },
   "source": [
    "<h1>Table of Contents<span class=\"tocSkip\"></span></h1>\n",
    "<div class=\"toc\" style=\"margin-top: 1em;\"><ul class=\"toc-item\"><li><span><a href=\"#Classificador-de-vozes-Fuzzy\" data-toc-modified-id=\"Classificador-de-vozes-Fuzzy-1\">Classificador de vozes Fuzzy</a></span><ul class=\"toc-item\"><li><span><a href=\"#Classificador-Fuzzy\" data-toc-modified-id=\"Classificador-Fuzzy-1.1\">Classificador Fuzzy</a></span><ul class=\"toc-item\"><li><span><a href=\"#Variáveis-de-Entrada\" data-toc-modified-id=\"Variáveis-de-Entrada-1.1.1\">Variáveis de Entrada</a></span></li><li><span><a href=\"#Base-de-Regras\" data-toc-modified-id=\"Base-de-Regras-1.1.2\">Base de Regras</a></span></li><li><span><a href=\"#Inferência-Fuzzy\" data-toc-modified-id=\"Inferência-Fuzzy-1.1.3\">Inferência Fuzzy</a></span></li><li><span><a href=\"#Fluxo-Wang-Mendel\" data-toc-modified-id=\"Fluxo-Wang-Mendel-1.1.4\">Fluxo Wang-Mendel</a></span></li></ul></li><li><span><a href=\"#Referencias\" data-toc-modified-id=\"Referencias-1.2\">Referencias</a></span></li></ul></li></ul></div>"
   ]
  },
  {
   "cell_type": "code",
   "execution_count": 1,
   "metadata": {
    "collapsed": true
   },
   "outputs": [],
   "source": [
    "import numpy as np\n",
    "import skfuzzy as fuzz\n",
    "import matplotlib.pyplot as plt\n",
    "import pandas as pd\n",
    "from sklearn.model_selection import train_test_split\n",
    "import seaborn as sns\n",
    "sns.set(style=\"white\", color_codes=True)\n",
    "%matplotlib inline\n",
    "\n",
    "#importando dados para utilização\n",
    "my_data = np.genfromtxt('voice.csv', delimiter=',')\n"
   ]
  },
  {
   "cell_type": "markdown",
   "metadata": {
    "collapsed": true
   },
   "source": [
    "## Classificador Fuzzy"
   ]
  },
  {
   "cell_type": "markdown",
   "metadata": {
    "collapsed": true
   },
   "source": [
    "### Variáveis de Entrada"
   ]
  },
  {
   "cell_type": "code",
   "execution_count": 2,
   "metadata": {
    "collapsed": true
   },
   "outputs": [],
   "source": [
    "resolution = 0.0001 #resoluçao alta devido a baixa variação dos valores\n",
    "\n",
    "#Como todos os valores estão normalizados criaremos variaveis discretas entre 0 e 1\n",
    "var1  = np.arange(0, 1+resolution, resolution)\n",
    "var2  = np.arange(0, 1+resolution, resolution)\n",
    "var3  = np.arange(0, 1+resolution, resolution)\n",
    "var4  = np.arange(0, 1+resolution, resolution)\n",
    "var5  = np.arange(0, 1+resolution, resolution)\n",
    "var6  = np.arange(0, 1+resolution, resolution)\n",
    "var7  = np.arange(0, 1+resolution, resolution)\n",
    "var8  = np.arange(0, 1+resolution, resolution)\n",
    "var9  = np.arange(0, 1+resolution, resolution)\n",
    "var10  = np.arange(0, 1+resolution, resolution)\n",
    "label = np.arange(0, 1+resolution, resolution)"
   ]
  },
  {
   "cell_type": "code",
   "execution_count": 3,
   "metadata": {
    "collapsed": true
   },
   "outputs": [],
   "source": [
    "#Definindo constantes para os nomes para reutilização em graficos e maps\n",
    "VAR1_LO = 'VAR1 Baixa'\n",
    "VAR1_ML = 'VAR1 Média Baixa'\n",
    "VAR1_M  = 'VAR1 Média'\n",
    "VAR1_MH = 'VAR1 Média Alta'\n",
    "VAR1_HI = 'VAR1 Alta'\n",
    "\n",
    "VAR2_LO = 'VAR2 Baixa'\n",
    "VAR2_ML = 'VAR2 Média Baixa'\n",
    "VAR2_M  = 'VAR2 Média'\n",
    "VAR2_MH = 'VAR2 Média Alta'\n",
    "VAR2_HI = 'VAR2 Alta'\n",
    "\n",
    "VAR3_LO = 'VAR3 Baixa'\n",
    "VAR3_ML = 'VAR3 Média Baixa'\n",
    "VAR3_M  = 'VAR3 Média'\n",
    "VAR3_MH = 'VAR3 Média Alta'\n",
    "VAR3_HI = 'VAR3 Alta'\n",
    "\n",
    "VAR4_LO = 'VAR4 Baixa'\n",
    "VAR4_ML = 'VAR4 Média Baixa'\n",
    "VAR4_M  = 'VAR4 Média'\n",
    "VAR4_MH = 'VAR4 Média Alta'\n",
    "VAR4_HI = 'VAR4 Alta'\n",
    "\n",
    "VAR5_LO = 'VAR5 Baixa'\n",
    "VAR5_ML = 'VAR5 Média Baixa'\n",
    "VAR5_M  = 'VAR5 Média'\n",
    "VAR5_MH = 'VAR5 Média Alta'\n",
    "VAR5_HI = 'VAR5 Alta'\n",
    "\n",
    "VAR6_LO = 'VAR6 Baixa'\n",
    "VAR6_ML = 'VAR6 Média Baixa'\n",
    "VAR6_M  = 'VAR6 Média'\n",
    "VAR6_MH = 'VAR6 Média Alta'\n",
    "VAR6_HI = 'VAR6 Alta'\n",
    "\n",
    "VAR7_LO = 'VAR7 Baixa'\n",
    "VAR7_ML = 'VAR7 Média Baixa'\n",
    "VAR7_M  = 'VAR7 Média'\n",
    "VAR7_MH = 'VAR7 Média Alta'\n",
    "VAR7_HI = 'VAR7 Alta'\n",
    "\n",
    "VAR8_LO = 'VAR8 Baixa'\n",
    "VAR8_ML = 'VAR8 Média Baixa'\n",
    "VAR8_M  = 'VAR8 Média'\n",
    "VAR8_MH = 'VAR8 Média Alta'\n",
    "VAR8_HI = 'VAR8 Alta'\n",
    "\n",
    "VAR9_LO = 'VAR9 Baixa'\n",
    "VAR9_ML = 'VAR9 Média Baixa'\n",
    "VAR9_M  = 'VAR9 Média'\n",
    "VAR9_MH = 'VAR9 Média Alta'\n",
    "VAR9_HI = 'VAR9 Alta'\n",
    "\n",
    "VAR10_LO = 'VAR10 Baixa'\n",
    "VAR10_ML = 'VAR10 Média Baixa'\n",
    "VAR10_M  = 'VAR10 Média'\n",
    "VAR10_MH = 'VAR10 Média Alta'\n",
    "VAR10_HI = 'VAR10 Alta'\n",
    "\n",
    "LABL_M  = 'Voz Masculina'\n",
    "LABL_F  = 'Voz Feminina'"
   ]
  },
  {
   "cell_type": "code",
   "execution_count": 4,
   "metadata": {
    "collapsed": true
   },
   "outputs": [],
   "source": [
    "#Gerando os conjuntos fuzzy uniformemente\n",
    "var1_lo = fuzz.trimf(var1,[0,0,0.25])\n",
    "var1_ml = fuzz.trimf(var1,[0,0.25,0.5])\n",
    "var1_m  = fuzz.trimf(var1,[0.25,0.5,0.75])\n",
    "var1_mh = fuzz.trimf(var1,[0.5,0.75,1])\n",
    "var1_hi = fuzz.trimf(var1,[0.75,1,1 ])\n",
    "\n",
    "var2_lo = fuzz.trimf(var2,[0,0,0.25])\n",
    "var2_ml = fuzz.trimf(var2,[0,0.25,0.5])\n",
    "var2_m  = fuzz.trimf(var2,[0.25,0.5,0.75])\n",
    "var2_mh = fuzz.trimf(var2,[0.5,0.75,1])\n",
    "var2_hi = fuzz.trimf(var2,[0.75,1,1 ])\n",
    "\n",
    "var3_lo = fuzz.trimf(var3,[0,0,0.25])\n",
    "var3_ml = fuzz.trimf(var3,[0,0.25,0.5])\n",
    "var3_m  = fuzz.trimf(var3,[0.25,0.5,0.75])\n",
    "var3_mh = fuzz.trimf(var3,[0.5,0.75,1])\n",
    "var3_hi = fuzz.trimf(var3,[0.75,1,1 ])\n",
    "\n",
    "var4_lo = fuzz.trimf(var4,[0,0,0.25])\n",
    "var4_ml = fuzz.trimf(var4,[0,0.25,0.5])\n",
    "var4_m  = fuzz.trimf(var4,[0.25,0.5,0.75])\n",
    "var4_mh = fuzz.trimf(var4,[0.5,0.75,1])\n",
    "var4_hi = fuzz.trimf(var4,[0.75,1,1 ])\n",
    "\n",
    "var5_lo = fuzz.trimf(var5,[0,0,0.25])\n",
    "var5_ml = fuzz.trimf(var5,[0,0.25,0.5])\n",
    "var5_m  = fuzz.trimf(var5,[0.25,0.5,0.75])\n",
    "var5_mh = fuzz.trimf(var5,[0.5,0.75,1])\n",
    "var5_hi = fuzz.trimf(var5,[0.75,1,1 ])\n",
    "\n",
    "var6_lo = fuzz.trimf(var6,[0,0,0.25])\n",
    "var6_ml = fuzz.trimf(var6,[0,0.25,0.5])\n",
    "var6_m  = fuzz.trimf(var6,[0.25,0.5,0.75])\n",
    "var6_mh = fuzz.trimf(var6,[0.5,0.75,1])\n",
    "var6_hi = fuzz.trimf(var6,[0.75,1,1 ])\n",
    "\n",
    "var7_lo = fuzz.trimf(var7,[0,0,0.25])\n",
    "var7_ml = fuzz.trimf(var7,[0,0.25,0.5])\n",
    "var7_m  = fuzz.trimf(var7,[0.25,0.5,0.75])\n",
    "var7_mh = fuzz.trimf(var7,[0.5,0.75,1])\n",
    "var7_hi = fuzz.trimf(var7,[0.75,1,1 ])\n",
    "\n",
    "var8_lo = fuzz.trimf(var8,[0,0,0.25])\n",
    "var8_ml = fuzz.trimf(var8,[0,0.25,0.5])\n",
    "var8_m  = fuzz.trimf(var8,[0.25,0.5,0.75])\n",
    "var8_mh = fuzz.trimf(var8,[0.5,0.75,1])\n",
    "var8_hi = fuzz.trimf(var8,[0.75,1,1 ])\n",
    "\n",
    "var9_lo = fuzz.trimf(var9,[0,0,0.25])\n",
    "var9_ml = fuzz.trimf(var9,[0,0.25,0.5])\n",
    "var9_m  = fuzz.trimf(var9,[0.25,0.5,0.75])\n",
    "var9_mh = fuzz.trimf(var9,[0.5,0.75,1])\n",
    "var9_hi = fuzz.trimf(var9,[0.75,1,1 ])\n",
    "\n",
    "var10_lo = fuzz.trimf(var10,[0,0,0.25])\n",
    "var10_ml = fuzz.trimf(var10,[0,0.25,0.5])\n",
    "var10_m  = fuzz.trimf(var10,[0.25,0.5,0.75])\n",
    "var10_mh = fuzz.trimf(var10,[0.5,0.75,1])\n",
    "var10_hi = fuzz.trimf(var10,[0.75,1,1 ])\n",
    "\n",
    "labl_m  = fuzz.trapmf(label,[0,0,0.49,0.5])\n",
    "labl_f  = fuzz.trapmf(label,[0.5,0.51,1,1])\n"
   ]
  },
  {
   "cell_type": "markdown",
   "metadata": {},
   "source": [
    "### Base de Regras"
   ]
  },
  {
   "cell_type": "code",
   "execution_count": 5,
   "metadata": {
    "collapsed": true
   },
   "outputs": [],
   "source": [
    "def generate_rule_base(dataset):\n",
    "    \"\"\"\n",
    "    Método para gerar uma base de regras com base nas entradas\n",
    "    Para cada entrada:\n",
    "        1. obter o valor de ativação para cada função de pertinencia\n",
    "        2. selecionar as maiores ativações de cada variável fuzzy\n",
    "        3. gerar uma regra com as funcoes ativadas\n",
    "        4. o valor de ativação dessa regra será o mínimo das ativações(norma-T)\n",
    "    \"\"\"\n",
    "    \n",
    "    #A base de resgras ficará da seguinte forma {(antecedentes):(consequente, ativaçao)}\n",
    "    rule_base = {}\n",
    "    for index, row in dataset.iterrows():\n",
    "        var1_val = row['var1']\n",
    "        var2_val = row['var2']\n",
    "        var3_val = row['var3']\n",
    "        var4_val = row['var4']\n",
    "        var5_val = row['var5']\n",
    "        var6_val = row['var6']\n",
    "        var7_val = row['var7']\n",
    "        var8_val = row['var8']\n",
    "        var9_val = row['var9']\n",
    "        var10_val = row['var10']\n",
    "        label_val   = LABL_M if row['label'] == 0 else LABL_F\n",
    "        \n",
    "        #Obtendo os valores de ativacao. Guarda em um array o par(funcao,ativacao) e depois pega o de maior valor\n",
    "        actvs_var1 = []\n",
    "        actvs_var1.append((VAR1_LO, fuzz.interp_membership(var1, var1_lo, var1_val)))\n",
    "        actvs_var1.append((VAR1_ML, fuzz.interp_membership(var1, var1_ml, var1_val)))\n",
    "        actvs_var1.append((VAR1_M , fuzz.interp_membership(var1, var1_m , var1_val)))\n",
    "        actvs_var1.append((VAR1_MH, fuzz.interp_membership(var1, var1_mh, var1_val)))\n",
    "        actvs_var1.append((VAR1_HI, fuzz.interp_membership(var1, var1_hi, var1_val)))\n",
    "        actvs_var1.sort(key=lambda var: var[1], reverse=True) #ordenando do maior para o menor\n",
    "        activation_var1 = actvs_var1[0]\n",
    "        \n",
    "        actvs_var2 = []\n",
    "        actvs_var2.append((VAR2_LO, fuzz.interp_membership(var2, var2_lo, var2_val)))\n",
    "        actvs_var2.append((VAR2_ML, fuzz.interp_membership(var2, var2_ml, var2_val)))\n",
    "        actvs_var2.append((VAR2_M , fuzz.interp_membership(var2, var2_m , var2_val)))\n",
    "        actvs_var2.append((VAR2_MH, fuzz.interp_membership(var2, var2_mh, var2_val)))\n",
    "        actvs_var2.append((VAR2_HI, fuzz.interp_membership(var2, var2_hi, var2_val)))\n",
    "        actvs_var2.sort(key=lambda var: var[1], reverse=True) #ordenando do maior para o menor\n",
    "        activation_var2 = actvs_var2[0]\n",
    "        \n",
    "        actvs_var3 = []\n",
    "        actvs_var3.append((VAR3_LO, fuzz.interp_membership(var3, var3_lo, var3_val)))\n",
    "        actvs_var3.append((VAR3_ML, fuzz.interp_membership(var3, var3_ml, var3_val)))\n",
    "        actvs_var3.append((VAR3_M , fuzz.interp_membership(var3, var3_m , var3_val)))\n",
    "        actvs_var3.append((VAR3_MH, fuzz.interp_membership(var3, var3_mh, var3_val)))\n",
    "        actvs_var3.append((VAR3_HI, fuzz.interp_membership(var3, var3_hi, var3_val)))\n",
    "        actvs_var3.sort(key=lambda var: var[1], reverse=True) #ordenando do maior para o menor\n",
    "        activation_var3 = actvs_var3[0]\n",
    "        \n",
    "        actvs_var4 = []\n",
    "        actvs_var4.append((VAR4_LO, fuzz.interp_membership(var4, var4_lo, var4_val)))\n",
    "        actvs_var4.append((VAR4_ML, fuzz.interp_membership(var4, var4_ml, var4_val)))\n",
    "        actvs_var4.append((VAR4_M , fuzz.interp_membership(var4, var4_m , var4_val)))\n",
    "        actvs_var4.append((VAR4_MH, fuzz.interp_membership(var4, var4_mh, var4_val)))\n",
    "        actvs_var4.append((VAR4_HI, fuzz.interp_membership(var4, var4_hi, var4_val)))\n",
    "        actvs_var4.sort(key=lambda var: var[1], reverse=True) #ordenando do maior para o menor\n",
    "        activation_var4 = actvs_var4[0]\n",
    "        \n",
    "        actvs_var5 = []\n",
    "        actvs_var5.append((VAR5_LO, fuzz.interp_membership(var5, var5_lo, var5_val)))\n",
    "        actvs_var5.append((VAR5_ML, fuzz.interp_membership(var5, var5_ml, var5_val)))\n",
    "        actvs_var5.append((VAR5_M , fuzz.interp_membership(var5, var5_m , var5_val)))\n",
    "        actvs_var5.append((VAR5_MH, fuzz.interp_membership(var5, var5_mh, var5_val)))\n",
    "        actvs_var5.append((VAR5_HI, fuzz.interp_membership(var5, var5_hi, var5_val)))\n",
    "        actvs_var5.sort(key=lambda var: var[1], reverse=True) #ordenando do maior para o menor\n",
    "        activation_var5 = actvs_var5[0]\n",
    "        \n",
    "        actvs_var6 = []\n",
    "        actvs_var6.append((VAR6_LO, fuzz.interp_membership(var5, var6_lo, var6_val)))\n",
    "        actvs_var6.append((VAR6_ML, fuzz.interp_membership(var5, var6_ml, var6_val)))\n",
    "        actvs_var6.append((VAR6_M , fuzz.interp_membership(var5, var6_m , var6_val)))\n",
    "        actvs_var6.append((VAR6_MH, fuzz.interp_membership(var5, var6_mh, var6_val)))\n",
    "        actvs_var6.append((VAR6_HI, fuzz.interp_membership(var5, var6_hi, var6_val)))\n",
    "        actvs_var6.sort(key=lambda var: var[1], reverse=True) #ordenando do maior para o menor\n",
    "        activation_var6 = actvs_var6[0]\n",
    "        \n",
    "        actvs_var7 = []\n",
    "        actvs_var7.append((VAR7_LO, fuzz.interp_membership(var7, var7_lo, var7_val)))\n",
    "        actvs_var7.append((VAR7_ML, fuzz.interp_membership(var7, var7_ml, var7_val)))\n",
    "        actvs_var7.append((VAR7_M , fuzz.interp_membership(var7, var7_m , var7_val)))\n",
    "        actvs_var7.append((VAR7_MH, fuzz.interp_membership(var7, var7_mh, var7_val)))\n",
    "        actvs_var7.append((VAR7_HI, fuzz.interp_membership(var7, var7_hi, var7_val)))\n",
    "        actvs_var7.sort(key=lambda var: var[1], reverse=True) #ordenando do maior para o menor\n",
    "        activation_var7 = actvs_var7[0]\n",
    "        \n",
    "        actvs_var8 = []\n",
    "        actvs_var8.append((VAR8_LO, fuzz.interp_membership(var8, var8_lo, var8_val)))\n",
    "        actvs_var8.append((VAR8_ML, fuzz.interp_membership(var8, var8_ml, var8_val)))\n",
    "        actvs_var8.append((VAR8_M , fuzz.interp_membership(var8, var8_m , var8_val)))\n",
    "        actvs_var8.append((VAR8_MH, fuzz.interp_membership(var8, var8_mh, var8_val)))\n",
    "        actvs_var8.append((VAR8_HI, fuzz.interp_membership(var8, var8_hi, var8_val)))\n",
    "        actvs_var8.sort(key=lambda var: var[1], reverse=True) #ordenando do maior para o menor\n",
    "        activation_var8 = actvs_var8[0]\n",
    "        \n",
    "        actvs_var9 = []\n",
    "        actvs_var9.append((VAR9_LO, fuzz.interp_membership(var9, var9_lo, var9_val)))\n",
    "        actvs_var9.append((VAR9_ML, fuzz.interp_membership(var9, var9_ml, var9_val)))\n",
    "        actvs_var9.append((VAR9_M , fuzz.interp_membership(var9, var9_m , var9_val)))\n",
    "        actvs_var9.append((VAR9_MH, fuzz.interp_membership(var9, var9_mh, var9_val)))\n",
    "        actvs_var9.append((VAR9_HI, fuzz.interp_membership(var9, var9_hi, var9_val)))\n",
    "        actvs_var9.sort(key=lambda var: var[1], reverse=True) #ordenando do maior para o menor\n",
    "        activation_var9 = actvs_var9[0]\n",
    "        \n",
    "        actvs_var10 = []\n",
    "        actvs_var10.append((VAR10_LO, fuzz.interp_membership(var10, var10_lo, var10_val)))\n",
    "        actvs_var10.append((VAR10_ML, fuzz.interp_membership(var10, var10_ml, var10_val)))\n",
    "        actvs_var10.append((VAR10_M , fuzz.interp_membership(var10, var10_m , var10_val)))\n",
    "        actvs_var10.append((VAR10_MH, fuzz.interp_membership(var10, var10_mh, var10_val)))\n",
    "        actvs_var10.append((VAR10_HI, fuzz.interp_membership(var10, var10_hi, var10_val)))\n",
    "        actvs_var10.sort(key=lambda var: var[1], reverse=True) #ordenando do maior para o menor\n",
    "        activation_var10 = actvs_var10[0]\n",
    "                \n",
    "        \n",
    "        #norma-T(min) para obter a ativaçao da regra\n",
    "        activation_rule = min(\n",
    "            activation_var1[1],\n",
    "            activation_var2[1],\n",
    "            activation_var3[1],\n",
    "            activation_var4[1],\n",
    "            activation_var5[1],\n",
    "            activation_var6[1],\n",
    "            activation_var7[1],\n",
    "            activation_var8[1],\n",
    "            activation_var9[1],\n",
    "            activation_var10[1]\n",
    "        )\n",
    "        \n",
    "        #Criando os valores para inserir na base de regras\n",
    "        rule_key = (\n",
    "            activation_var1[0],\n",
    "            activation_var2[0],\n",
    "            activation_var3[0],\n",
    "            activation_var4[0],\n",
    "            activation_var5[0],\n",
    "            activation_var6[0],\n",
    "            activation_var7[0],\n",
    "            activation_var8[0],\n",
    "            activation_var9[0],\n",
    "            activation_var10[0]\n",
    "            )\n",
    "        rule_value = (label_val, activation_rule)\n",
    "        \n",
    "        #Inserindo na base de regras\n",
    "        if rule_key in rule_base:\n",
    "            #Mantém o de maior valor\n",
    "            if rule_value[1] > rule_base[rule_key][1]:\n",
    "                rule_base[rule_key] = rule_value\n",
    "        else:\n",
    "            rule_base[rule_key] = rule_value\n",
    "            \n",
    "    return rule_base"
   ]
  },
  {
   "cell_type": "markdown",
   "metadata": {},
   "source": [
    "### Inferência Fuzzy"
   ]
  },
  {
   "cell_type": "code",
   "execution_count": 6,
   "metadata": {
    "collapsed": true
   },
   "outputs": [],
   "source": [
    "def fuzzify(data, rule_base):\n",
    "    '''\n",
    "    Recebe uma row do panda.Dataframe como parâmetro e a base de regras gerada\n",
    "    '''\n",
    "    var1_val  = data['var1']\n",
    "    var2_val  = data['var2']\n",
    "    var3_val  = data['var3']\n",
    "    var4_val  = data['var4']\n",
    "    var5_val  = data['var5']\n",
    "    var6_val  = data['var6']\n",
    "    var7_val  = data['var7']\n",
    "    var8_val  = data['var8']\n",
    "    var9_val  = data['var9']\n",
    "    var10_val  = data['var10']\n",
    "    label_val = LABL_M if data['label'] == 0 else LABL_F\n",
    "    \n",
    "    #Realiza o cálculo das ativações guardando no formato {antecedente:ativacao}\n",
    "    activations = {}\n",
    "    \n",
    "    activations[VAR1_LO] = fuzz.interp_membership(var1, var1_lo, var1_val)\n",
    "    activations[VAR1_ML] = fuzz.interp_membership(var1, var1_ml, var1_val)\n",
    "    activations[VAR1_M]  = fuzz.interp_membership(var1, var1_m , var1_val)\n",
    "    activations[VAR1_MH] = fuzz.interp_membership(var1, var1_mh, var1_val)\n",
    "    activations[VAR1_HI] = fuzz.interp_membership(var1, var1_hi, var1_val)\n",
    "    \n",
    "    activations[VAR2_LO] = fuzz.interp_membership(var2, var2_lo, var2_val)\n",
    "    activations[VAR2_ML] = fuzz.interp_membership(var2, var2_ml, var2_val)\n",
    "    activations[VAR2_M]  = fuzz.interp_membership(var2, var2_m , var2_val)\n",
    "    activations[VAR2_MH] = fuzz.interp_membership(var2, var2_mh, var2_val)\n",
    "    activations[VAR2_HI] = fuzz.interp_membership(var2, var2_hi, var2_val)\n",
    "    \n",
    "    activations[VAR3_LO] = fuzz.interp_membership(var3, var3_lo, var3_val)\n",
    "    activations[VAR3_ML] = fuzz.interp_membership(var3, var3_ml, var3_val)\n",
    "    activations[VAR3_M]  = fuzz.interp_membership(var3, var3_m , var3_val)\n",
    "    activations[VAR3_MH] = fuzz.interp_membership(var3, var3_mh, var3_val)\n",
    "    activations[VAR3_HI] = fuzz.interp_membership(var3, var3_hi, var3_val)\n",
    "    \n",
    "    activations[VAR4_LO] = fuzz.interp_membership(var4, var4_lo, var4_val)\n",
    "    activations[VAR4_ML] = fuzz.interp_membership(var4, var4_ml, var4_val)\n",
    "    activations[VAR4_M]  = fuzz.interp_membership(var4, var4_m , var4_val)\n",
    "    activations[VAR4_MH] = fuzz.interp_membership(var4, var4_mh, var4_val)\n",
    "    activations[VAR4_HI] = fuzz.interp_membership(var4, var4_hi, var4_val)\n",
    "    \n",
    "    activations[VAR5_LO] = fuzz.interp_membership(var5, var5_lo, var5_val)\n",
    "    activations[VAR5_ML] = fuzz.interp_membership(var5, var5_ml, var5_val)\n",
    "    activations[VAR5_M]  = fuzz.interp_membership(var5, var5_m , var5_val)\n",
    "    activations[VAR5_MH] = fuzz.interp_membership(var5, var5_mh, var5_val)\n",
    "    activations[VAR5_HI] = fuzz.interp_membership(var5, var5_hi, var5_val)\n",
    "    \n",
    "    activations[VAR6_LO] = fuzz.interp_membership(var6, var6_lo, var6_val)\n",
    "    activations[VAR6_ML] = fuzz.interp_membership(var6, var6_ml, var6_val)\n",
    "    activations[VAR6_M]  = fuzz.interp_membership(var6, var6_m , var6_val)\n",
    "    activations[VAR6_MH] = fuzz.interp_membership(var6, var6_mh, var6_val)\n",
    "    activations[VAR6_HI] = fuzz.interp_membership(var6, var6_hi, var6_val)\n",
    "    \n",
    "    activations[VAR7_LO] = fuzz.interp_membership(var7, var7_lo, var7_val)\n",
    "    activations[VAR7_ML] = fuzz.interp_membership(var7, var7_ml, var7_val)\n",
    "    activations[VAR7_M]  = fuzz.interp_membership(var7, var7_m , var7_val)\n",
    "    activations[VAR7_MH] = fuzz.interp_membership(var7, var7_mh, var7_val)\n",
    "    activations[VAR7_HI] = fuzz.interp_membership(var7, var7_hi, var7_val)\n",
    "    \n",
    "    activations[VAR8_LO] = fuzz.interp_membership(var8, var8_lo, var8_val)\n",
    "    activations[VAR8_ML] = fuzz.interp_membership(var8, var8_ml, var8_val)\n",
    "    activations[VAR8_M]  = fuzz.interp_membership(var8, var8_m , var8_val)\n",
    "    activations[VAR8_MH] = fuzz.interp_membership(var8, var8_mh, var8_val)\n",
    "    activations[VAR8_HI] = fuzz.interp_membership(var8, var8_hi, var8_val)\n",
    "    \n",
    "    activations[VAR9_LO] = fuzz.interp_membership(var9, var9_lo, var9_val)\n",
    "    activations[VAR9_ML] = fuzz.interp_membership(var9, var9_ml, var9_val)\n",
    "    activations[VAR9_M]  = fuzz.interp_membership(var9, var9_m , var9_val)\n",
    "    activations[VAR9_MH] = fuzz.interp_membership(var9, var9_mh, var9_val)\n",
    "    activations[VAR9_HI] = fuzz.interp_membership(var9, var9_hi, var9_val)\n",
    "    \n",
    "    activations[VAR10_LO] = fuzz.interp_membership(var10, var10_lo, var10_val)\n",
    "    activations[VAR10_ML] = fuzz.interp_membership(var10, var10_ml, var10_val)\n",
    "    activations[VAR10_M]  = fuzz.interp_membership(var10, var10_m , var10_val)\n",
    "    activations[VAR10_MH] = fuzz.interp_membership(var10, var10_mh, var10_val)\n",
    "    activations[VAR10_HI] = fuzz.interp_membership(var10, var10_hi, var10_val)\n",
    "    \n",
    "    \n",
    "    \n",
    "    \n",
    "    #Realizar as inferencias na base de regras e guarda numa lista as regras ativadas\n",
    "    rules_activated = []\n",
    "    for antecendentes,consequente in rule_base.items():\n",
    "        var1_name, var2_name, var3_name, var4_name, var5_name, var6_name, var7_name, var8_name, var9_name, var10_name = antecendentes\n",
    "        value = labl_m if consequente[0] == LABL_M else labl_f\n",
    "        if(activations[var1_name] != 0 \n",
    "           and activations[var2_name] != 0 \n",
    "           and activations[var3_name] != 0 \n",
    "           and activations[var4_name] != 0\n",
    "           and activations[var5_name] != 0\n",
    "           and activations[var6_name] != 0\n",
    "           and activations[var7_name] != 0\n",
    "           and activations[var8_name] != 0\n",
    "           and activations[var9_name] != 0\n",
    "           and activations[var10_name] != 0):\n",
    "        \n",
    "            rule_activation = min(activations[var1_name],\n",
    "                                  activations[var2_name],\n",
    "                                  activations[var3_name],\n",
    "                                  activations[var4_name],\n",
    "                                  activations[var5_name],\n",
    "                                  activations[var6_name],\n",
    "                                  activations[var7_name],\n",
    "                                  activations[var8_name],\n",
    "                                  activations[var9_name],\n",
    "                                  activations[var10_name],\n",
    "                                 )\n",
    "            rule_activated = np.fmin(rule_activation, value) #faz clipping do conjunto de saida\n",
    "            rules_activated.append(rule_activated)\n",
    "        \n",
    "    #Combinando todas as saidas encontradas\n",
    "    aggregated = 0\n",
    "    for rule in rules_activated:\n",
    "        aggregated = np.fmax(aggregated,rule)\n",
    "    \n",
    "    return np.array(aggregated)\n",
    "    "
   ]
  },
  {
   "cell_type": "code",
   "execution_count": 7,
   "metadata": {
    "collapsed": true
   },
   "outputs": [],
   "source": [
    "def defuzzify(fuzzy_aggregated, method = 'centroid'):\n",
    "    return fuzz.defuzz(label, fuzzy_aggregated, method)"
   ]
  },
  {
   "cell_type": "markdown",
   "metadata": {},
   "source": [
    "### Fluxo Wang-Mendel"
   ]
  },
  {
   "cell_type": "markdown",
   "metadata": {},
   "source": [
    "![flow](img/flow.png)"
   ]
  },
  {
   "cell_type": "code",
   "execution_count": 8,
   "metadata": {},
   "outputs": [
    {
     "name": "stdout",
     "output_type": "stream",
     "text": [
      "CPU times: user 306 ms, sys: 45.2 ms, total: 352 ms\n",
      "Wall time: 401 ms\n"
     ]
    }
   ],
   "source": [
    "%%time\n",
    "from sklearn import preprocessing\n",
    "from sklearn.decomposition import PCA\n",
    "\n",
    "voice = pd.read_csv(\"voice.csv\") #carregando o dataset\n",
    "\n",
    "#importando dados para vizualização\n",
    "voice = pd.read_csv(\"voice.csv\")\n",
    "\n",
    "#Normalizando o dataset\n",
    "min_max_scaler = preprocessing.MinMaxScaler()\n",
    "voice_scaled = min_max_scaler.fit_transform(voice)\n",
    "voice = pd.DataFrame(voice_scaled,columns=voice.columns)\n",
    "\n",
    "#Criando novo dataset com as features\n",
    "data = voice.values[:,:20] #removendo a coluna das classes\n",
    "pca = PCA(n_components=10)\n",
    "\n",
    "# Realiza o PCA e cria os eigen\n",
    "pca.fit(data) \n",
    "\n",
    "# Transforma os dados utilizando os vetores\n",
    "pca_data = pca.transform(data) \n",
    "\n",
    "#Insere os dados normalizados\n",
    "voice_pca = pd.DataFrame(min_max_scaler.fit_transform(pca_data), columns=['var1','var2','var3','var4','var5','var6','var7','var8','var9','var10']) \n",
    "\n",
    "#Adiciona os labels\n",
    "voice_pca['label'] = voice['label'] \n",
    "voice_pca.head()"
   ]
  },
  {
   "cell_type": "code",
   "execution_count": 9,
   "metadata": {},
   "outputs": [
    {
     "name": "stdout",
     "output_type": "stream",
     "text": [
      "CPU times: user 11.2 ms, sys: 3.49 ms, total: 14.7 ms\n",
      "Wall time: 3.11 ms\n"
     ]
    }
   ],
   "source": [
    "%%time\n",
    "train, test = train_test_split(voice_pca, test_size=0.2)"
   ]
  },
  {
   "cell_type": "code",
   "execution_count": 10,
   "metadata": {},
   "outputs": [
    {
     "name": "stdout",
     "output_type": "stream",
     "text": [
      "CPU times: user 1.4 s, sys: 83.5 ms, total: 1.48 s\n",
      "Wall time: 779 ms\n"
     ]
    }
   ],
   "source": [
    "%%time\n",
    "rule_base = generate_rule_base(train)\n",
    "#Visualizando regras\n",
    "rules = []\n",
    "for k,v in rule_base.items():\n",
    "    r=list(k)\n",
    "    r.append(v[0])\n",
    "    rules.append(r)\n",
    "rules_df = pd.DataFrame(rules,columns=['var1','var2','var3','var4','var5','var6','var7','var8','var9','var10', 'label'])\n",
    "rules_df.sort_values(['var1','var2','var3','var4','var5','var6','var7','var8','var9','var10'])"
   ]
  },
  {
   "cell_type": "code",
   "execution_count": 11,
   "metadata": {},
   "outputs": [
    {
     "name": "stdout",
     "output_type": "stream",
     "text": [
      "CPU times: user 35 s, sys: 2.11 s, total: 37.1 s\n",
      "Wall time: 37.3 s\n"
     ]
    }
   ],
   "source": [
    "%%time\n",
    "result = []\n",
    "errors = 0\n",
    "for index, data in train.iterrows():\n",
    "    fuzzy_aggregated = fuzzify(data, rule_base)\n",
    "    label_found = 1 if defuzzify(fuzzy_aggregated,'centroid') > 0.5 else 0\n",
    "    result.append([label_found,int(data['label'])])\n",
    "    if(int(label_found != data['label'])):\n",
    "        errors += 1\n",
    "result_df = pd.DataFrame(result,columns=['encontrado','real'])\n",
    "result_df"
   ]
  },
  {
   "cell_type": "code",
   "execution_count": 12,
   "metadata": {},
   "outputs": [
    {
     "name": "stdout",
     "output_type": "stream",
     "text": [
      "ERROS: 97 | PRECISAO: 96.17205998421468%\n"
     ]
    }
   ],
   "source": [
    "print(\"ERROS: {} | PRECISAO: {}%\".format(errors, 100 - errors*100/result_df['encontrado'].count()))"
   ]
  },
  {
   "cell_type": "code",
   "execution_count": 13,
   "metadata": {},
   "outputs": [
    {
     "name": "stdout",
     "output_type": "stream",
     "text": [
      "CPU times: user 8.55 s, sys: 555 ms, total: 9.11 s\n",
      "Wall time: 9.13 s\n"
     ]
    }
   ],
   "source": [
    "%%time\n",
    "result = []\n",
    "errors = 0\n",
    "for index, data in test.iterrows():\n",
    "    fuzzy_aggregated = fuzzify(data, rule_base)\n",
    "    label_found = 1 if defuzzify(fuzzy_aggregated,'centroid') > 0.5 else 0\n",
    "    result.append([label_found,int(data['label'])])\n",
    "    if(int(label_found != data['label'])):\n",
    "        errors += 1\n",
    "result_df = pd.DataFrame(result,columns=['encontrado','real'])\n",
    "result_df"
   ]
  },
  {
   "cell_type": "code",
   "execution_count": 14,
   "metadata": {},
   "outputs": [
    {
     "name": "stdout",
     "output_type": "stream",
     "text": [
      "ERROS: 48 | PRECISAO: 92.42902208201893%\n"
     ]
    }
   ],
   "source": [
    "print(\"ERROS: {} | PRECISAO: {}%\".format(errors, 100 - errors*100/result_df['encontrado'].count()))"
   ]
  },
  {
   "cell_type": "markdown",
   "metadata": {},
   "source": [
    "## Referencias\n",
    "Dataset: https://www.kaggle.com/primaryobjects/voicegender/data  \n",
    "Data visualization: https://www.kaggle.com/zhiboyang/data-visualization  \n",
    "Trabalho semelhante: https://github.com/johntheo/MESTRADO/blob/master/notebooks/inteligencia_artificial/Trabalho-Fuzzy.ipynb "
   ]
  }
 ],
 "metadata": {
  "kernelspec": {
   "display_name": "Python 3",
   "language": "python",
   "name": "python3"
  },
  "language_info": {
   "codemirror_mode": {
    "name": "ipython",
    "version": 3
   },
   "file_extension": ".py",
   "mimetype": "text/x-python",
   "name": "python",
   "nbconvert_exporter": "python",
   "pygments_lexer": "ipython3",
   "version": "3.5.4"
  },
  "toc": {
   "nav_menu": {
    "height": "66px",
    "width": "252px"
   },
   "number_sections": false,
   "sideBar": true,
   "skip_h1_title": false,
   "toc_cell": true,
   "toc_position": {
    "height": "580px",
    "left": "0px",
    "right": "1160px",
    "top": "107px",
    "width": "308px"
   },
   "toc_section_display": "block",
   "toc_window_display": true
  }
 },
 "nbformat": 4,
 "nbformat_minor": 2
}
