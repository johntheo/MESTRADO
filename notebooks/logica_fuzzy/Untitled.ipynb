{
 "cells": [
  {
   "cell_type": "code",
   "execution_count": 10,
   "metadata": {},
   "outputs": [],
   "source": [
    "def f1(x):\n",
    "    if(x >= 5 and x <= 8):\n",
    "        return 0.5*(x/3 + 5/3)\n",
    "    elif(x > 8 and x<=11):\n",
    "        return -0.5*(x/3 - 11/3)\n",
    "    else:\n",
    "        return 0"
   ]
  },
  {
   "cell_type": "code",
   "execution_count": 14,
   "metadata": {},
   "outputs": [
    {
     "name": "stdout",
     "output_type": "stream",
     "text": [
      "x 1 -> 0\n",
      "x 2 -> 0\n",
      "x 3 -> 0\n",
      "x 4 -> 0\n",
      "x 5 -> 1.6666666666666667\n",
      "x 6 -> 1.8333333333333335\n",
      "x 7 -> 2.0\n",
      "x 8 -> 2.1666666666666665\n",
      "x 9 -> 0.33333333333333326\n",
      "x 10 -> 0.16666666666666652\n",
      "x 11 -> -0.0\n",
      "x 12 -> 0\n",
      "x 13 -> 0\n",
      "x 14 -> 0\n"
     ]
    }
   ],
   "source": [
    "for x in range(1,15):\n",
    "    print('x {} -> {}'.format(x,f1(x)))"
   ]
  },
  {
   "cell_type": "code",
   "execution_count": null,
   "metadata": {
    "collapsed": true
   },
   "outputs": [],
   "source": []
  }
 ],
 "metadata": {
  "kernelspec": {
   "display_name": "Python 3",
   "language": "python",
   "name": "python3"
  },
  "language_info": {
   "codemirror_mode": {
    "name": "ipython",
    "version": 3
   },
   "file_extension": ".py",
   "mimetype": "text/x-python",
   "name": "python",
   "nbconvert_exporter": "python",
   "pygments_lexer": "ipython3",
   "version": "3.6.1"
  }
 },
 "nbformat": 4,
 "nbformat_minor": 2
}
