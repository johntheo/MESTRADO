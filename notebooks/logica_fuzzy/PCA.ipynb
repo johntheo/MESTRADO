{
 "cells": [
  {
   "cell_type": "markdown",
   "metadata": {},
   "source": [
    "# PCA"
   ]
  },
  {
   "cell_type": "code",
   "execution_count": 86,
   "metadata": {
    "collapsed": true
   },
   "outputs": [],
   "source": [
    "%matplotlib inline\n",
    "import numpy as np\n",
    "import matplotlib.pyplot as plt\n",
    "import seaborn as sns; sns.set()\n",
    "import pandas as pd\n",
    "from sklearn import preprocessing\n",
    "from sklearn.decomposition import PCA"
   ]
  },
  {
   "cell_type": "code",
   "execution_count": 87,
   "metadata": {
    "collapsed": true
   },
   "outputs": [],
   "source": [
    "voice = pd.read_csv(\"voice.csv\") #carregando o dataset"
   ]
  },
  {
   "cell_type": "code",
   "execution_count": 88,
   "metadata": {},
   "outputs": [],
   "source": [
    "#Normalizando o dataset\n",
    "min_max_scaler = preprocessing.MinMaxScaler()\n",
    "voice_scaled = min_max_scaler.fit_transform(voice)\n",
    "voice = pd.DataFrame(voice_scaled,columns=voice.columns)"
   ]
  },
  {
   "cell_type": "code",
   "execution_count": 109,
   "metadata": {},
   "outputs": [
    {
     "data": {
      "image/png": "[encoded data removed]",
      "text/plain": [
       "<matplotlib.figure.Figure at 0x113b046a0>"
      ]
     },
     "metadata": {},
     "output_type": "display_data"
    }
   ],
   "source": [
    "# ESCOLHENDO O NUMERO DE COMPONENTES. \n",
    "# A Curva resultante mostra o quanto da variancia total está contida nos N primeiros componentes\n",
    "pca = PCA().fit(voice)\n",
    "plt.plot(np.cumsum(pca.explained_variance_ratio_))\n",
    "plt.xlabel('Numero de Componentes')\n",
    "plt.ylabel('Variancia (%)');\n",
    "plt.savefig('pca-components.png')"
   ]
  },
  {
   "cell_type": "code",
   "execution_count": 104,
   "metadata": {},
   "outputs": [
    {
     "data": {
      "text/html": [
       "<div>\n",
       "<style>\n",
       "    .dataframe thead tr:only-child th {\n",
       "        text-align: right;\n",
       "    }\n",
       "\n",
       "    .dataframe thead th {\n",
       "        text-align: left;\n",
       "    }\n",
       "\n",
       "    .dataframe tbody tr th {\n",
       "        vertical-align: top;\n",
       "    }\n",
       "</style>\n",
       "<table border=\"1\" class=\"dataframe\">\n",
       "  <thead>\n",
       "    <tr style=\"text-align: right;\">\n",
       "      <th></th>\n",
       "      <th>var1</th>\n",
       "      <th>var2</th>\n",
       "      <th>var3</th>\n",
       "      <th>var4</th>\n",
       "      <th>label</th>\n",
       "    </tr>\n",
       "  </thead>\n",
       "  <tbody>\n",
       "    <tr>\n",
       "      <th>0</th>\n",
       "      <td>0.950681</td>\n",
       "      <td>0.244422</td>\n",
       "      <td>0.778701</td>\n",
       "      <td>0.271061</td>\n",
       "      <td>0.0</td>\n",
       "    </tr>\n",
       "    <tr>\n",
       "      <th>1</th>\n",
       "      <td>0.958705</td>\n",
       "      <td>0.166170</td>\n",
       "      <td>0.815179</td>\n",
       "      <td>0.340872</td>\n",
       "      <td>0.0</td>\n",
       "    </tr>\n",
       "    <tr>\n",
       "      <th>2</th>\n",
       "      <td>0.979964</td>\n",
       "      <td>0.162726</td>\n",
       "      <td>0.949242</td>\n",
       "      <td>0.571129</td>\n",
       "      <td>0.0</td>\n",
       "    </tr>\n",
       "    <tr>\n",
       "      <th>3</th>\n",
       "      <td>0.786553</td>\n",
       "      <td>0.503014</td>\n",
       "      <td>0.377060</td>\n",
       "      <td>0.375035</td>\n",
       "      <td>0.0</td>\n",
       "    </tr>\n",
       "    <tr>\n",
       "      <th>4</th>\n",
       "      <td>0.777072</td>\n",
       "      <td>0.685569</td>\n",
       "      <td>0.497369</td>\n",
       "      <td>0.289334</td>\n",
       "      <td>0.0</td>\n",
       "    </tr>\n",
       "  </tbody>\n",
       "</table>\n",
       "</div>"
      ],
      "text/plain": [
       "       var1      var2      var3      var4  label\n",
       "0  0.950681  0.244422  0.778701  0.271061    0.0\n",
       "1  0.958705  0.166170  0.815179  0.340872    0.0\n",
       "2  0.979964  0.162726  0.949242  0.571129    0.0\n",
       "3  0.786553  0.503014  0.377060  0.375035    0.0\n",
       "4  0.777072  0.685569  0.497369  0.289334    0.0"
      ]
     },
     "execution_count": 104,
     "metadata": {},
     "output_type": "execute_result"
    }
   ],
   "source": [
    "#Criando novo dataset com as features\n",
    "data = voice.values[:,:20] #removendo a coluna das classes\n",
    "pca = PCA(n_components=4)\n",
    "\n",
    "# Realiza o PCA e cria os eigen\n",
    "pca.fit(data) \n",
    "\n",
    "# Transforma os dados utilizando os vetores\n",
    "pca_data = pca.transform(data) \n",
    "\n",
    "#Insere os dados normalizados\n",
    "voice_pca = pd.DataFrame(min_max_scaler.fit_transform(pca_data), columns=['var1','var2','var3','var4']) \n",
    "\n",
    "#Adiciona os labels\n",
    "voice_pca['label'] = voice['label'] \n",
    "voice_pca.head()"
   ]
  },
  {
   "cell_type": "code",
   "execution_count": 107,
   "metadata": {},
   "outputs": [],
   "source": [
    "%%capture\n",
    "sns.pairplot(voice_pca, hue='label');"
   ]
  },
  {
   "cell_type": "code",
   "execution_count": null,
   "metadata": {
    "collapsed": true
   },
   "outputs": [],
   "source": []
  }
 ],
 "metadata": {
  "kernelspec": {
   "display_name": "Python 3",
   "language": "python",
   "name": "python3"
  },
  "language_info": {
   "codemirror_mode": {
    "name": "ipython",
    "version": 3
   },
   "file_extension": ".py",
   "mimetype": "text/x-python",
   "name": "python",
   "nbconvert_exporter": "python",
   "pygments_lexer": "ipython3",
   "version": "3.6.1"
  },
  "toc": {
   "nav_menu": {},
   "number_sections": true,
   "sideBar": true,
   "skip_h1_title": false,
   "toc_cell": false,
   "toc_position": {},
   "toc_section_display": "block",
   "toc_window_display": false
  }
 },
 "nbformat": 4,
 "nbformat_minor": 2
}
