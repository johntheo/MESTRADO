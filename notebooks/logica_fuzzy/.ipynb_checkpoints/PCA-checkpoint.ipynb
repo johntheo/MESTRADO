{
 "cells": [
  {
   "cell_type": "markdown",
   "metadata": {},
   "source": [
    "# PCA"
   ]
  },
  {
   "cell_type": "code",
   "execution_count": 6,
   "metadata": {
    "collapsed": true
   },
   "outputs": [],
   "source": [
    "%matplotlib inline\n",
    "import numpy as np\n",
    "import matplotlib.pyplot as plt\n",
    "import seaborn as sns; sns.set()\n",
    "import pandas as pd"
   ]
  },
  {
   "cell_type": "code",
   "execution_count": 34,
   "metadata": {},
   "outputs": [],
   "source": [
    "voice = pd.read_csv(\"voice.csv\") #carregando o dataset\n",
    "voice_norm = (voice - voice.mean())/(voice.max() - voice.min())"
   ]
  },
  {
   "cell_type": "code",
   "execution_count": 35,
   "metadata": {},
   "outputs": [],
   "source": [
    "data = voice_norm.values[:,:19] #removendo a coluna das classes"
   ]
  },
  {
   "cell_type": "code",
   "execution_count": 40,
   "metadata": {},
   "outputs": [
    {
     "data": {
      "text/plain": [
       "PCA(copy=True, iterated_power='auto', n_components=4, random_state=None,\n",
       "  svd_solver='auto', tol=0.0, whiten=False)"
      ]
     },
     "execution_count": 40,
     "metadata": {},
     "output_type": "execute_result"
    }
   ],
   "source": [
    "from sklearn.decomposition import PCA\n",
    "pca = PCA(n_components=4)\n",
    "pca.fit(data)"
   ]
  },
  {
   "cell_type": "code",
   "execution_count": 41,
   "metadata": {},
   "outputs": [
    {
     "name": "stdout",
     "output_type": "stream",
     "text": [
      "[[ -2.48424972e-01   2.83641765e-01  -2.26395445e-01  -3.42502611e-01\n",
      "   -9.94617725e-02   2.59650109e-01   8.28437450e-02   7.15392520e-02\n",
      "    2.49810198e-01   3.55600968e-01  -3.99005407e-01  -2.48424972e-01\n",
      "   -1.92601679e-01  -8.51554350e-02  -9.71201105e-02  -2.22192302e-01\n",
      "   -7.77481158e-02  -2.01989176e-01  -2.00517384e-01]\n",
      " [ -2.56236918e-04   1.91812591e-01   3.93779517e-02  -1.56634420e-01\n",
      "    1.28736152e-01   2.87729203e-01  -2.14022730e-01  -1.41925442e-01\n",
      "    3.83846543e-01   2.98838301e-01   3.97433349e-01  -2.56236918e-04\n",
      "   -1.33146929e-01   4.85713163e-02   2.09714011e-01   3.19654155e-01\n",
      "   -1.76410228e-01   2.97929167e-01   3.01809604e-01]\n",
      " [  6.78820737e-02   1.55770419e-02   1.18683394e-01   7.58921093e-02\n",
      "    6.06082714e-02  -2.01235471e-02  -1.92007474e-01  -1.62012651e-01\n",
      "    1.99391090e-01   1.23247719e-01   5.65518403e-01   6.78820737e-02\n",
      "   -1.22713929e-01  -2.13910498e-02  -3.99270110e-01  -2.96616012e-01\n",
      "    1.83893041e-01  -3.38559606e-01  -3.42624664e-01]\n",
      " [  1.59263542e-01   2.50805342e-01   2.65621161e-01  -3.65818165e-02\n",
      "    3.01879942e-01   3.30841811e-01   2.70918710e-01   2.50153089e-01\n",
      "   -1.28545033e-01  -1.24167315e-01   1.51046988e-01   1.59263542e-01\n",
      "    9.71847923e-02   4.17670551e-02   4.37230539e-01  -2.34749179e-01\n",
      "   -2.65272551e-01  -2.20973134e-01  -2.15616546e-01]]\n"
     ]
    }
   ],
   "source": [
    "print(pca.components_)"
   ]
  },
  {
   "cell_type": "code",
   "execution_count": 42,
   "metadata": {
    "collapsed": true
   },
   "outputs": [],
   "source": [
    "X_pca = pca.transform(data)"
   ]
  },
  {
   "cell_type": "code",
   "execution_count": 47,
   "metadata": {},
   "outputs": [],
   "source": [
    "new_data = pd.DataFrame(X_pca, columns=['f1','f2','f3','f4'])"
   ]
  },
  {
   "cell_type": "code",
   "execution_count": 58,
   "metadata": {},
   "outputs": [],
   "source": [
    "new_data_norm = (new_data - new_data.mean())/(new_data.max() - new_data.min())"
   ]
  },
  {
   "cell_type": "code",
   "execution_count": 59,
   "metadata": {},
   "outputs": [
    {
     "data": {
      "text/plain": [
       "f1    0.520194\n",
       "f2    0.517313\n",
       "f3    0.517353\n",
       "f4    0.617620\n",
       "dtype: float64"
      ]
     },
     "execution_count": 59,
     "metadata": {},
     "output_type": "execute_result"
    }
   ],
   "source": [
    "new_data_norm.max()"
   ]
  },
  {
   "cell_type": "code",
   "execution_count": null,
   "metadata": {
    "collapsed": true
   },
   "outputs": [],
   "source": []
  }
 ],
 "metadata": {
  "kernelspec": {
   "display_name": "Python 3",
   "language": "python",
   "name": "python3"
  },
  "language_info": {
   "codemirror_mode": {
    "name": "ipython",
    "version": 3
   },
   "file_extension": ".py",
   "mimetype": "text/x-python",
   "name": "python",
   "nbconvert_exporter": "python",
   "pygments_lexer": "ipython3",
   "version": "3.6.1"
  },
  "toc": {
   "nav_menu": {},
   "number_sections": true,
   "sideBar": true,
   "skip_h1_title": false,
   "toc_cell": false,
   "toc_position": {},
   "toc_section_display": "block",
   "toc_window_display": false
  }
 },
 "nbformat": 4,
 "nbformat_minor": 2
}
