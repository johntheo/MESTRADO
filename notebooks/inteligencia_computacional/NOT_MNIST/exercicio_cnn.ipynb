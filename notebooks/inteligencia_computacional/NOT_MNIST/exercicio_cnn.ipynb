{
 "cells": [
  {
   "cell_type": "markdown",
   "metadata": {},
   "source": [
    "# Classificação NOT-MNIST com CNN\n",
    "\n",
    "A classificação de imagens em múltiplas classes é um problema cláassico na área de Deep Learning. A\n",
    "abordagem mais utilizada para resolver este problema é utilizar Redes Neurais Convolucionais (CNNs), pois\n",
    "recentemente este tipo de rede mostrou um alto desempenho em tarefas de classicação de imagens.  \n",
    "\n",
    "Um dos datasets para classificação de imagens disponíveis na internet é o NOT-MNIST. Este dataset\n",
    "contém imagens de caracteres do A ao J, ou seja, 10 classes. As imagens têm dimensão de 28x28 e estão em\n",
    "tons de cinza, ou seja, um único canal\n",
    "\n",
    "![exemplo](img/not-mnist.png)"
   ]
  },
  {
   "cell_type": "markdown",
   "metadata": {
    "collapsed": true
   },
   "source": [
    "## Metodologia\n",
    "\n",
    "Para a classsificação desse dataset será utilizada uma CNN implementada com Kera sobre Tensorflow."
   ]
  },
  {
   "cell_type": "markdown",
   "metadata": {},
   "source": [
    "### Importando as libs"
   ]
  },
  {
   "cell_type": "code",
   "execution_count": 1,
   "metadata": {},
   "outputs": [
    {
     "name": "stderr",
     "output_type": "stream",
     "text": [
      "Using TensorFlow backend.\n"
     ]
    }
   ],
   "source": [
    "#Importando as libs necessárias\n",
    "import numpy as np\n",
    "np.random.seed(1338) # fixo para permitir reproducibilidade\n",
    "\n",
    "from keras.models import Sequential\n",
    "from keras.layers.convolutional import Conv2D\n",
    "from keras.layers.pooling import MaxPooling2D\n",
    "from keras.layers.core import Dense, Flatten, Activation, Dropout\n",
    "import tensorflow as tf\n",
    "\n",
    "from keras.utils import np_utils\n",
    "from keras.optimizers import SGD\n",
    "#Libs auxiliares criadas\n",
    "from util.display import visualize_keras_model, plot_training_curves\n",
    "import util.tensorboard_utils as tb_util\n",
    "import util.notMNIST as notMNIST\n",
    "\n",
    "#Lib para realizar a leitura do arquivo serializado em formato pickle\n",
    "from six.moves import cPickle\n",
    "\n",
    "#Lib para deixar os plotagens com um visual melhor\n",
    "import matplotlib.pyplot as plt\n",
    "import seaborn as sns \n",
    "sns.set_style('white')\n",
    "%matplotlib inline"
   ]
  },
  {
   "cell_type": "markdown",
   "metadata": {},
   "source": [
    "### Carregando os dados"
   ]
  },
  {
   "cell_type": "code",
   "execution_count": 2,
   "metadata": {
    "collapsed": true
   },
   "outputs": [],
   "source": [
    "notmnist_path = \"notMNIST.pickle\"\n",
    "(x_train, y_train), (x_valid, y_valid), (x_test, y_test) = notMNIST.load_data(notmnist_path)"
   ]
  },
  {
   "cell_type": "markdown",
   "metadata": {},
   "source": [
    "#### Preprocessamento e normalização"
   ]
  },
  {
   "cell_type": "code",
   "execution_count": 3,
   "metadata": {
    "collapsed": true
   },
   "outputs": [],
   "source": [
    "img_rows, img_cols = 28, 28\n",
    "input_shape = (img_rows, img_cols, 1)"
   ]
  },
  {
   "cell_type": "code",
   "execution_count": 4,
   "metadata": {
    "collapsed": true
   },
   "outputs": [],
   "source": [
    "# copiando as matrizes originais antes de inserir o canal\n",
    "x_valid_orig = x_valid\n",
    "x_test_orig = x_test\n",
    "\n",
    "# Adicionando a coluna referente ao canal\n",
    "x_train = x_train.reshape(-1, img_rows, img_cols, 1)\n",
    "x_valid = x_valid.reshape(-1, img_rows, img_cols, 1)\n",
    "x_test = x_test.reshape(-1, img_rows, img_cols, 1)"
   ]
  },
  {
   "cell_type": "code",
   "execution_count": 5,
   "metadata": {
    "collapsed": true
   },
   "outputs": [],
   "source": [
    "# Convertendo os labels para a forma categorica (one hot encoding)\n",
    "nb_classes = 10\n",
    "y_train = np_utils.to_categorical(y_train, nb_classes)\n",
    "y_valid = np_utils.to_categorical(y_valid, nb_classes)\n",
    "y_test = np_utils.to_categorical(y_test, nb_classes)"
   ]
  },
  {
   "cell_type": "code",
   "execution_count": 6,
   "metadata": {},
   "outputs": [
    {
     "name": "stdout",
     "output_type": "stream",
     "text": [
      "train_dataset: (200000, 28, 28, 1) \t| train_labels: (200000, 10) \n",
      "valid_dataset: (10000, 28, 28, 1) \t| valid_labels: (10000, 10) \n",
      "test_dataset: (10000, 28, 28, 1) \t| test_labels: (10000, 10)\n"
     ]
    }
   ],
   "source": [
    "print('train_dataset:', x_train.shape, '\\t|', 'train_labels:', y_train.shape, \n",
    "      '\\nvalid_dataset:', x_valid.shape, '\\t|', 'valid_labels:', y_valid.shape, \n",
    "      '\\ntest_dataset:', x_test.shape, '\\t|', 'test_labels:', y_test.shape)"
   ]
  },
  {
   "cell_type": "markdown",
   "metadata": {},
   "source": [
    "### Convolutional Neural Network\n",
    "\n",
    "Inicialização dos valores para a rede"
   ]
  },
  {
   "cell_type": "code",
   "execution_count": 7,
   "metadata": {
    "collapsed": true
   },
   "outputs": [],
   "source": [
    "# Numero de épocas (baixo para quando processado somente em CPU)\n",
    "nb_epoch = 8\n",
    "\n",
    "# Tamanho do batch\n",
    "batch_size =128\n",
    "\n",
    "# Numero de filtros convolucionais\n",
    "nb_filters = 32\n",
    "\n",
    "# Tamanho da area de pooling para o MaxPooling\n",
    "nb_pool = 2\n",
    "\n",
    "# Tamanho do kernel convolucional\n",
    "nb_conv = 3"
   ]
  },
  {
   "cell_type": "markdown",
   "metadata": {},
   "source": [
    "#### 1 - Definição do modelo"
   ]
  },
  {
   "cell_type": "code",
   "execution_count": 8,
   "metadata": {
    "collapsed": true
   },
   "outputs": [],
   "source": [
    "model = Sequential()\n",
    "\n",
    "# A primeira camada deve especificar o input_shape\n",
    "# 1 - Camada Convolucional\n",
    "model.add(Conv2D(nb_filters, (nb_conv, nb_conv), padding='valid', input_shape=input_shape))\n",
    "model.add(Activation('relu'))\n",
    "model.add(Conv2D(nb_filters, (nb_conv, nb_conv)))\n",
    "model.add(Activation('relu'))\n",
    "model.add(MaxPooling2D(pool_size=(nb_pool, nb_pool)))\n",
    "model.add(Dropout(0.25))\n",
    "# Camada de nivelamento/achatamento - 1D\n",
    "model.add(Flatten())\n",
    "# Camada totalmente conectada\n",
    "model.add(Dense(128))\n",
    "model.add(Activation('relu'))\n",
    "model.add(Dropout(0.5))\n",
    "# Camada totalmente conectada\n",
    "model.add(Dense(nb_classes))\n",
    "model.add(Activation('softmax'))\n"
   ]
  },
  {
   "cell_type": "code",
   "execution_count": null,
   "metadata": {
    "collapsed": true
   },
   "outputs": [],
   "source": [
    "# TODO: pesquisar sobre onde colocar o Dropout"
   ]
  },
  {
   "cell_type": "code",
   "execution_count": 9,
   "metadata": {},
   "outputs": [
    {
     "name": "stdout",
     "output_type": "stream",
     "text": [
      "_________________________________________________________________\n",
      "Layer (type)                 Output Shape              Param #   \n",
      "=================================================================\n",
      "conv2d_1 (Conv2D)            (None, 26, 26, 32)        320       \n",
      "_________________________________________________________________\n",
      "activation_1 (Activation)    (None, 26, 26, 32)        0         \n",
      "_________________________________________________________________\n",
      "conv2d_2 (Conv2D)            (None, 24, 24, 32)        9248      \n",
      "_________________________________________________________________\n",
      "activation_2 (Activation)    (None, 24, 24, 32)        0         \n",
      "_________________________________________________________________\n",
      "max_pooling2d_1 (MaxPooling2 (None, 12, 12, 32)        0         \n",
      "_________________________________________________________________\n",
      "dropout_1 (Dropout)          (None, 12, 12, 32)        0         \n",
      "_________________________________________________________________\n",
      "flatten_1 (Flatten)          (None, 4608)              0         \n",
      "_________________________________________________________________\n",
      "dense_1 (Dense)              (None, 128)               589952    \n",
      "_________________________________________________________________\n",
      "activation_3 (Activation)    (None, 128)               0         \n",
      "_________________________________________________________________\n",
      "dropout_2 (Dropout)          (None, 128)               0         \n",
      "_________________________________________________________________\n",
      "dense_2 (Dense)              (None, 10)                1290      \n",
      "_________________________________________________________________\n",
      "activation_4 (Activation)    (None, 10)                0         \n",
      "=================================================================\n",
      "Total params: 600,810\n",
      "Trainable params: 600,810\n",
      "Non-trainable params: 0\n",
      "_________________________________________________________________\n"
     ]
    }
   ],
   "source": [
    "model.summary()\n",
    "#visualize_keras_model(model)"
   ]
  },
  {
   "cell_type": "markdown",
   "metadata": {},
   "source": [
    "#### 2 - Compilação"
   ]
  },
  {
   "cell_type": "code",
   "execution_count": 10,
   "metadata": {
    "collapsed": true
   },
   "outputs": [],
   "source": [
    "# keras.optimizers.Adadelta(lr=1.0, rho=0.95, epsilon=1e-08, decay=0.0)\n",
    "model.compile(loss='categorical_crossentropy',\n",
    "              optimizer='adadelta',\n",
    "              metrics=['accuracy'])"
   ]
  },
  {
   "cell_type": "markdown",
   "metadata": {},
   "source": [
    "#### 3 - Treino"
   ]
  },
  {
   "cell_type": "code",
   "execution_count": 11,
   "metadata": {},
   "outputs": [
    {
     "name": "stdout",
     "output_type": "stream",
     "text": [
      "Train on 200000 samples, validate on 10000 samples\n",
      "Epoch 1/8\n",
      "200000/200000 [==============================] - 425s - loss: 0.5678 - acc: 0.8316 - val_loss: 0.4028 - val_acc: 0.8783\n",
      "Epoch 2/8\n",
      "200000/200000 [==============================] - 426s - loss: 0.4206 - acc: 0.8765 - val_loss: 0.3589 - val_acc: 0.8921\n",
      "Epoch 3/8\n",
      "200000/200000 [==============================] - 426s - loss: 0.3864 - acc: 0.8859 - val_loss: 0.3465 - val_acc: 0.8976\n",
      "Epoch 4/8\n",
      "200000/200000 [==============================] - 426s - loss: 0.3677 - acc: 0.8908 - val_loss: 0.3291 - val_acc: 0.9007\n",
      "Epoch 5/8\n",
      "200000/200000 [==============================] - 430s - loss: 0.3552 - acc: 0.8948 - val_loss: 0.3198 - val_acc: 0.9023\n",
      "Epoch 6/8\n",
      "200000/200000 [==============================] - 426s - loss: 0.3453 - acc: 0.8972 - val_loss: 0.3153 - val_acc: 0.9043\n",
      "Epoch 7/8\n",
      "200000/200000 [==============================] - 422s - loss: 0.3388 - acc: 0.8992 - val_loss: 0.3126 - val_acc: 0.9035\n",
      "Epoch 8/8\n",
      "200000/200000 [==============================] - 428s - loss: 0.3339 - acc: 0.9005 - val_loss: 0.3093 - val_acc: 0.9042\n"
     ]
    }
   ],
   "source": [
    "# criando callback para tensorboard\n",
    "tb_callback = tb_util.make_tb_callback('execucao-3')\n",
    "\n",
    "hist = model.fit(x_train, y_train,\n",
    "                    batch_size=batch_size, epochs=nb_epoch,\n",
    "                    verbose=1, validation_data=(x_valid, y_valid),\n",
    "                    callbacks=[tb_callback])"
   ]
  },
  {
   "cell_type": "markdown",
   "metadata": {},
   "source": [
    "## Resultados\n",
    "\n",
    "Visualizando os resultados obtidos de diversas formas"
   ]
  },
  {
   "cell_type": "markdown",
   "metadata": {},
   "source": [
    "### 1 - Curvas de Aprendizado"
   ]
  },
  {
   "cell_type": "code",
   "execution_count": 12,
   "metadata": {},
   "outputs": [
    {
     "data": {
      "image/png": "[encoded data removed]",
      "text/plain": [
       "<matplotlib.figure.Figure at 0x11a3b8748>"
      ]
     },
     "metadata": {},
     "output_type": "display_data"
    }
   ],
   "source": [
    "plot_training_curves(hist.history);"
   ]
  },
  {
   "cell_type": "markdown",
   "metadata": {},
   "source": [
    "### 2 - Validação\n"
   ]
  },
  {
   "cell_type": "code",
   "execution_count": 13,
   "metadata": {},
   "outputs": [
    {
     "name": "stdout",
     "output_type": "stream",
     "text": [
      "Métricas disponíveis no modelo: ['loss', 'acc']\n"
     ]
    }
   ],
   "source": [
    "print('Métricas disponíveis no modelo: {}'.format(model.metrics_names))"
   ]
  },
  {
   "cell_type": "code",
   "execution_count": 22,
   "metadata": {},
   "outputs": [
    {
     "name": "stdout",
     "output_type": "stream",
     "text": [
      "Teste Loss: 0.309315240717\n",
      "Teste Accuracy: 0.9042\n"
     ]
    }
   ],
   "source": [
    "# Evaluating the model on the test data    \n",
    "loss, accuracy = model.evaluate(x_valid, y_valid, verbose=0)\n",
    "print('Teste Loss:', loss)\n",
    "print('Teste Accuracy:', accuracy)"
   ]
  },
  {
   "cell_type": "markdown",
   "metadata": {},
   "source": [
    "### 3 - Predições"
   ]
  },
  {
   "cell_type": "code",
   "execution_count": 21,
   "metadata": {},
   "outputs": [
    {
     "data": {
      "image/png": "[encoded data removed]",
      "text/plain": [
       "<matplotlib.figure.Figure at 0x121313d30>"
      ]
     },
     "metadata": {},
     "output_type": "display_data"
    }
   ],
   "source": [
    "slice = 20\n",
    "predicted = model.predict(x_test[:slice]).argmax(-1)\n",
    "classes = ['A', 'B', 'C', 'D', 'E', 'F', 'G', 'H', 'I', 'J']\n",
    "plt.figure(figsize=(16,8))\n",
    "for i in range(slice):\n",
    "    plt.subplot(1, slice, i+1)\n",
    "    plt.imshow(x_test_orig[i], interpolation='bilinear')\n",
    "    plt.text(0, 0, classes[predicted[i]], color='black', \n",
    "             bbox=dict(facecolor='white', alpha=1))\n",
    "    plt.axis('off')"
   ]
  },
  {
   "cell_type": "markdown",
   "metadata": {},
   "source": [
    "### 4 - TensorBoard\n",
    "\n",
    "Executar no terminal\n",
    "\n",
    "```bash\n",
    "nohup tensorboard --logdir=graph-tensorboard/ --port=9999&\n",
    "```"
   ]
  },
  {
   "cell_type": "code",
   "execution_count": 19,
   "metadata": {},
   "outputs": [
    {
     "data": {
      "text/html": [
       "<iframe width='100%' height='800' src='http://0.0.0.0:9999'></iframe>"
      ],
      "text/plain": [
       "<IPython.core.display.HTML object>"
      ]
     },
     "metadata": {},
     "output_type": "display_data"
    }
   ],
   "source": [
    "%%HTML\n",
    "<iframe width='100%' height='800' src='http://0.0.0.0:9999'></iframe>"
   ]
  },
  {
   "cell_type": "code",
   "execution_count": null,
   "metadata": {
    "collapsed": true
   },
   "outputs": [],
   "source": []
  }
 ],
 "metadata": {
  "kernelspec": {
   "display_name": "Python 3",
   "language": "python",
   "name": "python3"
  },
  "language_info": {
   "codemirror_mode": {
    "name": "ipython",
    "version": 3
   },
   "file_extension": ".py",
   "mimetype": "text/x-python",
   "name": "python",
   "nbconvert_exporter": "python",
   "pygments_lexer": "ipython3",
   "version": "3.6.1"
  }
 },
 "nbformat": 4,
 "nbformat_minor": 2
}
