{
 "cells": [
  {
   "cell_type": "markdown",
   "metadata": {},
   "source": [
    "# Previsão de Séries Temporais com Programação Genética\n",
    "Este exercício tem o objetivo de utilizar Programação Genética para gerar um modelo de previsão de séries temporais. Os dados utilizados são referente ao número mensal de passageirosde linhas aéreas internacionais (em milhares/mês), desde janeir/1949 a dezembro/1960, conforme figura abaixo.\n",
    "![grafico](serie-grafico.png)"
   ]
  },
  {
   "cell_type": "markdown",
   "metadata": {},
   "source": [
    "O primeiro passo foi criar o dataset com os dados da planilha fornecida. Separou-se em dois datasets: treinamento e teste.  \n",
    "Como **janela de periodicidade**, observou-se que a cada 12 passo o padrão se repetia, o que corresponde a um ano **(12 meses)**. Sendo assim utilizou-se esse valor para gerar uma matriz que contivesse 12 entradas e uma saída."
   ]
  },
  {
   "cell_type": "code",
   "execution_count": 1,
   "metadata": {
    "collapsed": false
   },
   "outputs": [],
   "source": [
    "import numpy as np\n",
    "from numpy import genfromtxt\n",
    "\n",
    "#lendo do arquivo\n",
    "data = genfromtxt('serie.txt')\n",
    "data = np.array([[data[index+pos] for pos in range(13)] for index in range(data.size - 12)])\n",
    "\n",
    "#separando os conjuntos\n",
    "DATA_TRAIN_SIZE = data[:,1].size - 12\n",
    "data_train = data[:DATA_TRAIN_SIZE,:]\n",
    "data_test = data[DATA_TRAIN_SIZE:,:]"
   ]
  },
  {
   "cell_type": "markdown",
   "metadata": {},
   "source": [
    "Para a implementação do algoritmo de Programação Genética, utilizou-se o **DEAP** *(Distributed Evolutionary Algorithms in Python)*. Abaixo realiza-se o import dos modulos que serão utilizados."
   ]
  },
  {
   "cell_type": "code",
   "execution_count": 2,
   "metadata": {
    "collapsed": false
   },
   "outputs": [],
   "source": [
    "import operator\n",
    "import math\n",
    "import random\n",
    "\n",
    "from deap import algorithms\n",
    "from deap import base\n",
    "from deap import creator\n",
    "from deap import tools\n",
    "from deap import gp"
   ]
  },
  {
   "cell_type": "markdown",
   "metadata": {},
   "source": [
    "Define-se agora a estrutura da árvore que será gerada nas evoluções da PG. Esta árvore terá 12 entradas que correspnde a janela definida de 12 meses. Também serão definidas as funções e os terminais utilizados."
   ]
  },
  {
   "cell_type": "code",
   "execution_count": 3,
   "metadata": {
    "collapsed": false
   },
   "outputs": [],
   "source": [
    "#definicao da estrutura de um conjunto que terá 12 entradas\n",
    "pset = gp.PrimitiveSet(\"MAIN\", 12)\n",
    "\n",
    "pset.addPrimitive(operator.add, 2)\n",
    "pset.addPrimitive(operator.sub, 2)\n",
    "pset.addPrimitive(operator.mul, 2)\n",
    "pset.addPrimitive(operator.neg, 1)\n",
    "pset.addPrimitive(math.cos, 1)\n",
    "pset.addPrimitive(math.sin, 1)"
   ]
  },
  {
   "cell_type": "code",
   "execution_count": 4,
   "metadata": {
    "collapsed": false
   },
   "outputs": [],
   "source": [
    "pset.addEphemeralConstant(\"rand101\", lambda: random.randint(-180,180)) #terminal que gera um numero aleatorio entre [-1,1]\n",
    "pset.addTerminal(math.pi)"
   ]
  },
  {
   "cell_type": "markdown",
   "metadata": {},
   "source": [
    "Os argumentos(entradas) serão renomeados para facilitar o entendimento da arvore gerada posteriormente. Cada argumento representa um mês do ano."
   ]
  },
  {
   "cell_type": "code",
   "execution_count": 6,
   "metadata": {
    "collapsed": true
   },
   "outputs": [],
   "source": [
    "pset.renameArguments(ARG0='t-12')\n",
    "pset.renameArguments(ARG1='t-11')\n",
    "pset.renameArguments(ARG2='t-10')\n",
    "pset.renameArguments(ARG3='t-9')\n",
    "pset.renameArguments(ARG4='t-8')\n",
    "pset.renameArguments(ARG5='t-7')\n",
    "pset.renameArguments(ARG6='t-6')\n",
    "pset.renameArguments(ARG7='t-5')\n",
    "pset.renameArguments(ARG8='t-4')\n",
    "pset.renameArguments(ARG9='t-3')\n",
    "pset.renameArguments(ARG10='t-2')\n",
    "pset.renameArguments(ARG11='t-1')"
   ]
  },
  {
   "cell_type": "markdown",
   "metadata": {},
   "source": [
    "Na sequencia, será definido o alicerce da PG:  \n",
    "- característica do problema(minimização ou maximização)  \n",
    "- método de geração da população(grow, full, half and half)  \n",
    "- função de fitness  \n",
    "- função de crossover  \n",
    "- função de mutação  \n",
    "- função de seleção  \n",
    "- definição da profundidade máxima da árvore"
   ]
  },
  {
   "cell_type": "code",
   "execution_count": 7,
   "metadata": {
    "collapsed": false
   },
   "outputs": [],
   "source": [
    "#característica do problema\n",
    "creator.create(\"FitnessMin\", base.Fitness, weights=(-1.0,))\n",
    "#tipo do indivíduo = árvore\n",
    "creator.create(\"Individual\", gp.PrimitiveTree, fitness=creator.FitnessMin)\n",
    "\n",
    "toolbox = base.Toolbox()\n",
    "#método de geração da população(árvore)\n",
    "toolbox.register(\"expr\", gp.genHalfAndHalf, pset=pset, min_=1, max_=2)\n",
    "toolbox.register(\"individual\", tools.initIterate, creator.Individual, toolbox.expr)\n",
    "toolbox.register(\"population\", tools.initRepeat, list, toolbox.individual)\n",
    "#compila a arvore gerada em uma função\n",
    "toolbox.register(\"compile\", gp.compile, pset=pset)\n",
    "\n",
    "#função de fitness que compara a arvore gerada com os dados de treinamento\n",
    "def fitness(individual):\n",
    "    # Tranforma a expressao da arvore em um função invocável\n",
    "    func = toolbox.compile(individual)\n",
    "    \n",
    "    # calcula o erro quadrado médio entre a expressao e o valor real 'y'\n",
    "    sqerrors = ((func(x1,x2,x3,x4,x5,x6,x7,x8,x9,x10,x11,x12)-y)**2 for x1,x2,x3,x4,x5,x6,x7,x8,x9,x10,x11,x12,y in data_train)\n",
    "    \n",
    "    return math.fsum(sqerrors) / len(data_train),\n",
    "\n",
    "#define para o framework qual será a função de fitness utilizada\n",
    "toolbox.register(\"evaluate\", fitness)\n",
    "#define o operador de seleção como torneio de tamanho 3\n",
    "toolbox.register(\"select\", tools.selTournament, tournsize=3)\n",
    "#define função de cruzamento como corte em um ponto\n",
    "toolbox.register(\"mate\", gp.cxOnePoint)\n",
    "#cria função de mutação utilizando o método de geração de árvore full\n",
    "toolbox.register(\"expr_mut\", gp.genFull, min_=0, max_=2)\n",
    "#define a função de mutação para o framework\n",
    "toolbox.register(\"mutate\", gp.mutUniform, expr=toolbox.expr_mut, pset=pset)\n",
    "\n",
    "#quando houver cruzamento o tamanho da arvore nao pode passar de 50\n",
    "toolbox.decorate(\"mate\", gp.staticLimit(key=operator.attrgetter(\"height\"), max_value=50))\n",
    "#quando houver muatção o tamanho da arvore nao pode passar de 50\n",
    "toolbox.decorate(\"mutate\", gp.staticLimit(key=operator.attrgetter(\"height\"), max_value=50))"
   ]
  },
  {
   "cell_type": "markdown",
   "metadata": {},
   "source": [
    "Com toda a estrutura definida agora é possível criar a função que de fato irá rodar  algoritmo."
   ]
  },
  {
   "cell_type": "code",
   "execution_count": 8,
   "metadata": {
    "collapsed": true
   },
   "outputs": [],
   "source": [
    "def algorithm():\n",
    "    random.seed(318)\n",
    "    #CXPB  - Probabilidade de crossover\n",
    "    #MUTPB - Probabilidade de mutação\n",
    "    #NGEN  - Numero de gerações\n",
    "    CXPB, MUTPB, NGEN = 0.6, 0.1, 200\n",
    "\n",
    "    pop = toolbox.population(n=300)\n",
    "    hof = tools.HallOfFame(1)\n",
    "    \n",
    "    stats_fit = tools.Statistics(lambda ind: ind.fitness.values)\n",
    "    stats_size = tools.Statistics(len)\n",
    "    mstats = tools.MultiStatistics(fitness=stats_fit, size=stats_size)\n",
    "    mstats.register(\"avg\", np.mean)\n",
    "    mstats.register(\"std\", np.std)\n",
    "    mstats.register(\"min\", np.min)\n",
    "    mstats.register(\"max\", np.max)\n",
    "\n",
    "    # Realiza a chamada do algortimo definido no capitulo 7 do KOZA.\n",
    "    # Passa como parâmetros:\n",
    "    #     - população\n",
    "    #     - toolbox que é o objeto que representa o framework DEAP\n",
    "    #     - parametros evolucionais (probabilidades de crossover e mutação e gerações)\n",
    "    #     - objeto com os placeholders de estatística\n",
    "    #     - halloffame - individuo(s) selecionado(s)\n",
    "    #     - verbos que representa se será impresso nas saida a evolução do algoritmo\n",
    "    pop, log = algorithms.eaSimple(pop, toolbox, CXPB, MUTPB, NGEN, stats=mstats,\n",
    "                                   halloffame=hof, verbose=True)\n",
    "    # print log\n",
    "    return pop, log, hof"
   ]
  },
  {
   "cell_type": "code",
   "execution_count": 9,
   "metadata": {
    "collapsed": false
   },
   "outputs": [
    {
     "name": "stdout",
     "output_type": "stream",
     "text": [
      "   \t      \t                     fitness                      \t              size             \n",
      "   \t      \t--------------------------------------------------\t-------------------------------\n",
      "gen\tnevals\tavg        \tmax        \tmin    \tstd       \tavg \tmax\tmin\tstd    \n",
      "0  \t300   \t1.39632e+13\t4.18868e+15\t1053.83\t2.4143e+14\t3.13\t7  \t2  \t1.28313\n",
      "1  \t185   \t3.80809e+12\t1.1424e+15 \t1053.83\t6.58464e+13\t3.29333\t10 \t1  \t1.39306\n",
      "2  \t182   \t6.63357e+12\t1.00686e+15\t1003.58\t8.09788e+13\t3.51333\t8  \t1  \t1.44331\n",
      "3  \t185   \t1.39188e+13\t4.1756e+15 \t1013.91\t2.40676e+14\t4.09667\t11 \t1  \t1.84409\n",
      "4  \t207   \t1.17156e+08\t1.0649e+10 \t288.25 \t1.01631e+09\t4.21333\t11 \t1  \t1.97513\n",
      "5  \t183   \t6.46653e+07\t9.28428e+09\t448.25 \t6.92549e+08\t3.94667\t12 \t1  \t2.04381\n",
      "6  \t166   \t2.73126e+07\t8.18657e+09\t448.25 \t4.71862e+08\t3.81   \t11 \t1  \t2.14645\n",
      "7  \t191   \t1.87103e+08\t3.94031e+10\t448.25 \t2.3678e+09 \t3.72333\t11 \t1  \t2.20759\n",
      "8  \t200   \t6.55669e+07\t1.05502e+10\t448.25 \t7.71942e+08\t3.64333\t13 \t1  \t2.02553\n",
      "9  \t202   \t1.1445e+08 \t8.87393e+09\t448.25 \t9.4421e+08 \t3.77333\t10 \t1  \t1.68383\n",
      "10 \t215   \t8.3409e+07 \t7.78152e+09\t448.25 \t7.67616e+08\t3.49   \t8  \t1  \t1.40115\n",
      "11 \t189   \t1.14594e+08\t1.03233e+10\t448.25 \t9.8637e+08 \t3.35333\t9  \t1  \t1.30964\n",
      "12 \t199   \t4.24872e+08\t1.27453e+11\t448.25 \t7.34623e+09\t3.24667\t9  \t1  \t1.11317\n",
      "13 \t175   \t5.79876e+07\t8.8534e+09 \t448.25 \t6.86057e+08\t3.27   \t13 \t1  \t1.13303\n",
      "14 \t198   \t2.44832e+07\t7.33958e+09\t448.25 \t4.23043e+08\t3.07333\t9  \t1  \t0.731179\n",
      "15 \t187   \t1.25231e+08\t9.61967e+09\t448.25 \t1.03272e+09\t3.23667\t9  \t1  \t1.01685 \n",
      "16 \t200   \t1.20912e+06\t3.55159e+08\t448.25 \t2.04695e+07\t3.22333\t9  \t1  \t0.941695\n",
      "17 \t206   \t4.89775e+07\t7.48008e+09\t448.25 \t5.97654e+08\t3.14333\t9  \t1  \t0.797573\n",
      "18 \t194   \t7.81084e+17\t2.34325e+20\t448.25 \t1.35062e+19\t3.12667\t9  \t1  \t0.789909\n",
      "19 \t175   \t4.00678e+10\t1.19818e+13\t448.25 \t6.90607e+11\t3.17667\t9  \t1  \t0.839914\n",
      "20 \t203   \t2.35136e+08\t3.41348e+10\t300.917\t2.70516e+09\t3.12667\t9  \t1  \t0.759795\n",
      "21 \t192   \t4.14177e+07\t8.01286e+09\t300.917\t5.26311e+08\t3.13333\t9  \t1  \t0.837987\n",
      "22 \t200   \t1.83627e+08\t3.50863e+10\t300.917\t2.13016e+09\t3.17   \t9  \t1  \t0.841289\n",
      "23 \t174   \t5.92002e+07\t9.07475e+09\t300.917\t7.2257e+08 \t3.10667\t9  \t1  \t0.809499\n",
      "24 \t197   \t6.92536e+07\t9.19962e+09\t300.917\t7.26148e+08\t3.07333\t9  \t1  \t0.735723\n",
      "25 \t194   \t7.61445e+07\t1.13559e+10\t300.917\t8.98681e+08\t3.10333\t7  \t1  \t0.662814\n",
      "26 \t193   \t2.80442e+12\t8.41317e+14\t300.917\t4.84925e+13\t3.18   \t9  \t1  \t0.860775\n",
      "27 \t201   \t1.30277e+08\t1.85166e+10\t300.917\t1.35385e+09\t3.13667\t9  \t1  \t0.746987\n",
      "28 \t189   \t7.38042e+07\t1.04471e+10\t300.917\t7.89206e+08\t3.07333\t8  \t1  \t0.664296\n",
      "29 \t212   \t6.57675e+07\t8.92019e+09\t300.917\t6.95567e+08\t3.13667\t8  \t1  \t0.904427\n",
      "30 \t171   \t6.69271e+07\t1.11339e+10\t300.917\t8.21633e+08\t3.10667\t9  \t1  \t0.699015\n",
      "31 \t186   \t2.68299e+08\t6.57511e+10\t300.917\t3.83411e+09\t3.15333\t9  \t1  \t0.727889\n",
      "32 \t193   \t2.95769e+12\t8.8729e+14 \t300.917\t5.11422e+13\t3.08667\t8  \t1  \t0.610319\n",
      "33 \t219   \t4.79898e+17\t1.4397e+20 \t300.917\t8.29822e+18\t3.08667\t8  \t1  \t0.752212\n",
      "34 \t205   \t6.59126e+07\t8.52306e+09\t300.917\t6.78264e+08\t3.13333\t9  \t1  \t0.788811\n",
      "35 \t188   \t2.60234e+07\t7.79997e+09\t300.917\t4.49579e+08\t3.07333\t8  \t1  \t0.572674\n",
      "36 \t219   \t2.59397e+14\t7.77435e+16\t300.917\t4.48102e+15\t3.24667\t9  \t1  \t1.11915 \n",
      "37 \t194   \t1.50499e+13\t4.51492e+15\t300.917\t2.60234e+14\t3.18667\t9  \t1  \t0.933714\n",
      "38 \t209   \t2.44729e+08\t3.31103e+10\t300.917\t2.14418e+09\t3.19333\t9  \t1  \t0.981133\n",
      "39 \t186   \t7.77279e+07\t1.08709e+10\t300.917\t8.01378e+08\t3.13667\t9  \t1  \t0.847342\n",
      "40 \t198   \t1.10823e+08\t9.62189e+09\t300.917\t9.60309e+08\t3.14667\t8  \t1  \t0.760585\n",
      "41 \t186   \t4.62109e+11\t1.16419e+14\t300.917\t6.827e+12  \t3.10667\t7  \t1  \t0.68456 \n",
      "42 \t212   \t6.04683e+07\t9.80752e+09\t300.917\t7.402e+08  \t3.20333\t9  \t1  \t0.956725\n",
      "43 \t187   \t1.33007e+08\t2.99888e+10\t300.917\t1.81853e+09\t3.18667\t9  \t1  \t0.901012\n",
      "44 \t181   \t8.25606e+07\t8.45054e+09\t300.917\t8.14109e+08\t3.12333\t8  \t1  \t0.864941\n",
      "45 \t196   \t2.69673e+07\t7.29067e+09\t300.917\t4.22547e+08\t3.03   \t9  \t1  \t0.699357\n",
      "46 \t192   \t6.11983e+07\t9.38058e+09\t300.917\t6.99928e+08\t3.09   \t9  \t1  \t0.792822\n",
      "47 \t182   \t1.32798e+13\t3.98388e+15\t300.917\t2.29626e+14\t3.2    \t9  \t1  \t0.948683\n",
      "48 \t192   \t3.18324e+12\t9.54938e+14\t300.917\t5.50414e+13\t3.18   \t9  \t1  \t0.849078\n",
      "49 \t195   \t1.20172e+13\t3.6051e+15 \t300.917\t2.07794e+14\t3.14667\t9  \t1  \t0.867077\n",
      "50 \t181   \t1.42449e+08\t1.9515e+10 \t300.917\t1.38186e+09\t3.15667\t8  \t1  \t0.747522\n",
      "51 \t184   \t8.26864e+07\t9.60762e+09\t300.917\t8.28674e+08\t3.10667\t8  \t1  \t0.612608\n",
      "52 \t188   \t1.39685e+12\t4.19036e+14\t300.917\t2.41527e+13\t3.16333\t9  \t1  \t0.86986 \n",
      "53 \t202   \t1.11559e+08\t8.59594e+09\t300.917\t9.01472e+08\t3.20333\t9  \t1  \t0.865249\n",
      "54 \t200   \t1.70604e+08\t3.02302e+10\t300.917\t1.88607e+09\t3.23   \t9  \t1  \t1.02815 \n",
      "55 \t217   \t5.28347e+07\t8.25493e+09\t300.917\t6.45218e+08\t3.06667\t9  \t1  \t0.727247\n",
      "56 \t208   \t1.21212e+13\t3.63632e+15\t300.917\t2.09593e+14\t3.14   \t9  \t1  \t0.735119\n",
      "57 \t201   \t5.28512e+07\t7.96186e+09\t300.917\t6.43551e+08\t3.11   \t8  \t1  \t0.620134\n",
      "58 \t190   \t8.9544e+07 \t9.56443e+09\t300.917\t8.92051e+08\t3.18333\t8  \t2  \t0.741433\n",
      "59 \t193   \t3.54324e+12\t1.06295e+15\t300.917\t6.12673e+13\t3.19   \t9  \t1  \t0.787761\n",
      "60 \t197   \t2.01787e+08\t3.56495e+10\t300.917\t2.21015e+09\t3.13   \t9  \t1  \t0.752618\n",
      "61 \t200   \t2.27265e+08\t3.175e+10  \t300.917\t2.06566e+09\t3.13333\t9  \t1  \t0.85375 \n",
      "62 \t198   \t3.76429e+07\t9.12444e+09\t300.917\t5.40023e+08\t3.09   \t8  \t1  \t0.67471 \n",
      "63 \t172   \t23995.1    \t317811     \t300.917\t39469.1    \t3.06   \t7  \t1  \t0.65554 \n",
      "64 \t197   \t3.27134e+07\t9.80752e+09\t300.917\t5.65292e+08\t3.07   \t8  \t1  \t0.807321\n",
      "65 \t226   \t8.70382e+07\t9.56443e+09\t300.917\t8.68127e+08\t3.05   \t9  \t1  \t0.648717\n",
      "66 \t190   \t2.67686e+07\t7.92571e+09\t300.917\t4.56843e+08\t3.05667\t8  \t1  \t0.692909\n",
      "67 \t198   \t3.6262e+11 \t5.88962e+13\t300.917\t4.43983e+12\t3.14667\t9  \t1  \t0.904704\n",
      "68 \t188   \t6.17664e+07\t1.09928e+10\t300.917\t7.66834e+08\t3.08667\t8  \t1  \t0.642253\n",
      "69 \t195   \t1.06441e+08\t8.92021e+09\t300.917\t9.19506e+08\t3.15667\t8  \t1  \t0.73855 \n",
      "70 \t191   \t5.62756e+07\t9.07265e+09\t300.917\t6.88553e+08\t3.12667\t8  \t1  \t0.794117\n",
      "71 \t189   \t8.36126e+07\t8.95637e+09\t300.917\t8.32902e+08\t3.12333\t9  \t1  \t0.712827\n",
      "72 \t193   \t3.33066e+08\t7.46884e+10\t300.917\t4.37838e+09\t3.22667\t9  \t1  \t0.987567\n",
      "73 \t202   \t3.26099e+12\t9.78285e+14\t300.917\t5.63871e+13\t3.12333\t9  \t1  \t0.80506 \n",
      "74 \t178   \t9.29625e+07\t1.02712e+10\t300.917\t9.35001e+08\t3.08667\t9  \t1  \t0.720525\n",
      "75 \t217   \t189601     \t4.7884e+07 \t300.917\t2.75889e+06\t3.08   \t7  \t1  \t0.510163\n",
      "76 \t166   \t7.74259e+07\t7.58693e+09\t300.917\t7.46318e+08\t3.09333\t9  \t1  \t0.70566 \n",
      "77 \t198   \t4.01956e+08\t9.72889e+10\t300.512\t5.6523e+09 \t3.15667\t9  \t1  \t0.827922\n",
      "78 \t176   \t5.48164e+07\t8.6392e+09 \t300.917\t6.69729e+08\t3.12667\t9  \t3  \t0.656218\n",
      "79 \t180   \t2.20024e+08\t3.74446e+10\t300.917\t2.31024e+09\t3.13   \t9  \t1  \t0.804011\n",
      "80 \t203   \t3.19778e+07\t9.09239e+09\t300.917\t5.24749e+08\t3.14667\t8  \t1  \t0.720062\n",
      "81 \t198   \t2.52573e+07\t7.55378e+09\t300.917\t4.35387e+08\t3.13   \t9  \t1  \t0.748176\n",
      "82 \t182   \t1.716e+13  \t5.05353e+15\t300.917\t2.91312e+14\t3.18   \t9  \t1  \t0.924265\n",
      "83 \t198   \t1.00898e+09\t2.8434e+11 \t300.917\t1.6403e+10 \t3.18333\t8  \t1  \t0.846398\n",
      "84 \t185   \t4.32639e+17\t1.29792e+20\t300.917\t7.48103e+18\t3.08   \t9  \t1  \t0.627375\n",
      "85 \t206   \t1.05089e+08\t8.48589e+09\t300.917\t9.05698e+08\t3.13667\t8  \t1  \t0.705683\n",
      "86 \t199   \t9.00136e+11\t2.70032e+14\t300.917\t1.55643e+13\t3.11667\t9  \t1  \t0.759203\n",
      "87 \t194   \t5.0955e+07 \t8.14998e+09\t300.917\t6.2305e+08 \t3.08   \t7  \t1  \t0.503587\n",
      "88 \t185   \t4.22023e+07\t8.49889e+09\t300.917\t5.44554e+08\t3.08667\t8  \t1  \t0.637042\n",
      "89 \t201   \t1.75267e+08\t3.32623e+10\t300.917\t2.03798e+09\t3.07   \t8  \t1  \t0.570175\n",
      "90 \t193   \t2.60102e+07\t7.79628e+09\t300.917\t4.49366e+08\t3.05   \t9  \t1  \t0.678847\n",
      "91 \t205   \t7.69991e+07\t8.50935e+09\t300.917\t7.13269e+08\t3.1    \t8  \t1  \t0.613732\n",
      "92 \t182   \t7.86568e+07\t1.36022e+10\t283.407\t9.71102e+08\t3.16667\t8  \t1  \t0.692018\n",
      "93 \t204   \t1.55152e+08\t3.15019e+10\t283.407\t1.88677e+09\t3.24   \t9  \t1  \t0.997864\n",
      "94 \t186   \t1.30723e+08\t2.94015e+10\t283.407\t1.78466e+09\t3.28667\t9  \t1  \t1.10355 \n",
      "95 \t176   \t1.69911e+07\t3.98779e+09\t283.407\t2.3829e+08 \t3.42333\t9  \t1  \t1.30542 \n",
      "96 \t209   \t5.3419e+16 \t1.60257e+19\t283.407\t9.237e+17  \t3.79667\t13 \t1  \t1.79313 \n",
      "97 \t200   \t3.59298e+07\t7.39177e+09\t283.407\t4.41406e+08\t4.01333\t12 \t1  \t1.85468 \n",
      "98 \t188   \t8.99234e+16\t2.6977e+19 \t283.407\t1.55492e+18\t4.56   \t14 \t1  \t2.25678 \n",
      "99 \t185   \t46614      \t5.38182e+06\t283.245\t315190     \t5.33333\t14 \t1  \t2.40463 \n",
      "100\t192   \t1.41202e+08\t9.56033e+09\t281.427\t1.09056e+09\t6.08   \t12 \t1  \t2.50205 \n",
      "101\t167   \t2.74293e+07\t8.22263e+09\t281.427\t4.73941e+08\t6.91   \t15 \t1  \t3.04443 \n",
      "102\t187   \t5.91644e+07\t8.88921e+09\t281.427\t6.99714e+08\t7.83   \t17 \t1  \t2.99351 \n",
      "103\t189   \t5.02008e+07\t7.89257e+09\t281.427\t6.13291e+08\t8.47667\t20 \t1  \t3.19939 \n",
      "104\t185   \t2.61559e+07\t7.8401e+09 \t278.046\t4.51892e+08\t9.29333\t19 \t1  \t3.35767 \n",
      "105\t178   \t2.5886e+07 \t7.75955e+09\t278.046\t4.47249e+08\t9.83   \t24 \t2  \t3.54698 \n",
      "106\t172   \t2.23444e+08\t1.02225e+10\t278.046\t1.36035e+09\t10.32  \t22 \t1  \t3.65024 \n",
      "107\t209   \t2.82473e+07\t8.45793e+09\t278.046\t4.87502e+08\t11.2067\t27 \t3  \t4.68301 \n",
      "108\t180   \t7.40756e+17\t2.22227e+20\t278.046\t1.28089e+19\t11.92  \t28 \t1  \t4.67763 \n",
      "109\t192   \t1.08491e+09\t3.24332e+11\t278.046\t1.8694e+10 \t13.36  \t29 \t1  \t5.02498 \n",
      "110\t177   \t5.3361e+07 \t8.46797e+09\t278.046\t6.52251e+08\t14.5467\t34 \t1  \t5.43334 \n",
      "111\t202   \t4.59171e+12\t1.33365e+15\t277.843\t7.69031e+13\t15.6   \t36 \t1  \t5.86515 \n",
      "112\t196   \t1.50871e+08\t9.8551e+09 \t277.591\t1.07705e+09\t16.79  \t40 \t3  \t6.0942  \n",
      "113\t181   \t1.89778e+13\t5.69334e+15\t276.81 \t3.28157e+14\t17.5633\t40 \t3  \t6.39161 \n",
      "114\t192   \t7.93442e+07\t8.77397e+09\t276.738\t7.92396e+08\t17.2867\t43 \t1  \t7.01744 \n",
      "115\t172   \t15164.8    \t330448     \t275.211\t36023.9    \t18.19  \t45 \t1  \t7.39869 \n",
      "116\t188   \t5.43026e+06\t1.62477e+09\t275.134\t9.36491e+07\t19.5433\t54 \t3  \t8.38619 \n",
      "117\t180   \t14269.5    \t330618     \t274.942\t42104.7    \t20.98  \t48 \t3  \t8.4447  \n",
      "118\t215   \t4.02613e+07\t7.96861e+09\t274.942\t5.1597e+08 \t23.2333\t65 \t3  \t10.2062 \n",
      "119\t193   \t11818.5    \t335138     \t272.508\t31314.8    \t26.0067\t73 \t2  \t10.7623 \n",
      "120\t193   \t16789.9    \t287594     \t272.508\t45390.9    \t28.7733\t69 \t1  \t11.8255 \n",
      "121\t179   \t1.51061e+13\t4.53183e+15\t272.015\t2.61209e+14\t31.6233\t72 \t1  \t12.3775 \n",
      "122\t182   \t6.13498e+07\t1.00409e+10\t271.106\t7.51825e+08\t33.9767\t81 \t1  \t13.6314 \n",
      "123\t192   \t7.01777e+07\t9.85637e+09\t266.442\t7.36671e+08\t37.2667\t107\t1  \t14.6149 \n",
      "124\t175   \t1.6966e+08 \t3.02459e+10\t266.442\t1.89391e+09\t41.1167\t107\t3  \t15.8498 \n",
      "125\t193   \t13997      \t311239     \t266.442\t44186.9    \t43.1833\t100\t1  \t16.5236 \n",
      "126\t184   \t10232.9    \t329071     \t266.355\t32528.8    \t45.5567\t104\t1  \t16.7322 \n",
      "127\t190   \t5.94667e+07\t9.28463e+09\t265.248\t7.26371e+08\t49.9767\t151\t3  \t18.4341 \n",
      "128\t187   \t18299      \t683766     \t265.248\t75765.2    \t56.24  \t192\t6  \t22.6412 \n",
      "129\t192   \t8876.86    \t338383     \t264.678\t33807.7    \t61.2933\t232\t3  \t29.8171 \n",
      "130\t187   \t2.05185e+07\t6.15093e+09\t264.678\t3.54531e+08\t69.6033\t234\t3  \t30.6138 \n",
      "131\t198   \t2.58681e+07\t7.75628e+09\t263.874\t4.47061e+08\t78.53  \t229\t3  \t35.1655 \n",
      "132\t198   \t2.83621e+07\t8.50335e+09\t263.805\t4.90121e+08\t85.1267\t229\t3  \t38.2963 \n",
      "133\t193   \t8.10936e+07\t8.89322e+09\t264.144\t8.04761e+08\t90.9733\t272\t3  \t42.2023 \n",
      "134\t201   \t11993.2    \t673895     \t261.365\t62661.4    \t91.3   \t247\t3  \t43.0661 \n",
      "135\t189   \t2.53104e+07\t7.59042e+09\t258.667\t4.37502e+08\t88.8733\t292\t5  \t42.2268 \n",
      "136\t211   \t12400.9    \t338337     \t258.455\t44078.9    \t89.51  \t240\t4  \t41.5837 \n",
      "137\t198   \t12792      \t1.28051e+06\t257.62 \t78484.2    \t99.3433\t263\t3  \t47.5199 \n",
      "138\t169   \t8.2792e+07 \t9.24801e+09\t257.62 \t8.27354e+08\t105.973\t272\t5  \t48.0913 \n",
      "139\t191   \t8222.19    \t436071     \t256.578\t35649.8    \t113.517\t282\t3  \t49.2877 \n",
      "140\t186   \t6.14962e+07\t9.24799e+09\t253.23 \t7.50525e+08\t111.817\t258\t4  \t39.6867 \n",
      "141\t184   \t9.70572e+07\t9.09663e+09\t253.23 \t8.66178e+08\t107.43 \t245\t1  \t33.8882 \n",
      "142\t176   \t11226.7    \t338935     \t253.23 \t43802      \t111.607\t251\t9  \t34.8941 \n",
      "143\t189   \t2.70822e+07\t8.12189e+09\t254.87 \t4.68135e+08\t117.3  \t239\t18 \t28.5464 \n",
      "144\t185   \t6.61829e+07\t1.07563e+10\t252.204\t8.10623e+08\t123.16 \t250\t3  \t33.6648 \n",
      "145\t199   \t2.52848e+07\t7.58202e+09\t252.204\t4.37017e+08\t133.64 \t312\t20 \t37.543  \n",
      "146\t195   \t10403.4    \t713818     \t250.521\t62587.2    \t141.003\t309\t29 \t37.5241 \n",
      "147\t179   \t3.06756e+07\t9.1995e+09 \t248.54 \t5.30247e+08\t149.33 \t331\t18 \t41.0898 \n",
      "148\t190   \t3.02697e+07\t9.07893e+09\t248.54 \t5.23297e+08\t158.377\t285\t3  \t44.4331 \n",
      "149\t201   \t6.11587e+07\t9.19902e+09\t245.802\t7.46402e+08\t168.9  \t397\t3  \t55.6245 \n",
      "150\t185   \t3.01105e+07\t9.03132e+09\t243.985\t5.20553e+08\t186.54 \t425\t3  \t59.7702 \n",
      "151\t181   \t3.03286e+07\t9.0966e+09 \t242.112\t5.24316e+08\t203.403\t459\t1  \t78.5692 \n",
      "152\t164   \t3.82393e+07\t1.02734e+10\t243.707\t5.95916e+08\t230.253\t772\t3  \t94.6043 \n",
      "153\t209   \t5.52834e+07\t8.77819e+09\t242.59 \t6.75932e+08\t254.033\t752\t5  \t89.9024 \n",
      "154\t187   \t10872.6    \t337632     \t240.934\t37969      \t277.867\t752\t14 \t89.913  \n",
      "155\t174   \t3.05028e+07\t9.14878e+09\t240.805\t5.27324e+08\t293.013\t752\t51 \t89.6475 \n",
      "156\t196   \t4730.79    \t301962     \t237.221\t23056.8    \t308.423\t848\t3  \t97.0236 \n",
      "157\t175   \t6.3495e+07 \t1.0756e+10 \t236.662\t7.81474e+08\t315.703\t624\t25 \t85.4368 \n",
      "158\t198   \t5.0455e+07 \t7.59274e+09\t236.662\t6.15807e+08\t322.033\t611\t29 \t87.6521 \n",
      "159\t203   \t5.48452e+07\t9.19766e+09\t231.224\t6.74079e+08\t308.67 \t610\t20 \t85.7725 \n",
      "160\t194   \t1.37698e+08\t3.10397e+10\t231.224\t1.88256e+09\t311.83 \t779\t5  \t91.6429 \n",
      "161\t178   \t3392.79    \t88197.5    \t229.177\t14838.9    \t316.463\t609\t25 \t85.103  \n",
      "162\t195   \t4076.07    \t301487     \t227.329\t22039.5    \t321.803\t893\t3  \t91.7738 \n",
      "163\t198   \t5329.33    \t304942     \t227.329\t27794      \t328.747\t724\t8  \t92.6587 \n",
      "164\t186   \t4181.77    \t338350     \t223.994\t28492.7    \t345.157\t634\t49 \t87.4361 \n",
      "165\t197   \t8116.48    \t316693     \t226.237\t35480.6    \t367.523\t659\t4  \t103.825 \n",
      "166\t198   \t1.54362e+11\t4.63086e+13\t225.886\t2.66917e+12\t395.663\t697\t4  \t110.615 \n",
      "167\t193   \t3.04905e+07\t9.14528e+09\t223.615\t5.27122e+08\t445.993\t785\t117\t97.8559 \n",
      "168\t190   \t6889.64    \t334512     \t223.31 \t38193.3    \t477.763\t921\t25 \t109.664 \n",
      "169\t190   \t5458.12    \t338070     \t221.334\t33727.9    \t509.02 \t983\t26 \t116.686 \n",
      "170\t189   \t3.03291e+07\t9.09668e+09\t220.367\t5.24321e+08\t516.56 \t979\t69 \t112.564 \n",
      "171\t196   \t6777.16    \t304994     \t220.373\t29632.6    \t518.947\t999\t3  \t125.825 \n",
      "172\t196   \t7676.73    \t305254     \t220.373\t32884.2    \t511.243\t853\t4  \t121.937 \n",
      "173\t191   \t3.06703e+07\t9.19894e+09\t218.391\t5.30215e+08\t509.747\t872\t29 \t108.584 \n",
      "174\t188   \t6315.87    \t337995     \t214.067\t37121.4    \t486.85 \t1069\t30 \t106.764 \n",
      "175\t187   \t1.32653e+08\t3.06972e+10\t214.067\t1.84371e+09\t480.247\t898 \t29 \t90.5175 \n",
      "176\t181   \t2522.32    \t84025.5    \t214.067\t12851.6    \t475.323\t787 \t4  \t80.3004 \n",
      "177\t195   \t3.0328e+07 \t9.0965e+09 \t213.427\t5.2431e+08 \t470.41 \t1233\t22 \t104.461 \n",
      "178\t190   \t5912.81    \t451014     \t213.746\t37598.6    \t479.46 \t976 \t4  \t105.95  \n",
      "179\t176   \t2331.45    \t78190      \t212.214\t11918.2    \t507.283\t976 \t258\t107.775 \n",
      "180\t173   \t6651.72    \t338625     \t210.09 \t34799.5    \t536.91 \t988 \t5  \t118.797 \n",
      "181\t188   \t9.46363e+07\t1.00411e+10\t209.697\t9.42442e+08\t558.913\t1080\t5  \t122.14  \n",
      "182\t201   \t3.06692e+07\t9.19894e+09\t209.55 \t5.30215e+08\t574.487\t1134\t49 \t81.4554 \n",
      "183\t188   \t3.06655e+07\t9.19766e+09\t209.55 \t5.30141e+08\t582.59 \t1132\t50 \t81.9583 \n",
      "184\t186   \t2535.1     \t82123.3    \t208.812\t12839      \t584.75 \t1103\t25 \t97.9362 \n",
      "185\t178   \t2950.39    \t84409.6    \t208.812\t14052      \t607.107\t1126\t51 \t91.6734 \n",
      "186\t189   \t2.51335e+07\t7.53836e+09\t208.21 \t4.34501e+08\t630.497\t955 \t26 \t108.063 \n",
      "187\t198   \t3.0328e+07 \t9.09652e+09\t206.612\t5.24311e+08\t651.563\t1032\t27 \t116.322 \n",
      "188\t190   \t3.04991e+07\t9.14893e+09\t205.919\t5.27332e+08\t657.26 \t1143\t45 \t124.045 \n",
      "189\t177   \t3463.65    \t99147.2    \t204.784\t16029.8    \t674.007\t1392\t63 \t118.329 \n",
      "190\t190   \t6202.09    \t314038     \t204.784\t32758.5    \t683.267\t1053\t3  \t122.491 \n",
      "191\t199   \t2.49777e+07\t7.49191e+09\t204.165\t4.31824e+08\t709.137\t1167\t337\t104.685 \n",
      "192\t201   \t3549.5     \t309462     \t202.213\t22026.7    \t726.843\t1177\t5  \t114.541 \n",
      "193\t207   \t4286.15    \t341207     \t202.213\t28011.7    \t720.997\t1230\t51 \t104.181 \n",
      "194\t197   \t4455.74    \t305689     \t202.213\t26842.7    \t717.337\t1177\t25 \t115.232 \n",
      "195\t192   \t3.05028e+07\t9.14904e+09\t201.912\t5.27339e+08\t728.89 \t1304\t140\t99.4678 \n",
      "196\t186   \t1.26277e+13\t3.78831e+15\t200.583\t2.18353e+14\t730.747\t1300\t23 \t107.752 \n",
      "197\t191   \t1.10319e+08\t9.14537e+09\t198.594\t9.53978e+08\t729.49 \t1300\t28 \t124.191 \n",
      "198\t186   \t3511.78    \t338382     \t197.463\t22917.6    \t738.85 \t1302\t45 \t116.62  \n",
      "199\t202   \t9.91025e+07\t9.19881e+09\t197.146\t9.1267e+08 \t727.717\t1302\t3  \t120.786 \n",
      "200\t221   \t4544.48    \t309557     \t196.906\t27475.6    \t725.76 \t1077\t1  \t90.0698 \n"
     ]
    }
   ],
   "source": [
    "pop, log, hof = algorithm()"
   ]
  },
  {
   "cell_type": "markdown",
   "metadata": {},
   "source": [
    "## Resultados"
   ]
  },
  {
   "cell_type": "markdown",
   "metadata": {},
   "source": [
    "### 1. Análise de parâmetros e funções"
   ]
  },
  {
   "cell_type": "markdown",
   "metadata": {},
   "source": [
    "O individuo nessa implementação é gerado utilizando o método **HalfAndHalf** onde metade da expressao é gerada com o **grow** e outra metade com **full**.  \n",
    "Utilizou-se uma probalidade de crossover de 60% e de mutaçao de 10%. Como operador de crossover escolheu-se o cruzamento de ponto único ounde escolhe-se um ponto aleatório da árvore, corta-o e troca com o da outra árvore. Como operador de mutação, escolheu-se randomicamente um ponto em um individuo(árvore), então trocou-se a sub-arvore no ponto gerando um pedaço utilizando o método **full** onde cada folha tem profundidade máxima entre 0 e 2.  \n",
    "Para função de fitness utilizou-se o erro quadrado médio.  \n",
    "\n",
    "Foram feitos varios testes(cenários) com combinações de funções para a Programação Genética, que podem ser resumidos nos três abaixo:\n",
    "- Cenário simplista\n",
    "    - Funções: soma e subtração.  \n",
    "    - Terminais: randomico entre [-1,1]  \n",
    "    - Obteve um erro médio de aproximadamente 9% e uma função bem simples. $f = x2+13$   \n",
    "\n",
    "- Cenário coerente  \n",
    "    - Funções: soma, subtração, coseno, seno, negação, multiplicação.  \n",
    "    - Terminais: randomico entre [-180,180]  \n",
    "    - Obteve um erro médio de aproximadamente 5% e um função simples também.  $f = x1+27$\n",
    "\n",
    "- Cenário complexo\n",
    "    - Funções: soma, subtração, divisão, coseno, seno, negação, multiplicação, exponencial\n",
    "    - Terminais: randomico entre [-180,180]  \n",
    "    - Obteve um erro médio superior a 10% e função muito complexa. Árvore muito grande.\n",
    "    \n",
    "Sendo assim o cenário coerente foi utilizado para apresentar os demais resultados."
   ]
  },
  {
   "cell_type": "markdown",
   "metadata": {},
   "source": [
    "### 2. Melhor expressão-S obtida"
   ]
  },
  {
   "cell_type": "code",
   "execution_count": 10,
   "metadata": {
    "collapsed": false
   },
   "outputs": [
    {
     "data": {
      "text/plain": [
       "'add(26, add(add(add(add(add(add(add(add(add(add(add(add(add(add(add(add(add(add(add(add(add(add(add(add(add(add(add(add(add(add(add(add(add(add(add(add(add(add(add(add(3.141592653589793, x1), sin(x6)), sin(sub(add(x12, x1), sin(sub(add(x12, x1), sin(sub(3.141592653589793, x1))))))), sin(sin(sin(x6)))), sin(sub(neg(add(add(add(26, x1), sin(x6)), mul(x12, x8))), sin(x6)))), sin(x6)), sin(sub(neg(add(add(add(26, x1), sin(sin(add(x6, sin(x8))))), 26)), x6))), sin(sub(add(x12, x1), sin(sub(3.141592653589793, x1))))), sin(sin(x6))), sin(sub(sin(sub(neg(add(add(add(26, x1), sin(x6)), mul(x12, x8))), sin(x6))), sin(x6)))), sin(sub(add(x12, x1), sin(sub(3.141592653589793, x1))))), sin(sin(x6))), sin(sub(sin(add(x6, sin(x8))), x6))), sin(sin(x6))), sin(sub(neg(add(add(add(26, x1), sin(x6)), mul(x12, x8))), sin(x6)))), sin(x6)), sin(sub(neg(add(add(add(26, x1), sin(sin(add(x6, sin(x8))))), 26)), x6))), sin(sub(add(x12, add(sub(96, x1), neg(3.141592653589793))), sin(sub(3.141592653589793, x1))))), sin(sub(sin(sub(neg(add(add(add(26, x1), sin(x6)), mul(x12, x8))), sin(x6))), sin(x6)))), sin(sub(sin(sub(neg(add(add(add(26, x1), sin(x6)), mul(x12, x8))), sin(x6))), sin(x6)))), sin(sub(add(x12, x1), sin(sub(3.141592653589793, x1))))), sin(sin(x6))), sin(sub(sin(add(x6, sin(x8))), x6))), sin(neg(x6))), sin(sub(neg(add(add(add(26, x1), sin(sin(add(x6, sin(x8))))), 26)), x6))), sin(sub(add(x12, x1), sin(sub(neg(add(add(add(26, sin(sub(add(x12, x1), sin(sub(3.141592653589793, x1))))), sin(x6)), mul(x12, x8))), sin(x6)))))), sin(sin(x7))), sin(sub(neg(add(add(add(26, x1), sin(x6)), sin(x8))), sin(x6)))), sin(sub(add(x12, 3.141592653589793), sin(x6)))), sin(sin(x6))), sin(sub(neg(add(add(add(26, x1), sin(x6)), sin(x8))), x6))), sin(add(add(add(add(add(add(add(add(add(add(add(add(x6, sin(x6)), sin(sub(add(x12, x1), sin(sub(3.141592653589793, 26))))), sin(sin(sub(x8, x10)))), sin(sub(neg(add(add(add(26, x1), sin(x6)), mul(x12, x8))), sin(x6)))), sin(x6)), sin(sub(neg(add(add(add(26, 26), add(add(26, x1), sin(sin(add(x6, sin(add(add(3.141592653589793, x1), sin(x6)))))))), 26)), add(26, x1)))), sin(sub(add(x12, x1), sin(sub(3.141592653589793, x1))))), sin(sin(x6))), sin(sub(neg(add(add(add(26, x1), sin(x6)), sin(x8))), sin(x6)))), sin(sub(add(x12, x1), sin(sub(3.141592653589793, x1))))), sin(sin(x6))), sin(sub(neg(add(add(add(26, x1), sin(x6)), sin(x8))), x6))))), sin(sub(neg(x7), x6))), sin(add(add(add(add(add(3.141592653589793, x1), sin(x6)), sin(sub(add(x12, x1), sin(sub(3.141592653589793, x1))))), sin(add(add(add(add(x12, sin(-131)), sin(sub(add(x12, x1), sin(sub(3.141592653589793, 3.141592653589793))))), sin(x6)), sin(sub(neg(add(add(add(26, x1), sin(x6)), sin(sin(26)))), sin(x6)))))), sin(sub(neg(add(add(add(26, x1), sin(x6)), sin(x6))), 26))))), sin(sub(neg(add(add(add(26, x1), sin(sin(add(x6, sin(x8))))), 26)), x6))), sin(add(add(add(add(add(3.141592653589793, x1), sin(x6)), sin(sub(add(x12, x1), sin(sub(3.141592653589793, x1))))), sin(add(add(add(add(x12, sin(-131)), sin(sub(add(x12, x1), sin(sub(3.141592653589793, 3.141592653589793))))), sin(x6)), sin(sub(neg(add(add(add(26, x1), sin(sin(add(add(add(26, x1), sin(add(26, sin(sin(add(x6, sin(sub(add(x12, x1), sin(sub(3.141592653589793, x1)))))))))), mul(sin(x6), x8))))), sin(sin(26)))), sin(x6)))))), sin(sub(neg(add(add(add(26, x1), sin(x6)), sin(x6))), 26))))), sin(sin(x6))), sin(sub(neg(add(add(add(26, x1), sin(x6)), sin(x8))), add(3.141592653589793, x1)))), sin(sin(x6))), sin(sub(neg(sin(x7)), x6))))'"
      ]
     },
     "execution_count": 10,
     "metadata": {},
     "output_type": "execute_result"
    }
   ],
   "source": [
    "str(hof[0])"
   ]
  },
  {
   "cell_type": "markdown",
   "metadata": {},
   "source": [
    "### 3. Equação correspondente(simplificada)"
   ]
  },
  {
   "cell_type": "markdown",
   "metadata": {},
   "source": [
    "$$f(x1,x2,x3,x4,x5,x6,x7,x8,x9,x10,x11,x12) = x1 + 27$$"
   ]
  },
  {
   "cell_type": "markdown",
   "metadata": {},
   "source": [
    "### 4. Planilha com os dados obtidos"
   ]
  },
  {
   "cell_type": "code",
   "execution_count": 11,
   "metadata": {
    "collapsed": false
   },
   "outputs": [
    {
     "name": "stdout",
     "output_type": "stream",
     "text": [
      "\n",
      "========\n",
      "|TREINO|\n",
      "========\n",
      "        x1     x2     x3     x4     x5     x6     x7     x8     x9    x10    x11    x12  VALOR REAL    VALOR PG  ERRO(%)\n",
      "0    112.0  118.0  132.0  129.0  121.0  135.0  148.0  148.0  136.0  119.0  104.0  118.0       115.0  135.274079    17.63\n",
      "1    118.0  132.0  129.0  121.0  135.0  148.0  148.0  136.0  119.0  104.0  118.0  115.0       126.0  150.974934    19.82\n",
      "2    132.0  129.0  121.0  135.0  148.0  148.0  136.0  119.0  104.0  118.0  115.0  126.0       141.0  158.901605    12.70\n",
      "3    129.0  121.0  135.0  148.0  148.0  136.0  119.0  104.0  118.0  115.0  126.0  141.0       135.0  144.649215     7.15\n",
      "4    121.0  135.0  148.0  148.0  136.0  119.0  104.0  118.0  115.0  126.0  141.0  135.0       125.0  140.657204    12.53\n",
      "5    135.0  148.0  148.0  136.0  119.0  104.0  118.0  115.0  126.0  141.0  135.0  125.0       149.0  161.325060     8.27\n",
      "6    148.0  148.0  136.0  119.0  104.0  118.0  115.0  126.0  141.0  135.0  125.0  149.0       170.0  174.326168     2.54\n",
      "7    148.0  136.0  119.0  104.0  118.0  115.0  126.0  141.0  135.0  125.0  149.0  170.0       170.0  174.159246     2.45\n",
      "8    136.0  119.0  104.0  118.0  115.0  126.0  141.0  135.0  125.0  149.0  170.0  170.0       158.0  165.133678     4.51\n",
      "9    119.0  104.0  118.0  115.0  126.0  141.0  135.0  125.0  149.0  170.0  170.0  158.0       133.0  151.178770    13.67\n",
      "10   104.0  118.0  115.0  126.0  141.0  135.0  125.0  149.0  170.0  170.0  158.0  133.0       114.0  131.308164    15.18\n",
      "11   118.0  115.0  126.0  141.0  135.0  125.0  149.0  170.0  170.0  158.0  133.0  114.0       140.0  144.945920     3.53\n",
      "12   115.0  126.0  141.0  135.0  125.0  149.0  170.0  170.0  158.0  133.0  114.0  140.0       145.0  134.379698     7.32\n",
      "13   126.0  141.0  135.0  125.0  149.0  170.0  170.0  158.0  133.0  114.0  140.0  145.0       150.0  157.850447     5.23\n",
      "14   141.0  135.0  125.0  149.0  170.0  170.0  158.0  133.0  114.0  140.0  145.0  150.0       178.0  190.190902     6.85\n",
      "15   135.0  125.0  149.0  170.0  170.0  158.0  133.0  114.0  140.0  145.0  150.0  178.0       163.0  161.976398     0.63\n",
      "16   125.0  149.0  170.0  170.0  158.0  133.0  114.0  140.0  145.0  150.0  178.0  163.0       172.0  156.115083     9.24\n",
      "17   149.0  170.0  170.0  158.0  133.0  114.0  140.0  145.0  150.0  178.0  163.0  172.0       178.0  178.166632     0.09\n",
      "18   170.0  170.0  158.0  133.0  114.0  140.0  145.0  150.0  178.0  163.0  172.0  178.0       199.0  211.110695     6.09\n",
      "19   170.0  158.0  133.0  114.0  140.0  145.0  150.0  178.0  163.0  172.0  178.0  199.0       199.0  206.218269     3.63\n",
      "20   158.0  133.0  114.0  140.0  145.0  150.0  178.0  163.0  172.0  178.0  199.0  199.0       184.0  182.140932     1.01\n",
      "21   133.0  114.0  140.0  145.0  150.0  178.0  163.0  172.0  178.0  199.0  199.0  184.0       162.0  170.650261     5.34\n",
      "22   114.0  140.0  145.0  150.0  178.0  163.0  172.0  178.0  199.0  199.0  184.0  162.0       146.0  141.575720     3.03\n",
      "23   140.0  145.0  150.0  178.0  163.0  172.0  178.0  199.0  199.0  184.0  162.0  146.0       166.0  180.191541     8.55\n",
      "24   145.0  150.0  178.0  163.0  172.0  178.0  199.0  199.0  184.0  162.0  146.0  166.0       171.0  178.621351     4.46\n",
      "25   150.0  178.0  163.0  172.0  178.0  199.0  199.0  184.0  162.0  146.0  166.0  171.0       180.0  177.133879     1.59\n",
      "26   178.0  163.0  172.0  178.0  199.0  199.0  184.0  162.0  146.0  166.0  171.0  180.0       193.0  196.106102     1.61\n",
      "27   163.0  172.0  178.0  199.0  199.0  184.0  162.0  146.0  166.0  171.0  180.0  193.0       181.0  192.512963     6.36\n",
      "28   172.0  178.0  199.0  199.0  184.0  162.0  146.0  166.0  171.0  180.0  193.0  181.0       183.0  189.152000     3.36\n",
      "29   178.0  199.0  199.0  184.0  162.0  146.0  166.0  171.0  180.0  193.0  181.0  183.0       218.0  219.038592     0.48\n",
      "30   199.0  199.0  184.0  162.0  146.0  166.0  171.0  180.0  193.0  181.0  183.0  218.0       230.0  230.865220     0.38\n",
      "31   199.0  184.0  162.0  146.0  166.0  171.0  180.0  193.0  181.0  183.0  218.0  230.0       242.0  231.211181     4.46\n",
      "32   184.0  162.0  146.0  166.0  171.0  180.0  193.0  181.0  183.0  218.0  230.0  242.0       209.0  199.732028     4.43\n",
      "33   162.0  146.0  166.0  171.0  180.0  193.0  181.0  183.0  218.0  230.0  242.0  209.0       191.0  194.758480     1.97\n",
      "34   146.0  166.0  171.0  180.0  193.0  181.0  183.0  218.0  230.0  242.0  209.0  191.0       172.0  168.561596     2.00\n",
      "35   166.0  171.0  180.0  193.0  181.0  183.0  218.0  230.0  242.0  209.0  191.0  172.0       194.0  197.237029     1.67\n",
      "36   171.0  180.0  193.0  181.0  183.0  218.0  230.0  242.0  209.0  191.0  172.0  194.0       196.0  195.478170     0.27\n",
      "37   180.0  193.0  181.0  183.0  218.0  230.0  242.0  209.0  191.0  172.0  194.0  196.0       196.0  199.159957     1.61\n",
      "38   193.0  181.0  183.0  218.0  230.0  242.0  209.0  191.0  172.0  194.0  196.0  196.0       236.0  225.370675     4.50\n",
      "39   181.0  183.0  218.0  230.0  242.0  209.0  191.0  172.0  194.0  196.0  196.0  236.0       235.0  219.461345     6.61\n",
      "40   183.0  218.0  230.0  242.0  209.0  191.0  172.0  194.0  196.0  196.0  236.0  235.0       229.0  212.423797     7.24\n",
      "41   218.0  230.0  242.0  209.0  191.0  172.0  194.0  196.0  196.0  236.0  235.0  229.0       243.0  247.036736     1.66\n",
      "42   230.0  242.0  209.0  191.0  172.0  194.0  196.0  196.0  236.0  235.0  229.0  243.0       264.0  272.610259     3.26\n",
      "43   242.0  209.0  191.0  172.0  194.0  196.0  196.0  236.0  235.0  229.0  243.0  264.0       272.0  278.956640     2.56\n",
      "44   209.0  191.0  172.0  194.0  196.0  196.0  236.0  235.0  229.0  243.0  264.0  272.0       237.0  253.050754     6.77\n",
      "45   191.0  172.0  194.0  196.0  196.0  236.0  235.0  229.0  243.0  264.0  272.0  237.0       211.0  213.656597     1.26\n",
      "46   172.0  194.0  196.0  196.0  236.0  235.0  229.0  243.0  264.0  272.0  237.0  211.0       180.0  193.845646     7.69\n",
      "47   194.0  196.0  196.0  236.0  235.0  229.0  243.0  264.0  272.0  237.0  211.0  180.0       201.0  217.536250     8.23\n",
      "48   196.0  196.0  236.0  235.0  229.0  243.0  264.0  272.0  237.0  211.0  180.0  201.0       204.0  220.354857     8.02\n",
      "49   196.0  236.0  235.0  229.0  243.0  264.0  272.0  237.0  211.0  180.0  201.0  204.0       188.0  209.531292    11.45\n",
      "50   236.0  235.0  229.0  243.0  264.0  272.0  237.0  211.0  180.0  201.0  204.0  188.0       235.0  265.664118    13.05\n",
      "51   235.0  229.0  243.0  264.0  272.0  237.0  211.0  180.0  201.0  204.0  188.0  235.0       227.0  247.288878     8.94\n",
      "52   229.0  243.0  264.0  272.0  237.0  211.0  180.0  201.0  204.0  188.0  235.0  227.0       234.0  245.038715     4.72\n",
      "53   243.0  264.0  272.0  237.0  211.0  180.0  201.0  204.0  188.0  235.0  227.0  234.0       264.0  272.711741     3.30\n",
      "54   264.0  272.0  237.0  211.0  180.0  201.0  204.0  188.0  235.0  227.0  234.0  264.0       302.0  283.917303     5.99\n",
      "55   272.0  237.0  211.0  180.0  201.0  204.0  188.0  235.0  227.0  234.0  264.0  302.0       293.0  313.677435     7.06\n",
      "56   237.0  211.0  180.0  201.0  204.0  188.0  235.0  227.0  234.0  264.0  302.0  293.0       259.0  264.100416     1.97\n",
      "57   211.0  180.0  201.0  204.0  188.0  235.0  227.0  234.0  264.0  302.0  293.0  259.0       229.0  239.862317     4.74\n",
      "58   180.0  201.0  204.0  188.0  235.0  227.0  234.0  264.0  302.0  293.0  259.0  229.0       203.0  214.303911     5.57\n",
      "59   201.0  204.0  188.0  235.0  227.0  234.0  264.0  302.0  293.0  259.0  229.0  203.0       229.0  242.453335     5.87\n",
      "60   204.0  188.0  235.0  227.0  234.0  264.0  302.0  293.0  259.0  229.0  203.0  229.0       242.0  228.750122     5.48\n",
      "61   188.0  235.0  227.0  234.0  264.0  302.0  293.0  259.0  229.0  203.0  229.0  242.0       233.0  226.893793     2.62\n",
      "62   235.0  227.0  234.0  264.0  302.0  293.0  259.0  229.0  203.0  229.0  242.0  233.0       267.0  255.611395     4.27\n",
      "63   227.0  234.0  264.0  302.0  293.0  259.0  229.0  203.0  229.0  242.0  233.0  267.0       269.0  264.522824     1.66\n",
      "64   234.0  264.0  302.0  293.0  259.0  229.0  203.0  229.0  242.0  233.0  267.0  269.0       270.0  270.600903     0.22\n",
      "65   264.0  302.0  293.0  259.0  229.0  203.0  229.0  242.0  233.0  267.0  269.0  270.0       315.0  303.770415     3.56\n",
      "66   302.0  293.0  259.0  229.0  203.0  229.0  242.0  233.0  267.0  269.0  270.0  315.0       364.0  338.420173     7.03\n",
      "67   293.0  259.0  229.0  203.0  229.0  242.0  233.0  267.0  269.0  270.0  315.0  364.0       347.0  325.744419     6.13\n",
      "68   259.0  229.0  203.0  229.0  242.0  233.0  267.0  269.0  270.0  315.0  364.0  347.0       312.0  292.907293     6.12\n",
      "69   229.0  203.0  229.0  242.0  233.0  267.0  269.0  270.0  315.0  364.0  347.0  312.0       274.0  259.754581     5.20\n",
      "70   203.0  229.0  242.0  233.0  267.0  269.0  270.0  315.0  364.0  347.0  312.0  274.0       237.0  225.445365     4.88\n",
      "71   229.0  242.0  233.0  267.0  269.0  270.0  315.0  364.0  347.0  312.0  274.0  237.0       278.0  264.783540     4.75\n",
      "72   242.0  233.0  267.0  269.0  270.0  315.0  364.0  347.0  312.0  274.0  237.0  278.0       284.0  271.402576     4.44\n",
      "73   233.0  267.0  269.0  270.0  315.0  364.0  347.0  312.0  274.0  237.0  278.0  284.0       277.0  257.170250     7.16\n",
      "74   267.0  269.0  270.0  315.0  364.0  347.0  312.0  274.0  237.0  278.0  284.0  277.0       317.0  300.965523     5.06\n",
      "75   269.0  270.0  315.0  364.0  347.0  312.0  274.0  237.0  278.0  284.0  277.0  317.0       313.0  305.460363     2.41\n",
      "76   270.0  315.0  364.0  347.0  312.0  274.0  237.0  278.0  284.0  277.0  317.0  313.0       318.0  299.938031     5.68\n",
      "77   315.0  364.0  347.0  312.0  274.0  237.0  278.0  284.0  277.0  317.0  313.0  318.0       374.0  340.464496     8.97\n",
      "78   364.0  347.0  312.0  274.0  237.0  278.0  284.0  277.0  317.0  313.0  318.0  374.0       413.0  402.923840     2.44\n",
      "79   347.0  312.0  274.0  237.0  278.0  284.0  277.0  317.0  313.0  318.0  374.0  413.0       405.0  382.140005     5.64\n",
      "80   312.0  274.0  237.0  278.0  284.0  277.0  317.0  313.0  318.0  374.0  413.0  405.0       355.0  344.481389     2.96\n",
      "81   274.0  237.0  278.0  284.0  277.0  317.0  313.0  318.0  374.0  413.0  405.0  355.0       306.0  309.737591     1.22\n",
      "82   237.0  278.0  284.0  277.0  317.0  313.0  318.0  374.0  413.0  405.0  355.0  306.0       271.0  266.615356     1.62\n",
      "83   278.0  284.0  277.0  317.0  313.0  318.0  374.0  413.0  405.0  355.0  306.0  271.0       306.0  296.544519     3.09\n",
      "84   284.0  277.0  317.0  313.0  318.0  374.0  413.0  405.0  355.0  306.0  271.0  306.0       315.0  307.757058     2.30\n",
      "85   277.0  317.0  313.0  318.0  374.0  413.0  405.0  355.0  306.0  271.0  306.0  315.0       301.0  302.567439     0.52\n",
      "86   317.0  313.0  318.0  374.0  413.0  405.0  355.0  306.0  271.0  306.0  315.0  301.0       356.0  354.684590     0.37\n",
      "87   313.0  318.0  374.0  413.0  405.0  355.0  306.0  271.0  306.0  315.0  301.0  356.0       348.0  341.054710     2.00\n",
      "88   318.0  374.0  413.0  405.0  355.0  306.0  271.0  306.0  315.0  301.0  356.0  348.0       355.0  348.467462     1.84\n",
      "89   374.0  413.0  405.0  355.0  306.0  271.0  306.0  315.0  301.0  356.0  348.0  355.0       422.0  403.645049     4.35\n",
      "90   413.0  405.0  355.0  306.0  271.0  306.0  315.0  301.0  356.0  348.0  355.0  422.0       465.0  446.356883     4.01\n",
      "91   405.0  355.0  306.0  271.0  306.0  315.0  301.0  356.0  348.0  355.0  422.0  465.0       467.0  445.851611     4.53\n",
      "92   355.0  306.0  271.0  306.0  315.0  301.0  356.0  348.0  355.0  422.0  465.0  467.0       404.0  385.783658     4.51\n",
      "93   306.0  271.0  306.0  315.0  301.0  356.0  348.0  355.0  422.0  465.0  467.0  404.0       347.0  337.790817     2.65\n",
      "94   271.0  306.0  315.0  301.0  356.0  348.0  355.0  422.0  465.0  467.0  404.0  347.0       305.0  306.550379     0.51\n",
      "95   306.0  315.0  301.0  356.0  348.0  355.0  422.0  465.0  467.0  404.0  347.0  305.0       336.0  340.601025     1.37\n",
      "96   315.0  301.0  356.0  348.0  355.0  422.0  465.0  467.0  404.0  347.0  305.0  336.0       340.0  353.999346     4.12\n",
      "97   301.0  356.0  348.0  355.0  422.0  465.0  467.0  404.0  347.0  305.0  336.0  340.0       318.0  328.328625     3.25\n",
      "98   356.0  348.0  355.0  422.0  465.0  467.0  404.0  347.0  305.0  336.0  340.0  318.0       362.0  384.806675     6.30\n",
      "99   348.0  355.0  422.0  465.0  467.0  404.0  347.0  305.0  336.0  340.0  318.0  362.0       348.0  375.597424     7.93\n",
      "100  355.0  422.0  465.0  467.0  404.0  347.0  305.0  336.0  340.0  318.0  362.0  348.0       363.0  383.896189     5.76\n",
      "101  422.0  465.0  467.0  404.0  347.0  305.0  336.0  340.0  318.0  362.0  348.0  363.0       435.0  450.149964     3.48\n",
      "102  465.0  467.0  404.0  347.0  305.0  336.0  340.0  318.0  362.0  348.0  363.0  435.0       491.0  498.200402     1.47\n",
      "103  467.0  404.0  347.0  305.0  336.0  340.0  318.0  362.0  348.0  363.0  435.0  491.0       505.0  504.742310     0.05\n",
      "104  404.0  347.0  305.0  336.0  340.0  318.0  362.0  348.0  363.0  435.0  491.0  505.0       404.0  417.252475     3.28\n",
      "105  347.0  305.0  336.0  340.0  318.0  362.0  348.0  363.0  435.0  491.0  505.0  404.0       359.0  372.638575     3.80\n",
      "106  305.0  336.0  340.0  318.0  362.0  348.0  363.0  435.0  491.0  505.0  404.0  359.0       310.0  325.699270     5.06\n",
      "107  336.0  340.0  318.0  362.0  348.0  363.0  435.0  491.0  505.0  404.0  359.0  310.0       337.0  349.175437     3.61\n",
      "108  340.0  318.0  362.0  348.0  363.0  435.0  491.0  505.0  404.0  359.0  310.0  337.0       360.0  370.415728     2.89\n",
      "109  318.0  362.0  348.0  363.0  435.0  491.0  505.0  404.0  359.0  310.0  337.0  360.0       342.0  345.444126     1.01\n",
      "110  362.0  348.0  363.0  435.0  491.0  505.0  404.0  359.0  310.0  337.0  360.0  342.0       406.0  397.499228     2.09\n",
      "111  348.0  363.0  435.0  491.0  505.0  404.0  359.0  310.0  337.0  360.0  342.0  406.0       396.0  376.356146     4.96\n",
      "112  363.0  435.0  491.0  505.0  404.0  359.0  310.0  337.0  360.0  342.0  406.0  396.0       420.0  395.561562     5.82\n",
      "113  435.0  491.0  505.0  404.0  359.0  310.0  337.0  360.0  342.0  406.0  396.0  420.0       472.0  474.781737     0.59\n",
      "114  491.0  505.0  404.0  359.0  310.0  337.0  360.0  342.0  406.0  396.0  420.0  472.0       548.0  521.028866     4.92\n",
      "115  505.0  404.0  359.0  310.0  337.0  360.0  342.0  406.0  396.0  420.0  472.0  548.0       559.0  542.798617     2.90\n",
      "116  404.0  359.0  310.0  337.0  360.0  342.0  406.0  396.0  420.0  472.0  548.0  559.0       463.0  444.423978     4.01\n",
      "117  359.0  310.0  337.0  360.0  342.0  406.0  396.0  420.0  472.0  548.0  559.0  463.0       407.0  382.631303     5.99\n",
      "118  310.0  337.0  360.0  342.0  406.0  396.0  420.0  472.0  548.0  559.0  463.0  407.0       362.0  355.699974     1.74\n",
      "119  337.0  360.0  342.0  406.0  396.0  420.0  472.0  548.0  559.0  463.0  407.0  362.0       405.0  374.848425     7.44\n",
      "\n",
      "=======\n",
      "|TESTE|\n",
      "=======\n",
      "       x1     x2     x3     x4     x5     x6     x7     x8     x9    x10    x11    x12  VALOR REAL    VALOR PG  ERRO(%)\n",
      "0   360.0  342.0  406.0  396.0  420.0  472.0  548.0  559.0  463.0  407.0  362.0  405.0       417.0  391.010095     6.23\n",
      "1   342.0  406.0  396.0  420.0  472.0  548.0  559.0  463.0  407.0  362.0  405.0  417.0       391.0  365.745762     6.46\n",
      "2   406.0  396.0  420.0  472.0  548.0  559.0  463.0  407.0  362.0  405.0  417.0  391.0       419.0  432.820552     3.30\n",
      "3   396.0  420.0  472.0  548.0  559.0  463.0  407.0  362.0  405.0  417.0  391.0  419.0       461.0  419.165603     9.07\n",
      "4   420.0  472.0  548.0  559.0  463.0  407.0  362.0  405.0  417.0  391.0  419.0  461.0       472.0  455.919363     3.41\n",
      "5   472.0  548.0  559.0  463.0  407.0  362.0  405.0  417.0  391.0  419.0  461.0  472.0       535.0  504.156479     5.77\n",
      "6   548.0  559.0  463.0  407.0  362.0  405.0  417.0  391.0  419.0  461.0  472.0  535.0       622.0  582.923286     6.28\n",
      "7   559.0  463.0  407.0  362.0  405.0  417.0  391.0  419.0  461.0  472.0  535.0  622.0       606.0  593.328375     2.09\n",
      "8   463.0  407.0  362.0  405.0  417.0  391.0  419.0  461.0  472.0  535.0  622.0  606.0       508.0  496.223243     2.32\n",
      "9   407.0  362.0  405.0  417.0  391.0  419.0  461.0  472.0  535.0  622.0  606.0  508.0       461.0  427.565297     7.25\n",
      "10  362.0  405.0  417.0  391.0  419.0  461.0  472.0  535.0  622.0  606.0  508.0  461.0       390.0  385.995407     1.03\n",
      "11  405.0  417.0  391.0  419.0  461.0  472.0  535.0  622.0  606.0  508.0  461.0  390.0       432.0  447.503618     3.59\n"
     ]
    }
   ],
   "source": [
    "import pandas as pd\n",
    "\n",
    "#Colunas da tabela\n",
    "cols = ['x1','x2','x3','x4','x5','x6','x7','x8','x9','x10','x11','x12','VALOR REAL','VALOR PG','ERRO(%)']\n",
    "\n",
    "#Compila  melhor indivíduo chamar a funçã com os resultados\n",
    "function = gp.compile(hof[0],pset)\n",
    "table_train = []\n",
    "for x1,x2,x3,x4,x5,x6,x7,x8,x9,x10,x11,x12,y in data_train:\n",
    "    pg = function(x1,x2,x3,x4,x5,x6,x7,x8,x9,x10,x11,x12)\n",
    "    table_train.append([x1,x2,x3,x4,x5,x6,x7,x8,x9,x10,x11,x12,y,pg,round(abs(100-pg*100/y),2)])\n",
    "\n",
    "table_test = []    \n",
    "for x1,x2,x3,x4,x5,x6,x7,x8,x9,x10,x11,x12,y in data_test:\n",
    "    pg = function(x1,x2,x3,x4,x5,x6,x7,x8,x9,x10,x11,x12)\n",
    "    table_test.append([x1,x2,x3,x4,x5,x6,x7,x8,x9,x10,x11,x12,y,pg,round(abs(100-pg*100/y),2)])\n",
    "\n",
    "print('\\n========\\n|TREINO|\\n========')\n",
    "table_train = np.array(table_train)\n",
    "df_train = pd.DataFrame(table_train,columns = cols)\n",
    "print(df_train.to_string())\n",
    "\n",
    "print('\\n=======\\n|TESTE|\\n=======')\n",
    "table_test = np.array(table_test)\n",
    "df_test = pd.DataFrame(table_test,columns = cols)\n",
    "print(df_test.to_string())\n"
   ]
  },
  {
   "cell_type": "markdown",
   "metadata": {},
   "source": [
    "### 5. Gráfico com os dados reais e os gerados pela função obtida por PG"
   ]
  },
  {
   "cell_type": "code",
   "execution_count": 12,
   "metadata": {
    "collapsed": false
   },
   "outputs": [
    {
     "data": {
      "image/png": "[encoded data removed]",
      "text/plain": [
       "<matplotlib.figure.Figure at 0x2c898418dd8>"
      ]
     },
     "metadata": {},
     "output_type": "display_data"
    }
   ],
   "source": [
    "import matplotlib.pyplot as plt\n",
    "\n",
    "meses = np.arange(132)\n",
    "\n",
    "\n",
    "fig, ax1 = plt.subplots()\n",
    "ax1.set_xlabel(\"Meses\")\n",
    "ax1.set_ylabel(\"Passageiros\")\n",
    "\n",
    "line1 = ax1.plot(meses, np.concatenate((table_train[:,12],table_test[:,12]),axis=0), \"b-\", label=\"REAL\")\n",
    "line2 = ax1.plot(meses, np.concatenate((table_train[:,13],table_test[:,13]),axis=0), \"r-\", label=\"OBTIDO\")\n",
    "\n",
    "\n",
    "lns = line2 + line1\n",
    "labs = [l.get_label() for l in lns]\n",
    "ax1.legend(lns, labs, loc=4)\n",
    "\n",
    "fig.set_size_inches(15, 5, forward=True)\n",
    "\n",
    "plt.show()"
   ]
  },
  {
   "cell_type": "code",
   "execution_count": 13,
   "metadata": {
    "collapsed": false
   },
   "outputs": [
    {
     "name": "stdout",
     "output_type": "stream",
     "text": [
      "Erro médio treino: 4.717833333333335%\n",
      "Erro médio teste: 4.733333333333333%\n",
      "Erro médio total: 4.7192424242424265%\n"
     ]
    }
   ],
   "source": [
    "error_final = np.concatenate((table_train[:,14],table_test[:,14]),axis=0)\n",
    "print('Erro médio treino: {}%'.format(sum(table_train[:,14])/len(table_train)))\n",
    "print('Erro médio teste: {}%'.format(sum(table_test[:,14])/len(table_test)))\n",
    "print('Erro médio total: {}%'.format(sum(error_final)/len(error_final)))"
   ]
  },
  {
   "cell_type": "markdown",
   "metadata": {},
   "source": [
    "### 6. Considerações finais"
   ]
  },
  {
   "cell_type": "markdown",
   "metadata": {},
   "source": [
    "- Aumentando-se o numero de gerações não contribui para uma melhora do erro.  \n",
    "- As equações que envolviam seno e coseno não apresentaram-se melhor.  \n",
    "- Os dados iniciais apresentam um erro maior pois, devido a estrutura do problema, eles nao têm dados suficientes de treinamento.  \n",
    "- A adição e funções mais complexas como exponencial implica em incluir restrições para não dar erro ao calcular o fitness ou gerar um filho."
   ]
  }
 ],
 "metadata": {
  "kernelspec": {
   "display_name": "Python 3",
   "language": "python",
   "name": "python3"
  },
  "language_info": {
   "codemirror_mode": {
    "name": "ipython",
    "version": 3
   },
   "file_extension": ".py",
   "mimetype": "text/x-python",
   "name": "python",
   "nbconvert_exporter": "python",
   "pygments_lexer": "ipython3",
   "version": "3.6.0"
  }
 },
 "nbformat": 4,
 "nbformat_minor": 2
}
