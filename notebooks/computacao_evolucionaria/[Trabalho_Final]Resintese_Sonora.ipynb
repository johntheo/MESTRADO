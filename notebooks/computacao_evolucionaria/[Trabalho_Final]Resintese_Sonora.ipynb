{
 "cells": [
  {
   "cell_type": "markdown",
   "metadata": {},
   "source": [
    "# Trabalho Final"
   ]
  },
  {
   "cell_type": "code",
   "execution_count": null,
   "metadata": {
    "collapsed": true
   },
   "outputs": [],
   "source": [
    "from __future__ import print_function"
   ]
  },
  {
   "cell_type": "code",
   "execution_count": null,
   "metadata": {
    "collapsed": true
   },
   "outputs": [],
   "source": [
    "#Util\n",
    "import operator\n",
    "import math\n",
    "import random\n",
    "import numpy as np\n",
    "from numpy import linspace,sin,pi,int16\n",
    "import matplotlib.pyplot as plt\n",
    "%matplotlib inline\n",
    "\n",
    "# Genetic Programming\n",
    "from deap import algorithms\n",
    "from deap import base\n",
    "from deap import creator\n",
    "from deap import tools\n",
    "from deap import gp\n",
    "\n",
    "# Audio\n",
    "import librosa\n",
    "import librosa.display\n",
    "import thinkdsp\n",
    "import thinkplot"
   ]
  },
  {
   "cell_type": "markdown",
   "metadata": {
    "collapsed": true
   },
   "source": [
    "A manipulação  sonora será feita utilizando o **thinkDSP** e a obtenção das features para comparação através do librosa"
   ]
  },
  {
   "cell_type": "code",
   "execution_count": null,
   "metadata": {
    "collapsed": true
   },
   "outputs": [],
   "source": [
    "# DADOS INICIAIS\n",
    "wave = thinkdsp.read_wave('sounds/92002__jcveliz__violin-origional.wav')\n",
    "target = wave.segment(1.18995, 0.62)"
   ]
  },
  {
   "cell_type": "code",
   "execution_count": null,
   "metadata": {},
   "outputs": [],
   "source": [
    "# Segmento objetivo. Obtido por tentativa e erro\n",
    "target = wave.segment(1.18995, 0.2)\n",
    "target.plot()\n",
    "thinkplot.config(xlabel='Time (s)')\n",
    "target.make_audio()"
   ]
  },
  {
   "cell_type": "code",
   "execution_count": null,
   "metadata": {},
   "outputs": [],
   "source": [
    "def extract_features(wave):\n",
    "    #wave.normalize()\n",
    "    X = np.array(wave.ys,dtype=np.float32)\n",
    "    sample_rate = wave.framerate\n",
    "    features= np.empty((0, 193))\n",
    "    \n",
    "    stft = np.abs(librosa.stft(X))\n",
    "    mfccs = np.mean(librosa.feature.mfcc(y=X, sr=sample_rate, n_mfcc=40).T, axis=0)\n",
    "    chroma = np.mean(librosa.feature.chroma_stft(S=stft, sr=sample_rate).T, axis=0)\n",
    "    mel = np.mean(librosa.feature.melspectrogram(X, sr=sample_rate).T, axis=0)\n",
    "    contrast = np.mean(librosa.feature.spectral_contrast(S=stft, sr=sample_rate).T, axis=0)\n",
    "    tonnetz = np.mean(librosa.feature.tonnetz(y=librosa.effects.harmonic(X), sr=sample_rate).T, axis=0)\n",
    "    features = np.hstack([mfccs, chroma, mel, contrast, tonnetz])\n",
    "    \n",
    "    return features"
   ]
  },
  {
   "cell_type": "code",
   "execution_count": null,
   "metadata": {},
   "outputs": [],
   "source": [
    "t = linspace(0,target.duration,target.duration*target.framerate)"
   ]
  },
  {
   "cell_type": "code",
   "execution_count": null,
   "metadata": {},
   "outputs": [],
   "source": [
    "target.make_spectrum().peaks()[1][1]"
   ]
  },
  {
   "cell_type": "markdown",
   "metadata": {},
   "source": [
    "Função utilizada para calcular o MFCC"
   ]
  },
  {
   "cell_type": "code",
   "execution_count": null,
   "metadata": {
    "collapsed": true
   },
   "outputs": [],
   "source": [
    "def getMFCC(y, sr, n_mfcc):\n",
    "    ### MFC ###\n",
    "    # Let's make and display a mel-scaled power (energy-squared) spectrogram\n",
    "    S = librosa.feature.melspectrogram(y, sr=sr, n_mels=128)\n",
    "\n",
    "    # Convert to log scale (dB). We'll use the peak power as reference.\n",
    "    log_S = librosa.logamplitude(S, ref_power=np.max)\n",
    "\n",
    "    ### MFCC ###\n",
    "\n",
    "    # Next, we'll extract the top 13 Mel-frequency cepstral coefficients (MFCCs)\n",
    "    mfcc = librosa.feature.mfcc(S=log_S, n_mfcc=n_mfcc)\n",
    "\n",
    "    return mfcc"
   ]
  },
  {
   "cell_type": "markdown",
   "metadata": {},
   "source": [
    "Função utilizada para calcular a diferença de MFCC"
   ]
  },
  {
   "cell_type": "code",
   "execution_count": null,
   "metadata": {
    "collapsed": true
   },
   "outputs": [],
   "source": [
    "def squared_error(target, generated):\n",
    "    erro = target - generated\n",
    "    squared_error = erro ** 2\n",
    "    return np.sum(squared_error)"
   ]
  },
  {
   "cell_type": "code",
   "execution_count": null,
   "metadata": {
    "collapsed": true
   },
   "outputs": [],
   "source": [
    "def mag_pha_s_error(target, generated):\n",
    "    partitions = 11\n",
    "    # obtendo os parametros\n",
    "    target_spectrum = target.make_spectrum()\n",
    "    target_pha = target_spectrum.angles\n",
    "    target_mag = np.absolute(target_spectrum.hs)\n",
    "    generated_spectrum = generated.make_spectrum()\n",
    "    generated_pha = generated_spectrum.angles\n",
    "    generated_mag = np.absolute(generated_spectrum.hs)\n",
    "    \n",
    "    # dividindo em bandas(partitions)\n",
    "    target_pha_bin    = np.array(np.array_split(target_pha,partitions,axis=0))\n",
    "    generated_pha_bin = np.array(np.array_split(generated_pha,partitions,axis=0))\n",
    "    target_mag_bin    = np.array(np.array_split(target_mag,partitions,axis=0))\n",
    "    generated_mag_bin = np.array(np.array_split(generated_mag,partitions,axis=0))\n",
    "    \n",
    "    pha_error = ((target_pha_bin - generated_pha_bin)**2).mean(axis=1)\n",
    "    mag_error = ((target_mag_bin - generated_mag_bin)**2).mean(axis=1)\n",
    "    \n",
    "    pha_error_norm = pha_error/pha_error.max()\n",
    "    mag_error_norm = mag_error/mag_error.max()\n",
    "    \n",
    "    pha_sme = pha_error_norm.mean()\n",
    "    mag_sme = mag_error_norm.mean()\n",
    "    \n",
    "    return (pha_sme + mag_sme)/2"
   ]
  },
  {
   "cell_type": "code",
   "execution_count": null,
   "metadata": {
    "collapsed": true
   },
   "outputs": [],
   "source": [
    "def mag_fre_s_error(target, generated):\n",
    "    target_peaks = np.array(target.make_spectrum().peaks())\n",
    "    generated_peaks = np.array(generated.make_spectrum().peaks())\n",
    "    mag_sme,fre_sme=((target_peaks - generated_peaks)**2).mean(axis=0)\n",
    "    \n",
    "    return mag_sme, fre_sme"
   ]
  },
  {
   "cell_type": "code",
   "execution_count": null,
   "metadata": {},
   "outputs": [],
   "source": [
    "def features_diff(target,generated):\n",
    "    diff = extract_features(target)-extract_features(generated)\n",
    "    return ((diff/diff.max())**2).mean(axis=0)"
   ]
  },
  {
   "cell_type": "code",
   "execution_count": null,
   "metadata": {
    "collapsed": true
   },
   "outputs": [],
   "source": [
    "f = target.make_spectrum().peaks()[1][1]"
   ]
  },
  {
   "cell_type": "markdown",
   "metadata": {},
   "source": [
    "A seguir iremos realizar as configurações para executar a Programação Genética com **DEAP**"
   ]
  },
  {
   "cell_type": "code",
   "execution_count": null,
   "metadata": {
    "collapsed": true
   },
   "outputs": [],
   "source": [
    "# Define new functions\n",
    "\n",
    "pset = gp.PrimitiveSet(\"MAIN\", 2)\n",
    "pset.addPrimitive(operator.add, 2)\n",
    "pset.addPrimitive(operator.mul, 2)\n",
    "pset.addPrimitive(math.sin, 1)\n",
    "pset.addTerminal(2*pi)\n",
    "pset.addEphemeralConstant(\"rand101\", lambda: random.randint(-1, 1))\n",
    "pset.addEphemeralConstant(\"rand\", lambda: random.randint(100, 1000))\n",
    "pset.renameArguments(ARG0='t')\n",
    "pset.renameArguments(ARG1='f')"
   ]
  },
  {
   "cell_type": "code",
   "execution_count": null,
   "metadata": {
    "collapsed": true
   },
   "outputs": [],
   "source": [
    "creator.create(\"FitnessMin\", base.Fitness, weights=(-1.0,))\n",
    "creator.create(\"Individual\", gp.PrimitiveTree, fitness=creator.FitnessMin)\n",
    "\n",
    "#import multiprocessing\n",
    "\n",
    "toolbox = base.Toolbox()\n",
    "#pool = multiprocessing.Pool()\n",
    "#toolbox.register(\"map\", pool.map)\n",
    "toolbox.register(\"expr\", gp.genHalfAndHalf, pset=pset, min_=1, max_=2)\n",
    "toolbox.register(\"individual\", tools.initIterate, creator.Individual, toolbox.expr)\n",
    "toolbox.register(\"population\", tools.initRepeat, list, toolbox.individual)\n",
    "toolbox.register(\"compile\", gp.compile, pset=pset)"
   ]
  },
  {
   "cell_type": "code",
   "execution_count": null,
   "metadata": {
    "collapsed": true
   },
   "outputs": [],
   "source": [
    "# Funcao para calculo de fitness\n",
    "def evalSymbReg(individual, target):\n",
    "    # Transform the tree expression in a callable function\n",
    "    func = toolbox.compile(expr=individual)\n",
    "    # Evaluate the mean squared error between the expression\n",
    "    # and the real function : x**4 + x**3 + x**2 + x\n",
    "    gen_ys = np.array([func(x,f) for x in t])\n",
    "    gen_sr = target.framerate\n",
    "    generated = thinkdsp.Wave(ys=gen_ys,framerate=gen_sr)\n",
    "\n",
    "    #gen_mfcc = getMFCC(gen_ys, gen_sr, False)\n",
    "    #target_mfcc = getMFCC(target.ys, target.framerate, False)\n",
    "    #result = mfcc_squared_error(gen_mfcc,target_mfcc)\n",
    "    #result = mfcc_squared_error(gen_ys,target.ys)\n",
    "    #result = mag_pha_s_error(target,generated)\n",
    "    result = features_diff(target,generated)\n",
    "    return result,"
   ]
  },
  {
   "cell_type": "code",
   "execution_count": null,
   "metadata": {
    "collapsed": true
   },
   "outputs": [],
   "source": [
    "toolbox.register(\"evaluate\", evalSymbReg, target=target)\n",
    "# toolbox.register(\"evaluate\", evalSymbReg, points=[x/10. for x in range(-10,10)])\n",
    "toolbox.register(\"select\", tools.selTournament, tournsize=10)\n",
    "toolbox.register(\"mate\", gp.cxOnePoint)\n",
    "toolbox.register(\"expr_mut\", gp.genFull, min_=0, max_=4)\n",
    "toolbox.register(\"mutate\", gp.mutUniform, expr=toolbox.expr_mut, pset=pset)\n",
    "\n",
    "toolbox.decorate(\"mate\", gp.staticLimit(key=operator.attrgetter(\"height\"), max_value=50))\n",
    "toolbox.decorate(\"mutate\", gp.staticLimit(key=operator.attrgetter(\"height\"), max_value=50))"
   ]
  },
  {
   "cell_type": "markdown",
   "metadata": {},
   "source": [
    "Com tudo configurado agora é possivel criar a função que irá realizar a execução do algoritmo"
   ]
  },
  {
   "cell_type": "code",
   "execution_count": null,
   "metadata": {
    "collapsed": true
   },
   "outputs": [],
   "source": [
    "def main():\n",
    "    random.seed(random.randint(1,100))\n",
    "\n",
    "    pop = toolbox.population(n=500)\n",
    "    hof = tools.HallOfFame(1)\n",
    "\n",
    "    # CXPB  - Probabilidade de crossover\n",
    "    # MUTPB - Probabilidade de mutação\n",
    "    # NGEN  - Numero de gerações\n",
    "    CXPB, MUTPB, NGEN = 0.75, 0.12, 20\n",
    "\n",
    "    stats_fit = tools.Statistics(lambda ind: ind.fitness.values)\n",
    "    stats_size = tools.Statistics(len)\n",
    "    mstats = tools.MultiStatistics(fitness=stats_fit, size=stats_size)\n",
    "    mstats.register(\"avg\", np.mean)\n",
    "    mstats.register(\"std\", np.std)\n",
    "    mstats.register(\"min\", np.min)\n",
    "    mstats.register(\"max\", np.max)\n",
    "\n",
    "    pop, log = algorithms.eaSimple(pop, toolbox, CXPB, MUTPB, NGEN, stats=mstats,halloffame=hof, verbose=True)\n",
    "    #pop, log = algorithms.eaMuCommaLambda(population=pop, \n",
    "    #                                      toolbox=toolbox, \n",
    "    #                                      mu=200, \n",
    "    #                                      lambda_=200, \n",
    "    #                                      cxpb=CXPB, \n",
    "    #                                      mutpb=MUTPB, \n",
    "    #                                      ngen=NGEN, \n",
    "    #                                      stats=mstats,\n",
    "    #                                      halloffame=hof, \n",
    "    #                                      verbose=True)\n",
    "    # pop, log = gp.harm(pop, toolbox, 0.5, 0.1, 40, alpha=0.05, beta=10, gamma=0.25, rho=0.9, stats=mstats,\n",
    "    #                   halloffame=hof, verbose=True)\n",
    "    # print log\n",
    "    return pop, log, hof"
   ]
  },
  {
   "cell_type": "code",
   "execution_count": null,
   "metadata": {},
   "outputs": [],
   "source": [
    "pop, log, hof = main()"
   ]
  },
  {
   "cell_type": "markdown",
   "metadata": {},
   "source": [
    "Agora é possível realizar a comparação das ondas"
   ]
  },
  {
   "cell_type": "code",
   "execution_count": null,
   "metadata": {},
   "outputs": [],
   "source": [
    "target.make_audio()"
   ]
  },
  {
   "cell_type": "code",
   "execution_count": null,
   "metadata": {},
   "outputs": [],
   "source": [
    "function = gp.compile(hof[0],pset)\n",
    "gen_ys = np.array([function(x,f) for x in t])\n",
    "gen_sr = target.framerate\n",
    "generated = thinkdsp.Wave(ys=gen_ys,framerate=gen_sr)\n",
    "generated.plot()\n",
    "print(str(hof[0]))\n",
    "generated.make_audio()"
   ]
  },
  {
   "cell_type": "markdown",
   "metadata": {},
   "source": [
    "# MELHORES EQUACOES ENCONTRADAS  \n",
    "- mul(add(x, x), sin(mul(3.141592653589793, sin(mul(3.141592653589793, sin(mul(2453.6376519837113, x)))))))  \n",
    "- mul(add(mul(sin(t), mul(mul(t, mul(-841, 3.141592653589793)), 3.141592653589793)), 980), sin(mul(3.141592653589793, add(mul(35, add(add(mul(t, mul(-841, 3.141592653589793)), mul(t, 3.141592653589793)), mul(t, 3.141592653589793))), mul(3.141592653589793, 35)))))  \n",
    "- sin(mul(mul(29, -1), add(mul(t, f), mul(mul(29, -1), t))))\n",
    "- sin(add(mul(mul(12, f), add(add(sin(add(add(sin(12), t), 12)), t), t)), add(f, 3.141592653589793)))  \n",
    "- add(sin(mul(mul(sin(1), 739), t)), mul(sin(mul(mul(t, 739), 739)), mul(mul(t, mul(add(mul(sin(sin(t)), -1), mul(t, 6.283185307179586)), sin(add(sin(mul(mul(sin(t), sin(358)), mul(sin(6.283185307179586), mul(652, 470)))), f)))), 739)))"
   ]
  },
  {
   "cell_type": "code",
   "execution_count": null,
   "metadata": {
    "collapsed": true
   },
   "outputs": [],
   "source": [
    "def plot_log(logbook,title):\n",
    "    \"\"\"Funcao auxiliar para plotar gráfico\"\"\"\n",
    "    gen = logbook.select(\"gen\")\n",
    "    min = logbook.chapters[\"fitness\"].select(\"min\")\n",
    "    avg = logbook.chapters[\"fitness\"].select(\"avg\")\n",
    "    max = logbook.chapters[\"fitness\"].select(\"max\")\n",
    "    \n",
    "    fig, ax1 = plt.subplots()\n",
    "    ax1.set_xlabel(\"Geração\")\n",
    "    ax1.set_ylabel(\"Fitness\", color=\"b\")\n",
    "    \n",
    "    line1 = ax1.plot(gen, min, \"b-\", label=\"Mínimo\")\n",
    "    line2 = ax1.plot(gen, avg, \"g-\", label=\"Médio\")\n",
    "    line3 = ax1.plot(gen, max, \"y-\", label=\"Máximo\")\n",
    "\n",
    "    lns = line3 + line2 + line1\n",
    "    labs = [l.get_label() for l in lns]\n",
    "    ax1.legend(lns, labs, loc=4)\n",
    "    \n",
    "    fig.set_size_inches(15, 5, forward=True)\n",
    "\n",
    "    plt.show()"
   ]
  },
  {
   "cell_type": "code",
   "execution_count": null,
   "metadata": {},
   "outputs": [],
   "source": [
    "plot_log(log,'aaa')"
   ]
  },
  {
   "cell_type": "code",
   "execution_count": null,
   "metadata": {},
   "outputs": [],
   "source": [
    "target.plot()"
   ]
  },
  {
   "cell_type": "code",
   "execution_count": null,
   "metadata": {},
   "outputs": [],
   "source": [
    "target.normalize()\n",
    "target.plot()"
   ]
  },
  {
   "cell_type": "code",
   "execution_count": null,
   "metadata": {},
   "outputs": [],
   "source": [
    "n = target.normalize()\n",
    "n.plot()"
   ]
  },
  {
   "cell_type": "code",
   "execution_count": null,
   "metadata": {
    "collapsed": true
   },
   "outputs": [],
   "source": [
    "import time\n",
    "time.time()"
   ]
  },
  {
   "cell_type": "code",
   "execution_count": null,
   "metadata": {
    "collapsed": true
   },
   "outputs": [],
   "source": []
  }
 ],
 "metadata": {
  "kernelspec": {
   "display_name": "Python 3",
   "language": "python",
   "name": "python3"
  },
  "language_info": {
   "codemirror_mode": {
    "name": "ipython",
    "version": 3
   },
   "file_extension": ".py",
   "mimetype": "text/x-python",
   "name": "python",
   "nbconvert_exporter": "python",
   "pygments_lexer": "ipython3",
   "version": "3.6.1"
  }
 },
 "nbformat": 4,
 "nbformat_minor": 1
}
