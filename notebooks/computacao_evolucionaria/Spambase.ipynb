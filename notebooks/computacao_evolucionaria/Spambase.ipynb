{
 "cells": [
  {
   "cell_type": "code",
   "execution_count": 1,
   "metadata": {
    "collapsed": true
   },
   "outputs": [],
   "source": [
    "#    This file is part of EAP.\n",
    "#\n",
    "#    EAP is free software: you can redistribute it and/or modify\n",
    "#    it under the terms of the GNU Lesser General Public License as\n",
    "#    published by the Free Software Foundation, either version 3 of\n",
    "#    the License, or (at your option) any later version.\n",
    "#\n",
    "#    EAP is distributed in the hope that it will be useful,\n",
    "#    but WITHOUT ANY WARRANTY; without even the implied warranty of\n",
    "#    MERCHANTABILITY or FITNESS FOR A PARTICULAR PURPOSE. See the\n",
    "#    GNU Lesser General Public License for more details.\n",
    "#\n",
    "#    You should have received a copy of the GNU Lesser General Public\n",
    "#    License along with EAP. If not, see <http://www.gnu.org/licenses/>.\n",
    "\n",
    "import random\n",
    "import operator\n",
    "import csv\n",
    "import itertools\n",
    "\n",
    "import numpy\n",
    "\n",
    "from deap import algorithms\n",
    "from deap import base\n",
    "from deap import creator\n",
    "from deap import tools\n",
    "from deap import gp\n",
    "\n",
    "# Read the spam list features and put it in a list of lists.\n",
    "# The dataset is from http://archive.ics.uci.edu/ml/datasets/Spambase\n",
    "# This example is a copy of the OpenBEAGLE example :\n",
    "# http://beagle.gel.ulaval.ca/refmanual/beagle/html/d2/dbe/group__Spambase.html\n",
    "with open(\"spambase.csv\") as spambase:\n",
    "    spamReader = csv.reader(spambase)\n",
    "    spam = list(list(float(elem) for elem in row) for row in spamReader)\n",
    "\n",
    "# defined a new primitive set for strongly typed GP\n",
    "pset = gp.PrimitiveSetTyped(\"MAIN\", itertools.repeat(float, 57), bool, \"IN\")\n",
    "\n",
    "# boolean operators\n",
    "pset.addPrimitive(operator.and_, [bool, bool], bool)\n",
    "pset.addPrimitive(operator.or_, [bool, bool], bool)\n",
    "pset.addPrimitive(operator.not_, [bool], bool)\n",
    "\n",
    "# floating point operators\n",
    "# Define a protected division function\n",
    "def protectedDiv(left, right):\n",
    "    try: return left / right\n",
    "    except ZeroDivisionError: return 1\n",
    "\n",
    "pset.addPrimitive(operator.add, [float,float], float)\n",
    "pset.addPrimitive(operator.sub, [float,float], float)\n",
    "pset.addPrimitive(operator.mul, [float,float], float)\n",
    "pset.addPrimitive(protectedDiv, [float,float], float)\n",
    "\n",
    "# logic operators\n",
    "# Define a new if-then-else function\n",
    "def if_then_else(input, output1, output2):\n",
    "    if input: return output1\n",
    "    else: return output2\n",
    "\n",
    "pset.addPrimitive(operator.lt, [float, float], bool)\n",
    "pset.addPrimitive(operator.eq, [float, float], bool)\n",
    "pset.addPrimitive(if_then_else, [bool, float, float], float)\n",
    "\n",
    "# terminals\n",
    "pset.addEphemeralConstant(\"rand100\", lambda: random.random() * 100, float)\n",
    "pset.addTerminal(False, bool)\n",
    "pset.addTerminal(True, bool)\n",
    "\n",
    "creator.create(\"FitnessMax\", base.Fitness, weights=(1.0,))\n",
    "creator.create(\"Individual\", gp.PrimitiveTree, fitness=creator.FitnessMax)\n",
    "\n",
    "toolbox = base.Toolbox()\n",
    "toolbox.register(\"expr\", gp.genHalfAndHalf, pset=pset, min_=1, max_=2)\n",
    "toolbox.register(\"individual\", tools.initIterate, creator.Individual, toolbox.expr)\n",
    "toolbox.register(\"population\", tools.initRepeat, list, toolbox.individual)\n",
    "toolbox.register(\"compile\", gp.compile, pset=pset)\n",
    "\n",
    "def evalSpambase(individual):\n",
    "    # Transform the tree expression in a callable function\n",
    "    func = toolbox.compile(expr=individual)\n",
    "    # Randomly sample 400 mails in the spam database\n",
    "    spam_samp = random.sample(spam, 400)\n",
    "    # Evaluate the sum of correctly identified mail as spam\n",
    "    result = sum(bool(func(*mail[:57])) is bool(mail[57]) for mail in spam_samp)\n",
    "    return result,\n",
    "    \n",
    "toolbox.register(\"evaluate\", evalSpambase)\n",
    "toolbox.register(\"select\", tools.selTournament, tournsize=10)\n",
    "toolbox.register(\"mate\", gp.cxOnePoint)\n",
    "toolbox.register(\"expr_mut\", gp.genFull, min_=0, max_=2)\n",
    "toolbox.register(\"mutate\", gp.mutUniform, expr=toolbox.expr_mut, pset=pset)\n",
    "\n",
    "toolbox.decorate(\"mate\", gp.staticLimit(key=operator.attrgetter(\"height\"), max_value=50))\n",
    "toolbox.decorate(\"mutate\", gp.staticLimit(key=operator.attrgetter(\"height\"), max_value=50))\n",
    "\n",
    "def main():\n",
    "    random.seed(10)\n",
    "    pop = toolbox.population(n=100)\n",
    "    hof = tools.HallOfFame(1)\n",
    "    stats = tools.Statistics(lambda ind: ind.fitness.values)\n",
    "    stats.register(\"avg\", numpy.mean)\n",
    "    stats.register(\"std\", numpy.std)\n",
    "    stats.register(\"min\", numpy.min)\n",
    "    stats.register(\"max\", numpy.max)\n",
    "    \n",
    "    algorithms.eaSimple(pop, toolbox, 0.5, 0.2, 40, stats, halloffame=hof)\n",
    "\n",
    "    return pop, stats, hof"
   ]
  },
  {
   "cell_type": "code",
   "execution_count": 2,
   "metadata": {},
   "outputs": [
    {
     "name": "stdout",
     "output_type": "stream",
     "text": [
      "gen\tnevals\tavg  \tstd    \tmin\tmax\n",
      "0  \t100   \t204.9\t48.1299\t109\t318\n",
      "1  \t49    \t235.1\t42.0301\t82 \t318\n",
      "2  \t69    \t254.54\t34.3582\t151\t336\n",
      "3  \t57    \t257.46\t45.3196\t112\t336\n",
      "4  \t70    \t267.03\t42.8344\t88 \t324\n",
      "5  \t64    \t272.46\t39.2162\t160\t333\n",
      "6  \t64    \t271.09\t45.2213\t137\t333\n",
      "7  \t55    \t285.92\t34.4766\t170\t324\n",
      "8  \t55    \t288.52\t43.0392\t85 \t331\n",
      "9  \t55    \t292.63\t43.2217\t113\t331\n",
      "10 \t67    \t290.42\t45.8321\t85 \t332\n",
      "11 \t67    \t294.45\t38.3967\t158\t332\n",
      "12 \t51    \t299.98\t40.9575\t131\t338\n",
      "13 \t50    \t299.7 \t42.4809\t142\t338\n",
      "14 \t58    \t298.22\t47.5312\t149\t340\n",
      "15 \t59    \t303.18\t39.4972\t171\t338\n",
      "16 \t59    \t309.77\t30.5394\t205\t338\n",
      "17 \t64    \t305.54\t41.6044\t137\t338\n",
      "18 \t61    \t305.45\t41.5007\t147\t338\n",
      "19 \t61    \t306.78\t41.1817\t141\t338\n",
      "20 \t56    \t313.13\t33.6169\t127\t338\n",
      "21 \t63    \t310.77\t27.9359\t173\t338\n",
      "22 \t54    \t313.45\t30.2107\t157\t338\n",
      "23 \t57    \t314.73\t31.384 \t149\t338\n",
      "24 \t65    \t308.88\t37.2264\t149\t338\n",
      "25 \t66    \t315   \t27.088 \t167\t341\n",
      "26 \t62    \t308.71\t38.6151\t89 \t341\n",
      "27 \t45    \t316.48\t30.2693\t157\t341\n",
      "28 \t61    \t311.35\t39.1393\t161\t341\n",
      "29 \t66    \t312.15\t30.9381\t177\t341\n",
      "30 \t71    \t307.58\t34.6985\t112\t339\n",
      "31 \t56    \t317.23\t28.6331\t108\t341\n",
      "32 \t56    \t318.38\t27.7419\t132\t341\n",
      "33 \t67    \t316.14\t31.2925\t157\t341\n",
      "34 \t54    \t323.28\t20.4456\t158\t341\n",
      "35 \t65    \t321.2 \t26.5036\t159\t343\n",
      "36 \t56    \t319.5 \t30.169 \t114\t343\n",
      "37 \t64    \t319.2 \t28.6014\t154\t343\n",
      "38 \t61    \t316.17\t32.9506\t126\t343\n",
      "39 \t71    \t313.89\t31.2208\t160\t346\n",
      "40 \t59    \t319.68\t22.9163\t224\t344\n"
     ]
    }
   ],
   "source": [
    "pop, stats, hof = main()"
   ]
  },
  {
   "cell_type": "code",
   "execution_count": 3,
   "metadata": {},
   "outputs": [
    {
     "data": {
      "text/plain": [
       "'lt(mul(if_then_else(False, IN14, IN24), add(IN49, add(sub(IN56, IN36), if_then_else(True, IN53, IN12)))), IN52)'"
      ]
     },
     "execution_count": 3,
     "metadata": {},
     "output_type": "execute_result"
    }
   ],
   "source": [
    "str(hof[0])"
   ]
  },
  {
   "cell_type": "code",
   "execution_count": 8,
   "metadata": {},
   "outputs": [
    {
     "data": {
      "text/plain": [
       "331"
      ]
     },
     "execution_count": 8,
     "metadata": {},
     "output_type": "execute_result"
    }
   ],
   "source": [
    "func = toolbox.compile(hof[0])\n",
    "spam_samp = random.sample(spam, 400)\n",
    "result = sum(bool(func(*mail[:57])) is bool(mail[57]) for mail in spam_samp)\n",
    "result"
   ]
  },
  {
   "cell_type": "code",
   "execution_count": null,
   "metadata": {
    "collapsed": true
   },
   "outputs": [],
   "source": []
  }
 ],
 "metadata": {
  "kernelspec": {
   "display_name": "Python 3",
   "language": "python",
   "name": "python3"
  },
  "language_info": {
   "codemirror_mode": {
    "name": "ipython",
    "version": 3
   },
   "file_extension": ".py",
   "mimetype": "text/x-python",
   "name": "python",
   "nbconvert_exporter": "python",
   "pygments_lexer": "ipython3",
   "version": "3.6.1"
  }
 },
 "nbformat": 4,
 "nbformat_minor": 2
}
