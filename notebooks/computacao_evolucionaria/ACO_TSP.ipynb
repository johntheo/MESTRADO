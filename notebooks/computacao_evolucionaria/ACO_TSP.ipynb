{
 "cells": [
  {
   "cell_type": "markdown",
   "metadata": {},
   "source": [
    "# Problema do Caixeiro Viajante(TSP) com ACO\n",
    "Na indiústria de equipamentos eletrônicos há um problema bastante usual que é a determinação da sequência de furação de uma placa de circuito impresso (*Printed Circuit Board* - PCB). Para agilizar a produção em massa de placas é necessário que o processo de furação seja o mais rápido possível e em uma placa com alta densidade de furos, o somatório dos tempos de deslocamento da furadeira entra cada furo pode ser muito significativo. Assim, é necessário otimizar o trajeto da furadeira de maneira tal a apassar poro todos os furos uma única vez com o menor deslocamento possível.  \n",
    "\n",
    "Este problema real pode ser tratado como o problema clássico do Caixeiro Viajante(TSP) simétrico(a distância entre os pontos não depende do sentido de deslocamento).  \n",
    "\n",
    "Com base na planilha que contém a localização de cada furo(**planilha-pcb-2017.xls**)será implementado em Python (https://github.com/ppoffice/ant-colony-tsp)"
   ]
  },
  {
   "cell_type": "code",
   "execution_count": 19,
   "metadata": {},
   "outputs": [],
   "source": [
    "%matplotlib notebook\n",
    "import math\n",
    "import numpy as np\n",
    "import time as time\n",
    "from aco import ACO, Graph\n",
    "from plot import plot\n",
    "from random import shuffle\n"
   ]
  },
  {
   "cell_type": "markdown",
   "metadata": {},
   "source": [
    "Importando os dados do arquivo para gerar o mundo que o algortimo se propoe a resolver.  \n",
    "Esse mundo é composto dos *nodes*(furos da placa) e da função de custo que deve aceitar dois nodes e calcular o custo associado a eles."
   ]
  },
  {
   "cell_type": "code",
   "execution_count": 20,
   "metadata": {},
   "outputs": [],
   "source": [
    "#Leitura dos dados\n",
    "nodes = np.genfromtxt('planilha-pcb-2017.txt',delimiter=',').tolist()\n",
    "shuffle(nodes)\n",
    "\n",
    "#Tamanho do set\n",
    "rank = len(nodes)\n",
    "\n",
    "#Função de custo é a própria distância euclideana\n",
    "def euclidean(a, b):\n",
    "    return math.sqrt(pow(a[1] - b[1], 2) + pow(a[0] - b[0], 2))"
   ]
  },
  {
   "cell_type": "markdown",
   "metadata": {},
   "source": [
    "A lib utilizada para esse experimento utiliza um grafo com os custos. É um grafo totalemtente conectado, ou seja, todos os pontos se conectam com todos os pontos. A seguir fazemos a carga desse grafo"
   ]
  },
  {
   "cell_type": "code",
   "execution_count": 21,
   "metadata": {
    "collapsed": true
   },
   "outputs": [],
   "source": [
    "cost_matrix = [[euclidean(i,j) for i in nodes ]for j in nodes]\n",
    "graph = Graph(cost_matrix, rank)"
   ]
  },
  {
   "cell_type": "markdown",
   "metadata": {},
   "source": [
    "A seguir intanciamos e executamos uma configuração do ACO"
   ]
  },
  {
   "cell_type": "code",
   "execution_count": 43,
   "metadata": {},
   "outputs": [
    {
     "name": "stderr",
     "output_type": "stream",
     "text": [
      "C:\\repo\\MESTRADO\\notebooks\\computacao_evolucionaria\\aco.py:93: RuntimeWarning: invalid value encountered in double_scalars\n",
      "  self.eta[self.current][i] ** self.colony.beta / denominator\n"
     ]
    },
    {
     "ename": "ValueError",
     "evalue": "list.remove(x): x not in list",
     "output_type": "error",
     "traceback": [
      "\u001b[0;31m---------------------------------------------------------------------------\u001b[0m",
      "\u001b[0;31mValueError\u001b[0m                                Traceback (most recent call last)",
      "\u001b[0;32m<ipython-input-43-b68fd4dd0d78>\u001b[0m in \u001b[0;36m<module>\u001b[0;34m()\u001b[0m\n\u001b[1;32m     10\u001b[0m \"\"\"\n\u001b[1;32m     11\u001b[0m \u001b[0maco\u001b[0m \u001b[1;33m=\u001b[0m \u001b[0mACO\u001b[0m\u001b[1;33m(\u001b[0m\u001b[0mant_count\u001b[0m\u001b[1;33m=\u001b[0m\u001b[1;36m30\u001b[0m\u001b[1;33m,\u001b[0m \u001b[0mgenerations\u001b[0m\u001b[1;33m=\u001b[0m\u001b[1;36m100\u001b[0m\u001b[1;33m,\u001b[0m \u001b[0malpha\u001b[0m\u001b[1;33m=\u001b[0m\u001b[1;36m1.0\u001b[0m\u001b[1;33m,\u001b[0m \u001b[0mbeta\u001b[0m\u001b[1;33m=\u001b[0m\u001b[1;36m10.0\u001b[0m\u001b[1;33m,\u001b[0m \u001b[0mrho\u001b[0m\u001b[1;33m=\u001b[0m\u001b[1;36m0.1\u001b[0m\u001b[1;33m,\u001b[0m \u001b[0mq\u001b[0m\u001b[1;33m=\u001b[0m\u001b[1;36m10\u001b[0m\u001b[1;33m,\u001b[0m \u001b[0mstrategy\u001b[0m\u001b[1;33m=\u001b[0m\u001b[1;36m2\u001b[0m\u001b[1;33m)\u001b[0m\u001b[1;33m\u001b[0m\u001b[0m\n\u001b[0;32m---> 12\u001b[0;31m \u001b[0mpath\u001b[0m\u001b[1;33m,\u001b[0m \u001b[0mcost\u001b[0m \u001b[1;33m=\u001b[0m \u001b[0maco\u001b[0m\u001b[1;33m.\u001b[0m\u001b[0msolve\u001b[0m\u001b[1;33m(\u001b[0m\u001b[0mgraph\u001b[0m\u001b[1;33m)\u001b[0m\u001b[1;33m\u001b[0m\u001b[0m\n\u001b[0m\u001b[1;32m     13\u001b[0m \u001b[0mend_time\u001b[0m \u001b[1;33m=\u001b[0m \u001b[0mtime\u001b[0m\u001b[1;33m.\u001b[0m\u001b[0mtime\u001b[0m\u001b[1;33m(\u001b[0m\u001b[1;33m)\u001b[0m \u001b[1;33m-\u001b[0m \u001b[0mstart_time\u001b[0m\u001b[1;33m\u001b[0m\u001b[0m\n",
      "\u001b[0;32mC:\\repo\\MESTRADO\\notebooks\\computacao_evolucionaria\\aco.py\u001b[0m in \u001b[0;36msolve\u001b[0;34m(self, graph)\u001b[0m\n\u001b[1;32m     53\u001b[0m             \u001b[1;32mfor\u001b[0m \u001b[0mant\u001b[0m \u001b[1;32min\u001b[0m \u001b[0mants\u001b[0m\u001b[1;33m:\u001b[0m\u001b[1;33m\u001b[0m\u001b[0m\n\u001b[1;32m     54\u001b[0m                 \u001b[1;32mfor\u001b[0m \u001b[0mi\u001b[0m \u001b[1;32min\u001b[0m \u001b[0mrange\u001b[0m\u001b[1;33m(\u001b[0m\u001b[0mgraph\u001b[0m\u001b[1;33m.\u001b[0m\u001b[0mrank\u001b[0m \u001b[1;33m-\u001b[0m \u001b[1;36m1\u001b[0m\u001b[1;33m)\u001b[0m\u001b[1;33m:\u001b[0m\u001b[1;33m\u001b[0m\u001b[0m\n\u001b[0;32m---> 55\u001b[0;31m                     \u001b[0mant\u001b[0m\u001b[1;33m.\u001b[0m\u001b[0m_select_next\u001b[0m\u001b[1;33m(\u001b[0m\u001b[1;33m)\u001b[0m\u001b[1;33m\u001b[0m\u001b[0m\n\u001b[0m\u001b[1;32m     56\u001b[0m                 \u001b[0mant\u001b[0m\u001b[1;33m.\u001b[0m\u001b[0mtotal_cost\u001b[0m \u001b[1;33m+=\u001b[0m \u001b[0mgraph\u001b[0m\u001b[1;33m.\u001b[0m\u001b[0mmatrix\u001b[0m\u001b[1;33m[\u001b[0m\u001b[0mant\u001b[0m\u001b[1;33m.\u001b[0m\u001b[0mtabu\u001b[0m\u001b[1;33m[\u001b[0m\u001b[1;33m-\u001b[0m\u001b[1;36m1\u001b[0m\u001b[1;33m]\u001b[0m\u001b[1;33m]\u001b[0m\u001b[1;33m[\u001b[0m\u001b[0mant\u001b[0m\u001b[1;33m.\u001b[0m\u001b[0mtabu\u001b[0m\u001b[1;33m[\u001b[0m\u001b[1;36m0\u001b[0m\u001b[1;33m]\u001b[0m\u001b[1;33m]\u001b[0m\u001b[1;33m\u001b[0m\u001b[0m\n\u001b[1;32m     57\u001b[0m                 \u001b[1;32mif\u001b[0m \u001b[0mant\u001b[0m\u001b[1;33m.\u001b[0m\u001b[0mtotal_cost\u001b[0m \u001b[1;33m<\u001b[0m \u001b[0mbest_cost\u001b[0m\u001b[1;33m:\u001b[0m\u001b[1;33m\u001b[0m\u001b[0m\n",
      "\u001b[0;32mC:\\repo\\MESTRADO\\notebooks\\computacao_evolucionaria\\aco.py\u001b[0m in \u001b[0;36m_select_next\u001b[0;34m(self)\u001b[0m\n\u001b[1;32m    102\u001b[0m                 \u001b[0mselected\u001b[0m \u001b[1;33m=\u001b[0m \u001b[0mi\u001b[0m\u001b[1;33m\u001b[0m\u001b[0m\n\u001b[1;32m    103\u001b[0m                 \u001b[1;32mbreak\u001b[0m\u001b[1;33m\u001b[0m\u001b[0m\n\u001b[0;32m--> 104\u001b[0;31m         \u001b[0mself\u001b[0m\u001b[1;33m.\u001b[0m\u001b[0mallowed\u001b[0m\u001b[1;33m.\u001b[0m\u001b[0mremove\u001b[0m\u001b[1;33m(\u001b[0m\u001b[0mselected\u001b[0m\u001b[1;33m)\u001b[0m\u001b[1;33m\u001b[0m\u001b[0m\n\u001b[0m\u001b[1;32m    105\u001b[0m         \u001b[0mself\u001b[0m\u001b[1;33m.\u001b[0m\u001b[0mtabu\u001b[0m\u001b[1;33m.\u001b[0m\u001b[0mappend\u001b[0m\u001b[1;33m(\u001b[0m\u001b[0mselected\u001b[0m\u001b[1;33m)\u001b[0m\u001b[1;33m\u001b[0m\u001b[0m\n\u001b[1;32m    106\u001b[0m         \u001b[0mself\u001b[0m\u001b[1;33m.\u001b[0m\u001b[0mtotal_cost\u001b[0m \u001b[1;33m+=\u001b[0m \u001b[0mself\u001b[0m\u001b[1;33m.\u001b[0m\u001b[0mgraph\u001b[0m\u001b[1;33m.\u001b[0m\u001b[0mmatrix\u001b[0m\u001b[1;33m[\u001b[0m\u001b[0mself\u001b[0m\u001b[1;33m.\u001b[0m\u001b[0mcurrent\u001b[0m\u001b[1;33m]\u001b[0m\u001b[1;33m[\u001b[0m\u001b[0mselected\u001b[0m\u001b[1;33m]\u001b[0m\u001b[1;33m\u001b[0m\u001b[0m\n",
      "\u001b[0;31mValueError\u001b[0m: list.remove(x): x not in list"
     ]
    }
   ],
   "source": [
    "start_time = time.time()\n",
    "\"\"\"\n",
    ":param ant_count:\n",
    ":param generations:\n",
    ":param alpha: relative importance of pheromone\n",
    ":param beta: relative importance of heuristic information\n",
    ":param rho: pheromone residual coefficient\n",
    ":param q: pheromone intensity\n",
    ":param strategy: pheromone update strategy. 0 - ant-cycle, 1 - ant-quality, 2 - ant-density\n",
    "\"\"\"\n",
    "aco = ACO(ant_count=30, generations=100, alpha=1.0, beta=10.0, rho=0.1, q=10, strategy=2)\n",
    "path, cost = aco.solve(graph)\n",
    "end_time = time.time() - start_time"
   ]
  },
  {
   "cell_type": "code",
   "execution_count": null,
   "metadata": {},
   "outputs": [],
   "source": [
    "print('cost: {}, time: {}, path: {}'.format(cost, end_time,  path))\n",
    "plot(nodes, path)"
   ]
  },
  {
   "cell_type": "markdown",
   "metadata": {},
   "source": [
    "Com o intuito de estudar o comportamento do ACO para esse problema, abaixo variamos alguns parâmetros do ACO.  "
   ]
  },
  {
   "cell_type": "markdown",
   "metadata": {},
   "source": [
    "## Tamanho da população\n",
    "Variou-se o tamanho da população e um intervalo determinado para identificar o melhor distancia e o tempo gasto para rodar o algoritmo.\n"
   ]
  },
  {
   "cell_type": "code",
   "execution_count": 32,
   "metadata": {},
   "outputs": [
    {
     "name": "stdout",
     "output_type": "stream",
     "text": [
      "\n",
      "Formigas                 \tTempo                                             \tDistancia                \n",
      "----------------------------------------------------------------------------------------------------\n",
      "                        1\t49.162729024887085                                \t2000.1068064200344       \n",
      "                        6\t169.69266867637634                                \t1922.8243075902585       \n",
      "                       11\t245.4088637828827                                 \t1899.3629054065266       \n",
      "                       16\t307.514447927475                                  \t1881.0471715924054       \n",
      "                       21\t388.67637372016907                                \t1905.892554594869        \n",
      "                       26\t479.2900285720825                                 \t1879.3715267446894       \n",
      "                       31\t569.8003523349762                                 \t1843.0496646140853       \n",
      "                       36\t675.6660778522491                                 \t1842.1338082705201       \n",
      "                       41\t756.3677778244019                                 \t1859.9238271560648       \n",
      "                       46\t859.503338098526                                  \t1860.8225398862826       \n",
      "                       51\t948.3003425598145                                 \t1900.6939811909194       \n",
      "                       56\t1048.4058787822723                                \t1849.8795106132861       \n",
      "                       61\t1165.8886630535126                                \t1872.2619651596144       \n",
      "                       66\t1229.72989320755                                  \t1885.5479699426758       \n",
      "                       71\t1310.6669161319733                                \t1866.6802879482766       \n",
      "                       76\t24037.099157571793                                \t1873.6851060362208       \n",
      "                       81\t1526.4782166481018                                \t1859.8688031178526       \n",
      "                       86\t1628.6868634223938                                \t1875.1558416593716       \n",
      "                       91\t1701.1667816638947                                \t1867.313684853394        \n",
      "                       96\t1831.738355398178                                 \t1876.4449883943666       \n"
     ]
    }
   ],
   "source": [
    "N = np.arange(1,101,5)\n",
    "columns = \"{!s:<25}\\t{:<50}\\t{:<25}\"\n",
    "divider = \"-\" * (25 + 50 + 25)\n",
    "header = columns.format(\"Formigas\",\"Tempo\", \"Distancia\")\n",
    "columns = columns.replace('<', '>', 1)\n",
    "\n",
    "print()\n",
    "print(header)\n",
    "print(divider)\n",
    "\n",
    "results_pop = []\n",
    "for n in N:\n",
    "    start_time = time.time()\n",
    "    aco = ACO(ant_count=n, generations=20, alpha=1.0, beta=5.0, rho=0.8, q=10, strategy=2)\n",
    "    path, cost = aco.solve(graph)\n",
    "    end_time = time.time() - start_time\n",
    "    print(columns.format(n, end_time, cost))\n",
    "    results_pop.append([n,end_time,cost,path])"
   ]
  },
  {
   "cell_type": "markdown",
   "metadata": {},
   "source": [
    "## Gerações"
   ]
  },
  {
   "cell_type": "code",
   "execution_count": 33,
   "metadata": {},
   "outputs": [
    {
     "name": "stdout",
     "output_type": "stream",
     "text": [
      "\n",
      "Gerações                 \tTempo                                             \tDistancia                \n",
      "----------------------------------------------------------------------------------------------------\n",
      "                        1\t9.205644369125366                                 \t1972.214494251884        \n",
      "                        6\t55.70988941192627                                 \t1915.7527527364714       \n",
      "                       11\t102.95006322860718                                \t1890.9280639220142       \n",
      "                       16\t149.76768517494202                                \t1912.982757332536        \n",
      "                       21\t194.30582332611084                                \t1882.801402291658        \n",
      "                       26\t240.7142686843872                                 \t1913.3715096095837       \n",
      "                       31\t286.43787574768066                                \t1892.5127637039834       \n",
      "                       36\t334.77527809143066                                \t1884.9989756143507       \n",
      "                       41\t381.68120670318604                                \t1911.7699653180246       \n",
      "                       46\t427.18407368659973                                \t1890.9469111746223       \n",
      "                       51\t475.35805678367615                                \t1873.5875798826823       \n",
      "                       56\t517.8739020824432                                 \t1871.9643439332322       \n",
      "                       61\t570.5737965106964                                 \t1891.9058769703395       \n",
      "                       66\t616.1680989265442                                 \t1921.091834165347        \n",
      "                       71\t662.4049379825592                                 \t1915.9553767551067       \n",
      "                       76\t708.7606544494629                                 \t1878.4637324967011       \n",
      "                       81\t750.8483963012695                                 \t1893.0985024886731       \n",
      "                       86\t814.8468015193939                                 \t1844.6430959842007       \n",
      "                       91\t846.5362873077393                                 \t1841.481868183713        \n",
      "                       96\t891.7115297317505                                 \t1848.6774187605874       \n"
     ]
    }
   ],
   "source": [
    "N = np.arange(1,101,5)\n",
    "columns = \"{!s:<25}\\t{:<50}\\t{:<25}\"\n",
    "divider = \"-\" * (25 + 50 + 25)\n",
    "header = columns.format(\"Gerações\",\"Tempo\", \"Distancia\")\n",
    "columns = columns.replace('<', '>', 1)\n",
    "\n",
    "print()\n",
    "print(header)\n",
    "print(divider)\n",
    "\n",
    "results_ger = []\n",
    "for n in N:\n",
    "    start_time = time.time()\n",
    "    aco = ACO(ant_count=10, generations=n, alpha=1.0, beta=5.0, rho=0.8, q=10, strategy=2)\n",
    "    path, cost = aco.solve(graph)\n",
    "    end_time = time.time() - start_time\n",
    "    print(columns.format(n, end_time, cost))\n",
    "    results_ger.append([n,end_time,cost,path])"
   ]
  },
  {
   "cell_type": "markdown",
   "metadata": {},
   "source": [
    "## Tempo do feromonio"
   ]
  },
  {
   "cell_type": "code",
   "execution_count": 34,
   "metadata": {},
   "outputs": [
    {
     "name": "stdout",
     "output_type": "stream",
     "text": [
      "\n",
      "Evap. Feromonio          \tTempo                                             \tDistancia                \n",
      "----------------------------------------------------------------------------------------------------\n",
      "                      0.1\t100.85037875175476                                \t1884.6102761078441       \n",
      "                      0.2\t104.26238203048706                                \t1898.516768619044        \n",
      "                      0.3\t101.92535424232483                                \t1903.9737344665102       \n",
      "                      0.4\t100.59638381004333                                \t1901.2895620166553       \n",
      "                      0.5\t102.1123833656311                                 \t1875.922277583089        \n",
      "                      0.6\t102.67437100410461                                \t1905.5017847083423       \n",
      "                      0.7\t100.22438311576843                                \t1934.498894056896        \n",
      "                      0.8\t102.654372215271                                  \t1944.2530817246372       \n",
      "                      0.9\t112.23531103134155                                \t1927.2911538536168       \n",
      "                      1.0\t101.44037652015686                                \t1907.3539440688783       \n"
     ]
    }
   ],
   "source": [
    "N = np.arange(0.1,1.1,0.1)\n",
    "columns = \"{!s:<25}\\t{:<50}\\t{:<25}\"\n",
    "divider = \"-\" * (25 + 50 + 25)\n",
    "header = columns.format(\"Evap. Feromonio\",\"Tempo\", \"Distancia\")\n",
    "columns = columns.replace('<', '>', 1)\n",
    "\n",
    "print()\n",
    "print(header)\n",
    "print(divider)\n",
    "\n",
    "results_fer = []\n",
    "for n in N:\n",
    "    start_time = time.time()\n",
    "    aco = ACO(ant_count=10, generations=10, alpha=1.0, beta=5.0, rho=n, q=10, strategy=2)\n",
    "    path, cost = aco.solve(graph)\n",
    "    end_time = time.time() - start_time\n",
    "    print(columns.format(n, end_time, cost))\n",
    "    results_fer.append([n,end_time,cost,path])"
   ]
  },
  {
   "cell_type": "markdown",
   "metadata": {},
   "source": [
    "## Alpha X Beta"
   ]
  },
  {
   "cell_type": "code",
   "execution_count": 39,
   "metadata": {},
   "outputs": [
    {
     "name": "stdout",
     "output_type": "stream",
     "text": [
      "\n",
      "Alpha               \tBeta                \tTempo                                             \tDistancia                \n",
      "-------------------------------------------------------------------------------------------------------------------\n",
      "                   1\t1                   \t167.23805332183838                                \t2126.902615543122        \n",
      "                   1\t3                   \t160.29008436203003                                \t2039.3297871124537       \n",
      "                   1\t5                   \t167.22299027442932                                \t1977.6466707384218       \n",
      "                   1\t7                   \t159.13943934440613                                \t1942.3332410766805       \n",
      "                   1\t9                   \t166.02905559539795                                \t1946.0427967484625       \n"
     ]
    },
    {
     "name": "stderr",
     "output_type": "stream",
     "text": [
      "C:\\repo\\MESTRADO\\notebooks\\computacao_evolucionaria\\aco.py:93: RuntimeWarning: invalid value encountered in double_scalars\n",
      "  self.eta[self.current][i] ** self.colony.beta / denominator\n"
     ]
    },
    {
     "ename": "ValueError",
     "evalue": "list.remove(x): x not in list",
     "output_type": "error",
     "traceback": [
      "\u001b[0;31m---------------------------------------------------------------------------\u001b[0m",
      "\u001b[0;31mValueError\u001b[0m                                Traceback (most recent call last)",
      "\u001b[0;32m<ipython-input-39-d8f19a213e74>\u001b[0m in \u001b[0;36m<module>\u001b[0;34m()\u001b[0m\n\u001b[1;32m     14\u001b[0m         \u001b[0mstart_time\u001b[0m \u001b[1;33m=\u001b[0m \u001b[0mtime\u001b[0m\u001b[1;33m.\u001b[0m\u001b[0mtime\u001b[0m\u001b[1;33m(\u001b[0m\u001b[1;33m)\u001b[0m\u001b[1;33m\u001b[0m\u001b[0m\n\u001b[1;32m     15\u001b[0m         \u001b[0maco\u001b[0m \u001b[1;33m=\u001b[0m \u001b[0mACO\u001b[0m\u001b[1;33m(\u001b[0m\u001b[0mant_count\u001b[0m\u001b[1;33m=\u001b[0m\u001b[1;36m10\u001b[0m\u001b[1;33m,\u001b[0m \u001b[0mgenerations\u001b[0m\u001b[1;33m=\u001b[0m\u001b[1;36m10\u001b[0m\u001b[1;33m,\u001b[0m \u001b[0malpha\u001b[0m\u001b[1;33m=\u001b[0m\u001b[0ma\u001b[0m\u001b[1;33m,\u001b[0m \u001b[0mbeta\u001b[0m\u001b[1;33m=\u001b[0m\u001b[0mb\u001b[0m\u001b[1;33m,\u001b[0m \u001b[0mrho\u001b[0m\u001b[1;33m=\u001b[0m\u001b[1;36m0.8\u001b[0m\u001b[1;33m,\u001b[0m \u001b[0mq\u001b[0m\u001b[1;33m=\u001b[0m\u001b[1;36m10\u001b[0m\u001b[1;33m,\u001b[0m \u001b[0mstrategy\u001b[0m\u001b[1;33m=\u001b[0m\u001b[1;36m2\u001b[0m\u001b[1;33m)\u001b[0m\u001b[1;33m\u001b[0m\u001b[0m\n\u001b[0;32m---> 16\u001b[0;31m         \u001b[0mpath\u001b[0m\u001b[1;33m,\u001b[0m \u001b[0mcost\u001b[0m \u001b[1;33m=\u001b[0m \u001b[0maco\u001b[0m\u001b[1;33m.\u001b[0m\u001b[0msolve\u001b[0m\u001b[1;33m(\u001b[0m\u001b[0mgraph\u001b[0m\u001b[1;33m)\u001b[0m\u001b[1;33m\u001b[0m\u001b[0m\n\u001b[0m\u001b[1;32m     17\u001b[0m         \u001b[0mend_time\u001b[0m \u001b[1;33m=\u001b[0m \u001b[0mtime\u001b[0m\u001b[1;33m.\u001b[0m\u001b[0mtime\u001b[0m\u001b[1;33m(\u001b[0m\u001b[1;33m)\u001b[0m \u001b[1;33m-\u001b[0m \u001b[0mstart_time\u001b[0m\u001b[1;33m\u001b[0m\u001b[0m\n\u001b[1;32m     18\u001b[0m         \u001b[0mprint\u001b[0m\u001b[1;33m(\u001b[0m\u001b[0mcolumns\u001b[0m\u001b[1;33m.\u001b[0m\u001b[0mformat\u001b[0m\u001b[1;33m(\u001b[0m\u001b[0ma\u001b[0m\u001b[1;33m,\u001b[0m \u001b[0mb\u001b[0m\u001b[1;33m,\u001b[0m \u001b[0mend_time\u001b[0m\u001b[1;33m,\u001b[0m \u001b[0mcost\u001b[0m\u001b[1;33m)\u001b[0m\u001b[1;33m)\u001b[0m\u001b[1;33m\u001b[0m\u001b[0m\n",
      "\u001b[0;32mC:\\repo\\MESTRADO\\notebooks\\computacao_evolucionaria\\aco.py\u001b[0m in \u001b[0;36msolve\u001b[0;34m(self, graph)\u001b[0m\n\u001b[1;32m     53\u001b[0m             \u001b[1;32mfor\u001b[0m \u001b[0mant\u001b[0m \u001b[1;32min\u001b[0m \u001b[0mants\u001b[0m\u001b[1;33m:\u001b[0m\u001b[1;33m\u001b[0m\u001b[0m\n\u001b[1;32m     54\u001b[0m                 \u001b[1;32mfor\u001b[0m \u001b[0mi\u001b[0m \u001b[1;32min\u001b[0m \u001b[0mrange\u001b[0m\u001b[1;33m(\u001b[0m\u001b[0mgraph\u001b[0m\u001b[1;33m.\u001b[0m\u001b[0mrank\u001b[0m \u001b[1;33m-\u001b[0m \u001b[1;36m1\u001b[0m\u001b[1;33m)\u001b[0m\u001b[1;33m:\u001b[0m\u001b[1;33m\u001b[0m\u001b[0m\n\u001b[0;32m---> 55\u001b[0;31m                     \u001b[0mant\u001b[0m\u001b[1;33m.\u001b[0m\u001b[0m_select_next\u001b[0m\u001b[1;33m(\u001b[0m\u001b[1;33m)\u001b[0m\u001b[1;33m\u001b[0m\u001b[0m\n\u001b[0m\u001b[1;32m     56\u001b[0m                 \u001b[0mant\u001b[0m\u001b[1;33m.\u001b[0m\u001b[0mtotal_cost\u001b[0m \u001b[1;33m+=\u001b[0m \u001b[0mgraph\u001b[0m\u001b[1;33m.\u001b[0m\u001b[0mmatrix\u001b[0m\u001b[1;33m[\u001b[0m\u001b[0mant\u001b[0m\u001b[1;33m.\u001b[0m\u001b[0mtabu\u001b[0m\u001b[1;33m[\u001b[0m\u001b[1;33m-\u001b[0m\u001b[1;36m1\u001b[0m\u001b[1;33m]\u001b[0m\u001b[1;33m]\u001b[0m\u001b[1;33m[\u001b[0m\u001b[0mant\u001b[0m\u001b[1;33m.\u001b[0m\u001b[0mtabu\u001b[0m\u001b[1;33m[\u001b[0m\u001b[1;36m0\u001b[0m\u001b[1;33m]\u001b[0m\u001b[1;33m]\u001b[0m\u001b[1;33m\u001b[0m\u001b[0m\n\u001b[1;32m     57\u001b[0m                 \u001b[1;32mif\u001b[0m \u001b[0mant\u001b[0m\u001b[1;33m.\u001b[0m\u001b[0mtotal_cost\u001b[0m \u001b[1;33m<\u001b[0m \u001b[0mbest_cost\u001b[0m\u001b[1;33m:\u001b[0m\u001b[1;33m\u001b[0m\u001b[0m\n",
      "\u001b[0;32mC:\\repo\\MESTRADO\\notebooks\\computacao_evolucionaria\\aco.py\u001b[0m in \u001b[0;36m_select_next\u001b[0;34m(self)\u001b[0m\n\u001b[1;32m    102\u001b[0m                 \u001b[0mselected\u001b[0m \u001b[1;33m=\u001b[0m \u001b[0mi\u001b[0m\u001b[1;33m\u001b[0m\u001b[0m\n\u001b[1;32m    103\u001b[0m                 \u001b[1;32mbreak\u001b[0m\u001b[1;33m\u001b[0m\u001b[0m\n\u001b[0;32m--> 104\u001b[0;31m         \u001b[0mself\u001b[0m\u001b[1;33m.\u001b[0m\u001b[0mallowed\u001b[0m\u001b[1;33m.\u001b[0m\u001b[0mremove\u001b[0m\u001b[1;33m(\u001b[0m\u001b[0mselected\u001b[0m\u001b[1;33m)\u001b[0m\u001b[1;33m\u001b[0m\u001b[0m\n\u001b[0m\u001b[1;32m    105\u001b[0m         \u001b[0mself\u001b[0m\u001b[1;33m.\u001b[0m\u001b[0mtabu\u001b[0m\u001b[1;33m.\u001b[0m\u001b[0mappend\u001b[0m\u001b[1;33m(\u001b[0m\u001b[0mselected\u001b[0m\u001b[1;33m)\u001b[0m\u001b[1;33m\u001b[0m\u001b[0m\n\u001b[1;32m    106\u001b[0m         \u001b[0mself\u001b[0m\u001b[1;33m.\u001b[0m\u001b[0mtotal_cost\u001b[0m \u001b[1;33m+=\u001b[0m \u001b[0mself\u001b[0m\u001b[1;33m.\u001b[0m\u001b[0mgraph\u001b[0m\u001b[1;33m.\u001b[0m\u001b[0mmatrix\u001b[0m\u001b[1;33m[\u001b[0m\u001b[0mself\u001b[0m\u001b[1;33m.\u001b[0m\u001b[0mcurrent\u001b[0m\u001b[1;33m]\u001b[0m\u001b[1;33m[\u001b[0m\u001b[0mselected\u001b[0m\u001b[1;33m]\u001b[0m\u001b[1;33m\u001b[0m\u001b[0m\n",
      "\u001b[0;31mValueError\u001b[0m: list.remove(x): x not in list"
     ]
    }
   ],
   "source": [
    "N = np.arange(1,11,2)\n",
    "columns = \"{!s:<20}\\t{:<20}\\t{:<50}\\t{:<25}\"\n",
    "divider = \"-\" * (20 + 20 +50 + 25)\n",
    "header = columns.format(\"Alpha\", \"Beta\", \"Tempo\", \"Distancia\")\n",
    "columns = columns.replace('<', '>', 1)\n",
    "\n",
    "print()\n",
    "print(header)\n",
    "print(divider)\n",
    "\n",
    "results_ab = []\n",
    "for a in N:\n",
    "    for b in N:\n",
    "        start_time = time.time()\n",
    "        aco = ACO(ant_count=10, generations=10, alpha=a, beta=b, rho=0.8, q=10, strategy=2)\n",
    "        path, cost = aco.solve(graph)\n",
    "        end_time = time.time() - start_time\n",
    "        print(columns.format(a, b, end_time, cost))\n",
    "        results_ab.append([a,b,end_time,cost,path])"
   ]
  },
  {
   "cell_type": "markdown",
   "metadata": {},
   "source": []
  },
  {
   "cell_type": "markdown",
   "metadata": {},
   "source": [
    "## Melhor Solução"
   ]
  },
  {
   "cell_type": "code",
   "execution_count": 56,
   "metadata": {},
   "outputs": [],
   "source": [
    "OFFSET = 2\n",
    "pathX,pathY = [s[0] for s in solution.tour],[s[1] for s in solution.tour]\n",
    "def data_gen(t=0):\n",
    "    cnt = 0\n",
    "    while cnt < len(solution.tour):\n",
    "        cnt += 1\n",
    "        yield pathX[cnt], pathY[cnt]\n",
    "\n",
    "\n",
    "def init():\n",
    "    ax.set_ylim(min(pathY)-OFFSET, max(pathY)+OFFSET)\n",
    "    ax.set_xlim(min(pathX)-OFFSET, max(pathX)+OFFSET)\n",
    "    del xdata[:]\n",
    "    del ydata[:]\n",
    "    line.set_data(xdata, ydata)\n",
    "    return line,\n",
    "\n",
    "fig, ax = plt.subplots()\n",
    "line, = ax.plot([], [], lw=2)\n",
    "ax.grid()\n",
    "xdata, ydata = [], []\n",
    "\n",
    "\n",
    "def run(data):\n",
    "    # update the data\n",
    "    t, y = data\n",
    "    xdata.append(t)\n",
    "    ydata.append(y)\n",
    "    xmin, xmax = ax.get_xlim()\n",
    "\n",
    "    if t >= xmax:\n",
    "        ax.set_xlim(xmin, 2*xmax)\n",
    "        ax.figure.canvas.draw()\n",
    "    line.set_data(xdata, ydata)\n",
    "\n",
    "    return line,\n",
    "\n",
    "ani = animation.FuncAnimation(fig, run, data_gen, blit=False, interval=100,\n",
    "                              repeat=True, init_func=init)\n",
    "plt.show()"
   ]
  },
  {
   "cell_type": "code",
   "execution_count": null,
   "metadata": {
    "collapsed": true
   },
   "outputs": [],
   "source": []
  }
 ],
 "metadata": {
  "kernelspec": {
   "display_name": "Python 3",
   "language": "python",
   "name": "python3"
  },
  "language_info": {
   "codemirror_mode": {
    "name": "ipython",
    "version": 3
   },
   "file_extension": ".py",
   "mimetype": "text/x-python",
   "name": "python",
   "nbconvert_exporter": "python",
   "pygments_lexer": "ipython3",
   "version": "3.6.1"
  }
 },
 "nbformat": 4,
 "nbformat_minor": 2
}
