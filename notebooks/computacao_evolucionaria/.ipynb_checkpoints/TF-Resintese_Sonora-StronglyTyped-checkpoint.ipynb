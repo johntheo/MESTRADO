{
 "cells": [
  {
   "cell_type": "markdown",
   "metadata": {},
   "source": [
    "# Resintese Sonora"
   ]
  },
  {
   "cell_type": "code",
   "execution_count": 1,
   "metadata": {
    "collapsed": true
   },
   "outputs": [],
   "source": [
    "#Util\n",
    "import operator\n",
    "import math\n",
    "import random\n",
    "import numpy as np\n",
    "from numpy import linspace,sin,pi,int16\n",
    "import matplotlib.pyplot as plt\n",
    "%matplotlib inline\n",
    "\n",
    "# Genetic Programming\n",
    "from deap import algorithms\n",
    "from deap import base\n",
    "from deap import creator\n",
    "from deap import tools\n",
    "from deap import gp\n",
    "\n",
    "# Audio\n",
    "import librosa\n",
    "import librosa.display\n",
    "import thinkdsp\n",
    "import thinkplot"
   ]
  },
  {
   "cell_type": "code",
   "execution_count": 2,
   "metadata": {
    "collapsed": true
   },
   "outputs": [],
   "source": [
    "# DADOS INICIAIS\n",
    "wave = thinkdsp.read_wave('sounds/92002__jcveliz__violin-origional.wav')\n",
    "target = wave.segment(1.18995, 0.62)\n",
    "f0 = target.make_spectrum().peaks()[0][1]  # frequencia fundamental\n",
    "framerate = target.framerate\n",
    "duration = target.duration\n",
    "ts = target.ts  # array de tempo"
   ]
  },
  {
   "cell_type": "code",
   "execution_count": 3,
   "metadata": {
    "collapsed": true
   },
   "outputs": [],
   "source": [
    "# FUNCOES OPERADORES\n",
    "def gen_sin(freq, amp=1):\n",
    "    return thinkdsp.Sinusoid(freq=freq, amp=amp, func=np.sin).evaluate(target.ts).tolist()\n",
    "\n",
    "\n",
    "def gen_cos(freq, amp=1, offset=0):\n",
    "    signal = thinkdsp.CosSignal(freq=freq, amp=amp, offset=offset)\n",
    "    return signal.make_wave(duration=duration, framerate=framerate).ys.tolist()\n",
    "\n",
    "\n",
    "def signal_sum(signal1, signal2):\n",
    "    return operator.add(np.array(signal1), np.array(signal2)).tolist()\n",
    "\n",
    "\n",
    "def signal_mul(a, signal):\n",
    "    return [x * a for x in signal]\n",
    "\n",
    "\n",
    "def fm_mod(amp_carrier, freq_carrier, amp_wave, freq_wave):\n",
    "    fm = amp_wave * np.sin(2 * np.pi * freq_wave * ts + amp_carrier * np.sin(2 * np.pi * freq_carrier * ts))\n",
    "    return fm.tolist()\n",
    "\n",
    "\n",
    "def amp(amp_float):\n",
    "    return amp_float\n",
    "\n",
    "\n",
    "def random_sin():\n",
    "    freq = random.uniform(30, 10000)\n",
    "    return gen_sin(freq)"
   ]
  },
  {
   "cell_type": "code",
   "execution_count": 6,
   "metadata": {
    "collapsed": true
   },
   "outputs": [],
   "source": [
    "# FUNCOES AUXILIARES\n",
    "def extract_features(signal):\n",
    "    X = np.array(signal, dtype=np.float32)\n",
    "    sample_rate = framerate\n",
    "    features = np.empty((0, 193))\n",
    "\n",
    "    stft = np.abs(librosa.stft(X))\n",
    "    mfccs = np.mean(librosa.feature.mfcc(y=X, sr=sample_rate, n_mfcc=40).T, axis=0)\n",
    "    chroma = np.mean(librosa.feature.chroma_stft(S=stft, sr=sample_rate).T, axis=0)\n",
    "    mel = np.mean(librosa.feature.melspectrogram(X, sr=sample_rate).T, axis=0)\n",
    "    contrast = np.mean(librosa.feature.spectral_contrast(S=stft, sr=sample_rate).T, axis=0)\n",
    "    tonnetz = np.mean(librosa.feature.tonnetz(y=librosa.effects.harmonic(X), sr=sample_rate).T, axis=0)\n",
    "    features = np.hstack([mfccs, chroma, mel, contrast, tonnetz])\n",
    "\n",
    "    return features\n",
    "\n",
    "\n",
    "def extract_features_separated(signal):\n",
    "    X = np.array(signal, dtype=np.float32)\n",
    "    sample_rate = framerate\n",
    "\n",
    "    stft = np.abs(librosa.stft(X))\n",
    "    mfccs = np.mean(librosa.feature.mfcc(y=X, sr=sample_rate, n_mfcc=40).T, axis=0)\n",
    "    chroma = np.mean(librosa.feature.chroma_stft(S=stft, sr=sample_rate).T, axis=0)\n",
    "    mel = np.mean(librosa.feature.melspectrogram(X, sr=sample_rate).T, axis=0)\n",
    "    contrast = np.mean(librosa.feature.spectral_contrast(S=stft, sr=sample_rate).T, axis=0)\n",
    "    tonnetz = np.mean(librosa.feature.tonnetz(y=librosa.effects.harmonic(X), sr=sample_rate).T, axis=0)\n",
    "\n",
    "    f = target.make_spectrum().peaks()[0][1]  # frequencia fundamental\n",
    "\n",
    "    return mfccs, chroma, mel, contrast, tonnetz\n",
    "\n",
    "def normal_squared_error(target_values, candidate_values):\n",
    "    error = ((target_values - candidate_values)**2)\n",
    "    amp_error = np.reshape((error[:,:,0]),(-1,1))\n",
    "    freq_error = np.reshape((error[:,:,1]),(-1,1))\n",
    "    amp_error = amp_error/max(amp_error)\n",
    "    freq_error = freq_error/max(freq_error)\n",
    "    \n",
    "    return amp_error.mean(), freq_error.mean()"
   ]
  },
  {
   "cell_type": "code",
   "execution_count": null,
   "metadata": {
    "collapsed": true
   },
   "outputs": [],
   "source": [
    "def evalFitness(individual):\n",
    "    signal_function = toolbox.compile(expr=individual)\n",
    "    signal = signal_function(f0)\n",
    "    \n",
    "    win_size =  0.05\n",
    "    length = int(framerate*win_size/duration)\n",
    "    \n",
    "    "
   ]
  },
  {
   "cell_type": "code",
   "execution_count": 5,
   "metadata": {},
   "outputs": [
    {
     "ename": "NameError",
     "evalue": "name 'eval_mag' is not defined",
     "output_type": "error",
     "traceback": [
      "\u001b[1;31m---------------------------------------------------------------------------\u001b[0m",
      "\u001b[1;31mNameError\u001b[0m                                 Traceback (most recent call last)",
      "\u001b[1;32m<ipython-input-5-4204589b27bd>\u001b[0m in \u001b[0;36m<module>\u001b[1;34m()\u001b[0m\n\u001b[0;32m     45\u001b[0m \u001b[0mtoolbox\u001b[0m\u001b[1;33m.\u001b[0m\u001b[0mregister\u001b[0m\u001b[1;33m(\u001b[0m\u001b[1;34m\"compile\"\u001b[0m\u001b[1;33m,\u001b[0m \u001b[0mgp\u001b[0m\u001b[1;33m.\u001b[0m\u001b[0mcompile\u001b[0m\u001b[1;33m,\u001b[0m \u001b[0mpset\u001b[0m\u001b[1;33m=\u001b[0m\u001b[0mpset\u001b[0m\u001b[1;33m)\u001b[0m\u001b[1;33m\u001b[0m\u001b[0m\n\u001b[0;32m     46\u001b[0m \u001b[1;33m\u001b[0m\u001b[0m\n\u001b[1;32m---> 47\u001b[1;33m \u001b[0mtoolbox\u001b[0m\u001b[1;33m.\u001b[0m\u001b[0mregister\u001b[0m\u001b[1;33m(\u001b[0m\u001b[1;34m\"evaluate\"\u001b[0m\u001b[1;33m,\u001b[0m \u001b[0meval_mag\u001b[0m\u001b[1;33m)\u001b[0m\u001b[1;33m\u001b[0m\u001b[0m\n\u001b[0m\u001b[0;32m     48\u001b[0m \u001b[0mtoolbox\u001b[0m\u001b[1;33m.\u001b[0m\u001b[0mregister\u001b[0m\u001b[1;33m(\u001b[0m\u001b[1;34m\"select\"\u001b[0m\u001b[1;33m,\u001b[0m \u001b[0mtools\u001b[0m\u001b[1;33m.\u001b[0m\u001b[0mselTournament\u001b[0m\u001b[1;33m,\u001b[0m \u001b[0mtournsize\u001b[0m\u001b[1;33m=\u001b[0m\u001b[1;36m5\u001b[0m\u001b[1;33m)\u001b[0m\u001b[1;33m\u001b[0m\u001b[0m\n\u001b[0;32m     49\u001b[0m \u001b[0mtoolbox\u001b[0m\u001b[1;33m.\u001b[0m\u001b[0mregister\u001b[0m\u001b[1;33m(\u001b[0m\u001b[1;34m\"mate\"\u001b[0m\u001b[1;33m,\u001b[0m \u001b[0mgp\u001b[0m\u001b[1;33m.\u001b[0m\u001b[0mcxOnePoint\u001b[0m\u001b[1;33m)\u001b[0m\u001b[1;33m\u001b[0m\u001b[0m\n",
      "\u001b[1;31mNameError\u001b[0m: name 'eval_mag' is not defined"
     ]
    }
   ],
   "source": [
    "# PROGRAMAÇÂO GENETICA\n",
    "pset = gp.PrimitiveSetTyped(\"MAIN\", [float], list, \"F\")\n",
    "\n",
    "# OPERATORS\n",
    "pset.addPrimitive(gen_sin, [float, float], list)\n",
    "pset.addPrimitive(signal_sum, [list, list], list)\n",
    "pset.addPrimitive(fm_mod, [float, float, float, float], list)\n",
    "pset.addPrimitive(amp, [float], float)\n",
    "# pset.addPrimitive(gen_cos, [float,float], list)\n",
    "\n",
    "# TERMINALS\n",
    "# if not scoop.IS_ORIGIN:\n",
    "#    pset.addEphemeralConstant(\"rand100\", lambda: random.random() * 100, float)\n",
    "pset.addEphemeralConstant(\"rand100\", lambda: random.random() * 100, float)\n",
    "pset.addTerminal(gen_sin(f0), list)\n",
    "#pset.addTerminal(gen_sin(2 * f0), list)\n",
    "#pset.addTerminal(gen_sin(3 * f0), list)\n",
    "#pset.addTerminal(gen_sin(4 * f0), list)\n",
    "#pset.addTerminal(gen_sin(5 * f0), list)\n",
    "#pset.addTerminal(gen_sin(6 * f0), list)\n",
    "#pset.addTerminal(gen_sin(7 * f0), list)\n",
    "#pset.addTerminal(gen_sin(8 * f0), list)\n",
    "#pset.addTerminal(gen_sin(9 * f0), list)\n",
    "#pset.addTerminal(gen_sin(10 * f0), list)\n",
    "pset.addTerminal(f0, float)\n",
    "#pset.addTerminal(2 * f0, float)\n",
    "#pset.addTerminal(3 * f0, float)\n",
    "#pset.addTerminal(4 * f0, float)\n",
    "#pset.addTerminal(5 * f0, float)\n",
    "#pset.addTerminal(6 * f0, float)\n",
    "#pset.addTerminal(7 * f0, float)\n",
    "#pset.addTerminal(8 * f0, float)\n",
    "#pset.addTerminal(9 * f0, float)\n",
    "#pset.addTerminal(10 * f0, float)\n",
    "\n",
    "# CONFIG\n",
    "creator.create(\"FitnessMin\", base.Fitness, weights=(-1.0,))\n",
    "creator.create(\"Individual\", gp.PrimitiveTree, fitness=creator.FitnessMin)\n",
    "\n",
    "toolbox = base.Toolbox()\n",
    "# toolbox.register(\"map\", futures.map)\n",
    "toolbox.register(\"expr\", gp.genHalfAndHalf, pset=pset, min_=1, max_=2)\n",
    "toolbox.register(\"individual\", tools.initIterate, creator.Individual, toolbox.expr)\n",
    "toolbox.register(\"population\", tools.initRepeat, list, toolbox.individual)\n",
    "toolbox.register(\"compile\", gp.compile, pset=pset)\n",
    "\n",
    "toolbox.register(\"evaluate\", eval_mag)\n",
    "toolbox.register(\"select\", tools.selTournament, tournsize=5)\n",
    "toolbox.register(\"mate\", gp.cxOnePoint)\n",
    "toolbox.register(\"expr_mut\", gp.genFull, min_=0, max_=2)\n",
    "toolbox.register(\"mutate\", gp.mutUniform, expr=toolbox.expr_mut, pset=pset)\n",
    "\n",
    "toolbox.decorate(\"mate\", gp.staticLimit(key=operator.attrgetter(\"height\"), max_value=10))\n",
    "toolbox.decorate(\"mutate\", gp.staticLimit(key=operator.attrgetter(\"height\"), max_value=10))"
   ]
  },
  {
   "cell_type": "code",
   "execution_count": null,
   "metadata": {
    "collapsed": true
   },
   "outputs": [],
   "source": [
    "def main():\n",
    "    random.seed(10)\n",
    "    pop = toolbox.population(n=500)\n",
    "    hof = tools.HallOfFame(1)\n",
    "    stats = tools.Statistics(lambda ind: ind.fitness.values)\n",
    "    stats.register(\"avg\", np.mean)\n",
    "    stats.register(\"std\", np.std)\n",
    "    stats.register(\"min\", np.min)\n",
    "    stats.register(\"max\", np.max)\n",
    "\n",
    "    algorithms.eaSimple(pop, toolbox, 0.75, 0.2, 30, stats, halloffame=hof)\n",
    "\n",
    "    signal_function = gp.compile(hof[0], pset)\n",
    "    signal = signal_function(f0)\n",
    "    signal_generated = thinkdsp.Wave(ys=signal, framerate=framerate)\n",
    "    signal_generated.normalize()\n",
    "    signal_generated.write(filename=\"generated.wav\")\n",
    "    print(str(hof[0]))\n",
    "    return pop, stats, hof"
   ]
  },
  {
   "cell_type": "code",
   "execution_count": null,
   "metadata": {},
   "outputs": [],
   "source": [
    "pop, stats, hof = main()"
   ]
  },
  {
   "cell_type": "code",
   "execution_count": null,
   "metadata": {
    "collapsed": true
   },
   "outputs": [],
   "source": [
    "str(hof[0])"
   ]
  },
  {
   "cell_type": "code",
   "execution_count": null,
   "metadata": {
    "collapsed": true
   },
   "outputs": [],
   "source": [
    "func = toolbox.compile(hof[0])\n",
    "gen_ys = func(f0)\n",
    "gen_sr = target.framerate\n",
    "generated = thinkdsp.Wave(ys=gen_ys,framerate=gen_sr)\n",
    "generated.plot()\n",
    "generated.make_audio()"
   ]
  },
  {
   "cell_type": "code",
   "execution_count": null,
   "metadata": {
    "collapsed": true
   },
   "outputs": [],
   "source": [
    "target.make_audio()"
   ]
  },
  {
   "cell_type": "code",
   "execution_count": null,
   "metadata": {
    "collapsed": true
   },
   "outputs": [],
   "source": [
    "thinkdsp.SinSignal(5*400).make_wave(framerate=framerate).make_audio()"
   ]
  },
  {
   "cell_type": "code",
   "execution_count": null,
   "metadata": {
    "collapsed": true
   },
   "outputs": [],
   "source": [
    "target.make_spectrum().peaks()"
   ]
  },
  {
   "cell_type": "code",
   "execution_count": null,
   "metadata": {},
   "outputs": [],
   "source": [
    "target.make_spectrogram(500).spec_map"
   ]
  },
  {
   "cell_type": "code",
   "execution_count": null,
   "metadata": {
    "collapsed": true
   },
   "outputs": [],
   "source": [
    "def fm_mod(amp_carrier, freq_carrier, amp_wave, freq_wave):\n",
    "    return (amp_wave * np.sin(2*np.pi*freq_wave * ts + amp_carrier * np.sin(2*np.pi*freq_carrier * ts))).tolist()"
   ]
  },
  {
   "cell_type": "code",
   "execution_count": null,
   "metadata": {
    "collapsed": true
   },
   "outputs": [],
   "source": [
    "wave_data, samplerate=target.ys,target.framerate"
   ]
  },
  {
   "cell_type": "code",
   "execution_count": null,
   "metadata": {
    "collapsed": true
   },
   "outputs": [],
   "source": [
    "pitches, magnitudes = librosa.piptrack(y=wave_data, sr=samplerate)"
   ]
  },
  {
   "cell_type": "code",
   "execution_count": null,
   "metadata": {},
   "outputs": [],
   "source": [
    "plt.subplot(211)\n",
    "plt.plot(wave_data) \n",
    "plt.title('wave')\n",
    "pitches, magnitudes = librosa.piptrack(y=wave_data, sr=samplerate)\n",
    "plt.subplot(212)\n",
    "plt.imshow(pitches[:100, :], aspect=\"auto\", interpolation=\"nearest\", origin=\"bottom\")\n",
    "plt.title('pitches')"
   ]
  },
  {
   "cell_type": "code",
   "execution_count": null,
   "metadata": {},
   "outputs": [],
   "source": [
    "pitches"
   ]
  },
  {
   "cell_type": "code",
   "execution_count": null,
   "metadata": {},
   "outputs": [],
   "source": [
    "stft = np.abs(librosa.stft(target.ys))\n",
    "stft"
   ]
  },
  {
   "cell_type": "code",
   "execution_count": null,
   "metadata": {},
   "outputs": [],
   "source": [
    "f0"
   ]
  },
  {
   "cell_type": "code",
   "execution_count": null,
   "metadata": {
    "scrolled": true
   },
   "outputs": [],
   "source": [
    "_ys = np.array(fm_mod(1, 440, 2, 2*440)) + np.array(fm_mod(3, 3*440, 30, 4*440)) \n",
    "wave = thinkdsp.Wave(ys=_ys,framerate=target.framerate)\n",
    "wave.plot()\n",
    "wave.make_audio()"
   ]
  },
  {
   "cell_type": "code",
   "execution_count": null,
   "metadata": {
    "collapsed": true
   },
   "outputs": [],
   "source": []
  }
 ],
 "metadata": {
  "kernelspec": {
   "display_name": "Python 3",
   "language": "python",
   "name": "python3"
  },
  "language_info": {
   "codemirror_mode": {
    "name": "ipython",
    "version": 3
   },
   "file_extension": ".py",
   "mimetype": "text/x-python",
   "name": "python",
   "nbconvert_exporter": "python",
   "pygments_lexer": "ipython3",
   "version": "3.6.1"
  }
 },
 "nbformat": 4,
 "nbformat_minor": 2
}
