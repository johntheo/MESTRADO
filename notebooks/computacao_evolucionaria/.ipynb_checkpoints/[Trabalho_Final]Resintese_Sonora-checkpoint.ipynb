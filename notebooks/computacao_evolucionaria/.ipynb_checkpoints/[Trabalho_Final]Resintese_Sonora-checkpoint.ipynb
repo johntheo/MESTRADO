{
 "cells": [
  {
   "cell_type": "markdown",
   "metadata": {},
   "source": [
    "# Trabalho Final"
   ]
  },
  {
   "cell_type": "code",
   "execution_count": 1,
   "metadata": {
    "collapsed": true
   },
   "outputs": [],
   "source": [
    "from __future__ import print_function"
   ]
  },
  {
   "cell_type": "code",
   "execution_count": 2,
   "metadata": {},
   "outputs": [],
   "source": [
    "#Util\n",
    "import operator\n",
    "import math\n",
    "import random\n",
    "import numpy as np\n",
    "from numpy import linspace,sin,pi,int16\n",
    "import matplotlib.pyplot as plt\n",
    "%matplotlib inline\n",
    "\n",
    "# Genetic Programming\n",
    "from deap import algorithms\n",
    "from deap import base\n",
    "from deap import creator\n",
    "from deap import tools\n",
    "from deap import gp\n",
    "\n",
    "# Audio\n",
    "import librosa\n",
    "import librosa.display\n",
    "import thinkdsp\n",
    "import thinkplot"
   ]
  },
  {
   "cell_type": "markdown",
   "metadata": {
    "collapsed": true
   },
   "source": [
    "A manipulação  sonora será feita utilizando o **thinkDSP** e a obtenção das features para comparação através do librosa"
   ]
  },
  {
   "cell_type": "code",
   "execution_count": 3,
   "metadata": {},
   "outputs": [],
   "source": [
    "# DADOS INICIAIS\n",
    "wave = thinkdsp.read_wave('sounds/92002__jcveliz__violin-origional.wav')\n",
    "target = wave.segment(1.18995, 0.62)"
   ]
  },
  {
   "cell_type": "code",
   "execution_count": 4,
   "metadata": {},
   "outputs": [
    {
     "name": "stderr",
     "output_type": "stream",
     "text": [
      "C:\\Anaconda3\\lib\\site-packages\\ipykernel_launcher.py:6: DeprecationWarning: object of type <class 'float'> cannot be safely interpreted as an integer.\n",
      "  \n"
     ]
    },
    {
     "data": {
      "image/png": "[encoded data removed]",
      "text/plain": [
       "<matplotlib.figure.Figure at 0x1ce0804fda0>"
      ]
     },
     "metadata": {},
     "output_type": "display_data"
    }
   ],
   "source": [
    "# Segmento objetivo. Obtido por tentativa e erro\n",
    "target = wave.segment(1.18995, 0.2)\n",
    "target.plot()\n",
    "thinkplot.config(xlabel='Time (s)')\n",
    "target.make_audio()\n",
    "t = linspace(0,target.duration,target.duration*target.framerate)"
   ]
  },
  {
   "cell_type": "markdown",
   "metadata": {},
   "source": [
    "Função utilizada para calcular o MFCC"
   ]
  },
  {
   "cell_type": "code",
   "execution_count": 5,
   "metadata": {},
   "outputs": [],
   "source": [
    "def getMFCC(y, sr, n_mfcc):\n",
    "    ### MFC ###\n",
    "    # Let's make and display a mel-scaled power (energy-squared) spectrogram\n",
    "    S = librosa.feature.melspectrogram(y, sr=sr, n_mels=128)\n",
    "\n",
    "    # Convert to log scale (dB). We'll use the peak power as reference.\n",
    "    log_S = librosa.logamplitude(S, ref_power=np.max)\n",
    "\n",
    "    ### MFCC ###\n",
    "\n",
    "    # Next, we'll extract the top 13 Mel-frequency cepstral coefficients (MFCCs)\n",
    "    mfcc = librosa.feature.mfcc(S=log_S, n_mfcc=n_mfcc)\n",
    "\n",
    "    return mfcc"
   ]
  },
  {
   "cell_type": "markdown",
   "metadata": {},
   "source": [
    "Função utilizada para calcular a diferença de MFCC"
   ]
  },
  {
   "cell_type": "code",
   "execution_count": 6,
   "metadata": {
    "collapsed": true
   },
   "outputs": [],
   "source": [
    "def squared_error(target, generated):\n",
    "    erro = target - generated\n",
    "    squared_error = erro ** 2\n",
    "    return np.sum(squared_error)"
   ]
  },
  {
   "cell_type": "code",
   "execution_count": 7,
   "metadata": {
    "collapsed": true
   },
   "outputs": [],
   "source": [
    "def mag_pha_s_error(target, generated, partitions):\n",
    "    # obtendo os parametros\n",
    "    target_spectrum = target.make_spectrum()\n",
    "    target_pha = target_spectrum.angles\n",
    "    target_mag = np.absolute(target_spectrum.hs)\n",
    "    generated_spectrum = generated.make_spectrum()\n",
    "    generated_pha = generated_spectrum.angles\n",
    "    generated_mag = np.absolute(generated_spectrum.hs)\n",
    "    \n",
    "    # dividindo em bandas(partitions)\n",
    "    target_pha_bin    = np.array(np.split(target_pha,partitions,axis=0))\n",
    "    generated_pha_bin = np.array(np.split(generated_pha,partitions,axis=0))\n",
    "    target_mag_bin    = np.array(np.split(target_mag,partitions,axis=0))\n",
    "    generated_mag_bin = np.array(np.split(generated_mag,partitions,axis=0))\n",
    "    \n",
    "    pha_sme = ((target_pha_bin - generated_pha_bin)**2).mean()\n",
    "    mag_sme = ((target_mag_bin - generated_mag_bin)**2).mean()\n",
    "    \n",
    "    return mag_sme,pha_sme\n",
    "    "
   ]
  },
  {
   "cell_type": "code",
   "execution_count": 8,
   "metadata": {
    "collapsed": true
   },
   "outputs": [],
   "source": [
    "def mag_fre_s_error(target, generated):\n",
    "    target_peaks = np.array(target.make_spectrum().peaks())\n",
    "    generated_peaks = np.array(generated.make_spectrum().peaks())\n",
    "    mag_sme,fre_sme=((target_peaks - generated_peaks)**2).mean(axis=0)\n",
    "    \n",
    "    return mag_sme, fre_sme"
   ]
  },
  {
   "cell_type": "code",
   "execution_count": 9,
   "metadata": {},
   "outputs": [
    {
     "data": {
      "text/plain": [
       "390.50856086959925"
      ]
     },
     "execution_count": 9,
     "metadata": {},
     "output_type": "execute_result"
    }
   ],
   "source": [
    "target.make_spectrum().peaks()[1][0]"
   ]
  },
  {
   "cell_type": "markdown",
   "metadata": {},
   "source": [
    "A seguir iremos realizar as configurações para executar a Programação Genética com **DEAP**"
   ]
  },
  {
   "cell_type": "code",
   "execution_count": 10,
   "metadata": {},
   "outputs": [],
   "source": [
    "# Define new functions\n",
    "\n",
    "pset = gp.PrimitiveSet(\"MAIN\", 1)\n",
    "pset.addPrimitive(operator.add, 2)\n",
    "pset.addPrimitive(operator.sub, 2)\n",
    "pset.addPrimitive(operator.mul, 2)\n",
    "pset.addPrimitive(operator.neg, 1)\n",
    "pset.addPrimitive(math.cos, 1)\n",
    "pset.addPrimitive(math.sin, 1)\n",
    "pset.addTerminal(pi)\n",
    "pset.addTerminal(target.duration)\n",
    "pset.addTerminal(2*pi*target.make_spectrum().peaks()[0][0])\n",
    "pset.addTerminal(2*pi*target.make_spectrum().peaks()[1][0])\n",
    "pset.addTerminal(2*pi*target.make_spectrum().peaks()[2][0])\n",
    "pset.addEphemeralConstant(\"rand101\", lambda: random.randint(-1000, 1000))\n",
    "pset.renameArguments(ARG0='x')"
   ]
  },
  {
   "cell_type": "code",
   "execution_count": 11,
   "metadata": {
    "collapsed": true
   },
   "outputs": [],
   "source": [
    "creator.create(\"FitnessMin\", base.Fitness, weights=(-1.0,))\n",
    "creator.create(\"Individual\", gp.PrimitiveTree, fitness=creator.FitnessMin)\n",
    "\n",
    "#import multiprocessing\n",
    "\n",
    "toolbox = base.Toolbox()\n",
    "#pool = multiprocessing.Pool()\n",
    "#toolbox.register(\"map\", pool.map)\n",
    "toolbox.register(\"expr\", gp.genHalfAndHalf, pset=pset, min_=1, max_=2)\n",
    "toolbox.register(\"individual\", tools.initIterate, creator.Individual, toolbox.expr)\n",
    "toolbox.register(\"population\", tools.initRepeat, list, toolbox.individual)\n",
    "toolbox.register(\"compile\", gp.compile, pset=pset)"
   ]
  },
  {
   "cell_type": "code",
   "execution_count": 12,
   "metadata": {
    "collapsed": true
   },
   "outputs": [],
   "source": [
    "# Funcao para calculo de fitness\n",
    "def evalSymbReg(individual, target):\n",
    "    # Transform the tree expression in a callable function\n",
    "    func = toolbox.compile(expr=individual)\n",
    "    # Evaluate the mean squared error between the expression\n",
    "    # and the real function : x**4 + x**3 + x**2 + x\n",
    "    gen_ys = np.array([func(x) for x in t])\n",
    "    gen_sr = target.framerate\n",
    "    generated = thinkdsp.Wave(ys=gen_ys,framerate=gen_sr)\n",
    "\n",
    "    #gen_mfcc = getMFCC(gen_ys, gen_sr, False)\n",
    "    #target_mfcc = getMFCC(target.ys, target.framerate, False)\n",
    "    #result = mfcc_squared_error(gen_mfcc,target_mfcc)\n",
    "    #result = mfcc_squared_error(gen_ys,target.ys)\n",
    "    mag_sme, fre_sme = mag_fre_s_error(target,generated)\n",
    "    result = 0.01*mag_sme + 0.000001*fre_sme\n",
    "    return result,"
   ]
  },
  {
   "cell_type": "code",
   "execution_count": 13,
   "metadata": {
    "collapsed": true
   },
   "outputs": [],
   "source": [
    "toolbox.register(\"evaluate\", evalSymbReg, target=target)\n",
    "# toolbox.register(\"evaluate\", evalSymbReg, points=[x/10. for x in range(-10,10)])\n",
    "toolbox.register(\"select\", tools.selTournament, tournsize=10)\n",
    "toolbox.register(\"mate\", gp.cxOnePoint)\n",
    "toolbox.register(\"expr_mut\", gp.genFull, min_=0, max_=2)\n",
    "toolbox.register(\"mutate\", gp.mutUniform, expr=toolbox.expr_mut, pset=pset)\n",
    "\n",
    "toolbox.decorate(\"mate\", gp.staticLimit(key=operator.attrgetter(\"height\"), max_value=50))\n",
    "toolbox.decorate(\"mutate\", gp.staticLimit(key=operator.attrgetter(\"height\"), max_value=50))"
   ]
  },
  {
   "cell_type": "markdown",
   "metadata": {},
   "source": [
    "Com tudo configurado agora é possivel criar a função que irá realizar a execução do algoritmo"
   ]
  },
  {
   "cell_type": "code",
   "execution_count": 14,
   "metadata": {
    "collapsed": true
   },
   "outputs": [],
   "source": [
    "def main():\n",
    "    random.seed(318)\n",
    "\n",
    "    pop = toolbox.population(n=300)\n",
    "    hof = tools.HallOfFame(1)\n",
    "\n",
    "    # CXPB  - Probabilidade de crossover\n",
    "    # MUTPB - Probabilidade de mutação\n",
    "    # NGEN  - Numero de gerações\n",
    "    CXPB, MUTPB, NGEN = 0.6, 0.1, 50\n",
    "\n",
    "    stats_fit = tools.Statistics(lambda ind: ind.fitness.values)\n",
    "    stats_size = tools.Statistics(len)\n",
    "    mstats = tools.MultiStatistics(fitness=stats_fit, size=stats_size)\n",
    "    mstats.register(\"avg\", np.mean)\n",
    "    mstats.register(\"std\", np.std)\n",
    "    mstats.register(\"min\", np.min)\n",
    "    mstats.register(\"max\", np.max)\n",
    "\n",
    "    pop, log = algorithms.eaSimple(pop, toolbox, CXPB, MUTPB, NGEN, stats=mstats,\n",
    "                                   halloffame=hof, verbose=True)\n",
    "    # pop, log = gp.harm(pop, toolbox, 0.5, 0.1, 40, alpha=0.05, beta=10, gamma=0.25, rho=0.9, stats=mstats,\n",
    "    #                   halloffame=hof, verbose=True)\n",
    "    # print log\n",
    "    return pop, log, hof"
   ]
  },
  {
   "cell_type": "code",
   "execution_count": 15,
   "metadata": {},
   "outputs": [
    {
     "name": "stdout",
     "output_type": "stream",
     "text": [
      "   \t      \t                     fitness                      \t              size             \n",
      "   \t      \t--------------------------------------------------\t-------------------------------\n",
      "gen\tnevals\tavg       \tmax        \tmin    \tstd       \tavg    \tmax\tmin\tstd    \n",
      "0  \t300   \t7.9883e+13\t1.15777e+16\t14.4538\t7.8375e+14\t3.27667\t7  \t2  \t1.32166\n",
      "1  \t187   \t8.26978e+07\t4.36548e+09\t14.4531\t3.81256e+08\t3.06   \t8  \t1  \t1.31266\n",
      "2  \t191   \t4.95278e+07\t1.92303e+09\t14.2424\t2.79458e+08\t3.62333\t8  \t1  \t1.78926\n",
      "3  \t189   \t2.16588e+09\t6.12155e+11\t14.2424\t3.52929e+10\t5.78333\t12 \t1  \t1.67622\n",
      "4  \t183   \t6.54555e+08\t1.8733e+11 \t14.2304\t1.07972e+10\t6.75667\t12 \t1  \t1.73132\n",
      "5  \t191   \t1.82355e+12\t5.4031e+14 \t13.956 \t3.11439e+13\t7.93   \t13 \t1  \t1.70052\n",
      "6  \t202   \t9.83983e+13\t2.93386e+16\t13.956 \t1.69102e+15\t8.04667\t17 \t1  \t1.60556\n",
      "7  \t195   \t5.81123e+08\t1.73036e+11\t13.7471\t9.97349e+09\t8.11   \t15 \t1  \t1.98609\n",
      "8  \t191   \t1.34445e+07\t8.93302e+08\t13.1292\t7.56323e+07\t9.47333\t21 \t1  \t2.48381\n",
      "9  \t196   \t2.41753e+11\t7.20964e+13\t13.1292\t4.15553e+12\t10.93  \t20 \t1  \t3.09706\n",
      "10 \t193   \t7.37335e+06\t8.5162e+08 \t13.1292\t5.75911e+07\t12.3733\t22 \t4  \t2.91101\n",
      "11 \t193   \t7.12104e+11\t2.13625e+14\t13.1292\t1.23131e+13\t13.5133\t25 \t1  \t3.79691\n",
      "12 \t194   \t3.56058e+06\t2.89736e+08\t13.1292\t2.61519e+07\t13.7933\t23 \t3  \t3.1226 \n",
      "13 \t193   \t2.19082e+06\t1.90194e+08\t13.1292\t1.91301e+07\t13.9367\t23 \t5  \t3.4175 \n",
      "14 \t184   \t1.12255e+07\t2.01067e+09\t13.1292\t1.22408e+08\t14.0267\t23 \t4  \t3.67595\n",
      "15 \t205   \t2.74906e+11\t4.77193e+13\t13.1292\t3.39601e+12\t13.7833\t23 \t1  \t3.90253\n",
      "16 \t193   \t3.79702e+11\t1.1391e+14 \t13.1292\t6.56561e+12\t13.8767\t23 \t1  \t3.97091\n",
      "17 \t193   \t3.21493e+12\t9.64477e+14\t13.1292\t5.55912e+13\t13.9467\t23 \t5  \t3.49244\n",
      "18 \t213   \t1.1523e+07 \t1.92303e+09\t13.1292\t1.16011e+08\t13.8133\t23 \t1  \t3.85208\n",
      "19 \t165   \t6.0233e+12 \t1.75595e+15\t13.1292\t1.01243e+14\t13.8167\t23 \t1  \t3.8639 \n",
      "20 \t191   \t1.11608e+07\t1.92303e+09\t13.1292\t1.26444e+08\t13.7533\t23 \t1  \t3.73084\n",
      "21 \t198   \t1.17516e+07\t1.92669e+09\t13.1292\t1.23169e+08\t13.82  \t23 \t3  \t4.24039\n",
      "22 \t186   \t5.22477e+06\t3.44479e+08\t13.1292\t3.21431e+07\t13.8333\t24 \t2  \t3.76549\n",
      "23 \t210   \t1.06842e+19\t3.20525e+21\t13.1292\t1.84746e+20\t13.9367\t24 \t3  \t3.66869\n",
      "24 \t186   \t4.40094e+10\t1.32013e+13\t13.1292\t7.60905e+11\t13.7267\t23 \t1  \t3.42227\n",
      "25 \t202   \t1.34319e+07\t1.05898e+09\t13.1292\t9.0738e+07 \t13.83  \t24 \t1  \t3.95488\n",
      "26 \t187   \t8.2437e+11 \t2.47308e+14\t13.1292\t1.42545e+13\t13.91  \t23 \t1  \t3.49408\n",
      "27 \t195   \t829784     \t9.21396e+07\t13.1292\t7.87943e+06\t13.8533\t24 \t1  \t3.56349\n",
      "28 \t181   \t6.48516e+07\t1.898e+10  \t13.1292\t1.09401e+09\t13.7733\t23 \t1  \t3.44605\n",
      "29 \t196   \t1.10789e+11\t3.32351e+13\t13.1292\t1.91563e+12\t13.8333\t23 \t1  \t3.58407\n",
      "30 \t190   \t4.50261e+11\t1.35078e+14\t13.1292\t7.7857e+12 \t13.9733\t24 \t5  \t3.40773\n",
      "31 \t201   \t1.72621e+12\t5.17863e+14\t13.1292\t2.9849e+13 \t14.0733\t25 \t5  \t3.49685\n",
      "32 \t200   \t1.80151e+13\t5.38355e+15\t13.1292\t3.10299e+14\t13.99  \t25 \t3  \t4.06898\n",
      "33 \t187   \t1.57685e+07\t1.92303e+09\t13.1292\t1.57587e+08\t13.8833\t28 \t1  \t4.14444\n",
      "34 \t207   \t9.94367e+11\t2.98306e+14\t13.1292\t1.7194e+13 \t14.0533\t29 \t1  \t4.05099\n",
      "35 \t203   \t6.43762e+06\t1.49112e+09\t13.1292\t8.70807e+07\t14.03  \t25 \t1  \t4.14034\n",
      "36 \t198   \t1.26526e+07\t1.35572e+09\t13.1292\t9.65629e+07\t13.8533\t23 \t2  \t3.5202 \n",
      "37 \t183   \t6.05431e+11\t1.76558e+14\t13.1292\t1.01797e+13\t13.95  \t24 \t3  \t3.46903\n",
      "38 \t204   \t1.19317e+07\t1.0617e+09 \t13.1292\t9.03043e+07\t13.99  \t25 \t1  \t3.95262\n",
      "39 \t185   \t2.7271e+20 \t8.18129e+22\t13.1292\t4.71559e+21\t13.9633\t25 \t3  \t3.87926\n",
      "40 \t187   \t1.27379e+13\t3.75687e+15\t13.1292\t2.16561e+14\t13.75  \t23 \t2  \t3.57689\n",
      "41 \t182   \t5.42588e+06\t1.04467e+09\t13.1292\t6.46176e+07\t14.03  \t23 \t5  \t3.52171\n",
      "42 \t172   \t2.4675e+11 \t7.40245e+13\t13.1292\t4.26668e+12\t13.8333\t27 \t1  \t3.56822\n",
      "43 \t191   \t2.13593e+06\t2.07077e+08\t13.1292\t1.72445e+07\t13.9067\t23 \t2  \t3.57556\n",
      "44 \t197   \t2.62433e+06\t4.93669e+08\t13.1292\t3.08704e+07\t13.8567\t23 \t1  \t3.0402 \n",
      "45 \t190   \t4.22547e+11\t1.26763e+14\t13.1292\t7.30648e+12\t13.7833\t24 \t2  \t3.90935\n",
      "46 \t196   \t1.87276e+06\t1.90194e+08\t13.1292\t1.45021e+07\t13.7333\t23 \t2  \t3.86034\n",
      "47 \t197   \t7.02624e+15\t2.10772e+18\t13.1292\t1.21486e+17\t13.9633\t24 \t3  \t3.98271\n",
      "48 \t174   \t3.09911e+06\t1.90194e+08\t13.1292\t2.10964e+07\t13.9133\t26 \t3  \t3.88405\n",
      "49 \t187   \t5.39673e+06\t9.56013e+08\t13.1292\t5.76698e+07\t13.8333\t23 \t5  \t3.49555\n",
      "50 \t187   \t1.3059e+11 \t3.83291e+13\t13.1292\t2.20961e+12\t13.9567\t23 \t4  \t3.59464\n"
     ]
    }
   ],
   "source": [
    "pop, log, hof = main()"
   ]
  },
  {
   "cell_type": "markdown",
   "metadata": {},
   "source": [
    "Agora é possível realizar a comparação das ondas"
   ]
  },
  {
   "cell_type": "code",
   "execution_count": 16,
   "metadata": {},
   "outputs": [
    {
     "data": {
      "text/html": [
       "\n",
       "                <audio controls=\"controls\" >\n",
       "                    <source src=\"data:audio/wav;base64,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\" type=\"audio/wav\" />\n",
       "                    Your browser does not support the audio element.\n",
       "                </audio>\n",
       "              "
      ],
      "text/plain": [
       "<IPython.lib.display.Audio object>"
      ]
     },
     "execution_count": 16,
     "metadata": {},
     "output_type": "execute_result"
    }
   ],
   "source": [
    "target.make_audio()"
   ]
  },
  {
   "cell_type": "code",
   "execution_count": 17,
   "metadata": {},
   "outputs": [
    {
     "data": {
      "text/html": [
       "\n",
       "                <audio controls=\"controls\" >\n",
       "                    <source src=\"data:audio/wav;base64,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\" type=\"audio/wav\" />\n",
       "                    Your browser does not support the audio element.\n",
       "                </audio>\n",
       "              "
      ],
      "text/plain": [
       "<IPython.lib.display.Audio object>"
      ]
     },
     "execution_count": 17,
     "metadata": {},
     "output_type": "execute_result"
    }
   ],
   "source": [
    "function = gp.compile(hof[0],pset)\n",
    "gen_ys = np.array([function(x) for x in t])\n",
    "gen_sr = target.framerate\n",
    "generated = thinkdsp.Wave(ys=gen_ys,framerate=gen_sr)\n",
    "\n",
    "generated.make_audio()"
   ]
  },
  {
   "cell_type": "markdown",
   "metadata": {},
   "source": [
    "# MELHORES EQUACOES ENCONTRADAS  \n",
    "- mul(add(x, x), sin(mul(3.141592653589793, sin(mul(3.141592653589793, sin(mul(2453.6376519837113, x)))))))"
   ]
  },
  {
   "cell_type": "code",
   "execution_count": 19,
   "metadata": {},
   "outputs": [
    {
     "data": {
      "text/plain": [
       "'mul(add(x, x), sin(mul(3.141592653589793, sin(mul(3.141592653589793, sin(mul(2453.6376519837113, x)))))))'"
      ]
     },
     "execution_count": 19,
     "metadata": {},
     "output_type": "execute_result"
    }
   ],
   "source": [
    "str(hof[0])"
   ]
  },
  {
   "cell_type": "code",
   "execution_count": null,
   "metadata": {
    "collapsed": true
   },
   "outputs": [],
   "source": []
  }
 ],
 "metadata": {
  "kernelspec": {
   "display_name": "Python 3",
   "language": "python",
   "name": "python3"
  },
  "language_info": {
   "codemirror_mode": {
    "name": "ipython",
    "version": 3
   },
   "file_extension": ".py",
   "mimetype": "text/x-python",
   "name": "python",
   "nbconvert_exporter": "python",
   "pygments_lexer": "ipython3",
   "version": "3.6.1"
  }
 },
 "nbformat": 4,
 "nbformat_minor": 2
}
